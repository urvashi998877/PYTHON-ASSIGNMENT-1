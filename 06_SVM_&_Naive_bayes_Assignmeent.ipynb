{
  "cells": [
    {
      "cell_type": "markdown",
      "metadata": {
        "id": "2PfiO_fj8EU5"
      },
      "source": [
        "#Theoretical"
      ]
    },
    {
      "cell_type": "markdown",
      "metadata": {
        "id": "lHx-zqKx8EYJ"
      },
      "source": [
        "Q1. What is a Support Vector Machine (SVM)?\n",
        "\n",
        "ANS-> A Support Vector Machine (SVM) is a supervised learning algorithm used for classification and regression tasks. It's a powerful and versatile algorithm that can handle high-dimensional data and non-linear relationships between features.\n",
        "\n",
        "Key Concepts:\n",
        "\n",
        "1. Hyperplane: A hyperplane is a decision boundary that separates the classes in the feature space. The goal of SVM is to find the optimal hyperplane that maximally separates the classes.\n",
        "2. Support Vectors: Support vectors are the data points that lie closest to the hyperplane. These points are crucial in defining the hyperplane and are used to train the SVM model.\n",
        "3. Margin: The margin is the distance between the hyperplane and the support vectors. The goal of SVM is to maximize the margin, which leads to better generalization performance.\n",
        "4. Kernel Trick: The kernel trick is a mathematical technique used to transform the original feature space into a higher-dimensional space, where the data becomes linearly separable. This allows SVM to handle non-linear relationships between features.\n",
        "\n",
        "Types of SVM:\n",
        "\n",
        "1. Linear SVM: Used for linearly separable data.\n",
        "2. Non-Linear SVM: Used for non-linearly separable data, employing the kernel trick.\n",
        "3. Soft Margin SVM: Allows for some misclassifications, useful for noisy data.\n",
        "4. Multi-Class SVM: Used for multi-class classification problems.\n"
      ]
    },
    {
      "cell_type": "markdown",
      "metadata": {
        "id": "fK-k0_ya8EbY"
      },
      "source": [
        "Q2. What is the difference between Hard Margin and Soft Margin SVM?\n",
        "\n",
        "ANS-> Hard Margin SVM and Soft Margin SVM are two variations of the Support Vector Machine (SVM) algorithm. The main difference between them lies in how they handle data that is not linearly separable.\n",
        "\n",
        "Hard Margin SVM:\n",
        "\n",
        "Hard Margin SVM is the original SVM algorithm that assumes the data is linearly separable. It tries to find the hyperplane that maximally separates the classes, with no allowance for errors. In other words, it tries to find the hyperplane that has the maximum margin (distance) between the two classes.\n",
        "\n",
        "However, in real-world datasets, it's common to have noisy or overlapping data, which makes it impossible to find a hyperplane that perfectly separates the classes. In such cases, Hard Margin SVM will fail to converge or will produce a poor solution.\n",
        "\n",
        "Soft Margin SVM:\n",
        "\n",
        "Soft Margin SVM, on the other hand, is a more realistic and practical approach. It allows for some errors or misclassifications by introducing a \"soft margin\" around the hyperplane. This means that some data points can be on the wrong side of the hyperplane, but the algorithm will still try to maximize the margin.\n",
        "\n",
        "Soft Margin SVM introduces a regularization parameter, usually denoted as C, which controls the trade-off between the margin and the errors. A high value of C means that the algorithm will try to minimize the errors, while a low value of C means that the algorithm will try to maximize the margin."
      ]
    },
    {
      "cell_type": "markdown",
      "metadata": {
        "id": "oIiPwFzo8uMo"
      },
      "source": [
        "Q3. What is the mathematical intuition behind SVM?\n",
        "\n",
        "ANS-> The mathematical intuition behind Support Vector Machines (SVMs) can be understood by breaking down the concept into its key components.\n",
        "\n",
        "Primal Formulation:\n",
        "\n",
        "Given a dataset {(x1, y1), (x2, y2), ..., (xn, yn)} where xi ∈ ℝ^d and yi ∈ {+1, -1}, the goal of SVM is to find the hyperplane that maximally separates the classes.\n",
        "\n",
        "The primal formulation of SVM can be written as:\n",
        "\n",
        "minimize: ||w||^2 / 2\n",
        "subject to: yi(w^T xi + b) ≥ 1, ∀i\n",
        "\n",
        "where w ∈ ℝ^d is the weight vector, b ∈ ℝ is the bias term, and ||.|| denotes the Euclidean norm.\n",
        "\n",
        "Dual Formulation:\n",
        "\n",
        "The dual formulation of SVM can be obtained by applying the Lagrange duality to the primal formulation. The dual formulation is given by:\n",
        "\n",
        "maximize: ∑i αi - ∑i,j αi αj yi yj xi^T xj / 2\n",
        "subject to: ∑i αi yi = 0, αi ≥ 0, ∀i\n",
        "\n",
        "where αi are the Lagrange multipliers.\n",
        "\n",
        "Karush-Kuhn-Tucker (KKT) Conditions:\n",
        "\n",
        "The KKT conditions are necessary and sufficient conditions for optimality in the primal and dual formulations. The KKT conditions for SVM are given by:\n",
        "\n",
        "αi (yi(w^T xi + b) - 1) = 0, ∀i\n",
        "∑i αi yi = 0\n",
        "αi ≥ 0, ∀i\n",
        "\n",
        "Support Vectors:\n",
        "\n",
        "The support vectors are the data points that lie closest to the hyperplane and satisfy the KKT conditions. The support vectors are given by:\n",
        "\n",
        "xi : αi > 0\n",
        "\n",
        "The support vectors are the most informative data points, and the hyperplane is determined by these points.\n",
        "\n",
        "Kernel Trick:\n",
        "\n",
        "The kernel trick is a mathematical technique used to transform the original feature space into a higher-dimensional space, where the data becomes linearly separable. The kernel trick is given by:\n",
        "\n",
        "K(xi, xj) = φ(xi)^T φ(xj)\n",
        "\n",
        "where φ(xi) is the feature map that transforms the original feature space into a higher-dimensional space.\n",
        "\n",
        "The kernel trick allows SVM to handle non-linear relationships between features by transforming the original feature space into a higher-dimensional space, where the data becomes linearly separable."
      ]
    },
    {
      "cell_type": "markdown",
      "metadata": {
        "id": "8kE3qWHM8Eea"
      },
      "source": [
        "Q4. What is the role of Lagrange Multipliers in SVM?\n",
        "\n",
        "ANS-> Lagrange multipliers play a crucial role in the optimization process of Support Vector Machines (SVMs). In the context of SVMs, Lagrange multipliers are used to enforce the constraints of the optimization problem.\n",
        "\n",
        "What are Lagrange Multipliers?\n",
        "\n",
        "Lagrange multipliers are a mathematical technique used to optimize a function subject to one or more constraints. The basic idea is to introduce additional variables, called Lagrange multipliers, that enforce the constraints.\n",
        "\n",
        "Role of Lagrange Multipliers in SVM:\n",
        "\n",
        "In the context of SVMs, Lagrange multipliers are used to enforce the constraints of the optimization problem. The optimization problem in SVMs is to find the hyperplane that maximally separates the classes, subject to the constraints that the hyperplane is at a distance of at least 1 from the support vectors.\n",
        "\n",
        "The Lagrange multipliers are introduced to enforce the constraints that the hyperplane is at a distance of at least 1 from the support vectors. The Lagrange multipliers are used to penalize the objective function if the constraints are not satisfied.\n",
        "\n",
        "Key Properties of Lagrange Multipliers in SVM:\n",
        "\n",
        "1. Non-negativity: Lagrange multipliers are non-negative, i.e., αi ≥ 0.\n",
        "2. Complementary Slackness: Lagrange multipliers satisfy the complementary slackness condition, i.e., αi (yi(w^T xi + b) - 1) = 0.\n",
        "3. Summation: The sum of the Lagrange multipliers is equal to the bias term, i.e., ∑i αi yi = b.\n",
        "\n",
        "Interpretation of Lagrange Multipliers:\n",
        "\n",
        "The Lagrange multipliers can be interpreted as the \"importance\" of each data point in the optimization process. Data points with large Lagrange multipliers are more important in determining the hyperplane, while data points with small Lagrange multipliers are less important."
      ]
    },
    {
      "cell_type": "markdown",
      "metadata": {
        "id": "nASH8ui5_IiJ"
      },
      "source": [
        "Q5. What are Support Vectors in SVM?\n",
        "\n",
        "ANS-> upport Vectors are a fundamental concept in Support Vector Machines (SVMs). They are the data points that lie closest to the hyperplane and play a crucial role in defining the hyperplane.\n",
        "\n",
        "What are Support Vectors?\n",
        "\n",
        "Support Vectors are the data points that lie on or near the margin of the hyperplane. They are the points that are closest to the hyperplane and have the greatest influence on its position and orientation.\n",
        "\n",
        "Properties of Support Vectors:\n",
        "\n",
        "1. Lie on the margin: Support Vectors lie on the margin of the hyperplane, which is the region between the hyperplane and the support vectors.\n",
        "2. Have non-zero Lagrange multipliers: Support Vectors have non-zero Lagrange multipliers, which means they are the points that are most important in defining the hyperplane.\n",
        "3. Define the hyperplane: Support Vectors define the hyperplane by providing the necessary information to determine its position and orientation.\n",
        "4. Are the most informative points: Support Vectors are the most informative points in the dataset, as they provide the most information about the classification boundary.\n",
        "\n",
        "Types of Support Vectors:\n",
        "\n",
        "1. Positive Support Vectors: Positive Support Vectors are the points that lie on the positive side of the hyperplane.\n",
        "2. Negative Support Vectors: Negative Support Vectors are the points that lie on the negative side of the hyperplane.\n",
        "3. Boundary Support Vectors: Boundary Support Vectors are the points that lie on the boundary of the hyperplane.\n",
        "\n",
        "Importance of Support Vectors:\n",
        "\n",
        "1. Improve generalization: Support Vectors help to improve the generalization performance of the SVM by providing a more accurate representation of the classification boundary.\n",
        "2. Reduce overfitting: Support Vectors help to reduce overfitting by providing a more robust representation of the classification boundary.\n",
        "3. Enable kernel methods: Support Vectors enable the use of kernel methods, which allow for non-linear classification boundaries."
      ]
    },
    {
      "cell_type": "markdown",
      "metadata": {
        "id": "aBAkdpFx_Ilr"
      },
      "source": [
        "Q6. What is a Support Vector Classifier (SVC)?\n",
        "\n",
        "ANS-> A Support Vector Classifier (SVC) is a type of supervised learning algorithm used for classification tasks. It is a variant of the Support Vector Machine (SVM) algorithm, which is specifically designed for classification problems.\n",
        "\n",
        "How does SVC work?\n",
        "\n",
        "SVC works by finding the hyperplane that maximally separates the classes in the feature space. The hyperplane is determined by the support vectors, which are the data points that lie closest to the hyperplane.\n",
        "\n",
        "Here's a step-by-step overview of how SVC works:\n",
        "\n",
        "1. Data preparation: The dataset is preprocessed to ensure that it is in a suitable format for the algorithm.\n",
        "2. Feature selection: The most relevant features are selected from the dataset to reduce the dimensionality of the data.\n",
        "3. Kernel selection: A kernel function is selected to transform the data into a higher-dimensional space, where the classes are linearly separable.\n",
        "4. Hyperplane determination: The SVC algorithm finds the hyperplane that maximally separates the classes in the feature space.\n",
        "5. Support vector selection: The support vectors are selected as the data points that lie closest to the hyperplane.\n",
        "6. Classification: New data points are classified based on which side of the hyperplane they fall on.\n",
        "\n",
        "Types of SVC:\n",
        "\n",
        "1. Linear SVC: This type of SVC uses a linear kernel and is suitable for linearly separable data.\n",
        "2. Non-linear SVC: This type of SVC uses a non-linear kernel, such as the radial basis function (RBF) kernel, and is suitable for non-linearly separable data.\n",
        "3. Soft-margin SVC: This type of SVC allows for some misclassifications and is suitable for noisy data.\n",
        "\n",
        "Advantages of SVC:\n",
        "\n",
        "1. High accuracy: SVC can achieve high accuracy, especially when the data is linearly separable.\n",
        "2. Robustness to noise: SVC is robust to noisy data and can handle some misclassifications.\n",
        "3. Flexibility: SVC can be used with different kernel functions, making it suitable for a wide range of classification problems.\n",
        "\n",
        "Disadvantages of SVC:\n",
        "\n",
        "1. Computational complexity: SVC can be computationally expensive, especially when the dataset is large.\n",
        "2. Overfitting: SVC can suffer from overfitting, especially when the dataset is small.\n",
        "3. Choice of kernel: The choice of kernel function can significantly affect the performance of SVC."
      ]
    },
    {
      "cell_type": "markdown",
      "metadata": {
        "id": "Wom6-kfc_Io1"
      },
      "source": [
        "Q7. What is a Support Vector Regressor (SVR)?\n",
        "\n",
        "ANS-> A Support Vector Regressor (SVR) is a type of supervised learning algorithm used for regression tasks. It is a variant of the Support Vector Machine (SVM) algorithm, which is specifically designed for regression problems.\n",
        "\n",
        "How does SVR work?\n",
        "\n",
        "SVR works by finding the hyperplane that minimizes the error between the predicted values and the actual values. The hyperplane is determined by the support vectors, which are the data points that lie closest to the hyperplane.\n",
        "\n",
        "Here's a step-by-step overview of how SVR works:\n",
        "\n",
        "1. Data preparation: The dataset is preprocessed to ensure that it is in a suitable format for the algorithm.\n",
        "2. Feature selection: The most relevant features are selected from the dataset to reduce the dimensionality of the data.\n",
        "3. Kernel selection: A kernel function is selected to transform the data into a higher-dimensional space, where the relationship between the features and the target variable is linear.\n",
        "4. Hyperplane determination: The SVR algorithm finds the hyperplane that minimizes the error between the predicted values and the actual values.\n",
        "5. Support vector selection: The support vectors are selected as the data points that lie closest to the hyperplane.\n",
        "6. Regression: New data points are regressed based on the predicted values of the support vectors.\n",
        "\n",
        "Types of SVR:\n",
        "\n",
        "1. Linear SVR: This type of SVR uses a linear kernel and is suitable for linear regression problems.\n",
        "2. Non-linear SVR: This type of SVR uses a non-linear kernel, such as the radial basis function (RBF) kernel, and is suitable for non-linear regression problems.\n",
        "3. Epsilon-SVR: This type of SVR uses a tube around the hyperplane to allow for some errors, and is suitable for noisy data.\n",
        "\n",
        "Advantages of SVR:\n",
        "\n",
        "1. High accuracy: SVR can achieve high accuracy, especially when the data is linearly or non-linearly related to the target variable.\n",
        "2. Robustness to noise: SVR is robust to noisy data and can handle some errors.\n",
        "3. Flexibility: SVR can be used with different kernel functions, making it suitable for a wide range of regression problems.\n",
        "\n",
        "Disadvantages of SVR:\n",
        "\n",
        "1. Computational complexity: SVR can be computationally expensive, especially when the dataset is large.\n",
        "2. Overfitting: SVR can suffer from overfitting, especially when the dataset is small.\n",
        "3. Choice of kernel: The choice of kernel function can significantly affect the performance of SVR."
      ]
    },
    {
      "cell_type": "markdown",
      "metadata": {
        "id": "4Hm1Nm0W_Ir0"
      },
      "source": [
        "Q8. What is the Kernel Trick in SVM?\n",
        "\n",
        "ANS-> The Kernel Trick is a mathematical technique used in Support Vector Machines (SVMs) to transform the original feature space into a higher-dimensional space, where the data becomes linearly separable.\n",
        "\n",
        "What is the problem with linear SVM?\n",
        "\n",
        "Linear SVM is a powerful algorithm, but it has a major limitation: it can only handle linearly separable data. In other words, it can only separate data that can be divided by a straight line (or hyperplane).\n",
        "\n",
        "However, many real-world datasets are not linearly separable. They may have non-linear relationships between features, or they may have outliers or noise that make it difficult to separate the classes.\n",
        "\n",
        "How does the Kernel Trick solve this problem?\n",
        "\n",
        "The Kernel Trick solves this problem by transforming the original feature space into a higher-dimensional space, where the data becomes linearly separable.\n",
        "\n",
        "Here's how it works:\n",
        "\n",
        "1. Choose a kernel function: The kernel function is a mathematical function that maps the original feature space to a higher-dimensional space. Common kernel functions include the linear kernel, polynomial kernel, and radial basis function (RBF) kernel.\n",
        "2. Compute the kernel matrix: The kernel matrix is a matrix that contains the dot products of the transformed feature vectors. The kernel matrix is used to compute the decision boundary of the SVM.\n",
        "3. Train the SVM: The SVM is trained using the kernel matrix, rather than the original feature vectors. This allows the SVM to learn non-linear relationships between features.\n",
        "\n",
        "Types of kernel functions:\n",
        "\n",
        "1. Linear kernel: The linear kernel is the simplest kernel function, and it is used for linear SVM.\n",
        "2. Polynomial kernel: The polynomial kernel is a non-linear kernel function that is used for non-linear SVM.\n",
        "3. Radial basis function (RBF) kernel: The RBF kernel is a non-linear kernel function that is used for non-linear SVM.\n",
        "4. Sigmoid kernel: The sigmoid kernel is a non-linear kernel function that is used for non-linear SVM.\n",
        "\n",
        "Advantages of the Kernel Trick:\n",
        "\n",
        "1. Can handle non-linear relationships: The Kernel Trick allows SVM to handle non-linear relationships between features.\n",
        "2. Can handle high-dimensional data: The Kernel Trick allows SVM to handle high-dimensional data by transforming the feature space into a higher-dimensional space.\n",
        "3. Can improve accuracy: The Kernel Trick can improve the accuracy of SVM by allowing it to learn non-linear relationships between features."
      ]
    },
    {
      "cell_type": "markdown",
      "metadata": {
        "id": "16ku_2Tg_Iur"
      },
      "source": [
        "Q9. Compare Linear Kernel, Polynomial Kernel, and RBF Kernel.\n",
        "\n",
        "ANS-> Here's a comparison of Linear Kernel, Polynomial Kernel, and RBF Kernel:\n",
        "\n",
        "Linear Kernel\n",
        "\n",
        "- Definition: K(x, y) = x^T y\n",
        "- Properties:\n",
        "    - Linearly separable data\n",
        "    - Fast computation\n",
        "    - Simple to implement\n",
        "- Advantages:\n",
        "    - Fast and efficient\n",
        "    - Suitable for large datasets\n",
        "    - Easy to interpret\n",
        "- Disadvantages:\n",
        "    - Limited to linearly separable data\n",
        "    - May not perform well on non-linear data\n",
        "\n",
        "Polynomial Kernel\n",
        "\n",
        "- Definition: K(x, y) = (x^T y + c)^d\n",
        "- Properties:\n",
        "    - Non-linearly separable data\n",
        "    - Can handle high-dimensional data\n",
        "    - Can be sensitive to hyperparameters\n",
        "- Advantages:\n",
        "    - Can handle non-linear data\n",
        "    - Can be more accurate than linear kernel\n",
        "    - Can handle high-dimensional data\n",
        "- Disadvantages:\n",
        "    - Computationally expensive\n",
        "    - Sensitive to hyperparameters (c, d)\n",
        "    - May overfit\n",
        "\n",
        "RBF Kernel (Radial Basis Function)\n",
        "\n",
        "- Definition: K(x, y) = exp(-γ||x - y||^2)\n",
        "- Properties:\n",
        "    - Non-linearly separable data\n",
        "    - Can handle high-dimensional data\n",
        "    - Can be sensitive to hyperparameters\n",
        "- Advantages:\n",
        "    - Can handle non-linear data\n",
        "    - Can be more accurate than linear and polynomial kernels\n",
        "    - Can handle high-dimensional data\n",
        "- Disadvantages:\n",
        "    - Computationally expensive\n",
        "    - Sensitive to hyperparameters (γ)\n",
        "    - May overfit"
      ]
    },
    {
      "cell_type": "markdown",
      "metadata": {
        "id": "HT2613bd_Ixg"
      },
      "source": [
        "Q10. What is the effect of the C parameter in SVM?\n",
        "\n",
        "ANS-> The C parameter in SVM (Support Vector Machine) is a regularization parameter that controls the trade-off between the margin (the distance between the hyperplane and the support vectors) and the misclassification error.\n",
        "\n",
        "What does the C parameter do?\n",
        "\n",
        "The C parameter is used to penalize the misclassification error. A high value of C means that the algorithm will try to minimize the misclassification error, even if it means reducing the margin. A low value of C means that the algorithm will try to maximize the margin, even if it means increasing the misclassification error.\n",
        "\n",
        "Effects of the C parameter:\n",
        "\n",
        "1. High C value: A high C value will result in:\n",
        "    - A smaller margin, as the algorithm tries to minimize the misclassification error.\n",
        "    - A more complex model, as the algorithm tries to fit the training data more closely.\n",
        "    - A higher risk of overfitting, as the algorithm may fit the noise in the training data.\n",
        "2. Low C value: A low C value will result in:\n",
        "    - A larger margin, as the algorithm tries to maximize the margin.\n",
        "    - A simpler model, as the algorithm tries to generalize more.\n",
        "    - A lower risk of overfitting, as the algorithm may not fit the noise in the training data.\n",
        "\n",
        "How to choose the C parameter?\n",
        "\n",
        "The choice of the C parameter depends on the specific problem and dataset. Here are some general guidelines:\n",
        "\n",
        "1. Cross-validation: Use cross-validation to evaluate the performance of the SVM model with different values of C.\n",
        "2. Grid search: Perform a grid search over a range of C values to find the optimal value.\n",
        "3. Start with a low value: Start with a low value of C (e.g., C=1) and increase it gradually until you achieve the desired level of accuracy."
      ]
    },
    {
      "cell_type": "markdown",
      "metadata": {
        "id": "pXXRliok5hEc"
      },
      "source": [
        "Q11. What is the role of the Gamma parameter in RBF Kernel SVM?\n",
        "\n",
        "ANS-> The Gamma (γ) parameter in the RBF (Radial Basis Function) kernel of an SVM (Support Vector Machine) plays a crucial role in determining the performance of the model.\n",
        "\n",
        "What is the RBF kernel?\n",
        "\n",
        "The RBF kernel is a popular kernel function used in SVMs, which maps the original feature space to a higher-dimensional space using a non-linear transformation. The RBF kernel is defined as:\n",
        "\n",
        "K(x, y) = exp(-γ||x - y||^2)\n",
        "\n",
        "where x and y are the input vectors, γ is the Gamma parameter, and ||.|| denotes the Euclidean norm.\n",
        "\n",
        "What is the role of the Gamma parameter?\n",
        "\n",
        "The Gamma parameter (γ) controls the spread or width of the RBF kernel. It determines how quickly the kernel function decays as the distance between the input vectors increases.\n",
        "\n",
        "- High Gamma value: A high Gamma value means that the kernel function decays rapidly as the distance between the input vectors increases. This results in a narrow kernel, which can lead to overfitting.\n",
        "- Low Gamma value: A low Gamma value means that the kernel function decays slowly as the distance between the input vectors increases. This results in a wide kernel, which can lead to underfitting.\n",
        "\n",
        "How to choose the Gamma parameter?\n",
        "\n",
        "Choosing the optimal Gamma parameter is crucial for the performance of the SVM model. Here are some guidelines for choosing the Gamma parameter:\n",
        "\n",
        "- Grid search: Perform a grid search over a range of Gamma values to find the optimal value.\n",
        "- Cross-validation: Use cross-validation to evaluate the performance of the SVM model with different Gamma values.\n",
        "- Start with a low value: Start with a low Gamma value (e.g., γ = 0.1) and increase it gradually until you achieve the desired level of accuracy.\n",
        "\n",
        "Common values of Gamma:\n",
        "\n",
        "- γ = 0.1: A common default value for Gamma.\n",
        "- γ = 0.01: A smaller value of Gamma, which may be useful for datasets with a large number of features.\n",
        "- γ = 1: A larger value of Gamma, which may be useful for datasets with a small number of features.\n"
      ]
    },
    {
      "cell_type": "markdown",
      "metadata": {
        "id": "DAD_b6Ie5hOh"
      },
      "source": [
        "Q12. What is the Naïve Bayes classifier, and why is it called \"Naïve\"?\n",
        "\n",
        "ANS-> The Naïve Bayes classifier is a popular supervised learning algorithm used for classification tasks. It is based on Bayes' theorem and is called \"Naïve\" because it makes a simplifying assumption about the independence of features.\n",
        "\n",
        "How does Naïve Bayes work?\n",
        "\n",
        "The Naïve Bayes classifier works by using Bayes' theorem to calculate the probability of a sample belonging to a particular class. The algorithm assumes that the features of the data are independent of each other, given the class label. This assumption is what makes the algorithm \"Naïve\".\n",
        "\n",
        "Here's a step-by-step overview of how Naïve Bayes works:\n",
        "\n",
        "1. Training: The algorithm is trained on a labeled dataset, where each sample is represented by a set of features.\n",
        "2. Prior probabilities: The algorithm calculates the prior probabilities of each class, which represent the probability of a sample belonging to a particular class before observing any features.\n",
        "3. Likelihoods: The algorithm calculates the likelihoods of each feature given each class. This represents the probability of observing a particular feature value given that the sample belongs to a particular class.\n",
        "4. Posterior probabilities: The algorithm calculates the posterior probabilities of each class given the features of a sample. This represents the probability of a sample belonging to a particular class after observing its features.\n",
        "5. Classification: The algorithm classifies a new sample by selecting the class with the highest posterior probability.\n",
        "\n",
        "Why is it called \"Naïve\"?\n",
        "\n",
        "The Naïve Bayes classifier is called \"Naïve\" because it makes a simplifying assumption about the independence of features. Specifically, it assumes that the features of the data are independent of each other, given the class label. This assumption is not always true in real-world datasets, where features may be correlated or dependent on each other.\n",
        "\n",
        "Despite this simplifying assumption, Naïve Bayes has been shown to be a effective and efficient classifier in many applications, including text classification, sentiment analysis, and recommender systems."
      ]
    },
    {
      "cell_type": "markdown",
      "metadata": {
        "id": "d6MYeL4a5hTC"
      },
      "source": [
        "Q13. What is Bayes’ Theorem?\n",
        "\n",
        "ANS-> Bayes' Theorem is a fundamental concept in probability theory and statistics. It describes the probability of an event occurring based on prior knowledge and new evidence.\n",
        "\n",
        "What is Bayes' Theorem?\n",
        "\n",
        "Bayes' Theorem states that the probability of an event A occurring given that event B has occurred is equal to the probability of event B occurring given that event A has occurred, multiplied by the prior probability of event A, divided by the prior probability of event B.\n",
        "\n",
        "Mathematically, Bayes' Theorem can be expressed as:\n",
        "\n",
        "P(A|B) = P(B|A) * P(A) / P(B)\n",
        "\n",
        "where:\n",
        "\n",
        "- P(A|B) is the posterior probability of event A given event B\n",
        "- P(B|A) is the likelihood of event B given event A\n",
        "- P(A) is the prior probability of event A\n",
        "- P(B) is the prior probability of event B\n",
        "\n",
        "How does Bayes' Theorem work?\n",
        "\n",
        "Bayes' Theorem works by updating the prior probability of an event based on new evidence. The likelihood of the new evidence given the event is multiplied by the prior probability of the event, and then divided by the prior probability of the new evidence.\n",
        "\n",
        "This process is often referred to as \"updating\" the prior probability based on new evidence.\n",
        "\n",
        "Example of Bayes' Theorem\n",
        "\n",
        "Suppose we want to determine the probability that a person has a disease (event A) given that they test positive for the disease (event B).\n",
        "\n",
        "Let's say the prior probability of having the disease is 0.01 (1%), and the likelihood of testing positive given that you have the disease is 0.9 (90%).\n",
        "\n",
        "Using Bayes' Theorem, we can calculate the posterior probability of having the disease given a positive test result as follows:\n",
        "\n",
        "P(A|B) = P(B|A) * P(A) / P(B)\n",
        "= 0.9 * 0.01 / 0.1\n",
        "= 0.09 (9%)\n",
        "\n",
        "In this example, the posterior probability of having the disease given a positive test result is 9%."
      ]
    },
    {
      "cell_type": "markdown",
      "metadata": {
        "id": "jsgJvcxb5hW1"
      },
      "source": [
        "Q14. Explain the differences between Gaussian Naïve Bayes, Multinomial Naïve Bayes, and Bernoulli Naïve Bayes\n",
        "\n",
        "ANS-> Gaussian Naïve Bayes, Multinomial Naïve Bayes, and Bernoulli Naïve Bayes are three variants of the Naïve Bayes algorithm, each suited for different types of data. Here are the main differences between them:\n",
        "\n",
        "Gaussian Naïve Bayes\n",
        "- Assumes continuous features: Gaussian Naïve Bayes assumes that the features are continuous and follow a Gaussian distribution.\n",
        "- Uses Gaussian probability density function: The algorithm uses the Gaussian probability density function to calculate the likelihood of each feature.\n",
        "- Suitable for continuous data: Gaussian Naïve Bayes is suitable for datasets with continuous features, such as height, weight, or temperature.\n",
        "- Example: Predicting house prices based on features like number of bedrooms, square footage, and location.\n",
        "\n",
        "Multinomial Naïve Bayes\n",
        "- Assumes discrete features: Multinomial Naïve Bayes assumes that the features are discrete and follow a multinomial distribution.\n",
        "- Uses multinomial probability mass function: The algorithm uses the multinomial probability mass function to calculate the likelihood of each feature.\n",
        "- Suitable for categorical data: Multinomial Naïve Bayes is suitable for datasets with categorical features, such as text classification, sentiment analysis, or topic modeling.\n",
        "- Example: Classifying text as spam or non-spam based on the frequency of certain words.\n",
        "\n",
        "Bernoulli Naïve Bayes\n",
        "- Assumes binary features: Bernoulli Naïve Bayes assumes that the features are binary (0/1, yes/no, etc.) and follow a Bernoulli distribution.\n",
        "- Uses Bernoulli probability mass function: The algorithm uses the Bernoulli probability mass function to calculate the likelihood of each feature.\n",
        "- Suitable for binary data: Bernoulli Naïve Bayes is suitable for datasets with binary features, such as email spam detection, medical diagnosis, or quality control.\n",
        "- Example: Predicting whether a customer will churn or not based on binary features like \"has cancelled subscription\" or \"has complained to customer support\"."
      ]
    },
    {
      "cell_type": "markdown",
      "metadata": {
        "id": "oTzXcC1N5haS"
      },
      "source": [
        "Q15. When should you use Gaussian Naïve Bayes over other variants?\n",
        "\n",
        "ANS-> Gaussian Naïve Bayes is a suitable choice over other variants in the following scenarios:\n",
        "\n",
        "Continuous Features\n",
        "Gaussian Naïve Bayes is the best choice when working with continuous features, such as:\n",
        "\n",
        "- Height, weight, or other physical measurements\n",
        "- Financial data, like stock prices or transaction amounts\n",
        "- Sensor readings, like temperature, humidity, or pressure\n",
        "\n",
        "Normally Distributed Data\n",
        "Gaussian Naïve Bayes assumes that the features are normally distributed. If your data follows a normal distribution, Gaussian Naïve Bayes is a good choice.\n",
        "\n",
        "High-Dimensional Data\n",
        "Gaussian Naïve Bayes can handle high-dimensional data, making it suitable for applications like:\n",
        "\n",
        "- Image classification\n",
        "- Speech recognition\n",
        "- Text analysis with many features\n",
        "\n",
        "Simple and Efficient\n",
        "Gaussian Naïve Bayes is a simple and efficient algorithm, making it suitable for:\n",
        "\n",
        "- Real-time applications\n",
        "- Large datasets\n",
        "- Applications where computational resources are limited\n",
        "\n",
        "Comparison with Other Variants\n",
        "Here's a brief comparison with other Naïve Bayes variants:\n",
        "\n",
        "- Multinomial Naïve Bayes: Use when working with categorical features, like text classification or sentiment analysis.\n",
        "- Bernoulli Naïve Bayes: Use when working with binary features, like spam detection or medical diagnosis.\n",
        "- Complement Naïve Bayes: Use when working with imbalanced datasets or rare events.\n"
      ]
    },
    {
      "cell_type": "markdown",
      "metadata": {
        "id": "90U_QAvl5hdy"
      },
      "source": [
        "Q16. What are the key assumptions made by Naïve Bayes?\n",
        "\n",
        "ANS-> Naïve Bayes makes the following key assumptions:\n",
        "\n",
        "1. Independence Assumption\n",
        "Naïve Bayes assumes that the features of the data are independent of each other, given the class label. This means that the presence or absence of one feature does not affect the presence or absence of another feature.\n",
        "\n",
        "2. Conditional Independence Assumption\n",
        "Naïve Bayes assumes that the features are conditionally independent of each other, given the class label. This means that the probability distribution of one feature does not depend on the values of the other features, given the class label.\n",
        "\n",
        "3. Class-Conditional Independence Assumption\n",
        "Naïve Bayes assumes that the features are class-conditionally independent of each other. This means that the probability distribution of one feature does not depend on the values of the other features, given the class label.\n",
        "\n",
        "4. Feature Distribution Assumption\n",
        "Naïve Bayes assumes that the features follow a specific distribution, such as Gaussian, Multinomial, or Bernoulli. This assumption is used to calculate the likelihood of the features given the class label.\n",
        "\n",
        "5. No Correlation Between Features\n",
        "Naïve Bayes assumes that there is no correlation between the features. This means that the features are not related to each other in any way.\n",
        "\n",
        "6. Equal Importance of Features\n",
        "Naïve Bayes assumes that all features are equally important for classification. This means that each feature is given equal weight in the classification decision.\n"
      ]
    },
    {
      "cell_type": "markdown",
      "metadata": {
        "id": "1OWELvAW5hgx"
      },
      "source": [
        "Q17. What are the advantages and disadvantages of Naïve Bayes?\n",
        "\n",
        "ANS-> Here are the advantages and disadvantages of Naïve Bayes:\n",
        "\n",
        "Advantages\n",
        "1. Easy to Implement: Naïve Bayes is a simple algorithm to implement, especially when compared to more complex algorithms like neural networks.\n",
        "2. Fast Training and Prediction: Naïve Bayes is a fast algorithm, both in terms of training and prediction.\n",
        "3. Robust to Noise: Naïve Bayes is robust to noisy data, as it uses probabilities to make predictions rather than relying on exact feature values.\n",
        "4. Handles High-Dimensional Data: Naïve Bayes can handle high-dimensional data, making it suitable for applications like text classification and image recognition.\n",
        "5. Interpretable Results: Naïve Bayes provides interpretable results, as the probabilities of each class can be easily understood and interpreted.\n",
        "\n",
        "Disadvantages\n",
        "1. Assumes Independence of Features: Naïve Bayes assumes that the features are independent of each other, which is often not the case in real-world datasets.\n",
        "2. Sensitive to Feature Scaling: Naïve Bayes is sensitive to feature scaling, as the algorithm uses probabilities to make predictions.\n",
        "3. Not Suitable for Complex Relationships: Naïve Bayes is not suitable for modeling complex relationships between features, as it assumes a simple independence between features.\n",
        "4. Can be Biased: Naïve Bayes can be biased towards the majority class, especially when the dataset is imbalanced.\n",
        "5. Not Suitable for Multi-Class Problems with High Number of Classes: Naïve Bayes can be computationally expensive and may not perform well on multi-class problems with a high number of classes.\n"
      ]
    },
    {
      "cell_type": "markdown",
      "metadata": {
        "id": "mHcNpyA97DzA"
      },
      "source": [
        "Q18. Why is Naïve Bayes a good choice for text classification?\n",
        "\n",
        "ANS-> Naïve Bayes is a popular choice for text classification tasks due to its simplicity, efficiency, and effectiveness. Here are some reasons why Naïve Bayes is a good choice for text classification:\n",
        "\n",
        "Advantages of Naïve Bayes for Text Classification\n",
        "1. High-Dimensional Data Handling\n",
        "Text classification often involves high-dimensional data, where each document is represented by a large number of features (e.g., word frequencies). Naïve Bayes can handle high-dimensional data efficiently.\n",
        "\n",
        "2. Sparsity of Text Data\n",
        "Text data is often sparse, meaning that most documents contain only a small subset of the total vocabulary. Naïve Bayes can handle sparse data effectively by ignoring zero-count features.\n",
        "\n",
        "3. Robustness to Noise and Irrelevant Features\n",
        "Text data often contains noise and irrelevant features, such as stop words, punctuation, and special characters. Naïve Bayes is robust to noise and irrelevant features, as it uses probabilities to make predictions rather than relying on exact feature values.\n",
        "\n",
        "4. Efficient Computation\n",
        "Naïve Bayes is computationally efficient, especially when compared to more complex algorithms like support vector machines (SVMs) or neural networks.\n",
        "\n",
        "5. Easy Interpretation of Results\n",
        "Naïve Bayes provides easy-to-interpret results, as the probabilities of each class can be easily understood and analyzed.\n",
        "\n",
        "6. Handling Imbalanced Datasets\n",
        "Naïve Bayes can handle imbalanced datasets, where one class has a significantly larger number of instances than others.\n",
        "\n",
        "7. Flexibility in Feature Representation\n",
        "Naïve Bayes can accommodate different feature representations, such as bag-of-words, TF-IDF, or word embeddings.\n",
        "\n",
        "When to Choose Naïve Bayes for Text Classification\n",
        "1. Simple Text Classification Tasks: Naïve Bayes is suitable for simple text classification tasks, such as spam vs. non-spam emails or positive vs. negative movie reviews.\n",
        "2. Small to Medium-Sized Datasets: Naïve Bayes is suitable for small to medium-sized datasets, where computational efficiency is important.\n",
        "3. High-Dimensional Data: Naïve Bayes is suitable for high-dimensional text data, where each document is represented by a large number of features.\n"
      ]
    },
    {
      "cell_type": "markdown",
      "metadata": {
        "id": "FeTU97tk7D59"
      },
      "source": [
        "Q19. Compare SVM and Naïve Bayes for classification tasks.\n",
        "\n",
        "ANS-> Here's a comparison of SVM (Support Vector Machine) and Naïve Bayes for classification tasks:\n",
        "\n",
        "Complexity and Interpretability\n",
        "- SVM: SVM is a more complex algorithm than Naïve Bayes, especially when using non-linear kernels. This complexity can make it harder to interpret the results.\n",
        "- Naïve Bayes: Naïve Bayes is a simpler algorithm, making it easier to interpret the results.\n",
        "\n",
        "Handling High-Dimensional Data\n",
        "- SVM: SVM can handle high-dimensional data effectively, especially when using non-linear kernels.\n",
        "- Naïve Bayes: Naïve Bayes can also handle high-dimensional data, but it may not perform as well as SVM in certain cases.\n",
        "\n",
        "Handling Non-Linear Relationships\n",
        "- SVM: SVM can handle non-linear relationships between features using non-linear kernels, such as the RBF (Radial Basis Function) kernel.\n",
        "- Naïve Bayes: Naïve Bayes assumes independence between features and may not perform well when there are non-linear relationships between features.\n",
        "\n",
        "Computational Efficiency\n",
        "- SVM: SVM can be computationally expensive, especially when using non-linear kernels or large datasets.\n",
        "- Naïve Bayes: Naïve Bayes is generally faster and more computationally efficient than SVM.\n",
        "\n",
        "Robustness to Noise and Outliers\n",
        "- SVM: SVM is robust to noise and outliers, especially when using non-linear kernels.\n",
        "- Naïve Bayes: Naïve Bayes can be sensitive to noise and outliers, especially when the features are not independent.\n",
        "\n",
        "Handling Imbalanced Datasets\n",
        "- SVM: SVM can handle imbalanced datasets, but it may require additional techniques, such as oversampling the minority class or using class weights.\n",
        "- Naïve Bayes: Naïve Bayes can also handle imbalanced datasets, but it may not perform as well as SVM in certain cases.\n",
        "\n",
        "Real-World Applications\n",
        "- SVM: SVM has been successfully applied to various real-world problems, such as image classification, text classification, and bioinformatics.\n",
        "- Naïve Bayes: Naïve Bayes has also been successfully applied to various real-world problems, such as spam filtering, sentiment analysis, and recommender systems."
      ]
    },
    {
      "cell_type": "markdown",
      "metadata": {
        "id": "UK2hVvXI7D_3"
      },
      "source": [
        "Q20. How does Laplace Smoothing help in Naïve Bayes?\n",
        "\n",
        "ANS-> Laplace Smoothing, also known as Add-1 Smoothing, is a technique used in Naïve Bayes to handle the problem of zero-count features. It helps to:\n",
        "\n",
        "1. Avoid zero probabilities: In Naïve Bayes, the probability of a feature is calculated as the number of occurrences of that feature divided by the total number of occurrences of all features. If a feature has never occurred in the training data, its probability would be zero, leading to a zero probability for the entire class. Laplace Smoothing avoids this problem by adding a small value (usually 1) to the numerator and denominator of the probability calculation.\n",
        "2. Reduce overfitting: Laplace Smoothing helps to reduce overfitting by reducing the impact of features that have never occurred in the training data. This is especially important in Naïve Bayes, where the algorithm can be sensitive to features with zero counts.\n",
        "3. Improve generalization: By adding a small value to the probability calculation, Laplace Smoothing helps the algorithm to generalize better to new, unseen data.\n",
        "\n",
        "How Laplace Smoothing works\n",
        "\n",
        "Given a feature x and a class c, the probability of x given c is calculated as:\n",
        "\n",
        "P(x|c) = (Count(x, c) + α) / (Count(c) + α * |V|)\n",
        "\n",
        "where:\n",
        "\n",
        "- Count(x, c) is the number of occurrences of feature x in class c\n",
        "- Count(c) is the total number of occurrences of class c\n",
        "- α is the smoothing parameter (usually 1)\n",
        "- |V| is the size of the vocabulary (number of unique features)\n",
        "\n",
        "By adding α to the numerator and α \\* |V| to the denominator, Laplace Smoothing ensures that the probability of a feature is never zero, even if it has never occurred in the training data.\n",
        "\n",
        "Benefits of Laplace Smoothing\n",
        "\n",
        "1. Improved accuracy: Laplace Smoothing can improve the accuracy of Naïve Bayes by reducing the impact of zero-count features.\n",
        "2. Reduced overfitting: Laplace Smoothing helps to reduce overfitting by reducing the impact of features that have never occurred in the training data.\n",
        "3. Improved generalization: Laplace Smoothing helps the algorithm to generalize better to new, unseen data.\n"
      ]
    },
    {
      "cell_type": "markdown",
      "metadata": {
        "id": "X63TYcpK7EDj"
      },
      "source": [
        "#Practical"
      ]
    },
    {
      "cell_type": "markdown",
      "metadata": {
        "id": "XE-_AtKc7EGQ"
      },
      "source": [
        "Q21. Write a Python program to train an SVM Classifier on the Iris dataset and evaluate accuracy:"
      ]
    },
    {
      "cell_type": "code",
      "execution_count": null,
      "metadata": {
        "colab": {
          "base_uri": "https://localhost:8080/"
        },
        "id": "Pht15g-87ypF",
        "outputId": "b1f6cb34-a715-453c-b1ed-4603efa598cc"
      },
      "outputs": [
        {
          "name": "stdout",
          "output_type": "stream",
          "text": [
            "Accuracy: 1.0\n",
            "Classification Report:\n",
            "              precision    recall  f1-score   support\n",
            "\n",
            "           0       1.00      1.00      1.00        10\n",
            "           1       1.00      1.00      1.00         9\n",
            "           2       1.00      1.00      1.00        11\n",
            "\n",
            "    accuracy                           1.00        30\n",
            "   macro avg       1.00      1.00      1.00        30\n",
            "weighted avg       1.00      1.00      1.00        30\n",
            "\n",
            "Confusion Matrix:\n",
            "[[10  0  0]\n",
            " [ 0  9  0]\n",
            " [ 0  0 11]]\n"
          ]
        }
      ],
      "source": [
        "# Import necessary libraries\n",
        "from sklearn import datasets\n",
        "from sklearn.model_selection import train_test_split\n",
        "from sklearn import svm\n",
        "from sklearn import metrics\n",
        "\n",
        "# Load the Iris dataset\n",
        "iris = datasets.load_iris()\n",
        "\n",
        "# Define the feature matrix (X) and the response vector (y)\n",
        "X = iris.data\n",
        "y = iris.target\n",
        "\n",
        "# Split the dataset into a training set and a test set\n",
        "X_train, X_test, y_train, y_test = train_test_split(X, y, test_size=0.2, random_state=42)\n",
        "\n",
        "# Create an SVM Classifier\n",
        "clf = svm.SVC(kernel='rbf', gamma=1, C=1)\n",
        "\n",
        "# Train the Classifier using the training data\n",
        "clf.fit(X_train, y_train)\n",
        "\n",
        "# Use the trained Classifier to predict the labels of the test data\n",
        "y_pred = clf.predict(X_test)\n",
        "\n",
        "# Evaluate the accuracy of the Classifier\n",
        "accuracy = metrics.accuracy_score(y_test, y_pred)\n",
        "print(\"Accuracy:\", accuracy)\n",
        "\n",
        "# Print the classification report\n",
        "print(\"Classification Report:\")\n",
        "print(metrics.classification_report(y_test, y_pred))\n",
        "\n",
        "# Print the confusion matrix\n",
        "print(\"Confusion Matrix:\")\n",
        "print(metrics.confusion_matrix(y_test, y_pred))"
      ]
    },
    {
      "cell_type": "markdown",
      "metadata": {
        "id": "tuNwZP3a7EIu"
      },
      "source": [
        "Q22. Write a Python program to train two SVM classifiers with Linear and RBF kernels on the Wine dataset, then\n",
        "compare their accuracies:\n"
      ]
    },
    {
      "cell_type": "code",
      "execution_count": null,
      "metadata": {
        "colab": {
          "base_uri": "https://localhost:8080/"
        },
        "id": "utHnr2Wr8Ark",
        "outputId": "d6847b67-dafb-41d5-cba6-4882848a984c"
      },
      "outputs": [
        {
          "name": "stdout",
          "output_type": "stream",
          "text": [
            "Accuracy of Linear SVM Classifier: 1.0\n",
            "Accuracy of RBF SVM Classifier: 0.3888888888888889\n",
            "Linear SVM Classifier is more accurate.\n"
          ]
        }
      ],
      "source": [
        "# Import necessary libraries\n",
        "from sklearn import datasets\n",
        "from sklearn.model_selection import train_test_split\n",
        "from sklearn import svm\n",
        "from sklearn import metrics\n",
        "\n",
        "# Load the Wine dataset\n",
        "wine = datasets.load_wine()\n",
        "\n",
        "# Define the feature matrix (X) and the response vector (y)\n",
        "X = wine.data\n",
        "y = wine.target\n",
        "\n",
        "# Split the dataset into a training set and a test set\n",
        "X_train, X_test, y_train, y_test = train_test_split(X, y, test_size=0.2, random_state=42)\n",
        "\n",
        "# Create an SVM Classifier with a Linear kernel\n",
        "clf_linear = svm.SVC(kernel='linear', C=1)\n",
        "\n",
        "# Train the Linear SVM Classifier using the training data\n",
        "clf_linear.fit(X_train, y_train)\n",
        "\n",
        "# Use the trained Linear SVM Classifier to predict the labels of the test data\n",
        "y_pred_linear = clf_linear.predict(X_test)\n",
        "\n",
        "# Evaluate the accuracy of the Linear SVM Classifier\n",
        "accuracy_linear = metrics.accuracy_score(y_test, y_pred_linear)\n",
        "print(\"Accuracy of Linear SVM Classifier:\", accuracy_linear)\n",
        "\n",
        "# Create an SVM Classifier with an RBF kernel\n",
        "clf_rbf = svm.SVC(kernel='rbf', gamma=1, C=1)\n",
        "\n",
        "# Train the RBF SVM Classifier using the training data\n",
        "clf_rbf.fit(X_train, y_train)\n",
        "\n",
        "# Use the trained RBF SVM Classifier to predict the labels of the test data\n",
        "y_pred_rbf = clf_rbf.predict(X_test)\n",
        "\n",
        "# Evaluate the accuracy of the RBF SVM Classifier\n",
        "accuracy_rbf = metrics.accuracy_score(y_test, y_pred_rbf)\n",
        "print(\"Accuracy of RBF SVM Classifier:\", accuracy_rbf)\n",
        "\n",
        "# Compare the accuracies of the two SVM Classifiers\n",
        "if accuracy_linear > accuracy_rbf:\n",
        "    print(\"Linear SVM Classifier is more accurate.\")\n",
        "elif accuracy_rbf > accuracy_linear:\n",
        "    print(\"RBF SVM Classifier is more accurate.\")\n",
        "else:\n",
        "    print(\"Both SVM Classifiers have the same accuracy.\")"
      ]
    },
    {
      "cell_type": "markdown",
      "metadata": {
        "id": "3kccdGlv8JaV"
      },
      "source": [
        "Q23. Write a Python program to train an SVM Regressor (SVR) on a housing dataset and evaluate it using Mean\n",
        "Squared Error (MSE):"
      ]
    },
    {
      "cell_type": "code",
      "execution_count": null,
      "metadata": {
        "colab": {
          "base_uri": "https://localhost:8080/"
        },
        "id": "tF8vQk8K8JlT",
        "outputId": "12d242ac-92a9-4617-b214-a99d117ce486"
      },
      "outputs": [
        {
          "name": "stdout",
          "output_type": "stream",
          "text": [
            "Mean Squared Error (MSE): 1.3242768729938779\n",
            "Root Mean Squared Error (RMSE): 1.150772294154616\n",
            "R-Squared (R2) score: -0.01058287525745949\n"
          ]
        }
      ],
      "source": [
        "# Import necessary libraries\n",
        "from sklearn import datasets\n",
        "from sklearn.model_selection import train_test_split\n",
        "from sklearn import svm\n",
        "from sklearn import metrics\n",
        "import numpy as np\n",
        "import pandas as pd # Import pandas for data loading\n",
        "\n",
        "\n",
        "# Load the California housing dataset instead of the Boston dataset\n",
        "# housing = datasets.load_boston()  # This line is removed\n",
        "housing = datasets.fetch_california_housing()\n",
        "\n",
        "\n",
        "# Define the feature matrix (X) and the response vector (y)\n",
        "X = housing.data\n",
        "y = housing.target\n",
        "\n",
        "# Split the dataset into a training set and a test set\n",
        "X_train, X_test, y_train, y_test = train_test_split(X, y, test_size=0.2, random_state=42)\n",
        "\n",
        "# Create an SVM Regressor (SVR) with a radial basis function (RBF) kernel\n",
        "svr = svm.SVR(kernel='rbf', gamma=1, C=1)\n",
        "\n",
        "# Train the SVR using the training data\n",
        "svr.fit(X_train, y_train)\n",
        "\n",
        "# Use the trained SVR to predict the target values of the test data\n",
        "y_pred = svr.predict(X_test)\n",
        "\n",
        "# Evaluate the SVR using Mean Squared Error (MSE)\n",
        "mse = metrics.mean_squared_error(y_test, y_pred)\n",
        "print(\"Mean Squared Error (MSE):\", mse)\n",
        "\n",
        "# Evaluate the SVR using Root Mean Squared Error (RMSE)\n",
        "rmse = np.sqrt(mse)\n",
        "print(\"Root Mean Squared Error (RMSE):\", rmse)\n",
        "\n",
        "# Evaluate the SVR using R-Squared (R2) score\n",
        "r2 = metrics.r2_score(y_test, y_pred)\n",
        "print(\"R-Squared (R2) score:\", r2)"
      ]
    },
    {
      "cell_type": "markdown",
      "metadata": {
        "id": "VGMCPIYU8tRy"
      },
      "source": [
        "Q24. Write a Python program to train an SVM Classifier with a Polynomial Kernel and visualize the decision\n",
        "boundary:"
      ]
    },
    {
      "cell_type": "code",
      "execution_count": null,
      "metadata": {
        "colab": {
          "base_uri": "https://localhost:8080/",
          "height": 472
        },
        "id": "MdoWL1B58tfp",
        "outputId": "baccc5bb-713d-4f63-975b-2f8b00fd5f10"
      },
      "outputs": [
        {
          "data": {
            "image/png": "[encoded data removed]",
            "text/plain": [
              "<Figure size 640x480 with 1 Axes>"
            ]
          },
          "metadata": {},
          "output_type": "display_data"
        }
      ],
      "source": [
        "# Import necessary libraries\n",
        "from sklearn import datasets\n",
        "from sklearn import svm\n",
        "from sklearn.preprocessing import StandardScaler\n",
        "import numpy as np\n",
        "import matplotlib.pyplot as plt\n",
        "\n",
        "# Load the Iris dataset\n",
        "iris = datasets.load_iris()\n",
        "\n",
        "# Use only two features (sepal length and sepal width) for visualization\n",
        "X = iris.data[:, :2]\n",
        "y = iris.target\n",
        "\n",
        "# Standardize the features\n",
        "scaler = StandardScaler()\n",
        "X_std = scaler.fit_transform(X)\n",
        "\n",
        "# Create an SVM Classifier with a Polynomial Kernel\n",
        "clf = svm.SVC(kernel='poly', degree=2, gamma='scale', C=1)\n",
        "\n",
        "# Train the SVM Classifier\n",
        "clf.fit(X_std, y)\n",
        "\n",
        "# Create a meshgrid of the feature space\n",
        "h = 0.02\n",
        "x_min, x_max = X_std[:, 0].min() - 1, X_std[:, 0].max() + 1\n",
        "y_min, y_max = X_std[:, 1].min() - 1, X_std[:, 1].max() + 1\n",
        "xx, yy = np.meshgrid(np.arange(x_min, x_max, h), np.arange(y_min, y_max, h))\n",
        "\n",
        "# Plot the decision boundary\n",
        "Z = clf.predict(np.c_[xx.ravel(), yy.ravel()])\n",
        "Z = Z.reshape(xx.shape)\n",
        "plt.contourf(xx, yy, Z, alpha=0.8)\n",
        "\n",
        "# Plot the training data\n",
        "plt.scatter(X_std[:, 0], X_std[:, 1], c=y, s=20, edgecolor='k')\n",
        "plt.xlabel('Sepal Length (standardized)')\n",
        "plt.ylabel('Sepal Width (standardized)')\n",
        "plt.title('SVM Classifier with Polynomial Kernel')\n",
        "plt.show()"
      ]
    },
    {
      "cell_type": "markdown",
      "metadata": {
        "id": "lMBVitX08tvh"
      },
      "source": [
        "Q25. Write a Python program to train a Gaussian Naïve Bayes classifier on the Breast Cancer dataset and\n",
        "evaluate accuracy:"
      ]
    },
    {
      "cell_type": "code",
      "execution_count": null,
      "metadata": {
        "colab": {
          "base_uri": "https://localhost:8080/"
        },
        "id": "CovhsR5s8t7i",
        "outputId": "89a1b620-8967-4d98-c03a-251456094aea"
      },
      "outputs": [
        {
          "name": "stdout",
          "output_type": "stream",
          "text": [
            "Accuracy: 0.9736842105263158\n",
            "Classification Report:\n",
            "              precision    recall  f1-score   support\n",
            "\n",
            "           0       1.00      0.93      0.96        43\n",
            "           1       0.96      1.00      0.98        71\n",
            "\n",
            "    accuracy                           0.97       114\n",
            "   macro avg       0.98      0.97      0.97       114\n",
            "weighted avg       0.97      0.97      0.97       114\n",
            "\n",
            "Confusion Matrix:\n",
            "[[40  3]\n",
            " [ 0 71]]\n"
          ]
        }
      ],
      "source": [
        "# Import necessary libraries\n",
        "from sklearn import datasets\n",
        "from sklearn.model_selection import train_test_split\n",
        "from sklearn.naive_bayes import GaussianNB\n",
        "from sklearn import metrics\n",
        "\n",
        "# Load the Breast Cancer dataset\n",
        "cancer = datasets.load_breast_cancer()\n",
        "\n",
        "# Define the feature matrix (X) and the response vector (y)\n",
        "X = cancer.data\n",
        "y = cancer.target\n",
        "\n",
        "# Split the dataset into a training set and a test set\n",
        "X_train, X_test, y_train, y_test = train_test_split(X, y, test_size=0.2, random_state=42)\n",
        "\n",
        "# Create a Gaussian Naïve Bayes classifier\n",
        "gnb = GaussianNB()\n",
        "\n",
        "# Train the classifier using the training data\n",
        "gnb.fit(X_train, y_train)\n",
        "\n",
        "# Use the trained classifier to predict the labels of the test data\n",
        "y_pred = gnb.predict(X_test)\n",
        "\n",
        "# Evaluate the accuracy of the classifier\n",
        "accuracy = metrics.accuracy_score(y_test, y_pred)\n",
        "print(\"Accuracy:\", accuracy)\n",
        "\n",
        "# Print the classification report\n",
        "print(\"Classification Report:\")\n",
        "print(metrics.classification_report(y_test, y_pred))\n",
        "\n",
        "# Print the confusion matrix\n",
        "print(\"Confusion Matrix:\")\n",
        "print(metrics.confusion_matrix(y_test, y_pred))"
      ]
    },
    {
      "cell_type": "markdown",
      "metadata": {
        "id": "tFODCDIW8uGF"
      },
      "source": [
        "Q26. Write a Python program to train a Multinomial Naïve Bayes classifier for text classification using the 20\n",
        "Newsgroups dataset"
      ]
    },
    {
      "cell_type": "code",
      "execution_count": null,
      "metadata": {
        "colab": {
          "base_uri": "https://localhost:8080/"
        },
        "id": "KZj7HGc68uPA",
        "outputId": "19acbc84-17f7-4622-e830-f82d0f8458c2"
      },
      "outputs": [
        {
          "name": "stdout",
          "output_type": "stream",
          "text": [
            "Accuracy: 0.6753315649867374\n",
            "Classification Report:\n",
            "              precision    recall  f1-score   support\n",
            "\n",
            "           0       0.63      0.41      0.50       151\n",
            "           1       0.49      0.75      0.59       202\n",
            "           2       0.69      0.05      0.09       195\n",
            "           3       0.51      0.75      0.61       183\n",
            "           4       0.82      0.64      0.72       205\n",
            "           5       0.69      0.81      0.74       215\n",
            "           6       0.87      0.65      0.75       193\n",
            "           7       0.85      0.70      0.77       196\n",
            "           8       0.51      0.68      0.58       168\n",
            "           9       0.94      0.78      0.85       211\n",
            "          10       0.89      0.87      0.88       198\n",
            "          11       0.68      0.79      0.73       201\n",
            "          12       0.81      0.57      0.67       202\n",
            "          13       0.83      0.85      0.84       194\n",
            "          14       0.77      0.78      0.78       189\n",
            "          15       0.49      0.93      0.64       202\n",
            "          16       0.73      0.68      0.70       188\n",
            "          17       0.65      0.81      0.72       182\n",
            "          18       0.51      0.66      0.57       159\n",
            "          19       0.80      0.09      0.16       136\n",
            "\n",
            "    accuracy                           0.68      3770\n",
            "   macro avg       0.71      0.66      0.65      3770\n",
            "weighted avg       0.71      0.68      0.66      3770\n",
            "\n",
            "Confusion Matrix:\n",
            "[[ 62   1   0   0   0   0   0   1   4   1   1   3   0   1   3  49   5  10\n",
            "    8   2]\n",
            " [  1 152   1  12   1   7   1   1   7   0   1   5   0   2   5   3   1   1\n",
            "    1   0]\n",
            " [  1  51   9  52   7  51   0   0   8   1   0   8   2   0   0   2   1   0\n",
            "    2   0]\n",
            " [  0  14   0 137   9  10   1   1   1   0   0   4   1   1   0   2   0   1\n",
            "    1   0]\n",
            " [  2  15   1  19 132   1   3   1  12   0   0   5   4   4   2   3   0   1\n",
            "    0   0]\n",
            " [  0  28   0   4   0 174   0   0   2   0   1   1   0   1   2   1   0   0\n",
            "    1   0]\n",
            " [  0   6   0  26   6   1 126   2   2   0   2   6   4   3   4   2   1   1\n",
            "    1   0]\n",
            " [  1   3   0   0   2   0   2 138  10   0   1   4   5   0   6   4   5   6\n",
            "    9   0]\n",
            " [  1   2   0   0   0   3   5  10 115   4   2   2   1   2   1   5   2   6\n",
            "    7   0]\n",
            " [  1   2   0   0   0   0   1   0  12 164   7   3   0   1   0   9   1   5\n",
            "    5   0]\n",
            " [  1   1   0   0   0   1   0   0   5   2 172   1   0   3   1   6   0   3\n",
            "    2   0]\n",
            " [  0   5   1   1   1   1   0   0   2   1   2 158   1   2   3   2   2   5\n",
            "   14   0]\n",
            " [  1  18   0  15   2   4   5   5   5   1   3  11 116   2   7   3   1   1\n",
            "    2   0]\n",
            " [  3   1   0   0   0   0   0   1   3   0   1   1   4 165   2   6   0   4\n",
            "    3   0]\n",
            " [  0  10   0   1   0   0   1   1   9   0   0   7   2   1 147   4   0   2\n",
            "    4   0]\n",
            " [  2   0   0   0   0   0   0   0   4   0   0   0   0   2   0 188   0   6\n",
            "    0   0]\n",
            " [  2   0   1   0   0   0   0   0   8   0   1   7   1   3   3   4 127   7\n",
            "   23   1]\n",
            " [  2   2   0   1   0   0   0   0   8   0   0   6   0   0   0   8   1 147\n",
            "    7   0]\n",
            " [  1   0   0   0   0   0   0   1   5   0   0   0   1   3   4   8  18  13\n",
            "  105   0]\n",
            " [ 17   0   0   0   0   0   0   0   4   0   0   1   1   2   0  73   8   6\n",
            "   12  12]]\n"
          ]
        }
      ],
      "source": [
        "# Import necessary libraries\n",
        "from sklearn.datasets import fetch_20newsgroups\n",
        "from sklearn.model_selection import train_test_split\n",
        "from sklearn.feature_extraction.text import CountVectorizer\n",
        "from sklearn.naive_bayes import MultinomialNB\n",
        "from sklearn import metrics\n",
        "\n",
        "# Load the 20 Newsgroups dataset\n",
        "newsgroups = fetch_20newsgroups(subset='all', remove=('headers', 'footers', 'quotes'))\n",
        "\n",
        "# Split the dataset into a training set and a test set\n",
        "X_train, X_test, y_train, y_test = train_test_split(newsgroups.data, newsgroups.target, test_size=0.2, random_state=42)\n",
        "\n",
        "# Create a CountVectorizer to convert text data into a bag-of-words representation\n",
        "vectorizer = CountVectorizer(stop_words='english')\n",
        "\n",
        "# Fit the vectorizer to the training data and transform both the training and test data\n",
        "X_train_count = vectorizer.fit_transform(X_train)\n",
        "X_test_count = vectorizer.transform(X_test)\n",
        "\n",
        "# Create a Multinomial Naïve Bayes classifier\n",
        "mnb = MultinomialNB()\n",
        "\n",
        "# Train the classifier using the training data\n",
        "mnb.fit(X_train_count, y_train)\n",
        "\n",
        "# Use the trained classifier to predict the labels of the test data\n",
        "y_pred = mnb.predict(X_test_count)\n",
        "\n",
        "# Evaluate the accuracy of the classifier\n",
        "accuracy = metrics.accuracy_score(y_test, y_pred)\n",
        "print(\"Accuracy:\", accuracy)\n",
        "\n",
        "# Print the classification report\n",
        "print(\"Classification Report:\")\n",
        "print(metrics.classification_report(y_test, y_pred))\n",
        "\n",
        "# Print the confusion matrix\n",
        "print(\"Confusion Matrix:\")\n",
        "print(metrics.confusion_matrix(y_test, y_pred))"
      ]
    },
    {
      "cell_type": "markdown",
      "metadata": {
        "id": "FMiV8W6J8uZo"
      },
      "source": [
        "Q27. Write a Python program to train an SVM Classifier with different C values and compare the decision\n",
        "boundaries visually."
      ]
    },
    {
      "cell_type": "code",
      "execution_count": null,
      "metadata": {
        "colab": {
          "base_uri": "https://localhost:8080/",
          "height": 468
        },
        "id": "kF0U4iiG8upp",
        "outputId": "bd70ac8f-fe49-4f97-c52b-de8466fba896"
      },
      "outputs": [
        {
          "data": {
            "image/png": "[encoded data removed]",
            "text/plain": [
              "<Figure size 1500x500 with 3 Axes>"
            ]
          },
          "metadata": {},
          "output_type": "display_data"
        }
      ],
      "source": [
        "# Import necessary libraries\n",
        "from sklearn import datasets\n",
        "from sklearn import svm\n",
        "from sklearn.preprocessing import StandardScaler\n",
        "import numpy as np\n",
        "import matplotlib.pyplot as plt\n",
        "\n",
        "# Load the Iris dataset\n",
        "iris = datasets.load_iris()\n",
        "\n",
        "# Use only two features (sepal length and sepal width) for visualization\n",
        "X = iris.data[:, :2]\n",
        "y = iris.target\n",
        "\n",
        "# Standardize the features\n",
        "scaler = StandardScaler()\n",
        "X_std = scaler.fit_transform(X)\n",
        "\n",
        "# Define C values\n",
        "C_values = [0.1, 1, 10]\n",
        "\n",
        "# Create a figure with subplots\n",
        "fig, axes = plt.subplots(nrows=1, ncols=len(C_values), figsize=(15, 5))\n",
        "\n",
        "# Iterate over C values\n",
        "for i, C in enumerate(C_values):\n",
        "    # Create an SVM Classifier with the current C value\n",
        "    clf = svm.SVC(kernel='linear', C=C)\n",
        "\n",
        "    # Train the SVM Classifier\n",
        "    clf.fit(X_std, y)\n",
        "\n",
        "    # Plot the decision boundary\n",
        "    x_min, x_max = X_std[:, 0].min() - 1, X_std[:, 0].max() + 1\n",
        "    y_min, y_max = X_std[:, 1].min() - 1, X_std[:, 1].max() + 1\n",
        "    xx, yy = np.meshgrid(np.arange(x_min, x_max, 0.1), np.arange(y_min, y_max, 0.1))\n",
        "    Z = clf.predict(np.c_[xx.ravel(), yy.ravel()])\n",
        "    Z = Z.reshape(xx.shape)\n",
        "    axes[i].contourf(xx, yy, Z, alpha=0.8)\n",
        "\n",
        "    # Plot the training data\n",
        "    axes[i].scatter(X_std[:, 0], X_std[:, 1], c=y, s=20, edgecolor='k')\n",
        "\n",
        "    # Set title\n",
        "    axes[i].set_title(f\"C = {C}\")\n",
        "\n",
        "# Show the plot\n",
        "plt.show()"
      ]
    },
    {
      "cell_type": "markdown",
      "metadata": {
        "id": "26ogd0ps8u0N"
      },
      "source": [
        "Q28. Write a Python program to train a Bernoulli Naïve Bayes classifier for binary classification on a dataset with\n",
        "binary features."
      ]
    },
    {
      "cell_type": "code",
      "execution_count": null,
      "metadata": {
        "colab": {
          "base_uri": "https://localhost:8080/"
        },
        "id": "zRqin4wQ8vBs",
        "outputId": "7262b58e-60a2-40ea-b839-c913380570c2"
      },
      "outputs": [
        {
          "name": "stdout",
          "output_type": "stream",
          "text": [
            "Accuracy: 0.765\n",
            "Classification Report:\n",
            "              precision    recall  f1-score   support\n",
            "\n",
            "           0       0.81      0.69      0.74        99\n",
            "           1       0.73      0.84      0.78       101\n",
            "\n",
            "    accuracy                           0.77       200\n",
            "   macro avg       0.77      0.76      0.76       200\n",
            "weighted avg       0.77      0.77      0.76       200\n",
            "\n",
            "Confusion Matrix:\n",
            "[[68 31]\n",
            " [16 85]]\n"
          ]
        }
      ],
      "source": [
        "# Import necessary libraries\n",
        "from sklearn.naive_bayes import BernoulliNB\n",
        "from sklearn.datasets import make_classification\n",
        "from sklearn.model_selection import train_test_split\n",
        "from sklearn.metrics import accuracy_score, classification_report, confusion_matrix\n",
        "\n",
        "# Generate a random binary classification dataset with binary features\n",
        "X, y = make_classification(n_samples=1000, n_features=10, n_informative=5, n_redundant=3, n_repeated=2, n_classes=2, random_state=42)\n",
        "\n",
        "# Convert the feature matrix to binary features\n",
        "X_binary = (X > 0).astype(int)\n",
        "\n",
        "# Split the dataset into a training set and a test set\n",
        "X_train, X_test, y_train, y_test = train_test_split(X_binary, y, test_size=0.2, random_state=42)\n",
        "\n",
        "# Create a Bernoulli Naïve Bayes classifier\n",
        "bnb = BernoulliNB()\n",
        "\n",
        "# Train the classifier using the training data\n",
        "bnb.fit(X_train, y_train)\n",
        "\n",
        "# Use the trained classifier to predict the labels of the test data\n",
        "y_pred = bnb.predict(X_test)\n",
        "\n",
        "# Evaluate the accuracy of the classifier\n",
        "accuracy = accuracy_score(y_test, y_pred)\n",
        "print(\"Accuracy:\", accuracy)\n",
        "\n",
        "# Print the classification report\n",
        "print(\"Classification Report:\")\n",
        "print(classification_report(y_test, y_pred))\n",
        "\n",
        "# Print the confusion matrix\n",
        "print(\"Confusion Matrix:\")\n",
        "print(confusion_matrix(y_test, y_pred))"
      ]
    },
    {
      "cell_type": "markdown",
      "metadata": {
        "id": "c4ko-1Qs8vQI"
      },
      "source": [
        "Q29. Write a Python program to apply feature scaling before training an SVM model and compare results with\n",
        "unscaled data."
      ]
    },
    {
      "cell_type": "code",
      "execution_count": null,
      "metadata": {
        "colab": {
          "base_uri": "https://localhost:8080/"
        },
        "id": "GraFNFep8vaj",
        "outputId": "cef3e8d6-abb2-4f2e-dd08-5b45330ab151"
      },
      "outputs": [
        {
          "name": "stdout",
          "output_type": "stream",
          "text": [
            "Accuracy without scaling: 1.0\n",
            "Accuracy with scaling: 1.0\n",
            "Scaling did not improve the accuracy of the SVM model.\n"
          ]
        }
      ],
      "source": [
        "# Import necessary libraries\n",
        "from sklearn import datasets\n",
        "from sklearn.model_selection import train_test_split\n",
        "from sklearn import svm\n",
        "from sklearn.preprocessing import StandardScaler\n",
        "from sklearn import metrics\n",
        "\n",
        "# Load the Iris dataset\n",
        "iris = datasets.load_iris()\n",
        "\n",
        "# Define the feature matrix (X) and the response vector (y)\n",
        "X = iris.data\n",
        "y = iris.target\n",
        "\n",
        "# Split the dataset into a training set and a test set\n",
        "X_train, X_test, y_train, y_test = train_test_split(X, y, test_size=0.2, random_state=42)\n",
        "\n",
        "# Create an SVM model without scaling\n",
        "svm_unscaled = svm.SVC(kernel='rbf', gamma=1, C=1)\n",
        "svm_unscaled.fit(X_train, y_train)\n",
        "y_pred_unscaled = svm_unscaled.predict(X_test)\n",
        "accuracy_unscaled = metrics.accuracy_score(y_test, y_pred_unscaled)\n",
        "print(\"Accuracy without scaling:\", accuracy_unscaled)\n",
        "\n",
        "# Apply StandardScaler to scale the features\n",
        "scaler = StandardScaler()\n",
        "X_train_scaled = scaler.fit_transform(X_train)\n",
        "X_test_scaled = scaler.transform(X_test)\n",
        "\n",
        "# Create an SVM model with scaling\n",
        "svm_scaled = svm.SVC(kernel='rbf', gamma=1, C=1)\n",
        "svm_scaled.fit(X_train_scaled, y_train)\n",
        "y_pred_scaled = svm_scaled.predict(X_test_scaled)\n",
        "accuracy_scaled = metrics.accuracy_score(y_test, y_pred_scaled)\n",
        "print(\"Accuracy with scaling:\", accuracy_scaled)\n",
        "\n",
        "# Compare the results\n",
        "if accuracy_scaled > accuracy_unscaled:\n",
        "    print(\"Scaling improved the accuracy of the SVM model.\")\n",
        "else:\n",
        "    print(\"Scaling did not improve the accuracy of the SVM model.\")"
      ]
    },
    {
      "cell_type": "markdown",
      "metadata": {
        "id": "ltPrrjmB-Hkx"
      },
      "source": [
        "Q30. Write a Python program to train a Gaussian Naïve Bayes model and compare the predictions before and\n",
        "after Laplace Smoothing."
      ]
    },
    {
      "cell_type": "code",
      "execution_count": null,
      "metadata": {
        "colab": {
          "base_uri": "https://localhost:8080/"
        },
        "id": "E5JCo0Cd8WPd",
        "outputId": "ffbe6c4a-a17c-4174-9eb5-cdb4b21fe3f5"
      },
      "outputs": [
        {
          "name": "stdout",
          "output_type": "stream",
          "text": [
            "Accuracy without Laplace Smoothing: 1.0\n",
            "Accuracy with Laplace Smoothing: 1.0\n",
            "Laplace Smoothing did not improve the accuracy of the Gaussian Naïve Bayes model.\n"
          ]
        }
      ],
      "source": [
        "# Import necessary libraries\n",
        "from sklearn.naive_bayes import GaussianNB\n",
        "from sklearn.datasets import load_iris\n",
        "from sklearn.model_selection import train_test_split\n",
        "from sklearn.metrics import accuracy_score\n",
        "import numpy as np\n",
        "\n",
        "# Load the Iris dataset\n",
        "iris = load_iris()\n",
        "X = iris.data\n",
        "y = iris.target\n",
        "\n",
        "# Split the dataset into a training set and a test set\n",
        "X_train, X_test, y_train, y_test = train_test_split(X, y, test_size=0.2, random_state=42)\n",
        "\n",
        "# Train a Gaussian Naïve Bayes model without Laplace Smoothing\n",
        "gnb = GaussianNB()\n",
        "gnb.fit(X_train, y_train)\n",
        "y_pred = gnb.predict(X_test)\n",
        "accuracy = accuracy_score(y_test, y_pred)\n",
        "print(\"Accuracy without Laplace Smoothing:\", accuracy)\n",
        "\n",
        "# Apply Laplace Smoothing\n",
        "from sklearn.utils.class_weight import compute_class_weight\n",
        "class_weights = compute_class_weight(class_weight='balanced', classes=np.unique(y_train), y=y_train)\n",
        "class_weights = class_weights / class_weights.sum()\n",
        "\n",
        "# Train a Gaussian Naïve Bayes model with Laplace Smoothing\n",
        "gnb_smooth = GaussianNB()\n",
        "gnb_smooth.priors_ = class_weights\n",
        "gnb_smooth.fit(X_train, y_train)\n",
        "y_pred_smooth = gnb_smooth.predict(X_test)\n",
        "accuracy_smooth = accuracy_score(y_test, y_pred_smooth)\n",
        "print(\"Accuracy with Laplace Smoothing:\", accuracy_smooth)\n",
        "\n",
        "# Compare the results\n",
        "if accuracy_smooth > accuracy:\n",
        "    print(\"Laplace Smoothing improved the accuracy of the Gaussian Naïve Bayes model.\")\n",
        "else:\n",
        "    print(\"Laplace Smoothing did not improve the accuracy of the Gaussian Naïve Bayes model.\")"
      ]
    },
    {
      "cell_type": "markdown",
      "metadata": {
        "id": "BR634fWE-UF_"
      },
      "source": [
        "Q31. Write a Python program to train an SVM Classifier and use GridSearchCV to tune the hyperparameters (C,\n",
        "gamma, kernel)."
      ]
    },
    {
      "cell_type": "code",
      "execution_count": null,
      "metadata": {
        "colab": {
          "base_uri": "https://localhost:8080/"
        },
        "id": "82D3LDkk-UQY",
        "outputId": "4c2ed464-8d08-4438-d8e0-ba69e946e6f4"
      },
      "outputs": [
        {
          "name": "stdout",
          "output_type": "stream",
          "text": [
            "Best hyperparameters: {'C': 1, 'gamma': 'scale', 'kernel': 'linear'}\n",
            "Accuracy of the best-performing SVM Classifier: 1.0\n"
          ]
        }
      ],
      "source": [
        "# Import necessary libraries\n",
        "from sklearn import datasets\n",
        "from sklearn.model_selection import train_test_split\n",
        "from sklearn import svm\n",
        "from sklearn.model_selection import GridSearchCV\n",
        "from sklearn import metrics\n",
        "\n",
        "# Load the Iris dataset\n",
        "iris = datasets.load_iris()\n",
        "\n",
        "# Define the feature matrix (X) and the response vector (y)\n",
        "X = iris.data\n",
        "y = iris.target\n",
        "\n",
        "# Split the dataset into a training set and a test set\n",
        "X_train, X_test, y_train, y_test = train_test_split(X, y, test_size=0.2, random_state=42)\n",
        "\n",
        "# Define the hyperparameter tuning space\n",
        "param_grid = {\n",
        "    'C': [0.1, 1, 10],\n",
        "    'gamma': ['scale', 'auto'],\n",
        "    'kernel': ['linear', 'rbf', 'poly']\n",
        "}\n",
        "\n",
        "# Create an SVM Classifier\n",
        "svm_classifier = svm.SVC()\n",
        "\n",
        "# Perform grid search with cross-validation\n",
        "grid_search = GridSearchCV(estimator=svm_classifier, param_grid=param_grid, cv=5)\n",
        "grid_search.fit(X_train, y_train)\n",
        "\n",
        "# Get the best-performing hyperparameters\n",
        "best_params = grid_search.best_params_\n",
        "print(\"Best hyperparameters:\", best_params)\n",
        "\n",
        "# Train an SVM Classifier with the best-performing hyperparameters\n",
        "best_svm_classifier = svm.SVC(**best_params)\n",
        "best_svm_classifier.fit(X_train, y_train)\n",
        "\n",
        "# Make predictions on the test set\n",
        "y_pred = best_svm_classifier.predict(X_test)\n",
        "\n",
        "# Evaluate the accuracy of the best-performing SVM Classifier\n",
        "accuracy = metrics.accuracy_score(y_test, y_pred)\n",
        "print(\"Accuracy of the best-performing SVM Classifier:\", accuracy)"
      ]
    },
    {
      "cell_type": "markdown",
      "metadata": {
        "id": "oVuWNuXY-UaX"
      },
      "source": [
        "Q32. Write a Python program to train an SVM Classifier on an imbalanced dataset and apply class weighting and\n",
        "check it improve accuracy."
      ]
    },
    {
      "cell_type": "code",
      "execution_count": null,
      "metadata": {
        "colab": {
          "base_uri": "https://localhost:8080/"
        },
        "id": "C3aK1k0--Uih",
        "outputId": "8c517c8b-23bf-4c88-ebd4-148fb0684733"
      },
      "outputs": [
        {
          "output_type": "stream",
          "name": "stdout",
          "text": [
            "Accuracy without class weighting: 1.0\n",
            "Classification Report:\n",
            "              precision    recall  f1-score   support\n",
            "\n",
            "           0       1.00      1.00      1.00         9\n",
            "           1       1.00      1.00      1.00         3\n",
            "\n",
            "    accuracy                           1.00        12\n",
            "   macro avg       1.00      1.00      1.00        12\n",
            "weighted avg       1.00      1.00      1.00        12\n",
            "\n",
            "Confusion Matrix:\n",
            "[[9 0]\n",
            " [0 3]]\n",
            "Accuracy with class weighting: 1.0\n",
            "Classification Report:\n",
            "              precision    recall  f1-score   support\n",
            "\n",
            "           0       1.00      1.00      1.00         9\n",
            "           1       1.00      1.00      1.00         3\n",
            "\n",
            "    accuracy                           1.00        12\n",
            "   macro avg       1.00      1.00      1.00        12\n",
            "weighted avg       1.00      1.00      1.00        12\n",
            "\n",
            "Confusion Matrix:\n",
            "[[9 0]\n",
            " [0 3]]\n",
            "Class weighting does not improve accuracy.\n"
          ]
        }
      ],
      "source": [
        "# Import necessary libraries\n",
        "from sklearn import datasets\n",
        "from sklearn.model_selection import train_test_split\n",
        "from sklearn import svm\n",
        "from sklearn.utils.class_weight import compute_class_weight\n",
        "from sklearn.metrics import accuracy_score, classification_report, confusion_matrix\n",
        "import numpy as np\n",
        "\n",
        "# Load the Iris dataset (convert it into an imbalanced dataset)\n",
        "iris = datasets.load_iris()\n",
        "X = iris.data\n",
        "y = iris.target\n",
        "\n",
        "# Convert the dataset into an imbalanced dataset\n",
        "# Create a copy of y to avoid modifying the original dataset\n",
        "y_imbalanced = y.copy()\n",
        "# Change all values that are not 0 to 1\n",
        "y_imbalanced[y_imbalanced != 0] = 1\n",
        "# Filter X and y_imbalanced to include instances of class 0 and a limited number of instances of other classes\n",
        "X_imbalanced = X[y == 0]  # Get all instances of class 0\n",
        "y_imbalanced = y_imbalanced[y == 0]  # Get corresponding labels for class 0\n",
        "# Add 10 instances of other classes (class 1 and class 2 combined)\n",
        "X_imbalanced = np.concatenate((X_imbalanced, X[y != 0][:10]))\n",
        "# Fix: Use y_imbalanced to get labels for other classes instead of itself\n",
        "y_imbalanced = np.concatenate((y_imbalanced, y[y != 0][:10])) #Use original y to get correct labels\n",
        "\n",
        "# Split the imbalanced dataset into a training set and a test set\n",
        "X_train, X_test, y_train, y_test = train_test_split(X_imbalanced, y_imbalanced, test_size=0.2, random_state=42)\n",
        "\n",
        "# Compute class weights for the imbalanced dataset\n",
        "class_weights = compute_class_weight(class_weight='balanced', classes=np.unique(y_train), y=y_train)\n",
        "\n",
        "# Train an SVM Classifier without class weighting\n",
        "svm_classifier = svm.SVC(kernel='linear', probability=True)\n",
        "svm_classifier.fit(X_train, y_train)\n",
        "\n",
        "# Make predictions on the test set\n",
        "y_pred = svm_classifier.predict(X_test)\n",
        "\n",
        "# Evaluate the accuracy of the SVM Classifier without class weighting\n",
        "accuracy = accuracy_score(y_test, y_pred)\n",
        "print(\"Accuracy without class weighting:\", accuracy)\n",
        "print(\"Classification Report:\")\n",
        "print(classification_report(y_test, y_pred))\n",
        "print(\"Confusion Matrix:\")\n",
        "print(confusion_matrix(y_test, y_pred))\n",
        "\n",
        "# Train an SVM Classifier with class weighting\n",
        "svm_classifier_class_weighted = svm.SVC(kernel='linear', probability=True, class_weight='balanced')\n",
        "svm_classifier_class_weighted.fit(X_train, y_train)\n",
        "\n",
        "# Make predictions on the test set\n",
        "y_pred_class_weighted = svm_classifier_class_weighted.predict(X_test)\n",
        "\n",
        "# Evaluate the accuracy of the SVM Classifier with class weighting\n",
        "accuracy_class_weighted = accuracy_score(y_test, y_pred_class_weighted)\n",
        "print(\"Accuracy with class weighting:\", accuracy_class_weighted)\n",
        "print(\"Classification Report:\")\n",
        "print(classification_report(y_test, y_pred_class_weighted))\n",
        "print(\"Confusion Matrix:\")\n",
        "print(confusion_matrix(y_test, y_pred_class_weighted))\n",
        "\n",
        "# Check if class weighting improves accuracy\n",
        "if accuracy_class_weighted > accuracy:\n",
        "    print(\"Class weighting improves accuracy.\")\n",
        "else:\n",
        "    print(\"Class weighting does not improve accuracy.\")\n",
        "\n"
      ]
    },
    {
      "cell_type": "markdown",
      "metadata": {
        "id": "6gTsrUAN-Upw"
      },
      "source": [
        "Q33. Write a Python program to implement a Naïve Bayes classifier for spam detection using email data."
      ]
    },
    {
      "cell_type": "code",
      "execution_count": null,
      "metadata": {
        "colab": {
          "base_uri": "https://localhost:8080/"
        },
        "id": "4g98KJqu-Uxv",
        "outputId": "2f7081dd-ee68-4968-a530-7d8dd72cfa26"
      },
      "outputs": [
        {
          "name": "stdout",
          "output_type": "stream",
          "text": [
            "Error: 'spam_ham_dataset.csv' not found. Please upload the file or provide the correct path.\n",
            "Cannot proceed with classification due to missing data file.\n"
          ]
        }
      ],
      "source": [
        "# Import necessary libraries\n",
        "import pandas as pd\n",
        "from sklearn.model_selection import train_test_split\n",
        "from sklearn.feature_extraction.text import CountVectorizer\n",
        "from sklearn.naive_bayes import MultinomialNB\n",
        "from sklearn.metrics import accuracy_score, classification_report, confusion_matrix\n",
        "\n",
        "# Load the email data (replace 'spam_ham_dataset.csv' with your actual file name)\n",
        "try:\n",
        "    df = pd.read_csv('spam_ham_dataset.csv')\n",
        "except FileNotFoundError:\n",
        "    print(\"Error: 'spam_ham_dataset.csv' not found. Please upload the file or provide the correct path.\")\n",
        "    # Instead of exiting, assign an empty DataFrame to df to avoid the NameError\n",
        "    df = pd.DataFrame()  # Create an empty DataFrame if file not found\n",
        "    # Now df is defined, even if the file wasn't found\n",
        "\n",
        "# Assuming the dataset has columns 'text' and 'label'\n",
        "# Adjust column names if necessary\n",
        "\n",
        "# Preprocess the data (optional, but often crucial for better performance)\n",
        "# Example: Convert labels to numerical representation (0 for 'ham', 1 for 'spam')\n",
        "# Only proceed if df is not empty\n",
        "if not df.empty:\n",
        "    df['label'] = df['label'].map({'ham': 0, 'spam': 1})\n",
        "\n",
        "# Split the data into training and testing sets\n",
        "# Only proceed if df is not empty\n",
        "if not df.empty:\n",
        "    X_train, X_test, y_train, y_test = train_test_split(df['text'], df['label'], test_size=0.2, random_state=42)\n",
        "\n",
        "\n",
        "    # Feature extraction using CountVectorizer\n",
        "    vectorizer = CountVectorizer()\n",
        "    X_train_vec = vectorizer.fit_transform(X_train)\n",
        "    X_test_vec = vectorizer.transform(X_test)\n",
        "\n",
        "    # Train a Multinomial Naive Bayes classifier\n",
        "    classifier = MultinomialNB()\n",
        "    classifier.fit(X_train_vec, y_train)\n",
        "\n",
        "    # Make predictions on the test set\n",
        "    y_pred = classifier.predict(X_test_vec)\n",
        "\n",
        "\n",
        "    # Evaluate the classifier\n",
        "    accuracy = accuracy_score(y_test, y_pred)\n",
        "    print(f\"Accuracy: {accuracy}\")\n",
        "\n",
        "    print(f\"Classification Report:\\n{classification_report(y_test, y_pred)}\")\n",
        "    print(f\"Confusion Matrix:\\n{confusion_matrix(y_test, y_pred)}\")\n",
        "else:\n",
        "    print(\"Cannot proceed with classification due to missing data file.\")"
      ]
    },
    {
      "cell_type": "markdown",
      "metadata": {
        "id": "n7L-60Sy-U7n"
      },
      "source": [
        "Q34. Write a Python program to train an SVM Classifier and a Naïve Bayes Classifier on the same dataset and\n",
        "compare their accuracy"
      ]
    },
    {
      "cell_type": "code",
      "execution_count": null,
      "metadata": {
        "colab": {
          "base_uri": "https://localhost:8080/"
        },
        "id": "3jOm_kqh-VGA",
        "outputId": "a9717651-88b3-47c0-b5b6-7e04d293b908"
      },
      "outputs": [
        {
          "name": "stdout",
          "output_type": "stream",
          "text": [
            "SVM Accuracy: 1.0\n",
            "Naive Bayes Accuracy: 0.9777777777777777\n",
            "SVM classifier performs better.\n"
          ]
        }
      ],
      "source": [
        "# prompt: Write a Python program to train an SVM Classifier and a Naïve Bayes Classifier on the same dataset and\n",
        "# compare their accuracy\n",
        "\n",
        "from sklearn.model_selection import train_test_split\n",
        "from sklearn import svm\n",
        "from sklearn.naive_bayes import GaussianNB\n",
        "from sklearn import metrics\n",
        "from sklearn.datasets import load_iris\n",
        "\n",
        "# Load the Iris dataset\n",
        "iris = load_iris()\n",
        "X = iris.data\n",
        "y = iris.target\n",
        "\n",
        "# Split the dataset into training and testing sets\n",
        "X_train, X_test, y_train, y_test = train_test_split(X, y, test_size=0.3, random_state=42)\n",
        "\n",
        "# Train an SVM classifier\n",
        "svm_classifier = svm.SVC()\n",
        "svm_classifier.fit(X_train, y_train)\n",
        "svm_predictions = svm_classifier.predict(X_test)\n",
        "svm_accuracy = metrics.accuracy_score(y_test, svm_predictions)\n",
        "print(f\"SVM Accuracy: {svm_accuracy}\")\n",
        "\n",
        "# Train a Gaussian Naive Bayes classifier\n",
        "nb_classifier = GaussianNB()\n",
        "nb_classifier.fit(X_train, y_train)\n",
        "nb_predictions = nb_classifier.predict(X_test)\n",
        "nb_accuracy = metrics.accuracy_score(y_test, nb_predictions)\n",
        "print(f\"Naive Bayes Accuracy: {nb_accuracy}\")\n",
        "\n",
        "# Compare the accuracies\n",
        "if svm_accuracy > nb_accuracy:\n",
        "    print(\"SVM classifier performs better.\")\n",
        "elif nb_accuracy > svm_accuracy:\n",
        "    print(\"Naive Bayes classifier performs better.\")\n",
        "else:\n",
        "    print(\"Both classifiers perform equally.\")\n"
      ]
    },
    {
      "cell_type": "markdown",
      "metadata": {
        "id": "qG4Fr1pJ-VOv"
      },
      "source": [
        "Q35. Write a Python program to perform feature selection before training a Naïve Bayes classifier and compare\n",
        "results."
      ]
    },
    {
      "cell_type": "code",
      "execution_count": null,
      "metadata": {
        "colab": {
          "base_uri": "https://localhost:8080/"
        },
        "id": "JsN_2-o2-VX5",
        "outputId": "0f2af2ec-fb45-4b0f-d6f5-48cf67fffe7c"
      },
      "outputs": [
        {
          "name": "stdout",
          "output_type": "stream",
          "text": [
            "Naive Bayes Accuracy (no feature selection): 0.9777777777777777\n",
            "Naive Bayes Accuracy (with feature selection): 1.0\n",
            "Feature selection improved the accuracy of the Naive Bayes classifier.\n"
          ]
        }
      ],
      "source": [
        "# prompt: Write a Python program to perform feature selection before training a Naïve Bayes classifier and compare\n",
        "# results\n",
        "\n",
        "from sklearn.feature_selection import SelectKBest, chi2\n",
        "from sklearn.naive_bayes import GaussianNB\n",
        "\n",
        "# Load the Iris dataset\n",
        "iris = load_iris()\n",
        "X = iris.data\n",
        "y = iris.target\n",
        "\n",
        "# Split the dataset into training and testing sets\n",
        "X_train, X_test, y_train, y_test = train_test_split(X, y, test_size=0.3, random_state=42)\n",
        "\n",
        "# Train a Gaussian Naive Bayes classifier without feature selection\n",
        "nb_classifier_no_fs = GaussianNB()\n",
        "nb_classifier_no_fs.fit(X_train, y_train)\n",
        "nb_predictions_no_fs = nb_classifier_no_fs.predict(X_test)\n",
        "nb_accuracy_no_fs = metrics.accuracy_score(y_test, nb_predictions_no_fs)\n",
        "print(f\"Naive Bayes Accuracy (no feature selection): {nb_accuracy_no_fs}\")\n",
        "\n",
        "# Perform feature selection using SelectKBest and chi2\n",
        "selector = SelectKBest(chi2, k=2) # Select top 2 features\n",
        "X_train_selected = selector.fit_transform(X_train, y_train)\n",
        "X_test_selected = selector.transform(X_test)\n",
        "\n",
        "# Train a Gaussian Naive Bayes classifier with feature selection\n",
        "nb_classifier_fs = GaussianNB()\n",
        "nb_classifier_fs.fit(X_train_selected, y_train)\n",
        "nb_predictions_fs = nb_classifier_fs.predict(X_test_selected)\n",
        "nb_accuracy_fs = metrics.accuracy_score(y_test, nb_predictions_fs)\n",
        "print(f\"Naive Bayes Accuracy (with feature selection): {nb_accuracy_fs}\")\n",
        "\n",
        "# Compare the accuracies\n",
        "if nb_accuracy_fs > nb_accuracy_no_fs:\n",
        "    print(\"Feature selection improved the accuracy of the Naive Bayes classifier.\")\n",
        "elif nb_accuracy_no_fs > nb_accuracy_fs:\n",
        "    print(\"Feature selection decreased the accuracy of the Naive Bayes classifier.\")\n",
        "else:\n",
        "    print(\"Feature selection did not affect the accuracy of the Naive Bayes classifier.\")\n"
      ]
    },
    {
      "cell_type": "markdown",
      "metadata": {
        "id": "zP88Se2cEfha"
      },
      "source": [
        "Q36. Write a Python program to train an SVM Classifier using One-vs-Rest (OvR) and One-vs-One (OvO)\n",
        "strategies on the Wine dataset and compare their accuracy"
      ]
    },
    {
      "cell_type": "code",
      "execution_count": null,
      "metadata": {
        "colab": {
          "base_uri": "https://localhost:8080/"
        },
        "id": "UcS-6rYXEfr7",
        "outputId": "c581142b-2ac0-46d7-c2bf-bed453e0903a"
      },
      "outputs": [
        {
          "name": "stdout",
          "output_type": "stream",
          "text": [
            "One-vs-Rest Accuracy: 0.9814814814814815\n",
            "One-vs-One Accuracy: 0.9814814814814815\n",
            "Both classifiers perform equally.\n"
          ]
        }
      ],
      "source": [
        "# prompt: Write a Python program to train an SVM Classifier using One-vs-Rest (OvR) and One-vs-One (OvO)\n",
        "# strategies on the Wine dataset and compare their accuracy\n",
        "\n",
        "from sklearn import datasets\n",
        "from sklearn.model_selection import train_test_split\n",
        "from sklearn.svm import SVC\n",
        "from sklearn.multiclass import OneVsRestClassifier, OneVsOneClassifier\n",
        "from sklearn.metrics import accuracy_score\n",
        "\n",
        "# Load the Wine dataset\n",
        "wine = datasets.load_wine()\n",
        "X, y = wine.data, wine.target\n",
        "\n",
        "# Split data into training and testing sets\n",
        "X_train, X_test, y_train, y_test = train_test_split(X, y, test_size=0.3, random_state=42)\n",
        "\n",
        "# Train an SVM classifier using One-vs-Rest (OvR)\n",
        "ovr_classifier = OneVsRestClassifier(SVC(kernel='linear'))\n",
        "ovr_classifier.fit(X_train, y_train)\n",
        "ovr_predictions = ovr_classifier.predict(X_test)\n",
        "ovr_accuracy = accuracy_score(y_test, ovr_predictions)\n",
        "print(f\"One-vs-Rest Accuracy: {ovr_accuracy}\")\n",
        "\n",
        "# Train an SVM classifier using One-vs-One (OvO)\n",
        "ovo_classifier = OneVsOneClassifier(SVC(kernel='linear'))\n",
        "ovo_classifier.fit(X_train, y_train)\n",
        "ovo_predictions = ovo_classifier.predict(X_test)\n",
        "ovo_accuracy = accuracy_score(y_test, ovo_predictions)\n",
        "print(f\"One-vs-One Accuracy: {ovo_accuracy}\")\n",
        "\n",
        "# Compare the accuracies\n",
        "if ovr_accuracy > ovo_accuracy:\n",
        "    print(\"One-vs-Rest classifier performs better.\")\n",
        "elif ovo_accuracy > ovr_accuracy:\n",
        "    print(\"One-vs-One classifier performs better.\")\n",
        "else:\n",
        "    print(\"Both classifiers perform equally.\")\n"
      ]
    },
    {
      "cell_type": "markdown",
      "metadata": {
        "id": "TU1TA8-xEf7K"
      },
      "source": [
        "Q37. Write a Python program to train an SVM Classifier using Linear, Polynomial, and RBF kernels on the Breast\n",
        "Cancer dataset and compare their accuracy."
      ]
    },
    {
      "cell_type": "code",
      "execution_count": null,
      "metadata": {
        "colab": {
          "base_uri": "https://localhost:8080/"
        },
        "id": "yI5cfu6BEgGK",
        "outputId": "71288cdb-c858-4129-ea03-734d57658ba4"
      },
      "outputs": [
        {
          "name": "stdout",
          "output_type": "stream",
          "text": [
            "Linear Kernel Accuracy: 0.9649122807017544\n",
            "Polynomial Kernel Accuracy: 0.9415204678362573\n",
            "RBF Kernel Accuracy: 0.935672514619883\n",
            "\n",
            "Accuracy Comparison:\n",
            "Linear kernel performs best.\n"
          ]
        }
      ],
      "source": [
        "# prompt: Write a Python program to train an SVM Classifier using Linear, Polynomial, and RBF kernels on the Breast\n",
        "# Cancer dataset and compare their accuracy\n",
        "\n",
        "from sklearn import datasets\n",
        "from sklearn.model_selection import train_test_split\n",
        "from sklearn import svm\n",
        "from sklearn import metrics\n",
        "from sklearn.svm import SVC\n",
        "from sklearn.multiclass import OneVsRestClassifier, OneVsOneClassifier\n",
        "\n",
        "# Load the Breast Cancer dataset\n",
        "cancer = datasets.load_breast_cancer()\n",
        "X, y = cancer.data, cancer.target\n",
        "\n",
        "# Split data into training and testing sets\n",
        "X_train, X_test, y_train, y_test = train_test_split(X, y, test_size=0.3, random_state=42)\n",
        "\n",
        "# Train SVM with Linear Kernel\n",
        "linear_svm = svm.SVC(kernel='linear')\n",
        "linear_svm.fit(X_train, y_train)\n",
        "linear_predictions = linear_svm.predict(X_test)\n",
        "linear_accuracy = metrics.accuracy_score(y_test, linear_predictions)\n",
        "print(f\"Linear Kernel Accuracy: {linear_accuracy}\")\n",
        "\n",
        "# Train SVM with Polynomial Kernel\n",
        "poly_svm = svm.SVC(kernel='poly', degree=3) # You can adjust the degree\n",
        "poly_svm.fit(X_train, y_train)\n",
        "poly_predictions = poly_svm.predict(X_test)\n",
        "poly_accuracy = metrics.accuracy_score(y_test, poly_predictions)\n",
        "print(f\"Polynomial Kernel Accuracy: {poly_accuracy}\")\n",
        "\n",
        "# Train SVM with RBF Kernel\n",
        "rbf_svm = svm.SVC(kernel='rbf')\n",
        "rbf_svm.fit(X_train, y_train)\n",
        "rbf_predictions = rbf_svm.predict(X_test)\n",
        "rbf_accuracy = metrics.accuracy_score(y_test, rbf_predictions)\n",
        "print(f\"RBF Kernel Accuracy: {rbf_accuracy}\")\n",
        "\n",
        "# Compare the accuracies\n",
        "print(\"\\nAccuracy Comparison:\")\n",
        "if linear_accuracy > poly_accuracy and linear_accuracy > rbf_accuracy:\n",
        "  print(\"Linear kernel performs best.\")\n",
        "elif poly_accuracy > linear_accuracy and poly_accuracy > rbf_accuracy:\n",
        "  print(\"Polynomial kernel performs best.\")\n",
        "elif rbf_accuracy > linear_accuracy and rbf_accuracy > poly_accuracy:\n",
        "  print(\"RBF kernel performs best.\")\n",
        "else:\n",
        "  print(\"Multiple kernels have similar performance.\")\n"
      ]
    },
    {
      "cell_type": "markdown",
      "metadata": {
        "id": "cCa2UZTVEgSj"
      },
      "source": [
        "Q38. Write a Python program to train an SVM Classifier using Stratified K-Fold Cross-Validation and compute the\n",
        "average accuracy."
      ]
    },
    {
      "cell_type": "code",
      "execution_count": null,
      "metadata": {
        "colab": {
          "base_uri": "https://localhost:8080/"
        },
        "id": "BTYjLys1Egby",
        "outputId": "c90951bc-edf5-427f-cc48-38488302c870"
      },
      "outputs": [
        {
          "name": "stdout",
          "output_type": "stream",
          "text": [
            "Average accuracy across all folds: 0.9866666666666667\n"
          ]
        }
      ],
      "source": [
        "# prompt: Write a Python program to train an SVM Classifier using Stratified K-Fold Cross-Validation and compute the\n",
        "# average accuracy\n",
        "\n",
        "import numpy as np\n",
        "from sklearn.model_selection import StratifiedKFold\n",
        "from sklearn.svm import SVC\n",
        "\n",
        "# Load the Iris dataset (or your own dataset)\n",
        "iris = load_iris()\n",
        "X = iris.data\n",
        "y = iris.target\n",
        "\n",
        "# Initialize the SVM classifier\n",
        "svm_classifier = SVC(kernel='linear') # Choose your desired kernel\n",
        "\n",
        "# Initialize StratifiedKFold\n",
        "skf = StratifiedKFold(n_splits=5, shuffle=True, random_state=42) # Adjust n_splits as needed\n",
        "\n",
        "# Initialize an array to store accuracy scores for each fold\n",
        "accuracy_scores = []\n",
        "\n",
        "# Perform stratified k-fold cross-validation\n",
        "for train_index, test_index in skf.split(X, y):\n",
        "    X_train, X_test = X[train_index], X[test_index]\n",
        "    y_train, y_test = y[train_index], y[test_index]\n",
        "\n",
        "    # Train the classifier on the training data\n",
        "    svm_classifier.fit(X_train, y_train)\n",
        "\n",
        "    # Make predictions on the test data\n",
        "    y_pred = svm_classifier.predict(X_test)\n",
        "\n",
        "    # Calculate the accuracy for the current fold\n",
        "    accuracy = accuracy_score(y_test, y_pred)\n",
        "    accuracy_scores.append(accuracy)\n",
        "\n",
        "# Calculate the average accuracy across all folds\n",
        "average_accuracy = np.mean(accuracy_scores)\n",
        "print(f\"Average accuracy across all folds: {average_accuracy}\")\n"
      ]
    },
    {
      "cell_type": "markdown",
      "metadata": {
        "id": "wcy5ify6E2QI"
      },
      "source": [
        "Q39. Write a Python program to train a Naïve Bayes classifier using different prior probabilities and compare\n",
        "performance."
      ]
    },
    {
      "cell_type": "code",
      "execution_count": null,
      "metadata": {
        "colab": {
          "base_uri": "https://localhost:8080/"
        },
        "id": "xCvaWe7FE2a4",
        "outputId": "22bc7c36-1e63-48bf-9e51-122beb076eda"
      },
      "outputs": [
        {
          "name": "stdout",
          "output_type": "stream",
          "text": [
            "Accuracy with Prior 1: 1.0\n",
            "Accuracy with Prior 2: 1.0\n",
            "Accuracy with Prior 3: 0.9555555555555556\n",
            "\n",
            "Best Performing Prior: Prior 1 with accuracy: 1.0\n"
          ]
        }
      ],
      "source": [
        "# prompt: Write a Python program to train a Naïve Bayes classifier using different prior probabilities and compare\n",
        "# performance\n",
        "\n",
        "from sklearn.naive_bayes import GaussianNB\n",
        "from sklearn.model_selection import train_test_split\n",
        "from sklearn.datasets import load_iris\n",
        "from sklearn.metrics import accuracy_score\n",
        "import numpy as np\n",
        "\n",
        "# Load the Iris dataset\n",
        "iris = load_iris()\n",
        "X = iris.data\n",
        "y = iris.target\n",
        "\n",
        "# Split data into training and testing sets\n",
        "X_train, X_test, y_train, y_test = train_test_split(X, y, test_size=0.3, random_state=42)\n",
        "\n",
        "# Define different prior probabilities\n",
        "prior_probabilities = [\n",
        "    [0.5, 0.3, 0.2],  # Example 1\n",
        "    [0.2, 0.5, 0.3],  # Example 2\n",
        "    [0.3, 0.2, 0.5],  # Example 3\n",
        "    # Add more prior probability distributions as needed\n",
        "]\n",
        "\n",
        "# Train and evaluate the classifier for each prior probability\n",
        "results = {}\n",
        "for i, priors in enumerate(prior_probabilities):\n",
        "    nb_classifier = GaussianNB(priors=priors)\n",
        "    nb_classifier.fit(X_train, y_train)\n",
        "    y_pred = nb_classifier.predict(X_test)\n",
        "    accuracy = accuracy_score(y_test, y_pred)\n",
        "    results[f\"Prior {i+1}\"] = accuracy\n",
        "    print(f\"Accuracy with Prior {i+1}: {accuracy}\")\n",
        "\n",
        "# Compare the results\n",
        "best_prior = max(results, key=results.get)\n",
        "print(f\"\\nBest Performing Prior: {best_prior} with accuracy: {results[best_prior]}\")\n"
      ]
    },
    {
      "cell_type": "markdown",
      "metadata": {
        "id": "SD5zBMYLE2jJ"
      },
      "source": [
        "Q40. Write a Python program to perform Recursive Feature Elimination (RFE) before training an SVM Classifier and\n",
        "compare accuracy."
      ]
    },
    {
      "cell_type": "code",
      "execution_count": null,
      "metadata": {
        "colab": {
          "base_uri": "https://localhost:8080/"
        },
        "id": "pwsHS6ppE2sw",
        "outputId": "f9f06634-a56c-4ef7-a801-765ae4908866"
      },
      "outputs": [
        {
          "name": "stdout",
          "output_type": "stream",
          "text": [
            "Accuracy with RFE: 1.0\n",
            "Accuracy without RFE: 1.0\n",
            "RFE did not affect the accuracy of the SVM classifier.\n"
          ]
        }
      ],
      "source": [
        "# prompt: Write a Python program to perform Recursive Feature Elimination (RFE) before training an SVM Classifier and\n",
        "# compare accuracy\n",
        "\n",
        "from sklearn.feature_selection import RFE\n",
        "\n",
        "# Load the Iris dataset (or your own dataset)\n",
        "iris = load_iris()\n",
        "X = iris.data\n",
        "y = iris.target\n",
        "\n",
        "# Split data into training and testing sets\n",
        "X_train, X_test, y_train, y_test = train_test_split(X, y, test_size=0.3, random_state=42)\n",
        "\n",
        "# Initialize the SVM classifier\n",
        "svm_classifier = SVC(kernel='linear') # Choose your desired kernel\n",
        "\n",
        "# Perform RFE\n",
        "rfe = RFE(estimator=svm_classifier, n_features_to_select=2) # Select top 2 features\n",
        "X_train_rfe = rfe.fit_transform(X_train, y_train)\n",
        "X_test_rfe = rfe.transform(X_test)\n",
        "\n",
        "\n",
        "# Train the classifier with RFE\n",
        "svm_classifier_rfe = SVC(kernel='linear')\n",
        "svm_classifier_rfe.fit(X_train_rfe,y_train)\n",
        "y_pred_rfe = svm_classifier_rfe.predict(X_test_rfe)\n",
        "accuracy_rfe = accuracy_score(y_test, y_pred_rfe)\n",
        "\n",
        "print(f\"Accuracy with RFE: {accuracy_rfe}\")\n",
        "\n",
        "# Train the classifier without RFE for comparison\n",
        "svm_classifier_no_rfe = SVC(kernel='linear')\n",
        "svm_classifier_no_rfe.fit(X_train,y_train)\n",
        "y_pred_no_rfe = svm_classifier_no_rfe.predict(X_test)\n",
        "accuracy_no_rfe = accuracy_score(y_test, y_pred_no_rfe)\n",
        "\n",
        "print(f\"Accuracy without RFE: {accuracy_no_rfe}\")\n",
        "\n",
        "# Compare the accuracies\n",
        "if accuracy_rfe > accuracy_no_rfe:\n",
        "    print(\"RFE improved the accuracy of the SVM classifier.\")\n",
        "elif accuracy_no_rfe > accuracy_rfe:\n",
        "    print(\"RFE decreased the accuracy of the SVM classifier.\")\n",
        "else:\n",
        "    print(\"RFE did not affect the accuracy of the SVM classifier.\")\n"
      ]
    },
    {
      "cell_type": "markdown",
      "metadata": {
        "id": "0gaKQeVRE23Y"
      },
      "source": [
        "Q41. Write a Python program to train an SVM Classifier and evaluate its performance using Precision, Recall, and\n",
        "F1-Score instead of accuracy."
      ]
    },
    {
      "cell_type": "code",
      "execution_count": null,
      "metadata": {
        "colab": {
          "base_uri": "https://localhost:8080/"
        },
        "id": "VsKlJzOjE3Cg",
        "outputId": "a6198005-c650-47f7-cd1d-73e780eef182"
      },
      "outputs": [
        {
          "name": "stdout",
          "output_type": "stream",
          "text": [
            "              precision    recall  f1-score   support\n",
            "\n",
            "           0       1.00      1.00      1.00        10\n",
            "           1       1.00      1.00      1.00         9\n",
            "           2       1.00      1.00      1.00        11\n",
            "\n",
            "    accuracy                           1.00        30\n",
            "   macro avg       1.00      1.00      1.00        30\n",
            "weighted avg       1.00      1.00      1.00        30\n",
            "\n"
          ]
        }
      ],
      "source": [
        "# prompt: Write a Python program to train an SVM Classifier and evaluate its performance using Precision, Recall, and\n",
        "# F1-Score instead of accuracy\n",
        "\n",
        "from sklearn import datasets\n",
        "from sklearn.model_selection import train_test_split\n",
        "from sklearn import svm\n",
        "from sklearn import metrics\n",
        "from sklearn.metrics import classification_report\n",
        "\n",
        "# Load the Iris dataset\n",
        "iris = datasets.load_iris()\n",
        "X = iris.data\n",
        "y = iris.target\n",
        "\n",
        "# Split the dataset into a training set and a test set\n",
        "X_train, X_test, y_train, y_test = train_test_split(X, y, test_size=0.2, random_state=42)\n",
        "\n",
        "# Train an SVM Classifier\n",
        "svm_classifier = svm.SVC()\n",
        "svm_classifier.fit(X_train, y_train)\n",
        "\n",
        "# Make predictions on the test set\n",
        "y_pred = svm_classifier.predict(X_test)\n",
        "\n",
        "# Evaluate the performance using Precision, Recall, and F1-Score\n",
        "print(classification_report(y_test, y_pred))\n"
      ]
    },
    {
      "cell_type": "markdown",
      "metadata": {
        "id": "4kbpXJbJE3Lo"
      },
      "source": [
        "Q42. Write a Python program to train a Naïve Bayes Classifier and evaluate its performance using Log Loss\n",
        "(Cross-Entropy Loss)."
      ]
    },
    {
      "cell_type": "code",
      "execution_count": null,
      "metadata": {
        "colab": {
          "base_uri": "https://localhost:8080/"
        },
        "id": "IMWpTpisE3VQ",
        "outputId": "ff670a02-2f5a-451c-b60c-281102e06da3"
      },
      "outputs": [
        {
          "name": "stdout",
          "output_type": "stream",
          "text": [
            "Log Loss (Cross-Entropy Loss): 0.02625269787231065\n"
          ]
        }
      ],
      "source": [
        "# prompt: Write a Python program to train a Naïve Bayes Classifier and evaluate its performance using Log Loss\n",
        "# (Cross-Entropy Loss)\n",
        "\n",
        "from sklearn.metrics import log_loss\n",
        "\n",
        "# Load the Iris dataset\n",
        "iris = datasets.load_iris()\n",
        "X = iris.data\n",
        "y = iris.target\n",
        "\n",
        "# Split the dataset into a training set and a test set\n",
        "X_train, X_test, y_train, y_test = train_test_split(X, y, test_size=0.2, random_state=42)\n",
        "\n",
        "# Train a Gaussian Naive Bayes classifier\n",
        "nb_classifier = GaussianNB()\n",
        "nb_classifier.fit(X_train, y_train)\n",
        "\n",
        "# Make probability predictions on the test set\n",
        "y_pred_proba = nb_classifier.predict_proba(X_test)\n",
        "\n",
        "# Calculate the log loss\n",
        "logloss = log_loss(y_test, y_pred_proba)\n",
        "print(f\"Log Loss (Cross-Entropy Loss): {logloss}\")\n"
      ]
    },
    {
      "cell_type": "markdown",
      "metadata": {
        "id": "-DZxjM47E3eh"
      },
      "source": [
        "Q43. Write a Python program to train an SVM Classifier and visualize the Confusion Matrix using seaborn."
      ]
    },
    {
      "cell_type": "code",
      "execution_count": null,
      "metadata": {
        "colab": {
          "base_uri": "https://localhost:8080/",
          "height": 564
        },
        "id": "f7QTFGVaE3nY",
        "outputId": "70c472b8-d3a0-4245-ebff-f7f8ed3fcc58"
      },
      "outputs": [
        {
          "data": {
            "image/png": "[encoded data removed]",
            "text/plain": [
              "<Figure size 800x600 with 2 Axes>"
            ]
          },
          "metadata": {},
          "output_type": "display_data"
        }
      ],
      "source": [
        "# prompt: Write a Python program to train an SVM Classifier and visualize the Confusion Matrix using seaborn=\n",
        "\n",
        "import seaborn as sns\n",
        "import matplotlib.pyplot as plt\n",
        "\n",
        "# Assuming you have already trained your SVM classifier and have y_test and y_pred\n",
        "\n",
        "# Calculate the confusion matrix\n",
        "cm = confusion_matrix(y_test, y_pred)\n",
        "\n",
        "# Visualize the confusion matrix using seaborn\n",
        "plt.figure(figsize=(8, 6))\n",
        "sns.heatmap(cm, annot=True, fmt=\"d\", cmap=\"Blues\",\n",
        "            xticklabels=iris.target_names, yticklabels=iris.target_names)\n",
        "plt.xlabel(\"Predicted\")\n",
        "plt.ylabel(\"Actual\")\n",
        "plt.title(\"Confusion Matrix\")\n",
        "plt.show()\n"
      ]
    },
    {
      "cell_type": "markdown",
      "metadata": {
        "id": "1q53gUZoE3wh"
      },
      "source": [
        "Q44. Write a Python program to train an SVM Regressor (SVR) and evaluate its performance using Mean Absolute\n",
        "Error (MAE) instead of MSE."
      ]
    },
    {
      "cell_type": "code",
      "execution_count": null,
      "metadata": {
        "colab": {
          "background_save": true
        },
        "id": "x4oCcUpzE34b",
        "outputId": "07dd1be2-b377-4acd-8c67-4b28f2292b39"
      },
      "outputs": [
        {
          "name": "stdout",
          "output_type": "stream",
          "text": [
            "Mean Absolute Error: 0.8238534313202062\n"
          ]
        }
      ],
      "source": [
        "# prompt: Write a Python program to train an SVM Regressor (SVR) and evaluate its performance using Mean Absolute\n",
        "# Error (MAE) instead of MSE\n",
        "\n",
        "from sklearn.svm import SVR\n",
        "from sklearn.metrics import mean_absolute_error\n",
        "from sklearn.model_selection import train_test_split\n",
        "from sklearn import datasets\n",
        "#Instead of load_boston, using fetch_california_housing to load the california housing dataset.\n",
        "from sklearn.datasets import fetch_california_housing\n",
        "\n",
        "\n",
        "# Load a regression dataset (replace with your dataset)\n",
        "#boston = datasets.load_boston()\n",
        "housing = fetch_california_housing()\n",
        "X, y = housing.data, housing.target\n",
        "\n",
        "\n",
        "# Split data into training and testing sets\n",
        "X_train, X_test, y_train, y_test = train_test_split(X, y, test_size=0.2, random_state=42)\n",
        "\n",
        "# Initialize and train the SVR model\n",
        "svr_model = SVR(kernel='linear') # You can experiment with different kernels\n",
        "svr_model.fit(X_train, y_train)\n",
        "\n",
        "# Make predictions on the test set\n",
        "y_pred = svr_model.predict(X_test)\n",
        "\n",
        "# Evaluate the model using Mean Absolute Error (MAE)\n",
        "mae = mean_absolute_error(y_test, y_pred)\n",
        "print(f\"Mean Absolute Error: {mae}\")\n"
      ]
    },
    {
      "cell_type": "markdown",
      "metadata": {
        "id": "y_ZAc0kwFhwP"
      },
      "source": [
        "Q45. Write a Python program to train a Naïve Bayes classifier and evaluate its performance using the ROC-AUC\n",
        "score."
      ]
    },
    {
      "cell_type": "code",
      "execution_count": null,
      "metadata": {
        "colab": {
          "base_uri": "https://localhost:8080/"
        },
        "id": "hmX9p39NFh9a",
        "outputId": "f986d805-280c-4f66-80f8-13bdf1dde8d7"
      },
      "outputs": [
        {
          "output_type": "stream",
          "name": "stdout",
          "text": [
            "Accuracy: 0.82\n",
            "ROC-AUC Score: 0.8627862786278626\n",
            "Classification Report:\n",
            "              precision    recall  f1-score   support\n",
            "\n",
            "           0       0.88      0.74      0.80        99\n",
            "           1       0.78      0.90      0.83       101\n",
            "\n",
            "    accuracy                           0.82       200\n",
            "   macro avg       0.83      0.82      0.82       200\n",
            "weighted avg       0.83      0.82      0.82       200\n",
            "\n",
            "Confusion Matrix:\n",
            "[[73 26]\n",
            " [10 91]]\n"
          ]
        }
      ],
      "source": [
        "# Import necessary libraries\n",
        "from sklearn.datasets import make_classification\n",
        "from sklearn.model_selection import train_test_split\n",
        "from sklearn.naive_bayes import GaussianNB\n",
        "from sklearn.metrics import roc_auc_score, accuracy_score, classification_report, confusion_matrix\n",
        "import numpy as np\n",
        "\n",
        "# Generate a random binary classification dataset\n",
        "X, y = make_classification(n_samples=1000, n_features=10, n_informative=5, n_redundant=3, n_repeated=2, n_classes=2, random_state=42)\n",
        "\n",
        "# Split the dataset into a training set and a test set\n",
        "X_train, X_test, y_train, y_test = train_test_split(X, y, test_size=0.2, random_state=42)\n",
        "\n",
        "# Train a Naïve Bayes classifier\n",
        "nb_classifier = GaussianNB()\n",
        "nb_classifier.fit(X_train, y_train)\n",
        "\n",
        "# Make predictions on the test data\n",
        "y_pred = nb_classifier.predict(X_test)\n",
        "y_pred_proba = nb_classifier.predict_proba(X_test)[:, 1]\n",
        "\n",
        "# Evaluate the accuracy of the classifier\n",
        "accuracy = accuracy_score(y_test, y_pred)\n",
        "print(\"Accuracy:\", accuracy)\n",
        "\n",
        "# Evaluate the ROC-AUC score of the classifier\n",
        "roc_auc = roc_auc_score(y_test, y_pred_proba)\n",
        "print(\"ROC-AUC Score:\", roc_auc)\n",
        "\n",
        "# Print the classification report\n",
        "print(\"Classification Report:\")\n",
        "print(classification_report(y_test, y_pred))\n",
        "\n",
        "# Print the confusion matrix\n",
        "print(\"Confusion Matrix:\")\n",
        "print(confusion_matrix(y_test, y_pred))"
      ]
    },
    {
      "cell_type": "markdown",
      "metadata": {
        "id": "P-IZWrv9FikR"
      },
      "source": [
        "Q46. Write a Python program to train an SVM Classifier and visualize the Precision-Recall Curve."
      ]
    },
    {
      "cell_type": "code",
      "execution_count": null,
      "metadata": {
        "id": "sA3HYDzlFi0H",
        "colab": {
          "base_uri": "https://localhost:8080/",
          "height": 509
        },
        "outputId": "235d075d-b677-4c61-a4f9-e297bb1a574a"
      },
      "outputs": [
        {
          "output_type": "stream",
          "name": "stdout",
          "text": [
            "Mean Squared Error: 1.3320115421348744\n",
            "R-squared: -0.01648536010717372\n"
          ]
        },
        {
          "output_type": "display_data",
          "data": {
            "text/plain": [
              "<Figure size 640x480 with 1 Axes>"
            ],
            "image/png": "[encoded data removed]"
          },
          "metadata": {}
        }
      ],
      "source": [
        "import matplotlib.pyplot as plt\n",
        "import numpy as np\n",
        "from sklearn.metrics import mean_squared_error, r2_score\n",
        "from sklearn.svm import SVR # Import SVR instead of SVC\n",
        "\n",
        "# Assuming you have X_test and y_test loaded\n",
        "\n",
        "# Train an SVM Regressor\n",
        "svm_regressor = SVR() # Create an SVR instance\n",
        "svm_regressor.fit(X_train, y_train) # Fit the regressor\n",
        "\n",
        "# Make predictions on the test data\n",
        "y_pred = svm_regressor.predict(X_test)\n",
        "\n",
        "# Evaluate the performance using regression metrics\n",
        "mse = mean_squared_error(y_test, y_pred)\n",
        "r2 = r2_score(y_test, y_pred)\n",
        "\n",
        "print(\"Mean Squared Error:\", mse)\n",
        "print(\"R-squared:\", r2)\n",
        "\n",
        "# Plot predicted vs. actual values\n",
        "plt.figure()\n",
        "plt.scatter(y_test, y_pred)\n",
        "plt.xlabel(\"Actual Values\")\n",
        "plt.ylabel(\"Predicted Values\")\n",
        "plt.title(\"SVM Regressor: Predicted vs. Actual\")\n",
        "plt.show()"
      ]
    }
  ],
  "metadata": {
    "colab": {
      "provenance": []
    },
    "kernelspec": {
      "display_name": "Python 3",
      "name": "python3"
    },
    "language_info": {
      "name": "python"
    }
  },
  "nbformat": 4,
  "nbformat_minor": 0
}