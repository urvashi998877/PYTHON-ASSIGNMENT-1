{
  "nbformat": 4,
  "nbformat_minor": 0,
  "metadata": {
    "colab": {
      "provenance": []
    },
    "kernelspec": {
      "name": "python3",
      "display_name": "Python 3"
    },
    "language_info": {
      "name": "python"
    }
  },
  "cells": [
    {
      "cell_type": "markdown",
      "source": [
        "#THEORETICAL QUESTIONS:\n",
        "\n",
        "\n",
        "\n"
      ],
      "metadata": {
        "id": "CLwuoOpeKZEq"
      }
    },
    {
      "cell_type": "markdown",
      "source": [
        "\n",
        "## 1. Explain the purpose and advantages of NumPy in scientific computing and data analysis. How does it  enhance Python's capabilities for numerical operations?\n",
        "\n",
        "\n",
        "NumPy is a powerful library in Python that enhances its capabilities for scientific computing and data analysis by providing efficient tools for handling and performing operations on large, multi-dimensional arrays and matrices. Here's a brief explanation of its purpose and advantages:\n",
        "\n",
        "#### Purpose of NumPy:\n",
        "\n",
        "- Efficient Array Handling: NumPy introduces the ndarray object, which is optimized for high-performance storage and manipulation of large datasets.\n",
        "- Numerical Operations: It provides a wide range of mathematical functions, such as linear algebra, statistical analysis, and element-wise operations on arrays, which are essential for scientific computing and data analysis.\n",
        "\n",
        "####Advantages of NumPy:\n",
        "\n",
        "- Performance: NumPy operations are vectorized, which means they are executed in C at a lower level, making them much faster than standard Python loops.\n",
        "- Memory Efficiency: NumPy arrays are stored in contiguous memory locations, reducing memory overhead compared to Python lists, which makes handling large datasets more efficient.\n",
        "- Multidimensional Arrays: NumPy supports N-dimensional arrays (e.g., matrices, tensors), which are crucial for complex computations in fields like machine learning, image processing, and physics simulations.\n",
        "- Broad Functionality: It provides functions for linear algebra, random number generation, Fourier transforms, and statistical analysis, all of which are commonly used in scientific applications.\n",
        "\n",
        "#### The NumPy Enhances Python’s Numerical Capabilities:\n",
        "\n",
        "Vectorization allows for fast, element-wise operations without the need for loops.\n",
        "Broadcasting makes it easy to perform operations on arrays of different shapes.\n",
        "It integrates well with other scientific libraries like SciPy, Pandas, and scikit-learn, enabling a comprehensive Python ecosystem for data analysis and scientific work.\n",
        "\n",
        "\n"
      ],
      "metadata": {
        "id": "viKBxSGZKKi-"
      }
    },
    {
      "cell_type": "markdown",
      "source": [
        "##2. Compare and contrast np.mean() and np.average() functions in NumPy. When would you use one over the other?\n",
        "\n",
        "np.mean() :. Purpose: Calculates the arithmetic mean of an array (i.e., the sum of the elements divided by the number of elements)\n",
        "- When to Use:When you want to compute the simple arithmetic mean (unweighted average) of the array.\n",
        "\n",
        "np.average():. Purpose: Calculates the weighted average of an array. If no weights are specified, it behaves similarly to np.mean().\n",
        "- When to Use: When we want to calculate a weighted average, where different values contribute more or less to the result based on their corresponding weights.\n",
        "When we need additional information like the sum of weights (via the returned argument)\n",
        "\n",
        "\n",
        "\n",
        "\n"
      ],
      "metadata": {
        "id": "gopJyYqzTU7u"
      }
    },
    {
      "cell_type": "code",
      "source": [
        "#Choose np.mean() for simple averages.\n",
        "\n",
        "#Choose np.average() for weighted averages.\n",
        "\n",
        "import numpy as np\n",
        "\n",
        "# Simple array\n",
        "data = np.array([1, 2, 3, 4, 5])\n",
        "\n",
        "# Using np.mean\n",
        "mean = np.mean(data)\n",
        "print(\"Mean:\", mean)\n",
        "\n",
        "# Using np.average (without weights)\n",
        "avg = np.average(data)\n",
        "print(\"Average:\", avg)\n",
        "\n",
        "# Using np.average (with weights)\n",
        "weights = np.array([0.1, 0.2, 0.3, 0.2, 0.2])\n",
        "weighted_avg = np.average(data, weights=weights)\n",
        "print(\"Weighted Average:\", weighted_avg)\n"
      ],
      "metadata": {
        "id": "eSNxMWvj1Ij3",
        "colab": {
          "base_uri": "https://localhost:8080/"
        },
        "outputId": "e63c0429-675a-4ea5-f17c-0d167bcebfa6"
      },
      "execution_count": null,
      "outputs": [
        {
          "output_type": "stream",
          "name": "stdout",
          "text": [
            "Mean: 3.0\n",
            "Average: 3.0\n",
            "Weighted Average: 3.2\n"
          ]
        }
      ]
    },
    {
      "cell_type": "markdown",
      "source": [
        "##3. Describe the methods for reversing a NumPy array along different axes. Provide examples for 1D and 2D arrays.\n",
        "\n",
        "- Reversing a 1D Array:\n",
        "Method 1: Using Slicing ([::-1]): For a 1D array, reversing is quite simple. We can use slicing reverse the array."
      ],
      "metadata": {
        "id": "fPJaB8HZGmnb"
      }
    },
    {
      "cell_type": "code",
      "source": [
        "arr_1d = np.array([1, 2, 3, 4, 5])\n",
        "\n",
        "# Reverse the 1D array using slicing\n",
        "reversed_1d = arr_1d[::-1]\n",
        "\n",
        "print(\"Reversed 1D array:\", reversed_1d)\n"
      ],
      "metadata": {
        "colab": {
          "base_uri": "https://localhost:8080/"
        },
        "id": "X0DBLG5QHJnv",
        "outputId": "13befd4b-41fe-4f4d-d930-58e38d187a03"
      },
      "execution_count": null,
      "outputs": [
        {
          "output_type": "stream",
          "name": "stdout",
          "text": [
            "Reversed 1D array: [5 4 3 2 1]\n"
          ]
        }
      ]
    },
    {
      "cell_type": "markdown",
      "source": [
        "Reversing a 2D Array : With 2D arrays, we can reverse them along rows (axis 0), along columns (axis 1), or both axes at the same time.\n",
        "\n",
        "- Reversing Along Rows (axis 0): Reversing along rows means flipping the array vertically.\n",
        "\n",
        "- Method 1: Using Slicing ([::-1, :]) :We can slice the array along the rows (axis 0) using the following:"
      ],
      "metadata": {
        "id": "JwKeUkuzHfve"
      }
    },
    {
      "cell_type": "code",
      "source": [
        "arr_2d = np.array([[1, 2, 3],\n",
        "                   [4, 5, 6],\n",
        "                   [7, 8, 9]])\n",
        "\n",
        "# Reverse along rows (axis 0)\n",
        "reversed_rows = arr_2d[::-1, :]\n",
        "\n",
        "print(\"Reversed along rows (axis 0):\\n\", reversed_rows)\n",
        "\n"
      ],
      "metadata": {
        "colab": {
          "base_uri": "https://localhost:8080/"
        },
        "id": "tIcqV5NzJAEB",
        "outputId": "1af178fd-c634-46c5-97e4-b83cebcd2c58"
      },
      "execution_count": null,
      "outputs": [
        {
          "output_type": "stream",
          "name": "stdout",
          "text": [
            "Reversed along rows (axis 0):\n",
            " [[7 8 9]\n",
            " [4 5 6]\n",
            " [1 2 3]]\n"
          ]
        }
      ]
    },
    {
      "cell_type": "markdown",
      "source": [
        "- Reversing Along Columns (axis 1): Reversing along columns means flipping the array horizontally.\n",
        "\n",
        "- Method 2: Using Slicing ([:, ::-1]): We can slice the array along the columns (axis 1) using the following:"
      ],
      "metadata": {
        "id": "uY5XAPblJQOA"
      }
    },
    {
      "cell_type": "code",
      "source": [
        "# Reverse along columns (axis 1)\n",
        "reversed_columns = arr_2d[:, ::-1]\n",
        "\n",
        "print(\"Reversed along columns (axis 1):\\n\", reversed_columns)\n"
      ],
      "metadata": {
        "colab": {
          "base_uri": "https://localhost:8080/"
        },
        "id": "YWM_VpqDJE0Q",
        "outputId": "21e990d3-5bd2-4f01-b574-ba3416d427df"
      },
      "execution_count": null,
      "outputs": [
        {
          "output_type": "stream",
          "name": "stdout",
          "text": [
            "Reversed along columns (axis 1):\n",
            " [[3 2 1]\n",
            " [6 5 4]\n",
            " [9 8 7]]\n"
          ]
        }
      ]
    },
    {
      "cell_type": "markdown",
      "source": [
        "- Reversing Along Both Axes (axis 0 and 1) : Reversing along both axes will flip the array both vertically and horizontally.\n",
        "\n",
        "- Method 3: Using Slicing ([::-1, ::-1]) : This reverses both rows and columns."
      ],
      "metadata": {
        "id": "h8WupEAgKmmd"
      }
    },
    {
      "cell_type": "code",
      "source": [
        "# Reverse along both axes (axis 0 and 1)\n",
        "reversed_both = arr_2d[::-1, ::-1]\n",
        "\n",
        "print(\"Reversed along both axes (axis 0 and 1):\\n\", reversed_both)\n"
      ],
      "metadata": {
        "colab": {
          "base_uri": "https://localhost:8080/"
        },
        "id": "OA0RJr6DK1rN",
        "outputId": "0eedbd4c-645d-49f9-97c7-32b73b168006"
      },
      "execution_count": null,
      "outputs": [
        {
          "output_type": "stream",
          "name": "stdout",
          "text": [
            "Reversed along both axes (axis 0 and 1):\n",
            " [[9 8 7]\n",
            " [6 5 4]\n",
            " [3 2 1]]\n"
          ]
        }
      ]
    },
    {
      "cell_type": "markdown",
      "source": [
        "##4. How can you determine the data type of elements in a NumPy array? Discuss the importance of data types in memory management and performance.\n",
        "\n",
        "\n",
        "\n",
        "#### We can determine the data type of elements in a NumPy array using the dtype attribute.This data type defines the kind of data stored in the array (e.g., integers, floats, complex numbers)."
      ],
      "metadata": {
        "id": "o0Di5Z9uLNQr"
      }
    },
    {
      "cell_type": "code",
      "source": [
        "# Create NumPy arrays with different data types\n",
        "arr_int = np.array([1, 2, 3, 4])\n",
        "arr_float = np.array([1.1, 2.2, 3.3, 4.4])\n",
        "arr_complex = np.array([1+2j, 2+3j, 3+4j])\n",
        "\n",
        "# Access the data type of each array\n",
        "print(\"Data type of arr_int:\", arr_int.dtype)\n",
        "print(\"Data type of arr_float:\", arr_float.dtype)\n",
        "print(\"Data type of arr_complex:\", arr_complex.dtype)\n"
      ],
      "metadata": {
        "colab": {
          "base_uri": "https://localhost:8080/"
        },
        "id": "Fy_y4wMFLSrj",
        "outputId": "b4919813-2f56-459b-b4f0-6c1d8924b71b"
      },
      "execution_count": null,
      "outputs": [
        {
          "output_type": "stream",
          "name": "stdout",
          "text": [
            "Data type of arr_int: int64\n",
            "Data type of arr_float: float64\n",
            "Data type of arr_complex: complex128\n"
          ]
        }
      ]
    },
    {
      "cell_type": "markdown",
      "source": [
        "#### Importance of Data Types in Memory Management: The data type of a NumPy array has a significant impact on its memory usage. Different data types require different amounts of memory. For example:\n",
        "\n",
        "- int8: 1 byte\n",
        "- int16: 2 bytes\n",
        "- int32: 4 bytes\n",
        "- int64: 8 bytes\n",
        "- float32: 4 bytes\n",
        "- float64: 8 bytes\n",
        "- complex128: 16 bytes\n",
        "\n",
        "####Explanation: Here, arr_int uses 16 bytes (4 elements * 4 bytes per int32), while arr_float uses 32 bytes (4 elements * 8 bytes per float64).\n",
        "Choosing a smaller data type (e.g., int8, float32) can save memory when the range of values is known to be small and precision requirements are lower."
      ],
      "metadata": {
        "id": "1Fc1VJXWQUs-"
      }
    },
    {
      "cell_type": "code",
      "source": [
        "arr_int = np.array([1, 2, 3, 4], dtype=np.int32)\n",
        "arr_float = np.array([1.1, 2.2, 3.3, 4.4], dtype=np.float64)\n",
        "\n",
        "print(\"Memory usage of arr_int:\", arr_int.nbytes)   # In bytes\n",
        "print(\"Memory usage of arr_float:\", arr_float.nbytes) # In bytes\n"
      ],
      "metadata": {
        "colab": {
          "base_uri": "https://localhost:8080/"
        },
        "id": "rAJvE10cQxgK",
        "outputId": "1fb567cc-5b42-4100-ce44-ec4b0bd3590a"
      },
      "execution_count": null,
      "outputs": [
        {
          "output_type": "stream",
          "name": "stdout",
          "text": [
            "Memory usage of arr_int: 16\n",
            "Memory usage of arr_float: 32\n"
          ]
        }
      ]
    },
    {
      "cell_type": "markdown",
      "source": [
        "####Impact of Data Types on Performance\n",
        "The data type also affects the performance of operations on NumPy arrays:\n",
        "\n",
        "1. Memory Access Speed:\n",
        "- Smaller data types (e.g., int8, float32) require less memory, leading to better cache utilization, which improves performance for large arrays.\n",
        "- Larger data types (e.g., float64, complex128) require more memory and can slow down operations, especially with large arrays, due to greater memory bandwidth consumption.\n",
        "2. Computational Speed:\n",
        "Operations involving smaller data types may be faster due to lower memory access and smaller data to process.\n",
        "For example, matrix multiplication with float32 data type can be faster than float64 because the former involves less data transfer between memory and CPU.\n",
        "- Explanation: Operations on float32 arrays are faster because they involve less memory usage and fewer bytes to process compared to float64 arrays."
      ],
      "metadata": {
        "id": "w6gQCoCqR-Jv"
      }
    },
    {
      "cell_type": "code",
      "source": [
        "import time\n",
        "\n",
        "# Create large arrays with different data types\n",
        "arr1 = np.random.rand(1000000).astype(np.float32)  # 1 million elements\n",
        "arr2 = np.random.rand(1000000).astype(np.float64)  # 1 million elements\n",
        "\n",
        "# Measure time for operations on float32\n",
        "start_time = time.time()\n",
        "arr1 + arr1  # Adding the array to itself\n",
        "print(\"Time taken for float32:\", time.time() - start_time)\n",
        "\n",
        "# Measure time for operations on float64\n",
        "start_time = time.time()\n",
        "arr2 + arr2  # Adding the array to itself\n",
        "print(\"Time taken for float64:\", time.time() - start_time)\n"
      ],
      "metadata": {
        "colab": {
          "base_uri": "https://localhost:8080/"
        },
        "id": "h5ltRlApSSCF",
        "outputId": "4d5d1680-bbce-4f14-e702-a48ebaf0bcda"
      },
      "execution_count": null,
      "outputs": [
        {
          "output_type": "stream",
          "name": "stdout",
          "text": [
            "Time taken for float32: 0.001528024673461914\n",
            "Time taken for float64: 0.0020563602447509766\n"
          ]
        }
      ]
    },
    {
      "cell_type": "markdown",
      "source": [
        " #### Choosing the Right dtype:\n",
        "- Use smaller types (int32, float32) for memory efficiency and speed when high precision isn't necessary.\n",
        "- Use larger types (float64, complex128) when higher precision is required, but they consume more memory and may slow down computations."
      ],
      "metadata": {
        "id": "lRx9AyvaTBcT"
      }
    },
    {
      "cell_type": "code",
      "source": [
        "# A large 2D array where memory usage is a concern\n",
        "arr_large = np.zeros((10000, 10000), dtype=np.float32)  # Using float32 to save memory\n",
        "\n",
        "# A high-precision calculation\n",
        "arr_precise = np.zeros((10000, 10000), dtype=np.float64)  # Using float64 for better precision\n"
      ],
      "metadata": {
        "id": "Mdrkeg19Sb4v"
      },
      "execution_count": null,
      "outputs": []
    },
    {
      "cell_type": "markdown",
      "source": [
        "##5. Define ndarrays in NumPy and explain their key features. How do they differ from standard Python lists?\n",
        "\n",
        "An ndarray (short for n-dimensional array) is the core data structure in NumPy that provides efficient, fast, and flexible ways to handle large datasets in n dimensions. It is a homogeneous array, meaning all elements must be of the same data type (e.g., integers, floats).\n",
        "\n",
        "- Key Features of ndarray in NumPy:\n",
        "\n",
        "1. Homogeneity: All elements in an ndarray must be of the same type (e.g., all integers or all floats).\n",
        "This allows NumPy to optimize storage and operations, making it more efficient than Python lists, which can store mixed data types.\n",
        "\n",
        "2. Multi-dimensional: Unlike Python lists (which are 1D by default), NumPy arrays can be n-dimensional, meaning they can represent data in 1D, 2D (matrices), 3D (tensors), and higher-dimensional arrays.\n",
        "The shape of the array (a tuple representing the dimensions) is an important feature of ndarray.\n",
        "\n",
        "3. Efficient Storage and Operations: NumPy arrays are stored contiguously in memory, making it efficient for large datasets. This allows for fast, vectorized operations on the entire array, which is not possible with Python lists.\n",
        "Element-wise operations (like addition, subtraction, etc.) can be done directly on NumPy arrays without the need for explicit loops.\n",
        "\n",
        "4. Element-wise Operations: NumPy supports vectorized operations, meaning that you can perform operations (like addition, multiplication) on entire arrays or subarrays without explicitly using loops. This makes the code more concise and improves performance.\n",
        "\n",
        "5. Broadcasting: Broadcasting is a powerful feature in NumPy that allows you to perform operations on arrays of different shapes. The smaller array is \"broadcast\" over the larger array so that they have compatible shapes.\n",
        "This allows operations on arrays of different dimensions without having to reshape or replicate data.\n",
        "\n",
        "6. Memory Efficiency: ndarrays are more memory efficient than Python lists because they store data in a fixed-size, contiguous block of memory. This means NumPy arrays use less memory and allow for faster access to the elements.\n",
        "\n",
        "7. Methods and Functions: NumPy provides a rich set of methods for ndarray objects (e.g., reshape(), transpose(), sum(), mean(), etc.) and allows you to perform operations on arrays efficiently. These methods are highly optimized for performance.\n",
        "\n",
        "8. Array Slicing and Indexing: We can slice and index NumPy arrays similarly to Python lists, but NumPy provides more powerful ways to do this, such as boolean indexing and fancy indexing, enabling efficient selection of subsets of data.\n",
        "\n",
        "\n"
      ],
      "metadata": {
        "id": "lCtcnFGzfCaf"
      }
    },
    {
      "cell_type": "code",
      "source": [
        "import numpy as np\n",
        "\n",
        "# Creating a 2D NumPy array\n",
        "arr = np.array([[1, 2, 3], [4, 5, 6]])\n",
        "print(arr)\n",
        "\n",
        "# Element-wise operations\n",
        "arr2 = arr * 2\n",
        "print(arr2)\n",
        "\n",
        "# Sum of elements\n",
        "print(np.sum(arr))\n"
      ],
      "metadata": {
        "colab": {
          "base_uri": "https://localhost:8080/"
        },
        "id": "qbwe9c-ThC_z",
        "outputId": "c6ec13f1-1608-44b2-a6be-9b445989678f"
      },
      "execution_count": null,
      "outputs": [
        {
          "output_type": "stream",
          "name": "stdout",
          "text": [
            "[[1 2 3]\n",
            " [4 5 6]]\n",
            "[[ 2  4  6]\n",
            " [ 8 10 12]]\n",
            "21\n"
          ]
        }
      ]
    },
    {
      "cell_type": "markdown",
      "source": [
        "## 6. Analyze the performance benefits of NumPy arrays over Python lists for large-scale numerical operations.\n",
        "\n",
        "Performance Benefits of NumPy Arrays Over Python Lists for Large-Scale Numerical Operations:\n",
        "1. Memory Efficiency: NumPy arrays are stored in contiguous memory blocks with a homogeneous data type, resulting in more compact storage and faster data access.\n",
        "Python lists store elements as pointers, leading to more memory overhead and slower access.\n",
        "\n",
        "2. Speed: NumPy supports vectorized operations, allowing element-wise operations to be performed in one operation at the C level, significantly faster than Python's loop-based approach.\n",
        "Python lists require explicit loops for element-wise operations, which is slower due to Python's interpreted nature.\n",
        "\n",
        "3. Broadcasting: NumPy supports broadcasting, allowing operations between arrays of different shapes without explicit reshaping, leading to cleaner code and better performance.\n",
        "Python lists lack broadcasting, requiring manual reshaping and more complex code.\n",
        "4. Parallelism and Optimized Libraries: NumPy leverages multi-threading and optimized libraries like BLAS and LAPACK, boosting performance for large datasets and complex computations.\n",
        "Python lists don’t have built-in parallelism or optimized numerical libraries.\n",
        "5. Scalability: NumPy efficiently handles large datasets, maintaining performance even as the data size grows.\n",
        "Python lists become slower and less memory-efficient for large-scale operations."
      ],
      "metadata": {
        "id": "29mBPEJev0il"
      }
    },
    {
      "cell_type": "code",
      "source": [
        "import numpy as np\n",
        "\n",
        "arr1 = np.random.rand(1000000)\n",
        "arr2 = np.random.rand(1000000)\n",
        "result = arr1 + arr2  # Vectorized operation\n"
      ],
      "metadata": {
        "id": "edUYUGgrxB6Y"
      },
      "execution_count": null,
      "outputs": []
    },
    {
      "cell_type": "code",
      "source": [
        "arr1 = [1] * 1000000\n",
        "arr2 = [2] * 1000000\n",
        "result = [arr1[i] + arr2[i] for i in range(len(arr1))]  # Manual iteration\n"
      ],
      "metadata": {
        "id": "FQWZJlOaxIRx"
      },
      "execution_count": null,
      "outputs": []
    },
    {
      "cell_type": "code",
      "source": [
        "import numpy as np\n",
        "import time\n",
        "\n",
        "# Create large arrays\n",
        "size = 10**7\n",
        "arr1_np = np.random.rand(size)\n",
        "arr2_np = np.random.rand(size)\n",
        "\n",
        "arr1_lst = list(np.random.rand(size))\n",
        "arr2_lst = list(np.random.rand(size))\n",
        "\n",
        "# NumPy operation\n",
        "start = time.time()\n",
        "result_np = arr1_np + arr2_np  # Vectorized operation\n",
        "end = time.time()\n",
        "print(f\"NumPy operation took {end - start:.6f} seconds.\")\n",
        "\n",
        "# Python list operation\n",
        "start = time.time()\n",
        "result_lst = [arr1_lst[i] + arr2_lst[i] for i in range(size)]  # Manual iteration\n",
        "end = time.time()\n",
        "print(f\"Python list operation took {end - start:.6f} seconds.\")\n"
      ],
      "metadata": {
        "colab": {
          "base_uri": "https://localhost:8080/"
        },
        "id": "iMZeOyOQxMpc",
        "outputId": "668fdb56-e1d5-4b0f-bcdc-bc3c38ed97e0"
      },
      "execution_count": null,
      "outputs": [
        {
          "output_type": "stream",
          "name": "stdout",
          "text": [
            "NumPy operation took 0.064672 seconds.\n",
            "Python list operation took 4.065828 seconds.\n"
          ]
        }
      ]
    },
    {
      "cell_type": "markdown",
      "source": [
        "## 7. Compare vstack() and hstack() functions in NumPy. Provide examples demonstrating their usage and output.\n",
        "\n",
        "In NumPy, vstack() and hstack() are used to stack arrays along different axes, but they differ in how they stack the arrays.\n",
        "\n",
        "vstack(): Stacks arrays vertically (along the first axis), meaning it joins arrays along rows.\n",
        "hstack(): Stacks arrays horizontally (along the second axis), meaning it joins arrays along columns.\n",
        "1. vstack() (Vertical Stack)\n",
        "Function: Stacks arrays along the rows (vertically). The number of columns must be the same for all arrays being stacked.\n",
        "2. hstack() (Horizontal Stack)\n",
        "Function: Stacks arrays along the columns (horizontally). The number of rows must be the same for all arrays being stacked."
      ],
      "metadata": {
        "id": "dnH_Bpb-xzRB"
      }
    },
    {
      "cell_type": "code",
      "source": [
        "import numpy as np\n",
        "\n",
        "# Define two 2D arrays\n",
        "array1 = np.array([[1, 2], [3, 4]])\n",
        "array2 = np.array([[5, 6], [7, 8]])\n",
        "\n",
        "# Stack arrays vertically\n",
        "stacked_v = np.vstack((array1, array2))\n",
        "\n",
        "print(stacked_v)\n"
      ],
      "metadata": {
        "colab": {
          "base_uri": "https://localhost:8080/"
        },
        "id": "rsO59fFzB2uM",
        "outputId": "44dfc1c1-eed5-4d9d-ce23-eff1cecc28ec"
      },
      "execution_count": null,
      "outputs": [
        {
          "output_type": "stream",
          "name": "stdout",
          "text": [
            "[[1 2]\n",
            " [3 4]\n",
            " [5 6]\n",
            " [7 8]]\n"
          ]
        }
      ]
    },
    {
      "cell_type": "code",
      "source": [
        "import numpy as np\n",
        "\n",
        "# Define two 2D arrays\n",
        "array1 = np.array([[1, 2], [3, 4]])\n",
        "array2 = np.array([[5, 6], [7, 8]])\n",
        "\n",
        "# Stack arrays horizontally\n",
        "stacked_h = np.hstack((array1, array2))\n",
        "\n",
        "print(stacked_h)\n"
      ],
      "metadata": {
        "colab": {
          "base_uri": "https://localhost:8080/"
        },
        "id": "Id5yrdcBB-gm",
        "outputId": "07cf0c91-8ce4-4f6f-ee17-590540de8a24"
      },
      "execution_count": null,
      "outputs": [
        {
          "output_type": "stream",
          "name": "stdout",
          "text": [
            "[[1 2 5 6]\n",
            " [3 4 7 8]]\n"
          ]
        }
      ]
    },
    {
      "cell_type": "markdown",
      "source": [
        "## 8. Explain the differences between fliplr() and flipud() methods in NumPy, including their effects on various array dimensions.\n",
        "\n",
        "In NumPy, the methods fliplr() and flipud() are used to flip arrays along different axes. These methods are designed to flip the contents of arrays either left-to-right or up-to-down, respectively, and are primarily used with 2D arrays, though they can work with other dimensions as well.\n",
        "\n",
        "1. fliplr() (Flip Left-Right)\n",
        "Function: Flips an array horizontally (i.e., along the left-right axis, the second axis of the array).\n",
        "Axis: Flips the contents of the array along axis 1 (columns).\n",
        "Effect: Reverses the order of elements along each row.\n",
        "\n",
        "\n"
      ],
      "metadata": {
        "id": "SdympBt4CGC_"
      }
    },
    {
      "cell_type": "code",
      "source": [
        "import numpy as np\n",
        "\n",
        "# Define a 2D array\n",
        "array = np.array([[1, 2, 3],\n",
        "                  [4, 5, 6],\n",
        "                  [7, 8, 9]])\n",
        "\n",
        "# Flip the array left-to-right\n",
        "flipped_lr = np.fliplr(array)\n",
        "\n",
        "print(flipped_lr)\n"
      ],
      "metadata": {
        "colab": {
          "base_uri": "https://localhost:8080/"
        },
        "id": "8qVo_RrFEcHC",
        "outputId": "152a2a5c-8c48-4205-a98b-5e2ed3127d4a"
      },
      "execution_count": null,
      "outputs": [
        {
          "output_type": "stream",
          "name": "stdout",
          "text": [
            "[[3 2 1]\n",
            " [6 5 4]\n",
            " [9 8 7]]\n"
          ]
        }
      ]
    },
    {
      "cell_type": "markdown",
      "source": [
        "2. flipud() (Flip Up-Down)\n",
        "Function: Flips an array vertically (i.e., along the up-down axis, the first axis of the array).\n",
        "Axis: Flips the contents of the array along axis 0 (rows).\n",
        "Effect: Reverses the order of rows in the array."
      ],
      "metadata": {
        "id": "604qXjjVEqMT"
      }
    },
    {
      "cell_type": "code",
      "source": [
        "# Define a 2D array\n",
        "array = np.array([[1, 2, 3],\n",
        "                  [4, 5, 6],\n",
        "                  [7, 8, 9]])\n",
        "\n",
        "# Flip the array up-to-down\n",
        "flipped_ud = np.flipud(array)\n",
        "\n",
        "print(flipped_ud)\n"
      ],
      "metadata": {
        "colab": {
          "base_uri": "https://localhost:8080/"
        },
        "id": "mdcUP8P3Eyi-",
        "outputId": "5a96b52c-8dd0-4fef-cb24-df6502632b0b"
      },
      "execution_count": null,
      "outputs": [
        {
          "output_type": "stream",
          "name": "stdout",
          "text": [
            "[[7 8 9]\n",
            " [4 5 6]\n",
            " [1 2 3]]\n"
          ]
        }
      ]
    },
    {
      "cell_type": "markdown",
      "source": [
        "- Effects on Arrays of Different Dimensions:\n",
        "\n",
        "1D Array: Neither fliplr() nor flipud() is applicable to a 1D array in a meaningful way, as there are no columns or rows to flip.\n",
        "\n",
        "fliplr() will still reverse the entire array as it would for a 1D case.\n",
        "flipud() does not make sense for 1D arrays."
      ],
      "metadata": {
        "id": "pVxKa8zrGgtF"
      }
    },
    {
      "cell_type": "markdown",
      "source": [
        "####Effects on Arrays of Different Dimensions:\n",
        "- 1D Array: Neither fliplr() nor flipud() is applicable to a 1D array in a meaningful way, as there are no columns or rows to flip.\n",
        "\n",
        "fliplr() will still reverse the entire array as it would for a 1D case. flipud() does not make sense for 1D arrays.\n",
        "- 2D Array: Both methods are useful and behave as described.\n",
        "\n",
        "- 3D Array: fliplr() will flip the array along the second axis (columns), affecting the elements within each \"slice\" of the 3D array.\n",
        "flipud() will flip the array along the first axis (rows), affecting the order of 2D slices along the first axis."
      ],
      "metadata": {
        "id": "ZXKhX68BHlad"
      }
    },
    {
      "cell_type": "code",
      "source": [
        "import numpy as np\n",
        "\n",
        "# Define a 3D array (2 layers, 3 rows, 3 columns)\n",
        "array = np.array([[[1, 2, 3],\n",
        "                   [4, 5, 6],\n",
        "                   [7, 8, 9]],\n",
        "                  [[10, 11, 12],\n",
        "                   [13, 14, 15],\n",
        "                   [16, 17, 18]]])\n",
        "\n",
        "# Flip horizontally (left-right)\n",
        "flipped_lr_3d = np.fliplr(array)\n",
        "\n",
        "# Flip vertically (up-down)\n",
        "flipped_ud_3d = np.flipud(array)\n",
        "\n",
        "print(\"Original 3D array:\\n\", array)\n",
        "print(\"\\nFlipped Left-Right 3D array:\\n\", flipped_lr_3d)\n",
        "print(\"\\nFlipped Up-Down 3D array:\\n\", flipped_ud_3d)\n"
      ],
      "metadata": {
        "colab": {
          "base_uri": "https://localhost:8080/"
        },
        "id": "n1Qsh6RNHvV4",
        "outputId": "35237cb9-b99d-47eb-9a7a-cf31be5a9fdf"
      },
      "execution_count": null,
      "outputs": [
        {
          "output_type": "stream",
          "name": "stdout",
          "text": [
            "Original 3D array:\n",
            " [[[ 1  2  3]\n",
            "  [ 4  5  6]\n",
            "  [ 7  8  9]]\n",
            "\n",
            " [[10 11 12]\n",
            "  [13 14 15]\n",
            "  [16 17 18]]]\n",
            "\n",
            "Flipped Left-Right 3D array:\n",
            " [[[ 7  8  9]\n",
            "  [ 4  5  6]\n",
            "  [ 1  2  3]]\n",
            "\n",
            " [[16 17 18]\n",
            "  [13 14 15]\n",
            "  [10 11 12]]]\n",
            "\n",
            "Flipped Up-Down 3D array:\n",
            " [[[10 11 12]\n",
            "  [13 14 15]\n",
            "  [16 17 18]]\n",
            "\n",
            " [[ 1  2  3]\n",
            "  [ 4  5  6]\n",
            "  [ 7  8  9]]]\n"
          ]
        }
      ]
    },
    {
      "cell_type": "markdown",
      "source": [
        "## 9. Discuss the functionality of the array_split() method in NumPy. How does it handle uneven splits?\n",
        "\n",
        "\n",
        "The array_split() method in NumPy is a flexible way to split an array into multiple sub-arrays. It differs from the split() method in that it can handle cases where the array cannot be evenly divided into the specified number of parts. If the division is not exact, array_split() attempts to split the array as evenly as possible.\n",
        "\n",
        "- Functionality of array_split():\n",
        "1. Even Splits: If the array can be evenly divided, it will split into equal parts.\n",
        "2. Uneven Splits: If the array cannot be evenly divided (e.g., splitting 7 elements into 3 parts), array_split() will distribute the extra elements as evenly as possible:\n",
        "- It ensures no sub-array has more than one element more than another.\n",
        "- The extra elements are added to the first few sub-arrays.\n",
        "The Uneven Splits Are Handled:\n",
        "The array has 7 elements, and splitting it into 3 parts results in:\n",
        "The first sub-array gets 3 elements ([1, 2, 3]).\n",
        "The second and third sub-arrays get 2 elements each ([4, 5] and [6, 7]).\n",
        "Thus, array_split() ensures the split is as even as possible, even when the total number of elements cannot be evenly divided by the number of sections."
      ],
      "metadata": {
        "id": "6Af0oox4FGJs"
      }
    },
    {
      "cell_type": "code",
      "source": [
        "import numpy as np\n",
        "\n",
        "# Define an array of 7 elements\n",
        "array = np.array([1, 2, 3, 4, 5, 6, 7])\n",
        "\n",
        "# Split into 3 parts\n",
        "split_array = np.array_split(array, 3)\n",
        "\n",
        "print(\"Array split into 3 parts:\")\n",
        "for part in split_array:\n",
        "    print(part)\n"
      ],
      "metadata": {
        "colab": {
          "base_uri": "https://localhost:8080/"
        },
        "id": "OWiljQ1DXf7t",
        "outputId": "d82f420f-7281-4c96-9fba-1276724ae792"
      },
      "execution_count": 27,
      "outputs": [
        {
          "output_type": "stream",
          "name": "stdout",
          "text": [
            "Array split into 3 parts:\n",
            "[1 2 3]\n",
            "[4 5]\n",
            "[6 7]\n"
          ]
        }
      ]
    },
    {
      "cell_type": "markdown",
      "source": [
        "## 10. Explain the concepts of vectorization and broadcasting in NumPy. How do they contribute to efficient array operations?\n",
        "\n",
        "\n",
        "In NumPy, vectorization and broadcasting are two powerful concepts that enable efficient operations on arrays. They allow you to perform array-wide operations without the need for explicit loops, which enhances both the performance and readability of your code.\n",
        "\n",
        "1. Vectorization in NumPy\n",
        "Vectorization refers to the ability to perform operations on entire arrays (or large parts of arrays) at once, instead of iterating over individual elements using loops. This is possible because NumPy operations are implemented in C and optimized for performance. By performing operations on entire arrays at once, NumPy leverages low-level optimizations that are much faster than the corresponding Python-level loops."
      ],
      "metadata": {
        "id": "NQLEvLahXxsk"
      }
    },
    {
      "cell_type": "code",
      "source": [
        "import numpy as np\n",
        "\n",
        "# Two arrays\n",
        "arr1 = np.array([1, 2, 3])\n",
        "arr2 = np.array([4, 5, 6])\n",
        "\n",
        "# Vectorized addition\n",
        "result = arr1 + arr2\n",
        "print(result)\n"
      ],
      "metadata": {
        "colab": {
          "base_uri": "https://localhost:8080/"
        },
        "id": "1dBWRJ4aYKw_",
        "outputId": "9128a40d-ef39-4df0-f120-d9cb76bc2ade"
      },
      "execution_count": 28,
      "outputs": [
        {
          "output_type": "stream",
          "name": "stdout",
          "text": [
            "[5 7 9]\n"
          ]
        }
      ]
    },
    {
      "cell_type": "markdown",
      "source": [
        "2. Broadcasting in NumPy\n",
        "Broadcasting is a technique that allows NumPy to perform element-wise operations on arrays of different shapes. Instead of requiring that arrays have the same shape, NumPy will \"broadcast\" the smaller array to match the dimensions of the larger one in certain situations. Broadcasting automatically expands the dimensions of the smaller array to be compatible with the larger array, allowing element-wise operations to proceed without explicitly reshaping the arrays.\n",
        "\n",
        "####Rules of Broadcasting:\n",
        "\n",
        "- If the arrays have a different number of dimensions, the smaller array is padded with ones on the left side until both arrays have the same number of dimensions.\n",
        "- The shape of the arrays is compatible if, for each dimension, the size of the smaller array is either 1 or matches the size of the corresponding dimension of the larger array.\n",
        "- If the size of a dimension is 1 in one array, NumPy can broadcast it to match the corresponding dimension in the other array.\n",
        "- If the sizes do not match and neither is 1, broadcasting cannot be performed, and a ValueError is raised."
      ],
      "metadata": {
        "id": "4Go3L3eOYfI8"
      }
    },
    {
      "cell_type": "code",
      "source": [
        "import numpy as np\n",
        "\n",
        "# A 2D array\n",
        "arr = np.array([[1, 2, 3],\n",
        "                [4, 5, 6]])\n",
        "\n",
        "# Adding a scalar (1D array with a single element) to each element of arr\n",
        "result = arr + 10\n",
        "print(result)\n"
      ],
      "metadata": {
        "colab": {
          "base_uri": "https://localhost:8080/"
        },
        "id": "85-0I1K9Y2vT",
        "outputId": "6f5f427b-c70d-4f08-df8a-9f0d80728aac"
      },
      "execution_count": 29,
      "outputs": [
        {
          "output_type": "stream",
          "name": "stdout",
          "text": [
            "[[11 12 13]\n",
            " [14 15 16]]\n"
          ]
        }
      ]
    },
    {
      "cell_type": "code",
      "source": [
        "# A 2D array\n",
        "arr = np.array([[1, 2, 3],\n",
        "                [4, 5, 6]])\n",
        "\n",
        "# A 1D array\n",
        "arr2 = np.array([10, 20, 30])\n",
        "\n",
        "# Broadcasting arr2 to match the shape of arr\n",
        "result = arr + arr2\n",
        "print(result)\n"
      ],
      "metadata": {
        "colab": {
          "base_uri": "https://localhost:8080/"
        },
        "id": "ccpd3_qQY99W",
        "outputId": "56b8597c-671a-4ae4-ef12-7a5a5a830d19"
      },
      "execution_count": 30,
      "outputs": [
        {
          "output_type": "stream",
          "name": "stdout",
          "text": [
            "[[11 22 33]\n",
            " [14 25 36]]\n"
          ]
        }
      ]
    },
    {
      "cell_type": "markdown",
      "source": [
        "The Vectorization and Broadcasting Contribute to Efficient Array Operations\n",
        "Vectorization:\n",
        "\n",
        "Avoids loops: NumPy internally uses optimized, compiled code to perform operations, which is significantly faster than using Python loops.\n",
        "Parallelism: Vectorized operations are often executed in parallel at the CPU level, taking advantage of multiple cores and SIMD (Single Instruction, Multiple Data) instructions.\n",
        "Concise code: You can write simpler, more readable code without worrying about iteration.\n",
        "Broadcasting:\n",
        "\n",
        "Avoids reshaping: You don't need to manually adjust array shapes with reshape() or tile(). Broadcasting automatically expands smaller arrays to match the shape of larger arrays.\n",
        "Memory efficiency: Broadcasting does not create unnecessary copies of data. Instead, it creates a view of the original arrays, so it's memory-efficient.\n",
        "Simplified code: You can perform operations on arrays of different shapes without having to explicitly match their sizes, leading to cleaner and more intuitive code.\n"
      ],
      "metadata": {
        "id": "Cv7vYzp_ZOUv"
      }
    },
    {
      "cell_type": "markdown",
      "source": [
        "# PRACTICAL QUESTIONS\n",
        "\n",
        " ## 1. Create a 3x3 NumPy array with random integers between 1 and 100. Then, interchange its rows and columns.\n",
        "\n",
        " To create a 3x3 NumPy array with random integers between 1 and 100 and then interchange its rows and columns (i.e., transpose the array), you can use the following code:\n",
        "\n",
        " - Explanation:np.random.randint(1, 101, size=(3, 3)): Generates a 3x3 array of random integers in the range from 1 to 100 (inclusive).\n",
        "- .T: This is a shorthand to transpose the array, which interchanges rows and columns."
      ],
      "metadata": {
        "id": "h8hmmlkOXX0l"
      }
    },
    {
      "cell_type": "code",
      "source": [
        "# Create a 3x3 array with random integers between 1 and 100\n",
        "arr = np.random.randint(1, 101, size=(3, 3))\n",
        "print(\"Original Array:\")\n",
        "print(arr)\n",
        "\n",
        "# Transpose the array (interchange rows and columns)\n",
        "arr_transposed = arr.T\n",
        "print(\"\\nTransposed Array:\")\n",
        "print(arr_transposed)\n",
        "#In the transposed array, the rows of the original array have become the columns, and the columns have become the rows.\n"
      ],
      "metadata": {
        "colab": {
          "base_uri": "https://localhost:8080/"
        },
        "id": "2Cj3x79cYAh6",
        "outputId": "b9935436-e52c-4cc7-ed40-d6f2a57521fa"
      },
      "execution_count": null,
      "outputs": [
        {
          "output_type": "stream",
          "name": "stdout",
          "text": [
            "Original Array:\n",
            "[[24 83 46]\n",
            " [ 3 96  8]\n",
            " [89 87 15]]\n",
            "\n",
            "Transposed Array:\n",
            "[[24  3 89]\n",
            " [83 96 87]\n",
            " [46  8 15]]\n"
          ]
        }
      ]
    },
    {
      "cell_type": "markdown",
      "source": [
        "##2. Generate a 1D NumPy array with 10 elements. Reshape it into a 2x5 array, then into a 5x2 array."
      ],
      "metadata": {
        "id": "D4qsnXn9fl_R"
      }
    },
    {
      "cell_type": "code",
      "source": [
        "# Create a 1D array with 10 elements\n",
        "arr_1d = np.arange(1, 11)  # This will create an array [1, 2, ..., 10]\n",
        "print(\"Original 1D Array:\")\n",
        "print(arr_1d)\n",
        "\n",
        "# Reshape the 1D array into a 2x5 array\n",
        "arr_2x5 = arr_1d.reshape(2, 5)\n",
        "print(\"\\nReshaped into 2x5 Array:\")\n",
        "print(arr_2x5)\n",
        "\n",
        "# Reshape the 1D array into a 5x2 array\n",
        "arr_5x2 = arr_1d.reshape(5, 2)\n",
        "print(\"\\nReshaped into 5x2 Array:\")\n",
        "print(arr_5x2)\n"
      ],
      "metadata": {
        "colab": {
          "base_uri": "https://localhost:8080/"
        },
        "id": "So8Gfo8wY3gP",
        "outputId": "3d32731e-8e26-4c71-fa50-596515981fae"
      },
      "execution_count": null,
      "outputs": [
        {
          "output_type": "stream",
          "name": "stdout",
          "text": [
            "Original 1D Array:\n",
            "[ 1  2  3  4  5  6  7  8  9 10]\n",
            "\n",
            "Reshaped into 2x5 Array:\n",
            "[[ 1  2  3  4  5]\n",
            " [ 6  7  8  9 10]]\n",
            "\n",
            "Reshaped into 5x2 Array:\n",
            "[[ 1  2]\n",
            " [ 3  4]\n",
            " [ 5  6]\n",
            " [ 7  8]\n",
            " [ 9 10]]\n"
          ]
        }
      ]
    },
    {
      "cell_type": "markdown",
      "source": [
        "##3. Create a 4x4 NumPy array with random float values. Add a border of zeros around it, resulting in a 6x6 array."
      ],
      "metadata": {
        "id": "u4uVclnzgUeO"
      }
    },
    {
      "cell_type": "code",
      "source": [
        "\n",
        "\n",
        "# Create a 4x4 array with random float values between 0 and 1\n",
        "arr = np.random.rand(4, 4)\n",
        "print(\"Original 4x4 Array:\")\n",
        "print(arr)\n",
        "\n",
        "# Add a border of zeros around the array, making it 6x6\n",
        "arr_with_border = np.pad(arr, pad_width=1, mode='constant', constant_values=0)\n",
        "print(\"\\n6x6 Array with Border of Zeros:\")\n",
        "print(arr_with_border)\n"
      ],
      "metadata": {
        "colab": {
          "base_uri": "https://localhost:8080/"
        },
        "id": "jQLCIs9hgZLT",
        "outputId": "e0513cfc-041d-447a-8721-834670e2715b"
      },
      "execution_count": null,
      "outputs": [
        {
          "output_type": "stream",
          "name": "stdout",
          "text": [
            "Original 4x4 Array:\n",
            "[[0.0752184  0.27459062 0.98750074 0.49555483]\n",
            " [0.87124235 0.32010728 0.61024677 0.80920845]\n",
            " [0.60550896 0.52483144 0.90922689 0.15807005]\n",
            " [0.48950488 0.79645652 0.80251076 0.17755959]]\n",
            "\n",
            "6x6 Array with Border of Zeros:\n",
            "[[0.         0.         0.         0.         0.         0.        ]\n",
            " [0.         0.0752184  0.27459062 0.98750074 0.49555483 0.        ]\n",
            " [0.         0.87124235 0.32010728 0.61024677 0.80920845 0.        ]\n",
            " [0.         0.60550896 0.52483144 0.90922689 0.15807005 0.        ]\n",
            " [0.         0.48950488 0.79645652 0.80251076 0.17755959 0.        ]\n",
            " [0.         0.         0.         0.         0.         0.        ]]\n"
          ]
        }
      ]
    },
    {
      "cell_type": "markdown",
      "source": [
        "##4. Using NumPy, create an array of integers from 10 to 60 with a step of 5.\n",
        "\n",
        "\n"
      ],
      "metadata": {
        "id": "ZYBcDLdOq5ER"
      }
    },
    {
      "cell_type": "code",
      "source": [
        "# Create an array of integers from 10 to 60 with a step of 5\n",
        "arr = np.arange(10, 61, 5)\n",
        "print(\"Array of integers from 10 to 60 with a step of 5:\")\n",
        "print(arr)\n"
      ],
      "metadata": {
        "colab": {
          "base_uri": "https://localhost:8080/"
        },
        "id": "7Y68dFcArFpa",
        "outputId": "b434b560-19cd-4805-d833-74793b780770"
      },
      "execution_count": null,
      "outputs": [
        {
          "output_type": "stream",
          "name": "stdout",
          "text": [
            "Array of integers from 10 to 60 with a step of 5:\n",
            "[10 15 20 25 30 35 40 45 50 55 60]\n"
          ]
        }
      ]
    },
    {
      "cell_type": "markdown",
      "source": [
        "##5. Create a NumPy array of strings ['python', 'numpy', 'pandas']. Apply different case transformations(uppercase, lowercase, title case, etc.) to each element."
      ],
      "metadata": {
        "id": "JAL2GjCWrRxd"
      }
    },
    {
      "cell_type": "code",
      "source": [
        "# Create a NumPy array of strings\n",
        "arr = np.array(['python', 'numpy', 'pandas'])\n",
        "\n",
        "# Apply different case transformations to each element\n",
        "uppercase_arr = np.char.upper(arr)  # Convert to uppercase\n",
        "lowercase_arr = np.char.lower(arr)  # Convert to lowercase\n",
        "titlecase_arr = np.char.title(arr)  # Convert to title case (capitalize first letter)\n",
        "capitalize_arr = np.char.capitalize(arr)  # Capitalize first letter of each string\n",
        "\n",
        "# Print the original and transformed arrays\n",
        "print(\"Original Array:\")\n",
        "print(arr)\n",
        "\n",
        "print(\"\\nUppercase Transformation:\")\n",
        "print(uppercase_arr)\n",
        "\n",
        "print(\"\\nLowercase Transformation:\")\n",
        "print(lowercase_arr)\n",
        "\n",
        "print(\"\\nTitlecase Transformation:\")\n",
        "print(titlecase_arr)\n",
        "\n",
        "print(\"\\nCapitalize Transformation:\")\n",
        "print(capitalize_arr)\n"
      ],
      "metadata": {
        "colab": {
          "base_uri": "https://localhost:8080/"
        },
        "id": "y2LnlurPrG8Z",
        "outputId": "1dcac530-9e21-47ab-e4e8-b81f95fb9122"
      },
      "execution_count": null,
      "outputs": [
        {
          "output_type": "stream",
          "name": "stdout",
          "text": [
            "Original Array:\n",
            "['python' 'numpy' 'pandas']\n",
            "\n",
            "Uppercase Transformation:\n",
            "['PYTHON' 'NUMPY' 'PANDAS']\n",
            "\n",
            "Lowercase Transformation:\n",
            "['python' 'numpy' 'pandas']\n",
            "\n",
            "Titlecase Transformation:\n",
            "['Python' 'Numpy' 'Pandas']\n",
            "\n",
            "Capitalize Transformation:\n",
            "['Python' 'Numpy' 'Pandas']\n"
          ]
        }
      ]
    },
    {
      "cell_type": "markdown",
      "source": [
        "## 6. Generate a NumPy array of words. Insert a space between each character of every word in the array."
      ],
      "metadata": {
        "id": "9c1Sx5fltNVy"
      }
    },
    {
      "cell_type": "code",
      "source": [
        "# Create a NumPy array of words\n",
        "arr = np.array(['python', 'numpy', 'pandas'])\n",
        "\n",
        "# Insert a space between each character of every word\n",
        "arr_with_spaces = np.char.join(' ', arr)\n",
        "\n",
        "# Print the original and transformed arrays\n",
        "print(\"Original Array:\")\n",
        "print(arr)\n",
        "\n",
        "print(\"\\nArray with spaces between characters:\")\n",
        "print(arr_with_spaces)\n"
      ],
      "metadata": {
        "colab": {
          "base_uri": "https://localhost:8080/"
        },
        "id": "p_JDKBcWtUnD",
        "outputId": "5ea15b46-a735-4b51-d969-e43207b577a7"
      },
      "execution_count": null,
      "outputs": [
        {
          "output_type": "stream",
          "name": "stdout",
          "text": [
            "Original Array:\n",
            "['python' 'numpy' 'pandas']\n",
            "\n",
            "Array with spaces between characters:\n",
            "['p y t h o n' 'n u m p y' 'p a n d a s']\n"
          ]
        }
      ]
    },
    {
      "cell_type": "markdown",
      "source": [
        "## 6. Generate a NumPy array of words. Insert a space between each character of every word in the array."
      ],
      "metadata": {
        "id": "Z2d7_2iqtuqx"
      }
    },
    {
      "cell_type": "code",
      "source": [
        "import numpy as np\n",
        "\n",
        "# Create a NumPy array of words\n",
        "arr = np.array(['python', 'numpy', 'pandas'])\n",
        "\n",
        "# Insert a space between each character of every word\n",
        "arr_with_spaces = np.char.join(' ', arr)\n",
        "\n",
        "# Print the original and transformed arrays\n",
        "print(\"Original Array:\")\n",
        "print(arr)\n",
        "\n",
        "print(\"\\nArray with spaces between characters:\")\n",
        "print(arr_with_spaces)\n"
      ],
      "metadata": {
        "id": "txL7kgHVtrpB"
      },
      "execution_count": null,
      "outputs": []
    },
    {
      "cell_type": "markdown",
      "source": [
        "## 7. Create two 2D NumPy arrays and perform element-wise addition, subtraction, multiplication, and division"
      ],
      "metadata": {
        "id": "rgSKnTuyt_xl"
      }
    },
    {
      "cell_type": "code",
      "source": [
        "import numpy as np\n",
        "\n",
        "# Create two 2D NumPy arrays\n",
        "arr1 = np.array([[1, 2, 3], [4, 5, 6]])\n",
        "arr2 = np.array([[6, 5, 4], [3, 2, 1]])\n",
        "\n",
        "# Element-wise addition\n",
        "addition_result = arr1 + arr2\n",
        "\n",
        "# Element-wise subtraction\n",
        "subtraction_result = arr1 - arr2\n",
        "\n",
        "# Element-wise multiplication\n",
        "multiplication_result = arr1 * arr2\n",
        "\n",
        "# Element-wise division\n",
        "# Avoid division by zero\n",
        "division_result = arr1 / arr2\n",
        "\n",
        "# Print the results\n",
        "print(\"Array 1:\")\n",
        "print(arr1)\n",
        "\n",
        "print(\"\\nArray 2:\")\n",
        "print(arr2)\n",
        "\n",
        "print(\"\\nElement-wise Addition (arr1 + arr2):\")\n",
        "print(addition_result)\n",
        "\n",
        "print(\"\\nElement-wise Subtraction (arr1 - arr2):\")\n",
        "print(subtraction_result)\n",
        "\n",
        "print(\"\\nElement-wise Multiplication (arr1 * arr2):\")\n",
        "print(multiplication_result)\n",
        "\n",
        "print(\"\\nElement-wise Division (arr1 / arr2):\")\n",
        "print(division_result)\n"
      ],
      "metadata": {
        "colab": {
          "base_uri": "https://localhost:8080/"
        },
        "id": "WXGHdtrvuMDc",
        "outputId": "c70c3dfb-8b63-40de-b6fd-a424af6cb936"
      },
      "execution_count": null,
      "outputs": [
        {
          "output_type": "stream",
          "name": "stdout",
          "text": [
            "Array 1:\n",
            "[[1 2 3]\n",
            " [4 5 6]]\n",
            "\n",
            "Array 2:\n",
            "[[6 5 4]\n",
            " [3 2 1]]\n",
            "\n",
            "Element-wise Addition (arr1 + arr2):\n",
            "[[7 7 7]\n",
            " [7 7 7]]\n",
            "\n",
            "Element-wise Subtraction (arr1 - arr2):\n",
            "[[-5 -3 -1]\n",
            " [ 1  3  5]]\n",
            "\n",
            "Element-wise Multiplication (arr1 * arr2):\n",
            "[[ 6 10 12]\n",
            " [12 10  6]]\n",
            "\n",
            "Element-wise Division (arr1 / arr2):\n",
            "[[0.16666667 0.4        0.75      ]\n",
            " [1.33333333 2.5        6.        ]]\n"
          ]
        }
      ]
    },
    {
      "cell_type": "markdown",
      "source": [
        "## 8. Use NumPy to create a 5x5 identity matrix, then extract its diagonal elements."
      ],
      "metadata": {
        "id": "sjw4j-ZhuZDF"
      }
    },
    {
      "cell_type": "code",
      "source": [
        "# Create a 5x5 identity matrix\n",
        "identity_matrix = np.eye(5)\n",
        "print(\"5x5 Identity Matrix:\")\n",
        "print(identity_matrix)\n",
        "\n",
        "# Extract the diagonal elements\n",
        "diagonal_elements = identity_matrix.diagonal()\n",
        "print(\"\\nDiagonal Elements of the Identity Matrix:\")\n",
        "print(diagonal_elements)\n"
      ],
      "metadata": {
        "colab": {
          "base_uri": "https://localhost:8080/"
        },
        "id": "uQw_LvU5ubpC",
        "outputId": "fc1e89ca-821a-445c-96b8-64c4ddf98e51"
      },
      "execution_count": null,
      "outputs": [
        {
          "output_type": "stream",
          "name": "stdout",
          "text": [
            "5x5 Identity Matrix:\n",
            "[[1. 0. 0. 0. 0.]\n",
            " [0. 1. 0. 0. 0.]\n",
            " [0. 0. 1. 0. 0.]\n",
            " [0. 0. 0. 1. 0.]\n",
            " [0. 0. 0. 0. 1.]]\n",
            "\n",
            "Diagonal Elements of the Identity Matrix:\n",
            "[1. 1. 1. 1. 1.]\n"
          ]
        }
      ]
    },
    {
      "cell_type": "markdown",
      "source": [
        "## 9. Generate a NumPy array of 100 random integers between 0 and 1000. Find and display all prime numbers in  this array."
      ],
      "metadata": {
        "id": "lvfpn7XCXF0J"
      }
    },
    {
      "cell_type": "code",
      "source": [
        "\n",
        "# Function to check if a number is prime\n",
        "def is_prime(n):\n",
        "    if n <= 1:\n",
        "        return False\n",
        "    for i in range(2, int(n**0.5) + 1):\n",
        "        if n % i == 0:\n",
        "            return False\n",
        "    return True\n",
        "\n",
        "# Generate a NumPy array of 100 random integers between 0 and 1000\n",
        "arr = np.random.randint(0, 1001, size=100)\n",
        "print(\"Array of Random Integers:\")\n",
        "print(arr)\n",
        "\n",
        "# Find all prime numbers in the array using the is_prime function\n",
        "prime_numbers = [num for num in arr if is_prime(num)]\n",
        "\n",
        "print(\"\\nPrime Numbers in the Array:\")\n",
        "print(prime_numbers)\n"
      ],
      "metadata": {
        "colab": {
          "base_uri": "https://localhost:8080/"
        },
        "id": "Ws-0evDCXIvv",
        "outputId": "79613c97-9b88-4552-ba7e-54c28a6e58ce"
      },
      "execution_count": null,
      "outputs": [
        {
          "output_type": "stream",
          "name": "stdout",
          "text": [
            "Array of Random Integers:\n",
            "[632 210 274 660 141 452 659 676  96 541 830 270 987 241 441  56 340  44\n",
            " 393 625 221 867 393 620 644 469 105 638 391 876 455 824 689  72 855 416\n",
            " 947 176 243 210 292 164 829 948 295 748 433 181 161 455  71  56  44 426\n",
            " 976 433  43 339 542 655 207 109 207 212 554 411 308 717 690 206 485 332\n",
            " 285 689 207  47 849 434 447 707  13 688 487 666 214 941 874 737 230 186\n",
            " 389 197 537 393  72 238 577 843 850 964]\n",
            "\n",
            "Prime Numbers in the Array:\n",
            "[659, 541, 241, 947, 829, 433, 181, 71, 433, 43, 109, 47, 13, 487, 941, 389, 197, 577]\n"
          ]
        }
      ]
    },
    {
      "cell_type": "markdown",
      "source": [
        "## 10. Create a NumPy array representing daily temperatures for a month. Calculate and display the weekly averages."
      ],
      "metadata": {
        "id": "WQN65sLwXeh2"
      }
    },
    {
      "cell_type": "code",
      "source": [
        "import numpy as np\n",
        "\n",
        "# Step 1: Create a NumPy array of daily temperatures for a month (30 days)\n",
        "# Using random integers between 15 and 35 degrees Celsius for simplicity\n",
        "daily_temperatures = np.random.randint(15, 36, size=28)\n",
        "print(\"Daily Temperatures for the Month (30 Days):\")\n",
        "print(daily_temperatures)\n",
        "\n",
        "# Step 2: Reshape the array to represent 4 full weeks of 7 days and 2 extra days\n",
        "# In reality, there are 4 full weeks (28 days) and the last two days would be extra\n",
        "weekly_temperatures = daily_temperatures.reshape(4, 7)\n",
        "print(\"\\nTemperatures Reshaped into Weekly Data (4 Weeks of 7 Days):\")\n",
        "print(weekly_temperatures)\n",
        "\n",
        "# Step 3: Calculate the weekly averages\n",
        "weekly_averages = np.mean(weekly_temperatures, axis=1)\n",
        "print(\"\\nWeekly Average Temperatures:\")\n",
        "print(weekly_averages)\n"
      ],
      "metadata": {
        "colab": {
          "base_uri": "https://localhost:8080/"
        },
        "id": "SF1JF1EIXzK5",
        "outputId": "e5f326cb-1ba3-4d4b-e8a0-b32dedfcb3e3"
      },
      "execution_count": null,
      "outputs": [
        {
          "output_type": "stream",
          "name": "stdout",
          "text": [
            "Daily Temperatures for the Month (30 Days):\n",
            "[24 34 25 31 21 30 20 33 21 17 23 20 17 16 30 33 22 25 23 28 22 22 27 27\n",
            " 20 35 16 31]\n",
            "\n",
            "Temperatures Reshaped into Weekly Data (4 Weeks of 7 Days):\n",
            "[[24 34 25 31 21 30 20]\n",
            " [33 21 17 23 20 17 16]\n",
            " [30 33 22 25 23 28 22]\n",
            " [22 27 27 20 35 16 31]]\n",
            "\n",
            "Weekly Average Temperatures:\n",
            "[26.42857143 21.         26.14285714 25.42857143]\n"
          ]
        }
      ]
    },
    {
      "cell_type": "code",
      "source": [],
      "metadata": {
        "id": "-Di0Lt2nYEt-"
      },
      "execution_count": null,
      "outputs": []
    }
  ]
}