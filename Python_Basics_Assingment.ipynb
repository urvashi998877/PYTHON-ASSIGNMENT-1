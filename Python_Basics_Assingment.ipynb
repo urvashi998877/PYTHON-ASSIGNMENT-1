{
  "nbformat": 4,
  "nbformat_minor": 0,
  "metadata": {
    "colab": {
      "provenance": []
    },
    "kernelspec": {
      "name": "python3",
      "display_name": "Python 3"
    },
    "language_info": {
      "name": "python"
    }
  },
  "cells": [
    {
      "cell_type": "markdown",
      "source": [
        "#PYTHON BASICS ASSIGNMENT"
      ],
      "metadata": {
        "id": "QluFUJUH6EoJ"
      }
    },
    {
      "cell_type": "markdown",
      "source": [
        "# 1.Explain the key features of python that makes it a popular choice for programming\n",
        "\n",
        "Ans1. The key feature of python are as follows:\n",
        "\n",
        "1. **Readability and Simplicity**\n",
        "\n",
        "Python places a strong emphasis on clean, readable code. Its syntax is designed to be highly readable, with minimal use of brackets and a clear layout using indentation and whitespace. By relying on indentation to define code blocks, Python enables developers to write code that is not only easy to write but also easy to read and understand.\n",
        "Python's simplicity and readability make it an ideal choice for both beginners and experienced developers. Beginners can grasp the basics of the language quickly, while experienced developers appreciate Python's readability, which significantly reduces debugging time and enhances code maintainability.\n",
        "\n",
        "2. **Open Source & Free Software**\n",
        "\n",
        "Python is an open-source programming language; hence anybody can develop and improve the language. Thousands of Python programmers convene in this online forum to debate ways to enhance the language. It is possible to acquire the solution for your commercial applications for free by using these open sources. Additionally, the ability to personalize improves the basic codes while reducing development time. Python can be downloaded freely and it can be used on any operating system, like Mac OS X, Windows, and Linux.\n",
        "\n",
        "3. **Support for GUI**\n",
        "\n",
        "Support for GUI, or Graphical User Interface, is one of the most important features of any programming language since it allows code to be more visually appealing. Python is one of the most popular programming languages because it provides a wide range of GUI or graphical user interfaces that can be easily integrated into the interpreter.\n",
        "\n",
        "4. **Object-Oriented Methodology**\n",
        "\n",
        "One of Python's most important features is its object-oriented methodology. This implies that Python understands the concept of class and object encapsulation, which allows applications to become more efficient over time.\n",
        "\n",
        "5. **High-Level Language**\n",
        "\n",
        "Python is a high-level programming language, which means that when we write code in it, we don't have to worry about its architecture, memory management, or structure of code. This implies that while writing Python programs, we do not need to remember the system architecture or manage memory. Some Python code can be written in C or C++, and the code can even be compiled in C or C++. This makes it more programmer-friendly.\n",
        "\n",
        "6. **Highly Portable Language**\n",
        "\n",
        "Python's primary benefit is that it is a highly portable programming language that can run on any operating system. For example, suppose we are writing software in Windows but wish to run it on a Mac or Linux computer. Using python, there is no necessity to change the code. You can perform the same thing on a Mac or a Linux computer.\n",
        "\n",
        "7. **Integrated by nature**\n",
        "\n",
        "Python is, by definition, an integrated language. This means that each line of Python code is executed separately by the Python interpreter. Unlike other object-oriented programming languages, we don't have to build Python code, which makes debugging much easier and faster. Another advantage is that when Python code is run, it is immediately translated into byte-code. This in turn makes execution very easy and runtime is saved in the long run.\n",
        "\n",
        "8. **Extremely Dynamic**\n",
        "\n",
        "Python, as previously stated in the article, is one of the most dynamic programming languages available today. This means that the type of a variable is determined during runtime rather than during setup. Because of this feature, we don’t have to define the type of the variable during coding, which saves time and enhances efficiency.\n",
        "\n",
        "9. **Extensive Array of Libraries**\n",
        "\n",
        "Python includes a large number of libraries that may be imported at any moment and used in a specific program right away. You won’t have to write all of the code yourself because you’ll be able to import it from existing libraries, thanks to the inclusion of a wide variety of standard libraries. Python includes unit testing, regular expressions (regex), website browsers, and many other components.\n",
        "\n",
        "10. **Supportive of Other Languages**\n",
        "Python is one of the most versatile programming languages in the business since it is built-in C and permits the execution of code written in other programming languages such as Java, C, and C#. This embeddable feature of Python is very helpful to the developers.\n",
        "\n",
        "11. **Community Support**\n",
        "\n",
        "Python is a widely used open-source programming language around the world. Python was created in the 1990s, so it has had plenty of time to evolve and mature as a programming language. As a result, it can assist developers of all skill levels, from novice to expert. Tutorials, manuals, e-books, and articles are all readily available as study tools. There is a solution for any python problem.\n",
        "\n",
        "12. **Multipurpose**\n",
        "\n",
        "Python is a versatile programming language that can be used for multiple purposes. Back-end web development, mobile app development, software development, and desktop app development, and are just a few examples. It's also used to process large amounts of data and perform mathematical calculations. System scripts can also be written in Python.\n",
        "\n",
        "\n",
        "\n",
        "\n",
        "\n",
        "\n",
        "\n",
        "\n",
        "\n",
        "\n",
        "\n",
        "\n"
      ],
      "metadata": {
        "id": "VP2U98kp5ut3"
      }
    },
    {
      "cell_type": "markdown",
      "source": [
        "# **2. Describe the Role of predefined keywords in Python and provide examples of how they are used in a program**\n",
        "\n",
        "Ans2. Python Keywords are some predefined and reserved words in Python that have special meanings. Keywords are used to define the syntax of the coding. The keyword cannot be used as an identifier, function, or variable name. All the keywords in Python are written in lowercase except True and False."
      ],
      "metadata": {
        "id": "RBx916tqOwFy"
      }
    },
    {
      "cell_type": "code",
      "source": [
        "# code\n",
        "import keyword\n",
        "\n",
        "print(keyword.kwlist)\n"
      ],
      "metadata": {
        "colab": {
          "base_uri": "https://localhost:8080/"
        },
        "id": "0bZqrUuBQNNY",
        "outputId": "0d2b4f7c-af0c-4294-8fde-f4138ebb58d0"
      },
      "execution_count": null,
      "outputs": [
        {
          "output_type": "stream",
          "name": "stdout",
          "text": [
            "['False', 'None', 'True', 'and', 'as', 'assert', 'async', 'await', 'break', 'class', 'continue', 'def', 'del', 'elif', 'else', 'except', 'finally', 'for', 'from', 'global', 'if', 'import', 'in', 'is', 'lambda', 'nonlocal', 'not', 'or', 'pass', 'raise', 'return', 'try', 'while', 'with', 'yield']\n"
          ]
        }
      ]
    },
    {
      "cell_type": "code",
      "source": [
        "#Now, let's take a look on the usage of different types of keywords in Python:\n",
        "#1. Value Keywords >> Value keywords are used to represent specific values in Python.\n",
        "#True, False- They both are used in logical expressions and represent the boolean values 'True' and ' False'.\n",
        "#None- It is used to represent that there is no value or it is null.\n",
        "print(True)\n",
        "print(False)\n",
        "print(None)\n"
      ],
      "metadata": {
        "colab": {
          "base_uri": "https://localhost:8080/"
        },
        "id": "cWXoTZfPYWgo",
        "outputId": "5d17afb6-89a4-44d6-bbc3-03c247f1ed92"
      },
      "execution_count": null,
      "outputs": [
        {
          "output_type": "stream",
          "name": "stdout",
          "text": [
            "True\n",
            "False\n",
            "None\n"
          ]
        }
      ]
    },
    {
      "cell_type": "code",
      "source": [
        "6!=5"
      ],
      "metadata": {
        "colab": {
          "base_uri": "https://localhost:8080/"
        },
        "id": "6hKvycKWh55n",
        "outputId": "c7b439e0-7f8f-4afa-8eb7-7aab1be9ad59"
      },
      "execution_count": null,
      "outputs": [
        {
          "output_type": "execute_result",
          "data": {
            "text/plain": [
              "True"
            ]
          },
          "metadata": {},
          "execution_count": 3
        }
      ]
    },
    {
      "cell_type": "code",
      "source": [
        "2 != 2"
      ],
      "metadata": {
        "colab": {
          "base_uri": "https://localhost:8080/"
        },
        "id": "kAa3iLHah8Hu",
        "outputId": "cda2b5a2-5a31-4f01-bce3-7e318bd3cabb"
      },
      "execution_count": null,
      "outputs": [
        {
          "output_type": "execute_result",
          "data": {
            "text/plain": [
              "False"
            ]
          },
          "metadata": {},
          "execution_count": 4
        }
      ]
    },
    {
      "cell_type": "code",
      "source": [
        "#2. Operator Keywords\n",
        "#The operator keywords are used to perform logical and comparison operations in a Python program.\n",
        "#and-It will return 'True' when both the operands are 'True'.\n",
        "#or-It will return 'True' when at least one of the operand is 'True'.\n",
        "#not-It will return the opposite of the operand.\n",
        "#in-It checks that whether a specified value is present in the given sequence.\n",
        "#is-It compares the identity of objects."
      ],
      "metadata": {
        "id": "4wqdPcu6geD2"
      },
      "execution_count": null,
      "outputs": []
    },
    {
      "cell_type": "code",
      "source": [
        "a = True\n",
        "b = False\n",
        "print(a and b)\n",
        "print(a or b)\n",
        "print(not a)\n",
        "print(5 in [1, 2, 3, 4, 5])\n",
        "print(5 is 5)\n"
      ],
      "metadata": {
        "colab": {
          "base_uri": "https://localhost:8080/"
        },
        "id": "vtYzxm6QiQ6e",
        "outputId": "8b7ecae9-3a1d-4996-8477-0e093eae3281"
      },
      "execution_count": null,
      "outputs": [
        {
          "output_type": "stream",
          "name": "stdout",
          "text": [
            "False\n",
            "True\n",
            "False\n",
            "True\n",
            "True\n"
          ]
        },
        {
          "output_type": "stream",
          "name": "stderr",
          "text": [
            "<>:7: SyntaxWarning: \"is\" with a literal. Did you mean \"==\"?\n",
            "<>:7: SyntaxWarning: \"is\" with a literal. Did you mean \"==\"?\n",
            "<ipython-input-5-32334b7db18c>:7: SyntaxWarning: \"is\" with a literal. Did you mean \"==\"?\n",
            "  print(5 is 5)\n"
          ]
        }
      ]
    },
    {
      "cell_type": "code",
      "source": [
        "#3. Control Flow Keywords\n",
        "#The control flow keywords are used to execute code blocks with conditional statements.\n",
        "#if-It will execute a code block if the condition is 'True'.\n",
        "#elif-It is the short form of 'else if'. It will put another alternative condition for checking if the 'if' condition is 'False'.\n",
        "#else-It will execute a code block if none of the conditions are 'True'."
      ],
      "metadata": {
        "id": "-zsPEShqiR6f"
      },
      "execution_count": null,
      "outputs": []
    },
    {
      "cell_type": "code",
      "source": [
        "x = 10\n",
        "if x > 5:\n",
        "    print(\"x is greater than 5\")\n",
        "elif x == 5:\n",
        "    print(\"x is equal to 5\")\n",
        "else:\n",
        "    print(\"x is less than 5\")\n"
      ],
      "metadata": {
        "colab": {
          "base_uri": "https://localhost:8080/"
        },
        "id": "37znEA4wjLQy",
        "outputId": "2b51acd1-d55a-418f-9729-ce56bc693604"
      },
      "execution_count": null,
      "outputs": [
        {
          "output_type": "stream",
          "name": "stdout",
          "text": [
            "x is greater than 5\n"
          ]
        }
      ]
    },
    {
      "cell_type": "code",
      "source": [
        "#4. Iteration Keywords\n",
        "#The iteration keywords are used to control loop execution.\n",
        "#for-It iterates over the elements of a specified sequence.\n",
        "#while-It will execute a code block as long as the condition is 'True'.\n",
        "#break-It is used for terminating the loop before completion.\n",
        "#continue-It is used for skipping the current iteration and continue with the next one.\n",
        "#else-It will execute a code block when the has completed without a 'break' statement."
      ],
      "metadata": {
        "id": "IzL0hvWh0B9d"
      },
      "execution_count": null,
      "outputs": []
    },
    {
      "cell_type": "code",
      "source": [
        "a = 1000000\n",
        "if a < 100:\n",
        "  print(\"this block will be executed if a is lesser than 100\")\n",
        "elif a > 2000:\n",
        "  print(\"the number is huge\")\n",
        "elif a > 100:\n",
        "  print(\"this block will be executed if a is greater than 100 \")\n",
        "else:\n",
        "  print(\"the number is equals to 100\")"
      ],
      "metadata": {
        "colab": {
          "base_uri": "https://localhost:8080/"
        },
        "id": "9fhOhQ1h3qR3",
        "outputId": "9f502329-1d58-4315-ba45-f98da8fd9d4d"
      },
      "execution_count": null,
      "outputs": [
        {
          "output_type": "stream",
          "name": "stdout",
          "text": [
            "the number is huge\n"
          ]
        }
      ]
    },
    {
      "cell_type": "code",
      "source": [
        "for i in range(5):\n",
        "    if i == 3:\n",
        "        break\n",
        "    print(i)\n",
        "else:\n",
        "    print(\"Loop completed successfully\")"
      ],
      "metadata": {
        "colab": {
          "base_uri": "https://localhost:8080/"
        },
        "id": "6XnHbB5a0SFF",
        "outputId": "1d0d7693-f88c-408c-90b8-a7d71a8756e2"
      },
      "execution_count": null,
      "outputs": [
        {
          "output_type": "stream",
          "name": "stdout",
          "text": [
            "0\n",
            "1\n",
            "2\n"
          ]
        }
      ]
    },
    {
      "cell_type": "code",
      "source": [
        "n=7\n",
        "i=1\n",
        "while i<n:\n",
        "  print(i)\n",
        "  i=i+1\n",
        "else:\n",
        "  print(\"This will be executed when the while is run successfuly without any break\")"
      ],
      "metadata": {
        "colab": {
          "base_uri": "https://localhost:8080/"
        },
        "id": "hYDOWuX-4b3g",
        "outputId": "35d8d660-5c71-4a99-dbd0-c612f3920741"
      },
      "execution_count": null,
      "outputs": [
        {
          "output_type": "stream",
          "name": "stdout",
          "text": [
            "1\n",
            "2\n",
            "3\n",
            "4\n",
            "5\n",
            "6\n",
            "This will be executed when the while is run successfuly without any break\n"
          ]
        }
      ]
    },
    {
      "cell_type": "code",
      "source": [
        "#continue >> skips the iteration\n",
        "n=7\n",
        "i=1\n",
        "while i<n:\n",
        "  i=i+1\n",
        "  if i ==3:\n",
        "    continue\n",
        "  print(i)\n",
        "else:\n",
        "  print(\"This will be executed when the while is run successfuly without any break\")"
      ],
      "metadata": {
        "id": "Wcaf7Rqp4fsP"
      },
      "execution_count": null,
      "outputs": []
    },
    {
      "cell_type": "code",
      "source": [
        "#5. Structure Keywords\n",
        "#The structure keywords are used for defining structure of a program.\n",
        "#def-It defines a function.\n",
        "#class-It defines a class.\n",
        "#with-It uses context managers to simplify resource management.\n",
        "#as-It renames or aliases imported modules or objects.\n",
        "#pass-It indicates that no action needs to be taken.\n",
        "#lambda- It creates an anonymous function."
      ],
      "metadata": {
        "id": "1OjoRZoA6itd"
      },
      "execution_count": null,
      "outputs": []
    },
    {
      "cell_type": "code",
      "source": [
        "a = lambda x: x*2\n",
        "for i in range(1,6):\n",
        "    print(a(i))"
      ],
      "metadata": {
        "colab": {
          "base_uri": "https://localhost:8080/"
        },
        "id": "Vlb3xBfxQ89S",
        "outputId": "fbb3dbe8-b3cb-4cc5-ea34-6a1a6d6fbdd9"
      },
      "execution_count": null,
      "outputs": [
        {
          "output_type": "stream",
          "name": "stdout",
          "text": [
            "2\n",
            "4\n",
            "6\n",
            "8\n",
            "10\n"
          ]
        }
      ]
    },
    {
      "cell_type": "code",
      "source": [
        "#Returning Keywords\n",
        "#The returning keywords are used for returning values from functions and generators.\n",
        "#return-It will exit a function and may also return a value.\n",
        "#yield-It will stop the execution of a function and will return a value to the caller while the state of the function remains constant.##"
      ],
      "metadata": {
        "id": "BFfPimwbFL50"
      },
      "execution_count": null,
      "outputs": []
    },
    {
      "cell_type": "code",
      "source": [
        "def example_function():\n",
        "    return 42\n",
        "\n",
        "def generator_function():\n",
        "    yield 1\n",
        "    yield 2\n",
        "    yield 3\n",
        "\n",
        "print(example_function())\n",
        "print(list(generator_function()))"
      ],
      "metadata": {
        "colab": {
          "base_uri": "https://localhost:8080/"
        },
        "id": "_kBu8f15FcAd",
        "outputId": "84b182b4-49d6-4d91-c516-a335859f9a66"
      },
      "execution_count": null,
      "outputs": [
        {
          "output_type": "stream",
          "name": "stdout",
          "text": [
            "42\n",
            "[1, 2, 3]\n"
          ]
        }
      ]
    },
    {
      "cell_type": "code",
      "source": [
        "def reciprocal(num):\n",
        "    try:\n",
        "        r = 1/num\n",
        "    except:\n",
        "        print('Exception caught')\n",
        "        return\n",
        "    return r\n",
        "\n",
        "print(reciprocal(10))\n",
        "print(reciprocal(0))"
      ],
      "metadata": {
        "colab": {
          "base_uri": "https://localhost:8080/"
        },
        "id": "O_A9wicxQgTg",
        "outputId": "1d1845a6-f0e2-45c7-cb58-5ad58f5b08df"
      },
      "execution_count": null,
      "outputs": [
        {
          "output_type": "stream",
          "name": "stdout",
          "text": [
            "0.1\n",
            "Exception caught\n",
            "None\n"
          ]
        }
      ]
    },
    {
      "cell_type": "code",
      "source": [
        "#7. Import Keywords\n",
        "#The import keywords are used for importing symbols and modules in Python.\n",
        "#import-It will import a whole module.\n",
        "#from-It will import specific symbols from a module.\n",
        "#as-It will alias the imported symbols or modules.#"
      ],
      "metadata": {
        "id": "4JoTfd8UFoEe"
      },
      "execution_count": null,
      "outputs": []
    },
    {
      "cell_type": "code",
      "source": [
        "import math\n",
        "from datetime import datetime as dt\n",
        "\n",
        "print(math.pi)\n",
        "print(dt.now())"
      ],
      "metadata": {
        "colab": {
          "base_uri": "https://localhost:8080/"
        },
        "id": "BX8VG97eF8RM",
        "outputId": "b891f997-04f1-463b-adf1-41ca40f7a08d"
      },
      "execution_count": null,
      "outputs": [
        {
          "output_type": "stream",
          "name": "stdout",
          "text": [
            "3.141592653589793\n",
            "2024-10-11 19:42:13.238139\n"
          ]
        }
      ]
    },
    {
      "cell_type": "code",
      "source": [
        "#8. Exception-Handling Keywords\n",
        "#The exception handling keywords in Python are used for handling exceptions in a python program.\n",
        "#try-It will start and check a code block that may have an exception but not execute it.\n",
        "#except-It is used for checking and handling exceptions.\n",
        "#raise- It will raise an exception.\n",
        "#finally-It will execute a code no matter if any exceptions occurs or not.\n",
        "#else-It will execute the code if there is no exception occurring in the 'try' block.\n",
        "#assert-When the condition is 'False', an 'AssertionError' is raised to assert a condition."
      ],
      "metadata": {
        "id": "5oxnHHhrHv_Z"
      },
      "execution_count": null,
      "outputs": []
    },
    {
      "cell_type": "code",
      "source": [
        "try:\n",
        "    x = 1 / 0\n",
        "except ZeroDivisionError:\n",
        "    print(\"Error: Division by zero\")\n",
        "else:\n",
        "    print(\"No error occurred\")\n",
        "finally:\n",
        "    print(\"Cleanup code\")\n",
        "\n",
        "assert 2 + 2 == 4, \"Math is broken\"\n"
      ],
      "metadata": {
        "colab": {
          "base_uri": "https://localhost:8080/"
        },
        "id": "FUnvplUAH66n",
        "outputId": "33c331f9-53c2-4225-d44c-eeae64f6a26e"
      },
      "execution_count": null,
      "outputs": [
        {
          "output_type": "stream",
          "name": "stdout",
          "text": [
            "Error: Division by zero\n",
            "Cleanup code\n"
          ]
        }
      ]
    },
    {
      "cell_type": "code",
      "source": [
        "#9. Asynchronous Programming Keywords\n",
        "#The asynchronous programming keywords are used for asynchronous programming in Python.\n",
        "#async-It is used for defining a coroutine function.\n",
        "#await-It will pause the execution of a coroutine function until its own coroutine function completes."
      ],
      "metadata": {
        "id": "0WG9HyXwIKaj"
      },
      "execution_count": null,
      "outputs": []
    },
    {
      "cell_type": "code",
      "source": [
        "async def test_async_function():\n",
        "    # Asynchronous code here\n",
        "    await some_other_async_function()\n",
        "    # More asynchronous code here\n"
      ],
      "metadata": {
        "id": "1phY6xXbNXm3"
      },
      "execution_count": null,
      "outputs": []
    },
    {
      "cell_type": "code",
      "source": [
        "async def test_async_function():\n",
        "    result = await some_other_async_function()\n",
        "    # Use the result after it's ready\n"
      ],
      "metadata": {
        "id": "ClyOws04NYhg"
      },
      "execution_count": null,
      "outputs": []
    },
    {
      "cell_type": "code",
      "source": [
        "import asyncio\n",
        "\n",
        "async def fn():\n",
        "\tprint('This is ')\n",
        "\tawait asyncio.sleep(1)\n",
        "\tprint('asynchronous programming')\n",
        "\tawait asyncio.sleep(1)\n",
        "\tprint('and not multi-threading')\n"
      ],
      "metadata": {
        "id": "ACT3rPSlN9It"
      },
      "execution_count": null,
      "outputs": []
    },
    {
      "cell_type": "code",
      "source": [
        "#10. Variable Handling Keywords\n",
        "#The variable handling keywords are used for manipulating and scoping variables in Python.\n",
        "#del-It will delete a variable from a collection.\n",
        "#global-It is used for declaring a variable with a global scope.\n",
        "#nonlocal-It is used for declaring a variable with a scope of the nearest function just outside the current one"
      ],
      "metadata": {
        "id": "qjXJcASOOPtu"
      },
      "execution_count": null,
      "outputs": []
    },
    {
      "cell_type": "code",
      "source": [
        "x = 10\n",
        "print(x)\n",
        "del x\n",
        "print(x)  # Raises NameError because x is deleted"
      ],
      "metadata": {
        "colab": {
          "base_uri": "https://localhost:8080/",
          "height": 200
        },
        "id": "K3MrubB4Os0h",
        "outputId": "921d4490-82a5-4132-ab24-742fad55050f"
      },
      "execution_count": null,
      "outputs": [
        {
          "output_type": "stream",
          "name": "stdout",
          "text": [
            "10\n"
          ]
        },
        {
          "output_type": "error",
          "ename": "NameError",
          "evalue": "name 'x' is not defined",
          "traceback": [
            "\u001b[0;31m---------------------------------------------------------------------------\u001b[0m",
            "\u001b[0;31mNameError\u001b[0m                                 Traceback (most recent call last)",
            "\u001b[0;32m<ipython-input-24-c46bac19b986>\u001b[0m in \u001b[0;36m<cell line: 4>\u001b[0;34m()\u001b[0m\n\u001b[1;32m      2\u001b[0m \u001b[0mprint\u001b[0m\u001b[0;34m(\u001b[0m\u001b[0mx\u001b[0m\u001b[0;34m)\u001b[0m\u001b[0;34m\u001b[0m\u001b[0;34m\u001b[0m\u001b[0m\n\u001b[1;32m      3\u001b[0m \u001b[0;32mdel\u001b[0m \u001b[0mx\u001b[0m\u001b[0;34m\u001b[0m\u001b[0;34m\u001b[0m\u001b[0m\n\u001b[0;32m----> 4\u001b[0;31m \u001b[0mprint\u001b[0m\u001b[0;34m(\u001b[0m\u001b[0mx\u001b[0m\u001b[0;34m)\u001b[0m  \u001b[0;31m# Raises NameError because x is deleted\u001b[0m\u001b[0;34m\u001b[0m\u001b[0;34m\u001b[0m\u001b[0m\n\u001b[0m",
            "\u001b[0;31mNameError\u001b[0m: name 'x' is not defined"
          ]
        }
      ]
    },
    {
      "cell_type": "code",
      "source": [
        "def reciprocal(num):\n",
        "    try:\n",
        "        r = 1/num\n",
        "    except:\n",
        "        print('Exception caught')\n",
        "        return\n",
        "    return r\n",
        "\n",
        "print(reciprocal(10))\n",
        "print(reciprocal(0))"
      ],
      "metadata": {
        "id": "jer4neqlQBsA"
      },
      "execution_count": null,
      "outputs": []
    },
    {
      "cell_type": "markdown",
      "source": [
        "#3. Compare and contrast mutable and immutable objects in python with examples"
      ],
      "metadata": {
        "id": "gx4VB_duiSei"
      }
    },
    {
      "cell_type": "markdown",
      "source": [
        "###Ans 3. Python data type is categorized into two types:\n",
        "\n",
        "###Mutable Data Type – A mutable data type is one whose values can be changed.\n",
        "###Example: List, Dictionaries, and Set\n",
        "###Immutable Data Type – An immutable data type is one in which the values can’t be changed or altered.\n",
        "###Example: String and Tuples"
      ],
      "metadata": {
        "id": "UggpqxOVnUD0"
      }
    },
    {
      "cell_type": "markdown",
      "source": [
        "### Lists >> Python lists methods are mutable; the list's contents are modified in place. You can change a list in place, add new elements, overwrite existing elements, or delete them. Also, note that the same value can occur in a list more than once."
      ],
      "metadata": {
        "id": "vPdYXnffnPcV"
      }
    },
    {
      "cell_type": "code",
      "source": [
        "l =[1,2,4,3, \"tomato\" , True , (3+5j)]\n",
        "type(l)"
      ],
      "metadata": {
        "colab": {
          "base_uri": "https://localhost:8080/"
        },
        "id": "7hbA46UpnQdB",
        "outputId": "c6efcd35-2937-47a0-c264-87c57308fe39"
      },
      "execution_count": null,
      "outputs": [
        {
          "output_type": "execute_result",
          "data": {
            "text/plain": [
              "list"
            ]
          },
          "metadata": {},
          "execution_count": 6
        }
      ]
    },
    {
      "cell_type": "code",
      "source": [
        "l"
      ],
      "metadata": {
        "colab": {
          "base_uri": "https://localhost:8080/"
        },
        "id": "LdSWXAMUzDW7",
        "outputId": "226b62b4-701b-48bf-9b6e-5ae2ab2fb17a"
      },
      "execution_count": null,
      "outputs": [
        {
          "output_type": "execute_result",
          "data": {
            "text/plain": [
              "[1, 2, 4, 3, 'tomato', True, (3+5j)]"
            ]
          },
          "metadata": {},
          "execution_count": 7
        }
      ]
    },
    {
      "cell_type": "code",
      "source": [
        "l.append(\"potato\")"
      ],
      "metadata": {
        "id": "8mKpDbiuzS7J"
      },
      "execution_count": null,
      "outputs": []
    },
    {
      "cell_type": "code",
      "source": [
        "l"
      ],
      "metadata": {
        "colab": {
          "base_uri": "https://localhost:8080/"
        },
        "id": "w80aZIGc-lNs",
        "outputId": "3c592c85-04a6-40b2-d25b-8e1a4046458e"
      },
      "execution_count": null,
      "outputs": [
        {
          "output_type": "execute_result",
          "data": {
            "text/plain": [
              "[1, 2, 4, 3, 'tomato', True, (3+5j), 'potato']"
            ]
          },
          "metadata": {},
          "execution_count": 9
        }
      ]
    },
    {
      "cell_type": "code",
      "source": [
        "l.remove(\"tomato\")"
      ],
      "metadata": {
        "id": "81jfX4Mz-mQk"
      },
      "execution_count": null,
      "outputs": []
    },
    {
      "cell_type": "code",
      "source": [
        "l"
      ],
      "metadata": {
        "colab": {
          "base_uri": "https://localhost:8080/"
        },
        "id": "bpQEZ_Wl--8c",
        "outputId": "2a8223fa-79fb-4b14-ed8f-7cccfc02f96a"
      },
      "execution_count": null,
      "outputs": [
        {
          "output_type": "execute_result",
          "data": {
            "text/plain": [
              "[1, 2, 4, 3, True, (3+5j), 'potato']"
            ]
          },
          "metadata": {},
          "execution_count": 11
        }
      ]
    },
    {
      "cell_type": "code",
      "source": [],
      "metadata": {
        "id": "SIKHqGhg_ASn"
      },
      "execution_count": null,
      "outputs": []
    },
    {
      "cell_type": "markdown",
      "source": [
        "###Dictionaries >> are used to store data values in key:value pairs. It is a collection which is ordered, changeable and do not allow duplicates. Dictionaries>> are written with curly brackets, and have keys and values"
      ],
      "metadata": {
        "id": "gIu0TN-p_ZyP"
      }
    },
    {
      "cell_type": "code",
      "source": [
        "my_dict = {\"key_course\" : \"data science\" , \"duration\" : 200}"
      ],
      "metadata": {
        "id": "O2e40rcC_dhu"
      },
      "execution_count": null,
      "outputs": []
    },
    {
      "cell_type": "code",
      "source": [
        "type(my_dict)"
      ],
      "metadata": {
        "colab": {
          "base_uri": "https://localhost:8080/"
        },
        "id": "YXO6nZepCsLN",
        "outputId": "03a2e008-d30d-4530-e8a5-5fe62c6c76d9"
      },
      "execution_count": null,
      "outputs": [
        {
          "output_type": "execute_result",
          "data": {
            "text/plain": [
              "dict"
            ]
          },
          "metadata": {},
          "execution_count": 13
        }
      ]
    },
    {
      "cell_type": "markdown",
      "source": [
        "###Set >> it is an unordered collection data type that is iterable and has no duplicate elements. While sets are mutable, meaning we can add or remove elements after their creation, the individual elements within the set must be immutable and cannot be changed directly.\n",
        "\n",
        "###Set are represented by { } (values enclosed in curly braces)\n",
        "\n"
      ],
      "metadata": {
        "id": "VFUDchT7DYVd"
      }
    },
    {
      "cell_type": "code",
      "source": [
        "grocery_list = {\"apple\",\"banana\",\"banana\",\"egg\",\"egg\",\"apple\"}"
      ],
      "metadata": {
        "id": "hu4G9Gr_CyME"
      },
      "execution_count": null,
      "outputs": []
    },
    {
      "cell_type": "code",
      "source": [
        "grocery_list"
      ],
      "metadata": {
        "colab": {
          "base_uri": "https://localhost:8080/"
        },
        "id": "hrPwrDnZDaim",
        "outputId": "53b755d0-f2c3-490c-9b2c-a6cf78a7214c"
      },
      "execution_count": null,
      "outputs": [
        {
          "output_type": "execute_result",
          "data": {
            "text/plain": [
              "{'apple', 'banana', 'egg'}"
            ]
          },
          "metadata": {},
          "execution_count": 3
        }
      ]
    },
    {
      "cell_type": "code",
      "source": [
        "type(grocery_list)"
      ],
      "metadata": {
        "colab": {
          "base_uri": "https://localhost:8080/"
        },
        "id": "CbSNKnCyDchE",
        "outputId": "abcb0737-043c-4b65-e22c-8a6d3225d275"
      },
      "execution_count": null,
      "outputs": [
        {
          "output_type": "execute_result",
          "data": {
            "text/plain": [
              "set"
            ]
          },
          "metadata": {},
          "execution_count": 4
        }
      ]
    },
    {
      "cell_type": "markdown",
      "source": [
        "###Strings >> strings in python are surrounded by either single quotation marks, or double quotation marks, example-'hello' is the same as \"hello\"."
      ],
      "metadata": {
        "id": "AGQSMkOcXh7D"
      }
    },
    {
      "cell_type": "code",
      "source": [
        "a = (\"hello world\")"
      ],
      "metadata": {
        "id": "Zk2L8bDTXux_"
      },
      "execution_count": 2,
      "outputs": []
    },
    {
      "cell_type": "code",
      "source": [
        "type(a)"
      ],
      "metadata": {
        "colab": {
          "base_uri": "https://localhost:8080/"
        },
        "id": "bfAynNRIYC6K",
        "outputId": "afe0e132-5ec9-4a5d-e727-d58afcc511cb"
      },
      "execution_count": 4,
      "outputs": [
        {
          "output_type": "execute_result",
          "data": {
            "text/plain": [
              "str"
            ]
          },
          "metadata": {},
          "execution_count": 4
        }
      ]
    },
    {
      "cell_type": "code",
      "source": [
        "#we can assign a multiline string to a variable by using three double quotes:\n",
        "b= \"\"\" this is my first python assignment\n",
        "by doing this assignment i got to know many operators,\n",
        "like logical,aritmetical and many more,\n",
        "data type like strings, list, set, dictionary, tuples\"\"\"\n"
      ],
      "metadata": {
        "id": "XiZuvEwaYGwW"
      },
      "execution_count": 7,
      "outputs": []
    },
    {
      "cell_type": "code",
      "source": [
        "type(b)"
      ],
      "metadata": {
        "colab": {
          "base_uri": "https://localhost:8080/"
        },
        "id": "BMo2PQNgZ4TO",
        "outputId": "25750a63-8447-415e-bc0b-5ae1fd0a217d"
      },
      "execution_count": 8,
      "outputs": [
        {
          "output_type": "execute_result",
          "data": {
            "text/plain": [
              "str"
            ]
          },
          "metadata": {},
          "execution_count": 8
        }
      ]
    },
    {
      "cell_type": "markdown",
      "source": [
        "###Tuples>>tuples are used to store multiple items in a single variable."
      ],
      "metadata": {
        "id": "zoE4jFp3a2zb"
      }
    },
    {
      "cell_type": "code",
      "source": [
        "thistuple = (\"apple\", \"banana\", \"cherry\")\n",
        "print(thistuple)"
      ],
      "metadata": {
        "colab": {
          "base_uri": "https://localhost:8080/"
        },
        "id": "5WrVpgL4zxa3",
        "outputId": "7e8bb0a0-2a5b-4178-da44-6dbe6cecebce"
      },
      "execution_count": 1,
      "outputs": [
        {
          "output_type": "stream",
          "name": "stdout",
          "text": [
            "('apple', 'banana', 'cherry')\n"
          ]
        }
      ]
    },
    {
      "cell_type": "code",
      "source": [
        "type(thistuple)"
      ],
      "metadata": {
        "colab": {
          "base_uri": "https://localhost:8080/"
        },
        "id": "19oXJqHIaBK7",
        "outputId": "ba94a7f2-a0e1-4f6e-fa2a-8e4c7d919579"
      },
      "execution_count": 2,
      "outputs": [
        {
          "output_type": "execute_result",
          "data": {
            "text/plain": [
              "tuple"
            ]
          },
          "metadata": {},
          "execution_count": 2
        }
      ]
    },
    {
      "cell_type": "code",
      "source": [
        "#Since tuples are indexed, they can have items with the same value:\n",
        "thistuple = (\"apple\", \"banana\", \"cherry\", \"apple\", \"cherry\")\n",
        "print(thistuple)"
      ],
      "metadata": {
        "colab": {
          "base_uri": "https://localhost:8080/"
        },
        "id": "mzfUVc9TazrW",
        "outputId": "386117e7-1bc8-42e8-a1b3-867a844c5405"
      },
      "execution_count": 3,
      "outputs": [
        {
          "output_type": "stream",
          "name": "stdout",
          "text": [
            "('apple', 'banana', 'cherry', 'apple', 'cherry')\n"
          ]
        }
      ]
    },
    {
      "cell_type": "markdown",
      "source": [
        "#4. Discuss the different types of operators in python and provide examples of how they are used.\n",
        "##Ans4. Operators are special symbols that perform operations on variables and values.\n",
        "\n",
        "### Python language supports various types of operators, which are:\n",
        "###1. Arithmetic Operators\n",
        "###2. Comparison (Relational) Operators\n",
        "###3. Assignment Operators\n",
        "###4. Logical Operators\n",
        "###5. Bitwise Operators\n",
        "###6. Membership Operators\n",
        "###7. Identity Operators"
      ],
      "metadata": {
        "id": "tTkp2KQO2IvM"
      }
    },
    {
      "cell_type": "markdown",
      "source": [
        "###1. Arithmetic operators>> are used to perform mathematical operations like addition, subtraction, multiplication,division, modulus, exponentiation, and floor division."
      ],
      "metadata": {
        "id": "BCT9juUWVr3i"
      }
    },
    {
      "cell_type": "code",
      "source": [
        "#Addition\n",
        "a = 5\n",
        "b = 10\n",
        "a+b\n"
      ],
      "metadata": {
        "colab": {
          "base_uri": "https://localhost:8080/"
        },
        "id": "ZeoMJmkdV5dB",
        "outputId": "3117371d-b389-46c6-c551-8aefda082b12"
      },
      "execution_count": 1,
      "outputs": [
        {
          "output_type": "execute_result",
          "data": {
            "text/plain": [
              "15"
            ]
          },
          "metadata": {},
          "execution_count": 1
        }
      ]
    },
    {
      "cell_type": "code",
      "source": [
        "#Subtraction\n",
        "a-b"
      ],
      "metadata": {
        "colab": {
          "base_uri": "https://localhost:8080/"
        },
        "id": "GtjiSFVmWBSS",
        "outputId": "17c269bf-8211-4d24-8ed5-387e1cb6876f"
      },
      "execution_count": 2,
      "outputs": [
        {
          "output_type": "execute_result",
          "data": {
            "text/plain": [
              "-5"
            ]
          },
          "metadata": {},
          "execution_count": 2
        }
      ]
    },
    {
      "cell_type": "code",
      "source": [
        "#Multiplication\n",
        "a*b"
      ],
      "metadata": {
        "colab": {
          "base_uri": "https://localhost:8080/"
        },
        "id": "6jLSh8KWb1Xm",
        "outputId": "c34fe537-fe55-4339-a53b-094357d51824"
      },
      "execution_count": 3,
      "outputs": [
        {
          "output_type": "execute_result",
          "data": {
            "text/plain": [
              "50"
            ]
          },
          "metadata": {},
          "execution_count": 3
        }
      ]
    },
    {
      "cell_type": "code",
      "source": [
        "#division\n",
        "a/b"
      ],
      "metadata": {
        "colab": {
          "base_uri": "https://localhost:8080/"
        },
        "id": "Z6wB0Nbsb_nX",
        "outputId": "ec26f3ad-7e28-41d3-95df-b1b5c10747eb"
      },
      "execution_count": 5,
      "outputs": [
        {
          "output_type": "execute_result",
          "data": {
            "text/plain": [
              "0.5"
            ]
          },
          "metadata": {},
          "execution_count": 5
        }
      ]
    },
    {
      "cell_type": "code",
      "source": [
        "#Modulus\n",
        "a%b"
      ],
      "metadata": {
        "colab": {
          "base_uri": "https://localhost:8080/"
        },
        "id": "cTod42XXcFTA",
        "outputId": "2909a8ad-a523-47d6-fb10-4264cee5c4b9"
      },
      "execution_count": 9,
      "outputs": [
        {
          "output_type": "execute_result",
          "data": {
            "text/plain": [
              "5"
            ]
          },
          "metadata": {},
          "execution_count": 9
        }
      ]
    },
    {
      "cell_type": "code",
      "source": [
        "#Exponentiation\n",
        "4**2"
      ],
      "metadata": {
        "colab": {
          "base_uri": "https://localhost:8080/"
        },
        "id": "tzMmMv7rcbq6",
        "outputId": "9708a388-7154-41bc-858a-6c775ab0f23b"
      },
      "execution_count": 8,
      "outputs": [
        {
          "output_type": "execute_result",
          "data": {
            "text/plain": [
              "16"
            ]
          },
          "metadata": {},
          "execution_count": 8
        }
      ]
    },
    {
      "cell_type": "code",
      "source": [
        "#floor division\n",
        "9//2"
      ],
      "metadata": {
        "colab": {
          "base_uri": "https://localhost:8080/"
        },
        "id": "tPcZ2KeUcr2T",
        "outputId": "ad26132c-a803-41d6-d09b-e113a6ac913c"
      },
      "execution_count": 11,
      "outputs": [
        {
          "output_type": "execute_result",
          "data": {
            "text/plain": [
              "4"
            ]
          },
          "metadata": {},
          "execution_count": 11
        }
      ]
    },
    {
      "cell_type": "markdown",
      "source": [
        "###2. Comparison Operators >>Comparison Operators compare two values, Based on the comparison, they produce a Boolean value (True or False).Operatins including Equals, Not equals, Greater than, Less than, Greater than or equal to, Less than or equal to."
      ],
      "metadata": {
        "id": "YEl8eDuidi7H"
      }
    },
    {
      "cell_type": "code",
      "source": [
        "a = 4\n",
        "b = 5\n",
        "# Equal\n",
        "print (\"a == b : \", a == b)\n",
        "# Not Equal\n",
        "print (\"a != b : \", a != b)\n",
        "# Greater Than\n",
        "print (\"a > b : \", a > b)\n",
        "# Less Than\n",
        "print (\"a < b : \", a < b)\n",
        "# Greater Than or Equal to\n",
        "print (\"a >= b : \", a >= b)\n",
        "# Less Than or Equal to\n",
        "print (\"a <= b : \", a <= b)\n"
      ],
      "metadata": {
        "colab": {
          "base_uri": "https://localhost:8080/"
        },
        "id": "L8XewMj1dJs9",
        "outputId": "b8958ce2-0282-4422-9b0a-ea0f6e68b5b8"
      },
      "execution_count": 12,
      "outputs": [
        {
          "output_type": "stream",
          "name": "stdout",
          "text": [
            "a == b :  False\n",
            "a != b :  True\n",
            "a > b :  False\n",
            "a < b :  True\n",
            "a >= b :  False\n",
            "a <= b :  True\n"
          ]
        }
      ]
    },
    {
      "cell_type": "markdown",
      "source": [
        "\n",
        "###3. Assignment operators >> are used to assign values to variables in Python. The single equal symbol (=) is the most fundamental assignment operator. It assigns the value on the operator's right side to the variable on the operator's left side."
      ],
      "metadata": {
        "id": "47C_Mz1LqAON"
      }
    },
    {
      "cell_type": "code",
      "source": [
        "# Assignment Operator\n",
        "a = 10\n",
        "# Addition Assignment\n",
        "a += 5\n",
        "print (\"a += 5 : \", a)\n",
        "# Subtraction Assignment\n",
        "a -= 5\n",
        "print (\"a -= 5 : \", a)\n",
        "# Multiplication Assignment\n",
        "a *= 5\n",
        "print (\"a *= 5 : \", a)\n",
        "# Division Assignment\n",
        "a /= 5\n",
        "print (\"a /= 5 : \",a)\n",
        "# Remainder Assignment\n",
        "a %= 3\n",
        "print (\"a %= 3 : \", a)\n",
        "# Exponent Assignment\n",
        "a **= 2\n",
        "print (\"a **= 2 : \", a)\n",
        "# Floor Division Assignment\n",
        "a //= 3\n",
        "print (\"a //= 3 : \", a)"
      ],
      "metadata": {
        "colab": {
          "base_uri": "https://localhost:8080/"
        },
        "id": "jJtdTdKdqOud",
        "outputId": "7b8e1197-9ecd-466e-f75e-c268398eec65"
      },
      "execution_count": 13,
      "outputs": [
        {
          "output_type": "stream",
          "name": "stdout",
          "text": [
            "a += 5 :  15\n",
            "a -= 5 :  10\n",
            "a *= 5 :  50\n",
            "a /= 5 :  10.0\n",
            "a %= 3 :  1.0\n",
            "a **= 2 :  1.0\n",
            "a //= 3 :  0.0\n"
          ]
        }
      ]
    },
    {
      "cell_type": "code",
      "source": [],
      "metadata": {
        "id": "i2DANzNkrhkJ"
      },
      "execution_count": null,
      "outputs": []
    },
    {
      "cell_type": "markdown",
      "source": [
        "###4. Bitwise operators execute operations on individual bits of binary integers.They work with integer binary representations, performing logical operations on each bit location.\n",
        "###Python includes various bitwise operators, such as AND (&), OR (|), NOT (), XOR (), left shift (), and right shift (>>)."
      ],
      "metadata": {
        "id": "M10PEJ9QqaLx"
      }
    },
    {
      "cell_type": "code",
      "source": [
        "a = 60 # 60 = 0011 1100\n",
        "b = 13 # 13 = 0000 1101\n",
        "# Binary AND\n",
        "c = a & b # 12 = 0000 1100\n",
        "print (\"a & b : \", c)\n",
        "# Binary OR\n",
        "c = a | b # 61 = 0011 1101\n",
        "print (\"a | b : \", c)\n",
        "# Binary XOR\n",
        "c = a ^ b # 49 = 0011 0001\n",
        "print (\"a ^ b : \", c)\n",
        "# Binary Ones Complement\n",
        "c = ~a; # -61 = 1100 0011\n",
        "print (\"~a : \", c)\n",
        "# Binary Left Shift\n",
        "c = a << 2; # 240 = 1111 0000\n",
        "print (\"a << 2 : \", c)\n",
        "# Binary Right Shift\n",
        "c = a >> 2; # 15 = 0000 1111\n",
        "print (\"a >> 2 : \", c)"
      ],
      "metadata": {
        "colab": {
          "base_uri": "https://localhost:8080/"
        },
        "id": "mQx1chHYqPcW",
        "outputId": "590ab29a-cdc5-45ff-e7ac-17b88372ce72"
      },
      "execution_count": 14,
      "outputs": [
        {
          "output_type": "stream",
          "name": "stdout",
          "text": [
            "a & b :  12\n",
            "a | b :  61\n",
            "a ^ b :  49\n",
            "~a :  -61\n",
            "a << 2 :  240\n",
            "a >> 2 :  15\n"
          ]
        }
      ]
    },
    {
      "cell_type": "markdown",
      "source": [
        "###5. logical operators >> are used to compose Boolean expressions and evaluate their truth values. They are required for the creation of conditional statements as well as for managing the flow of execution in programs.\n",
        "###Python has three basic logical operators: AND, OR, and NOT."
      ],
      "metadata": {
        "id": "tTMlcevfr6c1"
      }
    },
    {
      "cell_type": "code",
      "source": [
        "#and\n",
        "x = 5\n",
        "y = 10\n",
        "if x > 3 and y < 15:\n",
        "  print(\"Both x and y are within the specified range\")"
      ],
      "metadata": {
        "colab": {
          "base_uri": "https://localhost:8080/"
        },
        "id": "vouIT_bfr9Ma",
        "outputId": "3b85b16d-ec08-4167-d5f2-7ac0031c9a03"
      },
      "execution_count": 15,
      "outputs": [
        {
          "output_type": "stream",
          "name": "stdout",
          "text": [
            "Both x and y are within the specified range\n"
          ]
        }
      ]
    },
    {
      "cell_type": "code",
      "source": [
        "#or\n",
        "a = 10\n",
        "b = 12\n",
        "c = 0\n",
        "if a or b or c:\n",
        "    print(\"Atleast one number has boolean value as True\")\n",
        "else:\n",
        "    print(\"All the numbers have boolean value as False\")\n"
      ],
      "metadata": {
        "colab": {
          "base_uri": "https://localhost:8080/"
        },
        "id": "SbSryqOlu_zG",
        "outputId": "4331e9e1-ab18-40c3-83eb-5abd957389d9"
      },
      "execution_count": 19,
      "outputs": [
        {
          "output_type": "stream",
          "name": "stdout",
          "text": [
            "Atleast one number has boolean value as True\n"
          ]
        }
      ]
    },
    {
      "cell_type": "code",
      "source": [
        "#not\n",
        "a = 10\n",
        "\n",
        "if not a:\n",
        "    print(\"Boolean value of a is True\")\n",
        "if not (a % 3 == 0 or a % 5 == 0):\n",
        "    print(\"10 is not divisible by either 3 or 5\")\n",
        "else:\n",
        "    print(\"10 is divisible by either 3 or 5\")\n"
      ],
      "metadata": {
        "colab": {
          "base_uri": "https://localhost:8080/"
        },
        "id": "I-pplp1MvxIN",
        "outputId": "15c58236-6873-4c7e-b4aa-3dac1a7ee7a9"
      },
      "execution_count": 20,
      "outputs": [
        {
          "output_type": "stream",
          "name": "stdout",
          "text": [
            "10 is divisible by either 3 or 5\n"
          ]
        }
      ]
    },
    {
      "cell_type": "markdown",
      "source": [
        "###6. Python membership operators are used to determine whether or not a certain value occurs within a sequence. They make it simple to determine the membership of elements in various Python data structures such as lists, tuples, sets, and strings.\n",
        "###Python has two primary membership operators: the in and not in operators."
      ],
      "metadata": {
        "id": "4vL2jsSXwyBF"
      }
    },
    {
      "cell_type": "code",
      "source": [
        "fruits = [\"apple\", \"banana\", \"cherry\"]\n",
        "if \"banana\" in fruits:\n",
        "    print(\"Yes, banana is a fruit!\")\n",
        "else:\n",
        "    print(\"No, banana is not a fruit!\")"
      ],
      "metadata": {
        "colab": {
          "base_uri": "https://localhost:8080/"
        },
        "id": "Seb8pb6axrUA",
        "outputId": "7552991f-cbeb-4c7f-9460-c80a95800583"
      },
      "execution_count": 21,
      "outputs": [
        {
          "output_type": "stream",
          "name": "stdout",
          "text": [
            "Yes, banana is a fruit!\n"
          ]
        }
      ]
    },
    {
      "cell_type": "code",
      "source": [
        "fruits = [\"apple\", \"banana\", \"cherry\"]\n",
        "if \"banana\" not in fruits:\n",
        "    print(\"Yes, banana is a fruit!\")\n",
        "else:\n",
        "    print(\"No, banana is not a fruit!\")"
      ],
      "metadata": {
        "colab": {
          "base_uri": "https://localhost:8080/"
        },
        "id": "XqsuBfCkyvPb",
        "outputId": "26def306-9364-4923-8f8a-ae223788ade4"
      },
      "execution_count": 28,
      "outputs": [
        {
          "output_type": "stream",
          "name": "stdout",
          "text": [
            "No, banana is not a fruit!\n"
          ]
        }
      ]
    },
    {
      "cell_type": "markdown",
      "source": [
        "###7. identity operators >> are used to compare two objects' memory addresses rather than their values.\n",
        "###If the two objects refer to the same memory address, they evaluate to True; otherwise, they evaluate to False.\n",
        "###Python includes two identity operators: the is and is not operators."
      ],
      "metadata": {
        "id": "nAlNemcUx8YO"
      }
    },
    {
      "cell_type": "code",
      "source": [
        "x = 10\n",
        "y = 5\n",
        "if x is y:\n",
        "    print(\"x and y are the same object\")\n",
        "else:\n",
        "    print(\"x and y are not the same object\")"
      ],
      "metadata": {
        "colab": {
          "base_uri": "https://localhost:8080/"
        },
        "id": "UqPauWGexzAc",
        "outputId": "6e4330f7-e323-4125-ddb3-da40df38b9e8"
      },
      "execution_count": 22,
      "outputs": [
        {
          "output_type": "stream",
          "name": "stdout",
          "text": [
            "x and y are not the same object\n"
          ]
        }
      ]
    },
    {
      "cell_type": "code",
      "source": [
        "x = 10\n",
        "y = 5\n",
        "if x is not y:\n",
        "    print(\"x and y are not the same object\")\n",
        "else:\n",
        "    print(\"x and y are the same object\")"
      ],
      "metadata": {
        "colab": {
          "base_uri": "https://localhost:8080/"
        },
        "id": "AE99YaUpydcJ",
        "outputId": "082dd39f-7bc5-46dd-81f3-c1dea056fc88"
      },
      "execution_count": 24,
      "outputs": [
        {
          "output_type": "stream",
          "name": "stdout",
          "text": [
            "x and y are not the same object\n"
          ]
        }
      ]
    },
    {
      "cell_type": "markdown",
      "source": [
        "#5.Explain the concept of type casting in python with examples.\n",
        "\n",
        "###Ans5. Type Casting is the method to convert the Python variable datatype into a certain data type in order to perform the required operationThere can be two types of Type Casting in Python:\n",
        "\n",
        "###1. Implicit Type Conversion\n",
        "###2. Explicit Type Conversion\n"
      ],
      "metadata": {
        "id": "DAc8-Y6Bz9qm"
      }
    },
    {
      "cell_type": "code",
      "source": [
        "#Implicit Type Conversion >> In this, method, Python converts the datatype into another datatype automatically.\n",
        "#we don’t have to involve in this process\n",
        "# Python program to demonstrate\n",
        "# implicit type Casting\n",
        "\n",
        "# Python automatically converts\n",
        "# a to int\n",
        "a = 7\n",
        "print(type(a))\n",
        "\n",
        "# Python automatically converts\n",
        "# b to float\n",
        "b = 3.0\n",
        "print(type(b))\n",
        "\n",
        "# Python automatically converts\n",
        "# c to float as it is a float addition\n",
        "c = a + b\n",
        "print(c)\n",
        "print(type(c))\n",
        "\n",
        "# Python automatically converts\n",
        "# d to float as it is a float multiplication\n",
        "d = a * b\n",
        "print(d)\n",
        "print(type(d))\n"
      ],
      "metadata": {
        "colab": {
          "base_uri": "https://localhost:8080/"
        },
        "id": "X7qZXfjRykSF",
        "outputId": "c9074f84-e6c1-4d0c-a9d5-04b3cbb6b31f"
      },
      "execution_count": 29,
      "outputs": [
        {
          "output_type": "stream",
          "name": "stdout",
          "text": [
            "<class 'int'>\n",
            "<class 'float'>\n",
            "10.0\n",
            "<class 'float'>\n",
            "21.0\n",
            "<class 'float'>\n"
          ]
        }
      ]
    },
    {
      "cell_type": "code",
      "source": [
        "#Explicit Type Conversion >> In this method, Python needs user involvement to convert the variable data type into the required data type.\n",
        "#Mainly type casting can be done with these data type functions:\n",
        "\n",
        "#Int() >> Int() function take float or string as an argument and returns int type object.\n",
        "#float() >>  float() function take int or string as an argument and return float type object.\n",
        "#str() >> str() function takes float or int as an argument and returns string type object."
      ],
      "metadata": {
        "id": "DJYTkhgU5iAx"
      },
      "execution_count": null,
      "outputs": []
    },
    {
      "cell_type": "code",
      "source": [
        "# Python program to demonstrate\n",
        "# type Casting\n",
        "\n",
        "# int variable\n",
        "a = 5\n",
        "\n",
        "# typecast to float\n",
        "n = float(a)\n",
        "\n",
        "print(n)\n",
        "print(type(n))\n"
      ],
      "metadata": {
        "colab": {
          "base_uri": "https://localhost:8080/"
        },
        "id": "sb_st1cc6cOf",
        "outputId": "91b9e8e8-50b3-4f4e-d304-2e428e3beb13"
      },
      "execution_count": 30,
      "outputs": [
        {
          "output_type": "stream",
          "name": "stdout",
          "text": [
            "5.0\n",
            "<class 'float'>\n"
          ]
        }
      ]
    },
    {
      "cell_type": "code",
      "source": [
        "# Python program to demonstrate\n",
        "# type Casting\n",
        "\n",
        "# int variable\n",
        "a = 5.9\n",
        "\n",
        "# typecast to int\n",
        "n = int(a)\n",
        "\n",
        "print(n)\n",
        "print(type(n))\n"
      ],
      "metadata": {
        "colab": {
          "base_uri": "https://localhost:8080/"
        },
        "id": "rB0Sxpfi6tBb",
        "outputId": "98a11185-db90-4c2d-c755-9fc6dc8e241e"
      },
      "execution_count": 31,
      "outputs": [
        {
          "output_type": "stream",
          "name": "stdout",
          "text": [
            "5\n",
            "<class 'int'>\n"
          ]
        }
      ]
    },
    {
      "cell_type": "code",
      "source": [
        "# Python program to demonstrate\n",
        "# type Casting\n",
        "\n",
        "# int variable\n",
        "a = 5\n",
        "\n",
        "# typecast to str\n",
        "n = str(a)\n",
        "\n",
        "print(n)\n",
        "print(type(n))\n"
      ],
      "metadata": {
        "colab": {
          "base_uri": "https://localhost:8080/"
        },
        "id": "9gL1nkvv6t8k",
        "outputId": "d070bc5a-56c5-43fe-edad-d7b6baccb84c"
      },
      "execution_count": 32,
      "outputs": [
        {
          "output_type": "stream",
          "name": "stdout",
          "text": [
            "5\n",
            "<class 'str'>\n"
          ]
        }
      ]
    },
    {
      "cell_type": "code",
      "source": [
        "# Python program to demonstrate\n",
        "# type Casting\n",
        "\n",
        "# string variable\n",
        "a = \"5.9\"\n",
        "\n",
        "# typecast to float\n",
        "n = float(a)\n",
        "\n",
        "print(n)\n",
        "print(type(n))\n"
      ],
      "metadata": {
        "colab": {
          "base_uri": "https://localhost:8080/"
        },
        "id": "DVLVZnfF60Ih",
        "outputId": "606bbbe5-8f9c-4445-efbf-2246c4916630"
      },
      "execution_count": 33,
      "outputs": [
        {
          "output_type": "stream",
          "name": "stdout",
          "text": [
            "5.9\n",
            "<class 'float'>\n"
          ]
        }
      ]
    },
    {
      "cell_type": "markdown",
      "source": [
        "#6.How do conditional statements work in python? illustrate with examples.\n",
        "\n",
        "###Ans6. Conditional statements are an essential part of programming in Python. They allow us to make decisions based on the values of variables or the result of comparisons.\n",
        "### In conditional statement there are if, else, elif statement in python."
      ],
      "metadata": {
        "id": "tFxtFQ7v7odA"
      }
    },
    {
      "cell_type": "markdown",
      "source": [
        "###if condition >> code to execute if condition is true\n",
        "###If the condition is True, the code block indented below the if statement will be executed.\n",
        "### If the condition is False, the code block will be skipped."
      ],
      "metadata": {
        "id": "3jSxWpZhBRQF"
      }
    },
    {
      "cell_type": "code",
      "source": [
        "\n",
        "num = 5\n",
        "\n",
        "if num > 0:\n",
        "    print(\"The number is positive.\")"
      ],
      "metadata": {
        "colab": {
          "base_uri": "https://localhost:8080/"
        },
        "id": "wjDw5wCq9i2h",
        "outputId": "fe77d02a-2b40-466b-b396-0d2896360de9"
      },
      "execution_count": 34,
      "outputs": [
        {
          "output_type": "stream",
          "name": "stdout",
          "text": [
            "The number is positive.\n"
          ]
        }
      ]
    },
    {
      "cell_type": "markdown",
      "source": [
        "###The else conditions >> else statement allows us to execute a different block of code if the if condition is False\n",
        "###If the condition is True, the code block indented below the if statement will be executed, and the code block indented below the else statement will be skipped.\n",
        "###If the condition is False, the code block indented below the else statement will be executed, and the code block indented below the if statement will be skipped."
      ],
      "metadata": {
        "id": "Ssc_38UoA_qb"
      }
    },
    {
      "cell_type": "code",
      "source": [
        "num = -5\n",
        "\n",
        "if num > 0:\n",
        "    print(\"The number is positive.\")\n",
        "else:\n",
        "    print(\"The number is negative.\")"
      ],
      "metadata": {
        "colab": {
          "base_uri": "https://localhost:8080/"
        },
        "id": "-vopu3Fa9izA",
        "outputId": "5c5f191a-4863-4eb3-8baf-584f5cf189a5"
      },
      "execution_count": 35,
      "outputs": [
        {
          "output_type": "stream",
          "name": "stdout",
          "text": [
            "The number is negative.\n"
          ]
        }
      ]
    },
    {
      "cell_type": "markdown",
      "source": [
        "###The elif condition >> elif statement allows you to check multiple conditions in sequence, and execute different code blocks depending on which condition is true.The elif statement is short for \"else if\", and can be used multiple times to check additional conditions."
      ],
      "metadata": {
        "id": "7V5nWeddAuw4"
      }
    },
    {
      "cell_type": "code",
      "source": [
        "score = 85\n",
        "\n",
        "if score >= 90:\n",
        "    grade = \"A\"\n",
        "elif score >= 80:\n",
        "    grade = \"B\"\n",
        "elif score >= 70:\n",
        "    grade = \"C\"\n",
        "elif score >= 60:\n",
        "    grade = \"D\"\n",
        "else:\n",
        "    grade = \"F\"\n",
        "\n",
        "print(\"Your grade is:\", grade)"
      ],
      "metadata": {
        "colab": {
          "base_uri": "https://localhost:8080/"
        },
        "id": "FGdr3H7SAtDp",
        "outputId": "819af4c2-c481-4eca-df40-fdc4c080d52f"
      },
      "execution_count": 36,
      "outputs": [
        {
          "output_type": "stream",
          "name": "stdout",
          "text": [
            "Your grade is: B\n"
          ]
        }
      ]
    },
    {
      "cell_type": "code",
      "source": [],
      "metadata": {
        "id": "kGiY7cMXB0Ig"
      },
      "execution_count": null,
      "outputs": []
    }
  ]
}