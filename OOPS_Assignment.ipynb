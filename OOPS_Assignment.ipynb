{
  "nbformat": 4,
  "nbformat_minor": 0,
  "metadata": {
    "colab": {
      "provenance": []
    },
    "kernelspec": {
      "name": "python3",
      "display_name": "Python 3"
    },
    "language_info": {
      "name": "python"
    }
  },
  "cells": [
    {
      "cell_type": "markdown",
      "source": [
        "#OOPS Assignment"
      ],
      "metadata": {
        "id": "MuBIgKc6NDs8"
      }
    },
    {
      "cell_type": "markdown",
      "source": [
        "\n",
        "###1. What are the five key concepts of Object-Oriented Programming (OOP)?\n",
        "\n",
        "Ans...The five key concepts of Object-Oriented Programming (OOP) are:\n",
        "\n",
        "1. **Encapsulation**: This concept involves bundling data and methods that operate on that data within a single unit, usually called a class. It restricts direct access to some of an object's components, which helps protect the object's integrity.\n",
        "\n",
        "2. **Abstraction**: Abstraction focuses on hiding complex implementation details and showing only the essential features of an object. This simplifies interaction with the object and allows programmers to work with higher-level concepts.\n",
        "\n",
        "3. **Inheritance**: Inheritance allows a new class (subclass) to inherit properties and behaviors (methods) from an existing class (superclass). This promotes code reusability and establishes a hierarchical relationship between classes.\n",
        "\n",
        "4. **Polymorphism**: Polymorphism enables objects to be treated as instances of their parent class. It allows methods to be used interchangeably, with the specific method that gets executed determined at runtime, enhancing flexibility and extensibility.\n",
        "\n",
        "5. **Composition**: Composition involves constructing complex objects by combining simpler ones. Instead of inheriting from a parent class, a class can contain instances of other classes, promoting code reuse and flexibility.\n",
        "\n",
        "These concepts work together to create a robust framework for building modular, maintainable, and scalable software."
      ],
      "metadata": {
        "id": "LzXHUIjCb1ZS"
      }
    },
    {
      "cell_type": "markdown",
      "source": [
        "###2. Write a Python class for a Car with attributes for make, model, and year. Include a method to display the car's information.\n",
        "Ans... A Python class for a Car with the specified attributes and a method to display the car's information:"
      ],
      "metadata": {
        "id": "izu7Tg_pcXoE"
      }
    },
    {
      "cell_type": "code",
      "execution_count": 2,
      "metadata": {
        "colab": {
          "base_uri": "https://localhost:8080/"
        },
        "id": "lW-bqfYuWpdb",
        "outputId": "bc1ddbaa-0ae4-486f-fbe6-90561adcbbd3"
      },
      "outputs": [
        {
          "output_type": "stream",
          "name": "stdout",
          "text": [
            "Car Make: Toyota\n",
            "Car Model: Corolla\n",
            "Car Year: 2020\n"
          ]
        }
      ],
      "source": [
        "class Car:\n",
        "    def __init__(self, make, model, year):\n",
        "        self.make = make\n",
        "        self.model = model\n",
        "        self.year = year\n",
        "\n",
        "\n",
        "  #The __init__ method initializes the attributes make, model, and year.\n",
        "  #The display_info method prints out the car's details.\n",
        "\n",
        "    def display_info(self):\n",
        "        print(f\"Car Make: {self.make}\")\n",
        "        print(f\"Car Model: {self.model}\")\n",
        "        print(f\"Car Year: {self.year}\")\n",
        "\n",
        "# Example usage\n",
        "my_car = Car(\"Toyota\", \"Corolla\", 2020)\n",
        "my_car.display_info()\n"
      ]
    },
    {
      "cell_type": "markdown",
      "source": [
        "###3. Explain the difference between instance methods and class methods. Provide an example of each.\n",
        "\n",
        "Ans...Instance Methods: Instance methods are functions that belong to an instance of a class. They can access and modify the instance's attributes. The first parameter of an instance method is typically self, which refers to the instance calling the method.\n",
        "\n",
        "Class Methods: Class methods are functions that belong to the class itself rather than any particular instance. They can modify class-level attributes and are often used for factory methods. The first parameter of a class method is cls, which refers to the class.\n",
        "\n",
        "\n"
      ],
      "metadata": {
        "id": "EFlgPefCb0Ny"
      }
    },
    {
      "cell_type": "code",
      "source": [
        "class Dog:\n",
        "    def __init__(self, name):\n",
        "        self.name = name\n",
        "\n",
        "    def bark(self):\n",
        "        return f\"{self.name} says woof!\"\n",
        "\n",
        "# Creating an instance\n",
        "my_dog = Dog(\"Buddy\")\n",
        "print(my_dog.bark())\n"
      ],
      "metadata": {
        "colab": {
          "base_uri": "https://localhost:8080/"
        },
        "id": "zap-PitOeUx3",
        "outputId": "4bfe92a0-4694-4504-bd4f-d94279af2a6b"
      },
      "execution_count": 3,
      "outputs": [
        {
          "output_type": "stream",
          "name": "stdout",
          "text": [
            "Buddy says woof!\n"
          ]
        }
      ]
    },
    {
      "cell_type": "code",
      "source": [
        "class Dog:\n",
        "    species = \"Canis lupus familiaris\"  # Class attribute\n",
        "\n",
        "    @classmethod\n",
        "    def get_species(cls):\n",
        "        return cls.species\n",
        "\n",
        "print(Dog.get_species())\n"
      ],
      "metadata": {
        "colab": {
          "base_uri": "https://localhost:8080/"
        },
        "id": "5ADFc1jpeoZK",
        "outputId": "3fd094af-63ef-4878-a608-73d4096f912d"
      },
      "execution_count": 4,
      "outputs": [
        {
          "output_type": "stream",
          "name": "stdout",
          "text": [
            "Canis lupus familiaris\n"
          ]
        }
      ]
    },
    {
      "cell_type": "markdown",
      "source": [
        "###4. How does Python implement method overloading? Give an example.\n",
        "\n",
        "Ans...Python does not support method overloading in the traditional sense found in some other languages (like Java or C++), where multiple methods with the same name can coexist with different parameter lists. Instead, Python allows us to define a single method and then handle different types or numbers of arguments within that method.\n",
        "We can achieve similar functionality using default arguments or variable-length arguments. Here’s an example using default arguments:"
      ],
      "metadata": {
        "id": "7B1vRKSGe7lm"
      }
    },
    {
      "cell_type": "code",
      "source": [
        "class Calculator:\n",
        "    def add(self, a, b, c=0):  # c has a default value\n",
        "        return a + b + c\n",
        "\n",
        "# Example usage\n",
        "calc = Calculator()\n",
        "print(calc.add(2, 3))      # Output: 5 (uses default c=0)\n",
        "print(calc.add(2, 3, 4))   # Output: 9 (provides all three arguments)\n"
      ],
      "metadata": {
        "colab": {
          "base_uri": "https://localhost:8080/"
        },
        "id": "3GtWlEcie6zD",
        "outputId": "4f453c95-3b1c-4a0f-c557-4afc3e30b60c"
      },
      "execution_count": 6,
      "outputs": [
        {
          "output_type": "stream",
          "name": "stdout",
          "text": [
            "5\n",
            "9\n"
          ]
        }
      ]
    },
    {
      "cell_type": "code",
      "source": [
        "class Calculator:\n",
        "    def add(self, *args):\n",
        "        return sum(args)\n",
        "\n",
        "# Example usage\n",
        "calc = Calculator()\n",
        "print(calc.add(2, 3))              # Output: 5\n",
        "print(calc.add(2, 3, 4))           # Output: 9\n",
        "print(calc.add(1, 2, 3, 4, 5))     # Output: 15\n"
      ],
      "metadata": {
        "colab": {
          "base_uri": "https://localhost:8080/"
        },
        "id": "NRCAEBKcoKr3",
        "outputId": "ccca17e9-c2cf-4a61-9f17-7895aa113dcf"
      },
      "execution_count": 5,
      "outputs": [
        {
          "output_type": "stream",
          "name": "stdout",
          "text": [
            "5\n",
            "9\n",
            "15\n"
          ]
        }
      ]
    },
    {
      "cell_type": "markdown",
      "source": [
        "###5. What are the three types of access modifiers in Python? How are they denoted?\n",
        "\n",
        "Ans...Python has three types of access modifiers, denoted as follows:\n",
        "\n",
        "Public: Attributes and methods are accessible from outside the class. Denoted by no special prefix.\n",
        "\n",
        "Example: self.attribute\n",
        "Protected: Attributes and methods are intended for use within the class and its subclasses. Denoted by a single underscore prefix.\n",
        "\n",
        "Example: self._attribute\n",
        "Private: Attributes and methods are not accessible from outside the class. Denoted by a double underscore prefix.\n",
        "\n",
        "Example: self.__attribute"
      ],
      "metadata": {
        "id": "7ebYQ1IZrAtI"
      }
    },
    {
      "cell_type": "code",
      "source": [
        "class MyClass:\n",
        "    def __init__(self):\n",
        "        self.public_attribute = \"I am public\"\n"
      ],
      "metadata": {
        "id": "x1T9O0B9pq-o"
      },
      "execution_count": 4,
      "outputs": []
    },
    {
      "cell_type": "code",
      "source": [
        "class MyClass:\n",
        "    def __init__(self):\n",
        "        self._protected_attribute = \"I am protected\"\n"
      ],
      "metadata": {
        "id": "jJOjWfoxqXXi"
      },
      "execution_count": 6,
      "outputs": []
    },
    {
      "cell_type": "code",
      "source": [
        "class MyClass:\n",
        "    def __init__(self):\n",
        "        self.__private_attribute = \"I am private\"\n"
      ],
      "metadata": {
        "id": "kaFzKR9Hqkbv"
      },
      "execution_count": 7,
      "outputs": []
    },
    {
      "cell_type": "markdown",
      "source": [
        "###6. Describe the five types of inheritance in Python. Provide a simple example of multiple inheritance.\n",
        "\n",
        "Ans...The five types of inheritance in Python, along with a simple example of multiple inheritance:\n",
        "Single Inheritance: One subclass, one superclass.\n",
        "Multiple Inheritance: One subclass, multiple superclasses.\n",
        "Multilevel Inheritance: A chain of inheritance.\n",
        "Hierarchical Inheritance: Multiple subclasses share one superclass.\n",
        "Hybrid Inheritance: A mix of two or more types of inheritance."
      ],
      "metadata": {
        "id": "SgX0LMdstRaP"
      }
    },
    {
      "cell_type": "code",
      "source": [
        "class Parent:\n",
        "    def speak(self):\n",
        "        return \"Parent speaking\"\n",
        "\n",
        "class Child(Parent):\n",
        "    def play(self):\n",
        "        return \"Child playing\"\n",
        "\n",
        "child = Child()\n",
        "print(child.speak())  # Output: Parent speaking\n"
      ],
      "metadata": {
        "colab": {
          "base_uri": "https://localhost:8080/"
        },
        "id": "I1g0I1lDtv_K",
        "outputId": "0be9fd12-2d95-4661-b091-d835183bade8"
      },
      "execution_count": 1,
      "outputs": [
        {
          "output_type": "stream",
          "name": "stdout",
          "text": [
            "Parent speaking\n"
          ]
        }
      ]
    },
    {
      "cell_type": "code",
      "source": [
        "class Parent1:\n",
        "    def method1(self):\n",
        "        return \"Method from Parent1\"\n",
        "\n",
        "class Parent2:\n",
        "    def method2(self):\n",
        "        return \"Method from Parent2\"\n",
        "\n",
        "class Child(Parent1, Parent2):\n",
        "    def method3(self):\n",
        "        return \"Method from Child\"\n",
        "\n",
        "child = Child()\n",
        "print(child.method1())  # Output: Method from Parent1\n",
        "print(child.method2())  # Output: Method from Parent2\n"
      ],
      "metadata": {
        "colab": {
          "base_uri": "https://localhost:8080/"
        },
        "id": "DjaTunTnt0zl",
        "outputId": "1ede55e1-34ef-4633-d894-027a3ced5e32"
      },
      "execution_count": 2,
      "outputs": [
        {
          "output_type": "stream",
          "name": "stdout",
          "text": [
            "Method from Parent1\n",
            "Method from Parent2\n"
          ]
        }
      ]
    },
    {
      "cell_type": "code",
      "source": [
        "class Grandparent:\n",
        "    def talk(self):\n",
        "        return \"Grandparent talking\"\n",
        "\n",
        "class Parent(Grandparent):\n",
        "    def discuss(self):\n",
        "        return \"Parent discussing\"\n",
        "\n",
        "class Child(Parent):\n",
        "    def chat(self):\n",
        "        return \"Child chatting\"\n",
        "\n",
        "child = Child()\n",
        "print(child.talk())     # Output: Grandparent talking\n"
      ],
      "metadata": {
        "colab": {
          "base_uri": "https://localhost:8080/"
        },
        "id": "JVMzRWYOt0wK",
        "outputId": "17605fc7-ae5b-44e0-fb9b-4ffb85b47084"
      },
      "execution_count": 12,
      "outputs": [
        {
          "output_type": "stream",
          "name": "stdout",
          "text": [
            "Grandparent talking\n"
          ]
        }
      ]
    },
    {
      "cell_type": "code",
      "source": [
        "class Parent:\n",
        "    def greet(self):\n",
        "        return \"Hello from Parent\"\n",
        "\n",
        "class Child1(Parent):\n",
        "    def hello(self):\n",
        "        return \"Hello from Child1\"\n",
        "\n",
        "class Child2(Parent):\n",
        "    def hi(self):\n",
        "        return \"Hi from Child2\"\n",
        "\n",
        "child1 = Child1()\n",
        "child2 = Child2()\n",
        "print(child1.greet())  # Output: Hello from Parent\n",
        "print(child2.greet())  # Output: Hello from Parent\n"
      ],
      "metadata": {
        "colab": {
          "base_uri": "https://localhost:8080/"
        },
        "id": "C-HHKYact0tK",
        "outputId": "3e4eac4a-b5d5-48cf-dcbb-614b98e03ae3"
      },
      "execution_count": 13,
      "outputs": [
        {
          "output_type": "stream",
          "name": "stdout",
          "text": [
            "Hello from Parent\n",
            "Hello from Parent\n"
          ]
        }
      ]
    },
    {
      "cell_type": "code",
      "source": [
        "class Base:\n",
        "    def base_method(self):\n",
        "        return \"Base method\"\n",
        "\n",
        "class Derived1(Base):\n",
        "    def derived1_method(self):\n",
        "        return \"Derived1 method\"\n",
        "\n",
        "class Derived2(Base):\n",
        "    def derived2_method(self):\n",
        "        return \"Derived2 method\"\n",
        "\n",
        "class Child(Derived1, Derived2):\n",
        "    def child_method(self):\n",
        "        return \"Child method\"\n",
        "\n",
        "child = Child()\n",
        "print(child.base_method())  # Output: Base method\n"
      ],
      "metadata": {
        "colab": {
          "base_uri": "https://localhost:8080/"
        },
        "id": "-EyWbitrt0qB",
        "outputId": "a394569f-1cea-49c7-a21e-7e0ba663e1c4"
      },
      "execution_count": 14,
      "outputs": [
        {
          "output_type": "stream",
          "name": "stdout",
          "text": [
            "Base method\n"
          ]
        }
      ]
    },
    {
      "cell_type": "markdown",
      "source": [
        "\n",
        "###7. What is the Method Resolution Order (MRO) in Python? How can you retrieve it programmatically?\n",
        "\n",
        "Ans...The Method Resolution Order (MRO) in Python defines the order in which base classes are searched when calling a method on an object. This is particularly important in the case of multiple inheritance, where the same method might exist in different parent classes. The MRO ensures that the correct method is called based on the inheritance hierarchy.\n",
        "\n",
        "Python uses the C3 linearization algorithm (or C3 superclass linearization) to determine the MRO, which ensures a consistent and predictable order of resolution.\n",
        "We can retrieve the MRO using ClassName.mro()  or 'ClassName.__mro__'."
      ],
      "metadata": {
        "id": "6x00B2WNu2Hj"
      }
    },
    {
      "cell_type": "code",
      "source": [
        "class A:\n",
        "    pass\n",
        "\n",
        "class B(A):\n",
        "    pass\n",
        "\n",
        "class C(A):\n",
        "    pass\n",
        "\n",
        "class D(B, C):\n",
        "    pass\n",
        "\n",
        "# Retrieving MRO\n",
        "print(D.mro())\n",
        "print(D.__mro__)"
      ],
      "metadata": {
        "colab": {
          "base_uri": "https://localhost:8080/"
        },
        "id": "bPbsyWuDt0nF",
        "outputId": "0cf72ad7-c981-42c1-9e05-f91b8e713335"
      },
      "execution_count": 15,
      "outputs": [
        {
          "output_type": "stream",
          "name": "stdout",
          "text": [
            "[<class '__main__.D'>, <class '__main__.B'>, <class '__main__.C'>, <class '__main__.A'>, <class 'object'>]\n",
            "(<class '__main__.D'>, <class '__main__.B'>, <class '__main__.C'>, <class '__main__.A'>, <class 'object'>)\n"
          ]
        }
      ]
    },
    {
      "cell_type": "markdown",
      "source": [
        "###8. Create an abstract base class `Shape` with an abstract method `area()`. Then create two subclasses`Circle` and `Rectangle` that implement the `area()` method.\n",
        "Ans...Here’s how you can create an abstract base class Shape with an abstract method area(), along with two subclasses Circle and Rectangle that implement this method in Python:\n",
        "\n",
        "\n"
      ],
      "metadata": {
        "id": "9Ep5r0Q1a2zx"
      }
    },
    {
      "cell_type": "code",
      "source": [
        "from abc import ABC, abstractmethod\n",
        "import math\n",
        "\n",
        "# Abstract Base Class\n",
        "class Shape(ABC):\n",
        "\n",
        "    @abstractmethod\n",
        "    def area(self):\n",
        "        pass\n",
        "\n",
        "# Subclass for Circle\n",
        "class Circle(Shape):\n",
        "    def __init__(self, radius):\n",
        "        self.radius = radius\n",
        "\n",
        "    def area(self):\n",
        "        return math.pi * (self.radius ** 2)\n",
        "\n",
        "# Subclass for Rectangle\n",
        "class Rectangle(Shape):\n",
        "    def __init__(self, width, height):\n",
        "        self.width = width\n",
        "        self.height = height\n",
        "\n",
        "    def area(self):\n",
        "        return self.width * self.height\n",
        "\n",
        "# Example usage\n",
        "if __name__ == \"__main__\":\n",
        "    circle = Circle(5)\n",
        "    rectangle = Rectangle(4, 6)\n",
        "\n",
        "    print(f\"Circle area: {circle.area():.2f}\")\n",
        "    print(f\"Rectangle area: {rectangle.area():.2f}\")\n"
      ],
      "metadata": {
        "colab": {
          "base_uri": "https://localhost:8080/"
        },
        "id": "ob4I1pc-t0hL",
        "outputId": "da275f6a-af2a-459c-8daa-5cdbdd22896d"
      },
      "execution_count": 8,
      "outputs": [
        {
          "output_type": "stream",
          "name": "stdout",
          "text": [
            "Circle area: 78.54\n",
            "Rectangle area: 24.00\n"
          ]
        }
      ]
    },
    {
      "cell_type": "markdown",
      "source": [
        "###9. Demonstrate polymorphism by creating a function that can work with different shape objects to calculate and print their areas.\n"
      ],
      "metadata": {
        "id": "SccaV86sgcFs"
      }
    },
    {
      "cell_type": "code",
      "source": [
        "\n",
        "from abc import ABC, abstractmethod\n",
        "import math\n",
        "\n",
        "# Abstract base class\n",
        "class Shape(ABC):\n",
        "    @abstractmethod\n",
        "    def area(self):\n",
        "        pass\n",
        "\n",
        "# Subclass for Circle\n",
        "class Circle(Shape):\n",
        "    def __init__(self, radius):\n",
        "        self.radius = radius\n",
        "\n",
        "    def area(self):\n",
        "        return math.pi * (self.radius ** 2)\n",
        "\n",
        "# Subclass for Rectangle\n",
        "class Rectangle(Shape):\n",
        "    def __init__(self, width, height):\n",
        "        self.width = width\n",
        "        self.height = height\n",
        "\n",
        "    def area(self):\n",
        "        return self.width * self.height\n",
        "\n",
        "# Function to calculate and print the area of a shape\n",
        "def print_area(shape: Shape):\n",
        "    print(f\"Area: {shape.area()}\")\n",
        "\n",
        "# Example usage\n",
        "if __name__ == \"__main__\":\n",
        "    # Creating shape objects\n",
        "    shapes = [\n",
        "        Circle(5),          # Circle with radius 5\n",
        "        Rectangle(4, 6)     # Rectangle with width 4 and height 6\n",
        "    ]\n",
        "\n",
        "    # Calculating and printing areas using polymorphism\n",
        "    print(\"Calculating areas using polymorphism:\")\n",
        "    for shape in shapes:\n",
        "        print_area(shape)  # This works with both Circle and Rectangle objects\n"
      ],
      "metadata": {
        "colab": {
          "base_uri": "https://localhost:8080/"
        },
        "id": "ejJZXguDhL4S",
        "outputId": "785485f8-3b3c-4938-da8d-577f0b58512f"
      },
      "execution_count": 9,
      "outputs": [
        {
          "output_type": "stream",
          "name": "stdout",
          "text": [
            "Calculating areas using polymorphism:\n",
            "Area: 78.53981633974483\n",
            "Area: 24\n"
          ]
        }
      ]
    },
    {
      "cell_type": "markdown",
      "source": [
        "###10. Implement encapsulation in a `BankAccount` class with private attributes for `balance` and `account_number`. Include methods for deposit, withdrawal, and balance inquiry.\n",
        "\n",
        "Ans...Here’s an implementation of encapsulation in a `BankAccount` class with private attributes for `balance` and `account_number`. This class includes methods for depositing, withdrawing, and inquiring about the balance:\n",
        "\n",
        "### Explanation:\n",
        "\n",
        "1. **Private Attributes**:\n",
        "   - `__account_number` and `__balance` are private attributes. The double underscore prefix indicates that these attributes should not be accessed directly from outside the class.\n",
        "\n",
        "2. **Constructor (`__init__`)**:\n",
        "   - Initializes the account number and initial balance.\n",
        "\n",
        "3. **Methods**:\n",
        "   - `deposit(amount)`: Increases the balance by the specified amount if it is positive.\n",
        "   - `withdraw(amount)`: Decreases the balance by the specified amount if it is positive and there are sufficient funds.\n",
        "   - `get_balance()`: Returns the current balance.\n",
        "   - `get_account_number()`: Returns the account number.\n",
        "\n",
        "4. **Example Usage**:\n",
        "   - Creates an instance of `BankAccount`, deposits and withdraws money, and prints the account balance. The private attributes are only accessed through the class methods, demonstrating encapsulation.\n",
        "\n"
      ],
      "metadata": {
        "id": "iYJ18eRXhgI_"
      }
    },
    {
      "cell_type": "code",
      "source": [
        "class BankAccount:\n",
        "    def __init__(self, account_number, initial_balance=0):\n",
        "        self.__account_number = account_number  # Private attribute\n",
        "        self.__balance = initial_balance         # Private attribute\n",
        "\n",
        "    def deposit(self, amount):\n",
        "        if amount > 0:\n",
        "            self.__balance += amount\n",
        "            print(f\"Deposited: ${amount:.2f}\")\n",
        "        else:\n",
        "            print(\"Deposit amount must be positive.\")\n",
        "\n",
        "    def withdraw(self, amount):\n",
        "        if amount > 0:\n",
        "            if amount <= self.__balance:\n",
        "                self.__balance -= amount\n",
        "                print(f\"Withdrew: ${amount:.2f}\")\n",
        "            else:\n",
        "                print(\"Insufficient funds.\")\n",
        "        else:\n",
        "            print(\"Withdrawal amount must be positive.\")\n",
        "\n",
        "    def get_balance(self):\n",
        "        return self.__balance\n",
        "\n",
        "    def get_account_number(self):\n",
        "        return self.__account_number\n",
        "\n",
        "# Example usage\n",
        "if __name__ == \"__main__\":\n",
        "    account = BankAccount(\"123456789\", 1000)\n",
        "\n",
        "    print(f\"Account Number: {account.get_account_number()}\")\n",
        "    print(f\"Initial Balance: ${account.get_balance():.2f}\")\n",
        "\n",
        "    account.deposit(500)\n",
        "    print(f\"Balance after deposit: ${account.get_balance():.2f}\")\n",
        "\n",
        "    account.withdraw(200)\n",
        "    print(f\"Balance after withdrawal: ${account.get_balance():.2f}\")\n",
        "\n",
        "    account.withdraw(2000)  # This should show insufficient funds\n"
      ],
      "metadata": {
        "colab": {
          "base_uri": "https://localhost:8080/"
        },
        "id": "sJXHSn0UhPsu",
        "outputId": "2f5e8759-1e8d-4fc8-ddb0-0b7cfb280c00"
      },
      "execution_count": 10,
      "outputs": [
        {
          "output_type": "stream",
          "name": "stdout",
          "text": [
            "Account Number: 123456789\n",
            "Initial Balance: $1000.00\n",
            "Deposited: $500.00\n",
            "Balance after deposit: $1500.00\n",
            "Withdrew: $200.00\n",
            "Balance after withdrawal: $1300.00\n",
            "Insufficient funds.\n"
          ]
        }
      ]
    },
    {
      "cell_type": "markdown",
      "source": [
        "###11. Write a class that overrides the `__str__` and `__add__` magic methods. What will these methods allow you to do?\n",
        "\n",
        "Ans...Here’s an example of a class that overrides the __str__ and __add__ magic methods. This class will allow you to represent the object as a string and define how two objects of that class can be added together."
      ],
      "metadata": {
        "id": "Ec7RMBfLjtEk"
      }
    },
    {
      "cell_type": "code",
      "source": [
        "class Vector:\n",
        "    def __init__(self, x, y):\n",
        "        self.x = x\n",
        "        self.y = y\n",
        "\n",
        "    def __str__(self):\n",
        "        return f\"Vector({self.x}, {self.y})\"\n",
        "\n",
        "    def __add__(self, other):\n",
        "        if isinstance(other, Vector):\n",
        "            return Vector(self.x + other.x, self.y + other.y)\n",
        "        return NotImplemented\n",
        "\n",
        "# Example usage\n",
        "if __name__ == \"__main__\":\n",
        "    v1 = Vector(2, 3)\n",
        "    v2 = Vector(4, 5)\n",
        "\n",
        "    # Using the __str__ method\n",
        "    print(v1)\n",
        "\n",
        "    # Using the __add__ method\n",
        "    v3 = v1 + v2\n",
        "    print(v3)\n"
      ],
      "metadata": {
        "colab": {
          "base_uri": "https://localhost:8080/"
        },
        "id": "MCnxYJNiGNkq",
        "outputId": "54dad9f1-042e-43cb-b179-080aea092a59"
      },
      "execution_count": 1,
      "outputs": [
        {
          "output_type": "stream",
          "name": "stdout",
          "text": [
            "Vector(2, 3)\n",
            "Vector(6, 8)\n"
          ]
        }
      ]
    },
    {
      "cell_type": "markdown",
      "source": [
        "###12. Create a decorator that measures and prints the execution time of a function.\n",
        "\n",
        "\n",
        "Ans...We can create a decorator in Python that measures and prints the execution time of a function using the time module. Here’s how to implement it:"
      ],
      "metadata": {
        "id": "IEswoJXPGc7w"
      }
    },
    {
      "cell_type": "code",
      "source": [
        "import time\n",
        "from functools import wraps\n",
        "\n",
        "# Decorator to measure execution time\n",
        "def timing_decorator(func):\n",
        "    @wraps(func)  # Preserves the original function's metadata\n",
        "    def wrapper(*args, **kwargs):\n",
        "        start_time = time.time()  # Start time before function execution\n",
        "        result = func(*args, **kwargs)  # Call the original function\n",
        "        end_time = time.time()  # End time after function execution\n",
        "        execution_time = end_time - start_time  # Calculate the duration\n",
        "        print(f\"Execution time of '{func.__name__}': {execution_time:.4f} seconds\")\n",
        "        return result  # Return the result of the original function\n",
        "    return wrapper\n",
        "\n",
        "# Example usage of the decorator\n",
        "@timing_decorator\n",
        "def sample_function(n):\n",
        "    total = 0\n",
        "    for i in range(n):\n",
        "        total += i\n",
        "    return total\n",
        "\n",
        "if __name__ == \"__main__\":\n",
        "    print(\"Result:\", sample_function(1000000))  # Call the decorated function\n"
      ],
      "metadata": {
        "colab": {
          "base_uri": "https://localhost:8080/"
        },
        "id": "zjD8XVgjGOiP",
        "outputId": "f86e7360-ae10-4822-fbe6-0c9b0e064960"
      },
      "execution_count": 3,
      "outputs": [
        {
          "output_type": "stream",
          "name": "stdout",
          "text": [
            "Execution time of 'sample_function': 0.0696 seconds\n",
            "Result: 499999500000\n"
          ]
        }
      ]
    },
    {
      "cell_type": "markdown",
      "source": [
        "###13. Explain the concept of the Diamond Problem in multiple inheritance. How does Python resolve it?\n",
        "\n",
        "Ans...The Diamond Problem is a common issue in object-oriented programming that arises when a class inherits from two classes that both inherit from a common superclass. This situation creates ambiguity about which superclass's method or property should be used in the derived class.\n",
        "\n",
        "Illustration of the Diamond Problem\n",
        "Consider the following class hierarchy:\n",
        "\n",
        "\n",
        "        A\n",
        "       / \\\n",
        "      B   C\n",
        "       \\ /\n",
        "        D\n",
        "\n",
        "\n",
        "In this structure:\n",
        "\n",
        "Class A is the base class. Classes B and C both inherit from A.\n",
        "Class D inherits from both B and C.\n",
        "If an instance of D calls a method defined in A, it is ambiguous whether D should inherit the method from B or C.\n",
        "\n",
        "Python resolves the Diamond Problem using the Method Resolution Order (MRO), which determines the order in which classes are searched for methods and attributes.\n",
        "\n",
        "MRO: The MRO provides a linear order in which classes are looked up. In Python, the MRO is determined using the C3 linearization algorithm.\n",
        "\n",
        "C3 Linearization:\n",
        "\n",
        "This algorithm ensures that:\n",
        "The order preserves the local precedence order (the order in which classes are defined). It respects the order of classes in the inheritance list.\n",
        "A class does not appear before its parents in the order."
      ],
      "metadata": {
        "id": "2D-lnlBVJJV5"
      }
    },
    {
      "cell_type": "code",
      "source": [
        "class A:\n",
        "    def greet(self):\n",
        "        return \"Hello from A\"\n",
        "\n",
        "class B(A):\n",
        "    def greet(self):\n",
        "        return \"Hello from B\"\n",
        "\n",
        "class C(A):\n",
        "    def greet(self):\n",
        "        return \"Hello from C\"\n",
        "\n",
        "class D(B, C):\n",
        "    pass\n",
        "\n",
        "# Example usage\n",
        "d = D()\n",
        "print(d.greet())  # Output: Hello from B\n",
        "\n",
        "# Check the Method Resolution Order\n",
        "print(D.__mro__)  # Output: (<class '__main__.D'>, <class '__main__.B'>, <class '__main__.C'>, <class '__main__.A'>, <class 'object'>)\n"
      ],
      "metadata": {
        "colab": {
          "base_uri": "https://localhost:8080/"
        },
        "id": "kA5wG96_JJ9x",
        "outputId": "14ab3f3f-9153-484d-d8bd-65c007df27bb"
      },
      "execution_count": 4,
      "outputs": [
        {
          "output_type": "stream",
          "name": "stdout",
          "text": [
            "Hello from B\n",
            "(<class '__main__.D'>, <class '__main__.B'>, <class '__main__.C'>, <class '__main__.A'>, <class 'object'>)\n"
          ]
        }
      ]
    },
    {
      "cell_type": "markdown",
      "source": [
        "###14. Write a class method that keeps track of the number of instances created from a class.\n",
        "\n",
        "Ans...We can create a class method to keep track of the number of instances created from a class by using a class variable that increments every time a new instance is initialized. Here's how to implement this:"
      ],
      "metadata": {
        "id": "QtFyCEsLLAY_"
      }
    },
    {
      "cell_type": "code",
      "source": [
        "class InstanceCounter:\n",
        "    instance_count = 0  # Class variable to track the number of instances\n",
        "\n",
        "    def __init__(self):\n",
        "        InstanceCounter.instance_count += 1  # Increment the count on instantiation\n",
        "\n",
        "    @classmethod\n",
        "    def get_instance_count(cls):\n",
        "        return cls.instance_count  # Class method to return the instance count\n",
        "\n",
        "# Example usage\n",
        "if __name__ == \"__main__\":\n",
        "    obj1 = InstanceCounter()\n",
        "    obj2 = InstanceCounter()\n",
        "    obj3 = InstanceCounter()\n",
        "\n",
        "    print(f\"Number of instances created: {InstanceCounter.get_instance_count()}\")\n"
      ],
      "metadata": {
        "colab": {
          "base_uri": "https://localhost:8080/"
        },
        "id": "_3mCstg8MF3b",
        "outputId": "7109f82d-30bb-4c65-da92-6c6c7788ac61"
      },
      "execution_count": 6,
      "outputs": [
        {
          "output_type": "stream",
          "name": "stdout",
          "text": [
            "Number of instances created: 3\n"
          ]
        }
      ]
    },
    {
      "cell_type": "markdown",
      "source": [
        "###15. Implement a static method in a class that checks if a given year is a leap year.\n",
        "\n",
        "Ans...We can implement a static method in a class that checks if a given year is a leap year using the following logic:\n",
        "\n",
        "A year is a leap year if:\n",
        "It is divisible by 4,\n",
        "Except for end-of-century years, which must be divisible by 400.\n",
        "Here’s how to implement this in a class:"
      ],
      "metadata": {
        "id": "a2b3zwViMaP-"
      }
    },
    {
      "cell_type": "code",
      "source": [
        "class YearUtils:\n",
        "    @staticmethod\n",
        "    def is_leap_year(year):\n",
        "        \"\"\"Check if the given year is a leap year.\"\"\"\n",
        "        if (year % 4 == 0 and year % 100 != 0) or (year % 400 == 0):\n",
        "            return True\n",
        "        return False\n",
        "\n",
        "# Example usage\n",
        "if __name__ == \"__main__\":\n",
        "    years_to_check = [2000, 2001, 2004, 1900, 2020, 2100]\n",
        "\n",
        "    for year in years_to_check:\n",
        "        if YearUtils.is_leap_year(year):\n",
        "            print(f\"{year} is a leap year.\")\n",
        "        else:\n",
        "            print(f\"{year} is not a leap year.\")\n"
      ],
      "metadata": {
        "colab": {
          "base_uri": "https://localhost:8080/"
        },
        "id": "LdjdimRYMxMr",
        "outputId": "150b2362-8ee5-4edb-f676-4eb2e591fa40"
      },
      "execution_count": 7,
      "outputs": [
        {
          "output_type": "stream",
          "name": "stdout",
          "text": [
            "2000 is a leap year.\n",
            "2001 is not a leap year.\n",
            "2004 is a leap year.\n",
            "1900 is not a leap year.\n",
            "2020 is a leap year.\n",
            "2100 is not a leap year.\n"
          ]
        }
      ]
    },
    {
      "cell_type": "markdown",
      "source": [],
      "metadata": {
        "id": "XCYwqyeoM5_j"
      }
    }
  ]
}