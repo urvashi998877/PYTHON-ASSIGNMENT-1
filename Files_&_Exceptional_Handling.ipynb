{
  "nbformat": 4,
  "nbformat_minor": 0,
  "metadata": {
    "colab": {
      "provenance": []
    },
    "kernelspec": {
      "name": "python3",
      "display_name": "Python 3"
    },
    "language_info": {
      "name": "python"
    }
  },
  "cells": [
    {
      "cell_type": "markdown",
      "source": [
        "#Files & Exceptional Handling\n"
      ],
      "metadata": {
        "id": "2PaFa4qJBMM7"
      }
    },
    {
      "cell_type": "markdown",
      "source": [
        "### 1. Discuss the scenarios where multithreading is preferable to multiprocessing and scenarios where multiprocessing is a better choice.\n",
        "\n",
        "Ans...\n",
        "**Multithreading**: involves running multiple threads within the same process, sharing the same memory space. It is particularly useful in scenarios where tasks are I/O-bound or require sharing a common state.\n",
        "\n",
        "**Multiprocessing**: involves running multiple processes, each with its own memory space. It is more suitable for CPU-bound tasks that require true parallelism.\n",
        "\n",
        "#### **When to Prefer Multithreading**  \n",
        "1. **I/O-Bound Tasks**: Efficient for tasks like file I/O, network requests, and database operations.  \n",
        "2. **Shared Data**: Easier to share memory (e.g., caches) between threads.  \n",
        "3. **Low Memory Overhead**: Threads are lightweight and share the same memory space.  \n",
        "4. **Concurrency**: Ideal for applications requiring responsiveness, like GUIs or web servers.  \n",
        "5. **GIL-Limited Languages**: Suitable for Python I/O tasks despite the GIL.\n",
        "\n",
        "---\n",
        "\n",
        "#### **When to Prefer Multiprocessing**\n",
        "1. **CPU-Bound Tasks**: Ideal for compute-intensive operations like data processing or scientific simulations.  \n",
        "2. **True Parallelism**: Leverages multiple CPU cores, bypassing the GIL in Python.  \n",
        "3. **Independent State**: Processes operate in isolated memory spaces, reducing risks of data corruption.  \n",
        "4. **Fault Tolerance**: Process crashes do not affect others.  \n",
        "5. **Large Memory Tasks**: Efficient for handling large datasets without shared memory constraints.  \n",
        "\n",
        "\n",
        "\n"
      ],
      "metadata": {
        "id": "K89ecn9Qidb-"
      }
    },
    {
      "cell_type": "markdown",
      "source": [
        "### 2. Describe what a process pool is and how it helps in managing multiple processes efficiently.\n",
        "\n",
        "Ans...\n",
        "A process pool is a collection of worker processes that are pre-initialized and managed by a pool manager to execute tasks in parallel. It is commonly used to distribute tasks across multiple processes efficiently without repeatedly creating and destroying processes.\n",
        "\n",
        "Pools Help in Managing Processes Efficiently:\n",
        "\n",
        "1. Reduced Overhead: Creating and destroying processes repeatedly is costly. Process pools avoid this by reusing a fixed number of worker processes.\n",
        "\n",
        "2. Parallel Execution: Tasks are distributed across multiple processes, enabling true parallel execution, particularly for CPU-bound tasks.\n",
        "\n",
        "3. Simplified Management: The pool handles process lifecycle management, task assignment, and result collection, abstracting the complexity from the developer.\n",
        "\n",
        "4. Scalability: Process pools can scale to utilize all available CPU cores, making them ideal for multi-core systems.\n",
        "\n",
        "5. Efficient Resource Utilization: By limiting the number of processes in the pool, it prevents excessive resource contention and ensures system stability."
      ],
      "metadata": {
        "id": "nTaPC5_Ai9r-"
      }
    },
    {
      "cell_type": "code",
      "source": [
        "from multiprocessing import Pool\n",
        "\n",
        "def square(n):\n",
        "    return n * n\n",
        "\n",
        "if __name__ == \"__main__\":\n",
        "    with Pool(processes=4) as pool:  # Create a pool with 4 processes\n",
        "        results = pool.map(square, [1, 2, 3, 4, 5])\n",
        "    print(results)  # Output: [1, 4, 9, 16, 25]\n"
      ],
      "metadata": {
        "colab": {
          "base_uri": "https://localhost:8080/"
        },
        "id": "CPnQ-4CdkS7g",
        "outputId": "a4968877-8b0a-42db-e10e-8bc845289dca"
      },
      "execution_count": 1,
      "outputs": [
        {
          "output_type": "stream",
          "name": "stdout",
          "text": [
            "[1, 4, 9, 16, 25]\n"
          ]
        }
      ]
    },
    {
      "cell_type": "markdown",
      "source": [
        "### 3. Explain what multiprocessing is and why it is used in Python programs.\n",
        "\n",
        "\n",
        "Ans...\n",
        "\n",
        "Multiprocessing is a technique that allows a program to run multiple processes simultaneously, leveraging multiple CPU cores for true parallel execution. Each process operates independently with its own memory space.\n",
        "\n",
        "---\n",
        "\n",
        "### **We Use Multiprocessing in Python**  \n",
        "\n",
        "1. **Bypasses GIL**: Unlike threads, processes are not restricted by Python's Global Interpreter Lock (GIL), enabling parallel execution for CPU-bound tasks.  \n",
        "2. **True Parallelism**: Fully utilizes multi-core CPUs to run tasks concurrently.  \n",
        "3. **Efficient for CPU-Bound Tasks**: Ideal for computationally intensive operations like data processing and model training.  \n",
        "4. **Fault Isolation**: Crashes in one process don't affect others, improving reliability.  \n",
        "5. **Simplifies Parallel Programming**: Python's multiprocessing module provides easy-to-use tools like Process and Pool for parallel task execution.  \n",
        "\n",
        "**Use Case**: Data processing, scientific computing, machine learning."
      ],
      "metadata": {
        "id": "NGgKqadwn8FE"
      }
    },
    {
      "cell_type": "code",
      "source": [
        "from multiprocessing import Process\n",
        "\n",
        "def print_square(num):\n",
        "    print(f\"The square of {num} is {num * num}\")\n",
        "\n",
        "if __name__ == \"__main__\":\n",
        "    processes = []\n",
        "    for i in range(5):\n",
        "        p = Process(target=print_square, args=(i,))\n",
        "        processes.append(p)\n",
        "        p.start()\n",
        "\n",
        "    for p in processes:\n",
        "        p.join()\n"
      ],
      "metadata": {
        "colab": {
          "base_uri": "https://localhost:8080/"
        },
        "id": "5XC9g1xIpIpW",
        "outputId": "678d6d3c-ab00-493a-a354-ce6c9e0f3f2c"
      },
      "execution_count": 2,
      "outputs": [
        {
          "output_type": "stream",
          "name": "stdout",
          "text": [
            "The square of 0 is 0\n",
            "The square of 1 is 1The square of 2 is 4The square of 3 is 9\n",
            "\n",
            "\n",
            "The square of 4 is 16\n"
          ]
        }
      ]
    },
    {
      "cell_type": "markdown",
      "source": [
        "### 4. Write a Python program using multithreading where one thread adds numbers to a list, and another thread removes numbers from the list. Implement a mechanism to avoid race conditions using threading.Lock"
      ],
      "metadata": {
        "id": "4ZE2eX38pje3"
      }
    },
    {
      "cell_type": "code",
      "source": [
        "import threading\n",
        "import time\n",
        "\n",
        "# Shared resource\n",
        "numbers_list = []\n",
        "\n",
        "# Lock to prevent race conditions\n",
        "list_lock = threading.Lock()\n",
        "\n",
        "# Function for adding numbers to the list\n",
        "def add_numbers():\n",
        "    for i in range(1, 6):  # Adding numbers 1 to 5\n",
        "        time.sleep(1)  # Simulate some work\n",
        "        with list_lock:  # Acquire lock\n",
        "            numbers_list.append(i)\n",
        "            print(f\"Added: {i} | Current List: {numbers_list}\")\n",
        "\n",
        "# Function for removing numbers from the list\n",
        "def remove_numbers():\n",
        "    for _ in range(1, 6):\n",
        "        time.sleep(1.5)  # Simulate some work\n",
        "        with list_lock:  # Acquire lock\n",
        "            if numbers_list:\n",
        "                removed = numbers_list.pop(0)\n",
        "                print(f\"Removed: {removed} | Current List: {numbers_list}\")\n",
        "            else:\n",
        "                print(\"List is empty, waiting to remove...\")\n",
        "\n",
        "# Create threads\n",
        "add_thread = threading.Thread(target=add_numbers)\n",
        "remove_thread = threading.Thread(target=remove_numbers)\n",
        "\n",
        "# Start threads\n",
        "add_thread.start()\n",
        "remove_thread.start()\n",
        "\n",
        "# Wait for threads to finish\n",
        "add_thread.join()\n",
        "remove_thread.join()\n",
        "\n",
        "print(\"Final List:\", numbers_list)\n"
      ],
      "metadata": {
        "colab": {
          "base_uri": "https://localhost:8080/"
        },
        "id": "M9Rb1NedppwF",
        "outputId": "5bf02b7a-cf7d-4fe8-b34d-4d09cce37d02"
      },
      "execution_count": 3,
      "outputs": [
        {
          "output_type": "stream",
          "name": "stdout",
          "text": [
            "Added: 1 | Current List: [1]\n",
            "Removed: 1 | Current List: []\n",
            "Added: 2 | Current List: [2]\n",
            "Removed: 2 | Current List: []\n",
            "Added: 3 | Current List: [3]\n",
            "Added: 4 | Current List: [3, 4]\n",
            "Removed: 3 | Current List: [4]\n",
            "Added: 5 | Current List: [4, 5]\n",
            "Removed: 4 | Current List: [5]\n",
            "Removed: 5 | Current List: []\n",
            "Final List: []\n"
          ]
        }
      ]
    },
    {
      "cell_type": "markdown",
      "source": [
        "### 5. Describe the methods and tools available in Python for safely sharing data between threads and processes.\n",
        "\n",
        "Ans... In Python,the methods and tools available in Python for safely sharing data between threads or processes requires synchronization mechanisms to prevent race conditions and ensure consistency. Python provides several tools for this, depending on whether we're working with **threads** or **processes**.\n",
        "\n",
        "#### **1. For Threads (Using `threading` Module)**\n",
        "\n",
        "Threads share the same memory space, so synchronization is crucial when accessing shared resources.\n",
        "\n",
        "#### **Key Tools and Methods**:\n",
        "\n",
        "1. **`threading.Lock`**:\n",
        "   - Ensures that only one thread can access a shared resource at a time.\n",
        "   - Example:\n",
        "     ```python\n",
        "     lock = threading.Lock()\n",
        "     with lock:\n",
        "         # Critical section\n",
        "     ```\n",
        "\n",
        "2. **`threading.RLock` (Reentrant Lock)**:\n",
        "   - A thread can acquire the same lock multiple times without blocking itself.\n",
        "   - Useful in recursive functions or when multiple locks are needed within the same thread.\n",
        "   - Example:\n",
        "     ```python\n",
        "     rlock = threading.RLock()\n",
        "     with rlock:\n",
        "         # Critical section\n",
        "     ```\n",
        "\n",
        "3. **`threading.Condition`**:\n",
        "   - Used for threads to wait for a certain condition to be met, supporting signaling between threads.\n",
        "   - Example:\n",
        "     ```python\n",
        "     condition = threading.Condition()\n",
        "     with condition:\n",
        "         condition.wait()  # Wait for a signal\n",
        "         # Do work after being notified\n",
        "     ```\n",
        "\n",
        "4. **`threading.Semaphore`**:\n",
        "   - Limits access to a shared resource to a certain number of threads.\n",
        "   - Example:\n",
        "     ```python\n",
        "     semaphore = threading.Semaphore(3)  # Allow up to 3 threads\n",
        "     with semaphore:\n",
        "         # Access resource\n",
        "     ```\n",
        "\n",
        "5. **`threading.Event`**:\n",
        "   - Allows threads to communicate by signaling events.\n",
        "   - Example:\n",
        "     ```python\n",
        "     event = threading.Event()\n",
        "     event.wait()  # Wait until the event is set\n",
        "     ```\n",
        "\n",
        "---\n",
        "\n",
        "### **2. For Processes (Using `multiprocessing` Module)**\n",
        "\n",
        "Processes do not share memory, so special mechanisms are needed for inter-process communication (IPC).\n",
        "\n",
        "#### **Key Tools and Methods**:\n",
        "\n",
        "1. **`multiprocessing.Queue`**:\n",
        "   - A thread/process-safe FIFO queue for passing data between processes.\n",
        "   - Example:\n",
        "     ```python\n",
        "     from multiprocessing import Queue\n",
        "     queue = Queue()\n",
        "     queue.put(data)\n",
        "     data = queue.get()\n",
        "     ```\n",
        "\n",
        "2. **`multiprocessing.Pipe`**:\n",
        "   - A simple way to establish a two-way communication channel between two processes.\n",
        "   - Example:\n",
        "     ```python\n",
        "     from multiprocessing import Pipe\n",
        "     conn1, conn2 = Pipe()\n",
        "     conn1.send(data)\n",
        "     data = conn2.recv()\n",
        "     ```\n",
        "\n",
        "3. **`multiprocessing.Manager`**:\n",
        "   - Provides shared objects like lists, dictionaries, and namespaces that can be accessed by multiple processes.\n",
        "   - Example:\n",
        "     ```python\n",
        "     from multiprocessing import Manager\n",
        "     manager = Manager()\n",
        "     shared_list = manager.list()\n",
        "     shared_list.append(1)\n",
        "     ```\n",
        "\n",
        "4. **`multiprocessing.Value` and `Array`**:\n",
        "   - Used to share simple data types or arrays between processes.\n",
        "   - Example:\n",
        "     ```python\n",
        "     from multiprocessing import Value\n",
        "     shared_value = Value('i', 0)  # 'i' for integer\n",
        "     with shared_value.get_lock():\n",
        "         shared_value.value += 1\n",
        "     ```\n",
        "\n",
        "5. **`multiprocessing.Lock`**:\n",
        "   - Works like `threading.Lock` but for processes, ensuring safe access to shared resources.\n",
        "   - Example:\n",
        "     ```python\n",
        "     from multiprocessing import Lock\n",
        "     lock = Lock()\n",
        "     with lock:\n",
        "         # Critical section\n",
        "     ```\n",
        "\n",
        "---\n",
        "\n",
        "### **3. Specialized Libraries**\n",
        "\n",
        "1. **`concurrent.futures`**:\n",
        "   - Provides higher-level abstractions for thread and process pools (`ThreadPoolExecutor` and `ProcessPoolExecutor`).\n",
        "   - Automatically handles synchronization and result retrieval.\n",
        "   - Example:\n",
        "     ```python\n",
        "     from concurrent.futures import ThreadPoolExecutor\n",
        "     with ThreadPoolExecutor(max_workers=5) as executor:\n",
        "         results = executor.map(function, data)\n",
        "     ```\n",
        "\n",
        "2. **`queue.Queue`**:\n",
        "   - Thread-safe queue for sharing data between threads.\n",
        "   - Example:\n",
        "     ```python\n",
        "     from queue import Queue\n",
        "     queue = Queue()\n",
        "     queue.put(data)\n",
        "     data = queue.get()\n",
        "     ```\n",
        "\n"
      ],
      "metadata": {
        "id": "tSos5TcGp2a2"
      }
    },
    {
      "cell_type": "markdown",
      "source": [
        "### 6. Discuss why it’s crucial to handle exceptions in concurrent programs and the techniques available for doing so.\n",
        "\n",
        "\n",
        "Concurrent programs involve multiple threads or processes running simultaneously, which introduces complexities like race conditions, deadlocks, and unexpected failures. Handling exceptions in these programs is essential for several reasons.\n",
        "\n",
        "**Prevent Program Crashes**: Unhandled exceptions in one thread or process can cause the entire program to crash or become unresponsive.\n",
        "\n",
        "**Maintain Data Integrity**: Without proper exception handling, shared resources may be left in an inconsistent state.\n",
        "\n",
        "**Ensure Robustness**: Proper exception handling allows programs to recover gracefully and continue execution or shut down safely.\n",
        "\n",
        "**Debugging and Monitoring**: Capturing and logging exceptions helps in diagnosing and fixing bugs in concurrent systems.\n",
        "\n",
        "**Resource Management**: Ensure proper release of resources like locks, files, or network connections even in case of failure.Techniques for Handling Exceptions in Concurrent Programs.\n",
        "\n",
        "###1. Exception Handling in Threads\n",
        "\n",
        "1. **try-except Blocks**: Use try-except within the thread function to catch and handle exceptions locally.\n",
        "\n",
        "\n"
      ],
      "metadata": {
        "id": "ITlt_-wF2QY-"
      }
    },
    {
      "cell_type": "code",
      "source": [
        "import threading\n",
        "\n",
        "def worker():\n",
        "    try:\n",
        "        # Simulate work\n",
        "        result = 1 / 0  # This will raise an exception\n",
        "    except Exception as e:\n",
        "        print(f\"Exception in thread: {e}\")\n",
        "\n",
        "thread = threading.Thread(target=worker)\n",
        "thread.start()\n",
        "thread.join()\n"
      ],
      "metadata": {
        "colab": {
          "base_uri": "https://localhost:8080/"
        },
        "id": "Al-XfkJ6uUxz",
        "outputId": "99da53ef-4b15-4d82-9207-21e72d06e206"
      },
      "execution_count": 6,
      "outputs": [
        {
          "output_type": "stream",
          "name": "stdout",
          "text": [
            "Exception in thread: division by zero\n"
          ]
        }
      ]
    },
    {
      "cell_type": "markdown",
      "source": [
        "2. **Thread-Level Exception Propagation**: Use higher-level abstractions like concurrent.futures.ThreadPoolExecutor to propagate exceptions.\n",
        "\n"
      ],
      "metadata": {
        "id": "Uwu9iuO-6T5a"
      }
    },
    {
      "cell_type": "code",
      "source": [
        "from concurrent.futures import ThreadPoolExecutor\n",
        "\n",
        "def worker():\n",
        "    return 1 / 0  # This will raise an exception\n",
        "\n",
        "with ThreadPoolExecutor() as executor:\n",
        "    future = executor.submit(worker)\n",
        "    try:\n",
        "        result = future.result()  # Will raise the exception here\n",
        "    except Exception as e:\n",
        "        print(f\"Exception: {e}\")\n"
      ],
      "metadata": {
        "colab": {
          "base_uri": "https://localhost:8080/"
        },
        "id": "eassKy-J6g1J",
        "outputId": "bd27d669-ec4d-4705-c613-f3478357563a"
      },
      "execution_count": 7,
      "outputs": [
        {
          "output_type": "stream",
          "name": "stdout",
          "text": [
            "Exception: division by zero\n"
          ]
        }
      ]
    },
    {
      "cell_type": "markdown",
      "source": [
        "###2. Exception Handling in Processes\n",
        "\n",
        "1. **try-except Blocks in Process Functions**: Similar to threads, handle exceptions within the process function."
      ],
      "metadata": {
        "id": "idItTggL6paX"
      }
    },
    {
      "cell_type": "code",
      "source": [
        "from multiprocessing import Process\n",
        "\n",
        "def worker():\n",
        "    try:\n",
        "        result = 1 / 0\n",
        "    except Exception as e:\n",
        "        print(f\"Exception in process: {e}\")\n",
        "\n",
        "process = Process(target=worker)\n",
        "process.start()\n",
        "process.join()\n"
      ],
      "metadata": {
        "colab": {
          "base_uri": "https://localhost:8080/"
        },
        "id": "BYSojXM47WnT",
        "outputId": "cebece84-e7da-48c2-e4bc-2cd99896ace8"
      },
      "execution_count": 9,
      "outputs": [
        {
          "output_type": "stream",
          "name": "stdout",
          "text": [
            "Exception in process: division by zero\n"
          ]
        }
      ]
    },
    {
      "cell_type": "markdown",
      "source": [
        "2. **Using multiprocessing.Pool with Error Callback**: Handle exceptions by specifying an error callback.\n",
        "\n"
      ],
      "metadata": {
        "id": "jQyWWQIk7iks"
      }
    },
    {
      "cell_type": "code",
      "source": [
        "from multiprocessing import Pool\n",
        "\n",
        "def worker(x):\n",
        "    return x / 0  # This will raise an exception\n",
        "\n",
        "def error_callback(e):\n",
        "    print(f\"Error: {e}\")\n",
        "\n",
        "with Pool() as pool:\n",
        "    pool.apply_async(worker, args=(1,), error_callback=error_callback)\n",
        "    pool.close()\n",
        "    pool.join()\n"
      ],
      "metadata": {
        "colab": {
          "base_uri": "https://localhost:8080/"
        },
        "id": "imWMw4x97uZf",
        "outputId": "9c0969cd-de5b-4c4b-d498-0de1be65224c"
      },
      "execution_count": 10,
      "outputs": [
        {
          "output_type": "stream",
          "name": "stdout",
          "text": [
            "Error: division by zero\n"
          ]
        }
      ]
    },
    {
      "cell_type": "markdown",
      "source": [
        "3. **Using concurrent.futures.ProcessPoolExecutor**: Like ThreadPoolExecutor, it propagates exceptions to the main process.\n",
        "\n"
      ],
      "metadata": {
        "id": "Vt_JsPAU73vL"
      }
    },
    {
      "cell_type": "code",
      "source": [
        "from concurrent.futures import ProcessPoolExecutor\n",
        "\n",
        "def worker():\n",
        "    return 1 / 0\n",
        "\n",
        "with ProcessPoolExecutor() as executor:\n",
        "    future = executor.submit(worker)\n",
        "    try:\n",
        "        result = future.result()\n",
        "    except Exception as e:\n",
        "        print(f\"Exception: {e}\")\n"
      ],
      "metadata": {
        "colab": {
          "base_uri": "https://localhost:8080/"
        },
        "id": "Yg6pVkP48aTp",
        "outputId": "2bcd377f-f77a-4a3a-ebf2-616239599054"
      },
      "execution_count": 11,
      "outputs": [
        {
          "output_type": "stream",
          "name": "stdout",
          "text": [
            "Exception: division by zero\n"
          ]
        }
      ]
    },
    {
      "cell_type": "markdown",
      "source": [
        "### 7. Create a program that uses a thread pool to calculate the factorial of numbers from 1 to 10 concurrently.Use concurrent.futures.ThreadPoolExecutor to manage the threads."
      ],
      "metadata": {
        "id": "54Rb3GPj9L6d"
      }
    },
    {
      "cell_type": "code",
      "source": [
        "import concurrent.futures\n",
        "import math\n",
        "\n",
        "# Function to calculate factorial\n",
        "def calculate_factorial(n):\n",
        "    return math.factorial(n)\n",
        "\n",
        "# Using ThreadPoolExecutor to calculate factorials concurrently\n",
        "def main():\n",
        "    with concurrent.futures.ThreadPoolExecutor() as executor:\n",
        "        # Submit tasks to the thread pool\n",
        "        results = list(executor.map(calculate_factorial, range(1, 11)))\n",
        "\n",
        "    # Print the results\n",
        "    for num, factorial in zip(range(1, 11), results):\n",
        "        print(f\"Factorial of {num} is {factorial}\")\n",
        "\n",
        "if __name__ == \"__main__\":\n",
        "    main()\n"
      ],
      "metadata": {
        "colab": {
          "base_uri": "https://localhost:8080/"
        },
        "id": "KmYy0dIX9QZa",
        "outputId": "1d1bf908-0152-4ce6-949a-b31e697e3031"
      },
      "execution_count": 12,
      "outputs": [
        {
          "output_type": "stream",
          "name": "stdout",
          "text": [
            "Factorial of 1 is 1\n",
            "Factorial of 2 is 2\n",
            "Factorial of 3 is 6\n",
            "Factorial of 4 is 24\n",
            "Factorial of 5 is 120\n",
            "Factorial of 6 is 720\n",
            "Factorial of 7 is 5040\n",
            "Factorial of 8 is 40320\n",
            "Factorial of 9 is 362880\n",
            "Factorial of 10 is 3628800\n"
          ]
        }
      ]
    },
    {
      "cell_type": "markdown",
      "source": [
        "### 8. Create a Python program that uses multiprocessing.Pool to compute the square of numbers from 1 to 10 in parallel. Measure the time taken to perform this computation using a pool of different sizes (e.g., 2, 4, 8 processes)."
      ],
      "metadata": {
        "id": "WauG03Qh9mR3"
      }
    },
    {
      "cell_type": "code",
      "source": [
        "import multiprocessing\n",
        "import time\n",
        "\n",
        "# Function to compute the square of a number\n",
        "def compute_square(n):\n",
        "    return n * n\n",
        "\n",
        "# Function to compute squares in parallel using a pool of workers\n",
        "def compute_with_pool(pool_size):\n",
        "    with multiprocessing.Pool(pool_size) as pool:\n",
        "        # Submit tasks to the pool\n",
        "        results = pool.map(compute_square, range(1, 11))\n",
        "    return results\n",
        "\n",
        "# Function to measure and display the time taken for different pool sizes\n",
        "def measure_time():\n",
        "    for pool_size in [2, 4, 8]:\n",
        "        start_time = time.time()\n",
        "        results = compute_with_pool(pool_size)\n",
        "        end_time = time.time()\n",
        "        elapsed_time = end_time - start_time\n",
        "        print(f\"Pool size: {pool_size} - Time taken: {elapsed_time:.4f} seconds\")\n",
        "        print(f\"Results: {results}\")\n",
        "        print(\"-\" * 40)\n",
        "\n",
        "if __name__ == \"__main__\":\n",
        "    measure_time()\n"
      ],
      "metadata": {
        "colab": {
          "base_uri": "https://localhost:8080/"
        },
        "id": "liYWJSkL9efp",
        "outputId": "2fbaa7d5-f45b-4fa2-a212-a506a398c660"
      },
      "execution_count": 13,
      "outputs": [
        {
          "output_type": "stream",
          "name": "stdout",
          "text": [
            "Pool size: 2 - Time taken: 0.0256 seconds\n",
            "Results: [1, 4, 9, 16, 25, 36, 49, 64, 81, 100]\n",
            "----------------------------------------\n",
            "Pool size: 4 - Time taken: 0.0462 seconds\n",
            "Results: [1, 4, 9, 16, 25, 36, 49, 64, 81, 100]\n",
            "----------------------------------------\n",
            "Pool size: 8 - Time taken: 0.0806 seconds\n",
            "Results: [1, 4, 9, 16, 25, 36, 49, 64, 81, 100]\n",
            "----------------------------------------\n"
          ]
        }
      ]
    }
  ]
}