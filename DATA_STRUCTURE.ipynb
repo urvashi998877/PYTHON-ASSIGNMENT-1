{
  "nbformat": 4,
  "nbformat_minor": 0,
  "metadata": {
    "colab": {
      "provenance": []
    },
    "kernelspec": {
      "name": "python3",
      "display_name": "Python 3"
    },
    "language_info": {
      "name": "python"
    }
  },
  "cells": [
    {
      "cell_type": "markdown",
      "source": [
        "#DATA STRUCTURE"
      ],
      "metadata": {
        "id": "Rr_dNs6Olz2e"
      }
    },
    {
      "cell_type": "markdown",
      "source": [
        "#1.Discuss string slicing and provide examples.\n",
        "###Ans1. String slicing in Python is a powerful feature that allows you to extract specific portions of a string using a straightforward syntax. The basic syntax for slicing is string[start:end:step], where:\n",
        "\n",
        "###start: The index where the slice begins (inclusive).\n",
        "###end: The index where the slice ends (exclusive).\n",
        "###step: The interval between each index in the slice (optional).\n",
        "\n",
        "\n"
      ],
      "metadata": {
        "id": "0Utq-MLDyXKw"
      }
    },
    {
      "cell_type": "code",
      "source": [
        "text = \"Hello, World!\"\n",
        "sliced_text = text[0:5]  # Extracts characters from index 0 to 4\n",
        "print(sliced_text)\n",
        "\n"
      ],
      "metadata": {
        "colab": {
          "base_uri": "https://localhost:8080/"
        },
        "id": "d-DitM9ccxEU",
        "outputId": "afd466c5-46e4-4827-c554-f542567f9345"
      },
      "execution_count": 50,
      "outputs": [
        {
          "output_type": "stream",
          "name": "stdout",
          "text": [
            "Hello\n"
          ]
        }
      ]
    },
    {
      "cell_type": "code",
      "source": [
        "text = \"Hello, World!\"\n",
        "sliced_text = text[::2]  # Extracts every second character\n",
        "print(sliced_text)\n"
      ],
      "metadata": {
        "colab": {
          "base_uri": "https://localhost:8080/"
        },
        "id": "Ll37R9uxc7MU",
        "outputId": "bc703728-6ff8-47c7-967b-101201a63ecc"
      },
      "execution_count": 51,
      "outputs": [
        {
          "output_type": "stream",
          "name": "stdout",
          "text": [
            "Hlo ol!\n"
          ]
        }
      ]
    },
    {
      "cell_type": "code",
      "source": [
        "text = \"Hello, World!\"\n",
        "sliced_text = text[-6:-1]  # Extracts characters from index -6 to -2\n",
        "print(sliced_text)\n"
      ],
      "metadata": {
        "colab": {
          "base_uri": "https://localhost:8080/"
        },
        "id": "GKVEZ3GldGSs",
        "outputId": "e2afa38d-8537-4c10-bc11-c10188dc3759"
      },
      "execution_count": 52,
      "outputs": [
        {
          "output_type": "stream",
          "name": "stdout",
          "text": [
            "World\n"
          ]
        }
      ]
    },
    {
      "cell_type": "code",
      "source": [
        "text = \"Hello, World!\"\n",
        "start_to_five = text[:5]  # Extracts from the beginning to index 4\n",
        "print(start_to_five)\n",
        "\n",
        "five_to_end = text[5:]  # Extracts from index 5 to the end\n",
        "print(five_to_end)\n",
        "\n",
        "entire_string = text[:]  # Extracts the entire string\n",
        "print(entire_string)\n"
      ],
      "metadata": {
        "colab": {
          "base_uri": "https://localhost:8080/"
        },
        "id": "-0Pmzs_zdO-V",
        "outputId": "566ff6ee-14bd-46b8-f326-382398b2adfe"
      },
      "execution_count": 53,
      "outputs": [
        {
          "output_type": "stream",
          "name": "stdout",
          "text": [
            "Hello\n",
            ", World!\n",
            "Hello, World!\n"
          ]
        }
      ]
    },
    {
      "cell_type": "markdown",
      "source": [
        "#2.Explain the key feature of list in python.\n",
        "\n",
        " #Features of Lists in Python\n",
        "##All Python lists include the following features :\n",
        "###•\tLists can contain items of different types at the same time (including strings, integers, floating point numbers and boolean values).\n",
        "###•\tLists are mutable and dynamic; list items can be added, removed or changed after the list is defined.\n",
        "###•\tLists are ordered; newly added items will be placed at the end of the list.\n",
        "###•\tLists use zero-based indexing; every list item has an associated index, and the first item’s index is 0.\n",
        "###•\tDuplicated list items are allowed.\n",
        "###•\tLists can be nested within other lists indefinitely.\n"
      ],
      "metadata": {
        "id": "lifu1p5y-qSx"
      }
    },
    {
      "cell_type": "markdown",
      "source": [
        "#3.Describe how to access, modify, and delete elements in a list with examples.\n",
        "\n",
        "##Ans3. Accessing, modifying, and deleting elements in a list are fundamental operations in Python.\n",
        "\n",
        "###1. Accessing Elements in a List\n",
        "###Accessing elements in a list is done through indexing. Each item in the list has a corresponding index, starting from 0 for the first element."
      ],
      "metadata": {
        "id": "xpfNk87F-jfw"
      }
    },
    {
      "cell_type": "code",
      "source": [
        "my_list = ['apple', 'banana', 'cherry', 'date']\n",
        "\n",
        "# Accessing elements by positive index\n",
        "first_item = my_list[0]      # 'apple'\n",
        "second_item = my_list[1]     # 'banana'\n",
        "\n",
        "# Accessing elements by negative index\n",
        "last_item = my_list[-1]      # 'date'\n",
        "second_last_item = my_list[-2]  # 'cherry'\n",
        "\n",
        "# Slicing to access a range of elements\n",
        "sub_list = my_list[1:3]      # ['banana', 'cherry'] (includes index 1, excludes index 3)\n"
      ],
      "metadata": {
        "id": "emZw1CZJ-oR6"
      },
      "execution_count": 2,
      "outputs": []
    },
    {
      "cell_type": "code",
      "source": [
        "# Accessing elements by positive index\n",
        "my_list[0]"
      ],
      "metadata": {
        "colab": {
          "base_uri": "https://localhost:8080/",
          "height": 36
        },
        "id": "EoL-9S_uHada",
        "outputId": "ee32e78d-cbf7-4959-85dd-d646c6107e21"
      },
      "execution_count": 3,
      "outputs": [
        {
          "output_type": "execute_result",
          "data": {
            "text/plain": [
              "'apple'"
            ],
            "application/vnd.google.colaboratory.intrinsic+json": {
              "type": "string"
            }
          },
          "metadata": {},
          "execution_count": 3
        }
      ]
    },
    {
      "cell_type": "code",
      "source": [
        "my_list[1]"
      ],
      "metadata": {
        "colab": {
          "base_uri": "https://localhost:8080/",
          "height": 36
        },
        "id": "tEB0E_qwHjRz",
        "outputId": "5116d960-1b99-4bc8-ae83-44e701e85d71"
      },
      "execution_count": 3,
      "outputs": [
        {
          "output_type": "execute_result",
          "data": {
            "text/plain": [
              "'banana'"
            ],
            "application/vnd.google.colaboratory.intrinsic+json": {
              "type": "string"
            }
          },
          "metadata": {},
          "execution_count": 3
        }
      ]
    },
    {
      "cell_type": "code",
      "source": [
        "my_list[2]"
      ],
      "metadata": {
        "colab": {
          "base_uri": "https://localhost:8080/",
          "height": 36
        },
        "id": "eBBRvACCHoRy",
        "outputId": "5674b614-c4e6-4871-b785-94ad372eb5f6"
      },
      "execution_count": 5,
      "outputs": [
        {
          "output_type": "execute_result",
          "data": {
            "text/plain": [
              "'cherry'"
            ],
            "application/vnd.google.colaboratory.intrinsic+json": {
              "type": "string"
            }
          },
          "metadata": {},
          "execution_count": 5
        }
      ]
    },
    {
      "cell_type": "code",
      "source": [
        "# Accessing elements by negative index\n",
        "my_list[-1]"
      ],
      "metadata": {
        "colab": {
          "base_uri": "https://localhost:8080/",
          "height": 36
        },
        "id": "qTzhEUoyZARm",
        "outputId": "861c5b7e-9fe8-4336-859f-24aff7de1451"
      },
      "execution_count": 6,
      "outputs": [
        {
          "output_type": "execute_result",
          "data": {
            "text/plain": [
              "'date'"
            ],
            "application/vnd.google.colaboratory.intrinsic+json": {
              "type": "string"
            }
          },
          "metadata": {},
          "execution_count": 6
        }
      ]
    },
    {
      "cell_type": "code",
      "source": [
        "# Slicing to access a range of elements #(includes index 1, excludes index 3)\n",
        "my_list[1:3] #[start:end] >>  #1 is the index number where the slice starts\n",
        "                              #3 is the index number where the slice ends"
      ],
      "metadata": {
        "colab": {
          "base_uri": "https://localhost:8080/"
        },
        "id": "nDYPhQ-th3FV",
        "outputId": "b486f9c2-393d-4d86-aa2f-a8a3e93afdd4"
      },
      "execution_count": 18,
      "outputs": [
        {
          "output_type": "execute_result",
          "data": {
            "text/plain": [
              "['banana', 'cherry']"
            ]
          },
          "metadata": {},
          "execution_count": 18
        }
      ]
    },
    {
      "cell_type": "code",
      "source": [
        "my_list[0:4]"
      ],
      "metadata": {
        "colab": {
          "base_uri": "https://localhost:8080/"
        },
        "id": "R4kAO0LbiN8w",
        "outputId": "39526de8-b3ff-4cb4-f614-0acb3167d505"
      },
      "execution_count": 14,
      "outputs": [
        {
          "output_type": "execute_result",
          "data": {
            "text/plain": [
              "['apple', 'banana', 'cherry', 'date']"
            ]
          },
          "metadata": {},
          "execution_count": 14
        }
      ]
    },
    {
      "cell_type": "code",
      "source": [
        "my_list[0:4:1] #[start:end:step] # step >> The interval between each index"
      ],
      "metadata": {
        "colab": {
          "base_uri": "https://localhost:8080/"
        },
        "id": "Fi5MYmTGnPIy",
        "outputId": "717d31dd-2bb7-470e-d2cc-6cd37bdc47fb"
      },
      "execution_count": 19,
      "outputs": [
        {
          "output_type": "execute_result",
          "data": {
            "text/plain": [
              "['apple', 'banana', 'cherry', 'date']"
            ]
          },
          "metadata": {},
          "execution_count": 19
        }
      ]
    },
    {
      "cell_type": "markdown",
      "source": [
        "###2. Modifying Elements in a List\n",
        "###we can modify the value of an element by assigning a new value to a specific index. This allows us to change existing data in place."
      ],
      "metadata": {
        "id": "Q2MOsr0Ii14o"
      }
    },
    {
      "cell_type": "code",
      "source": [
        "my_list = [10, 20, 30, 40, 50]"
      ],
      "metadata": {
        "id": "mtZ6Wo5zibzt"
      },
      "execution_count": 4,
      "outputs": []
    },
    {
      "cell_type": "code",
      "source": [
        "# Modifying an element by index\n",
        "my_list = [10, 20, 30, 40, 50]"
      ],
      "metadata": {
        "id": "KwU7Xho9JynC"
      },
      "execution_count": 6,
      "outputs": []
    },
    {
      "cell_type": "code",
      "source": [
        "my_list[1]=25\n",
        "my_list\n"
      ],
      "metadata": {
        "colab": {
          "base_uri": "https://localhost:8080/"
        },
        "id": "R9wnVkkVKEOu",
        "outputId": "d6af582d-73ce-4785-dc79-379414c77f20"
      },
      "execution_count": 9,
      "outputs": [
        {
          "output_type": "execute_result",
          "data": {
            "text/plain": [
              "[10, 25, 30, 40, 50]"
            ]
          },
          "metadata": {},
          "execution_count": 9
        }
      ]
    },
    {
      "cell_type": "code",
      "source": [
        "# Modifying multiple elements using slicing\n",
        "my_list[2:4] = [35, 45]\n",
        "my_list"
      ],
      "metadata": {
        "colab": {
          "base_uri": "https://localhost:8080/"
        },
        "id": "gseXcEVyKH_U",
        "outputId": "6ea7ae80-e090-46ae-c148-1d8c0a27131d"
      },
      "execution_count": 11,
      "outputs": [
        {
          "output_type": "execute_result",
          "data": {
            "text/plain": [
              "[10, 25, 35, 45, 50]"
            ]
          },
          "metadata": {},
          "execution_count": 11
        }
      ]
    },
    {
      "cell_type": "code",
      "source": [
        "# You can also change a single item to a list\n",
        "my_list[0] = [5, 10]\n",
        "my_list\n"
      ],
      "metadata": {
        "colab": {
          "base_uri": "https://localhost:8080/"
        },
        "id": "f7LUmw9IM63h",
        "outputId": "8942661d-ec98-4b30-ae10-4d6bbf3f8107"
      },
      "execution_count": 14,
      "outputs": [
        {
          "output_type": "execute_result",
          "data": {
            "text/plain": [
              "[[5, 10], 25, 35, 45, 50]"
            ]
          },
          "metadata": {},
          "execution_count": 14
        }
      ]
    },
    {
      "cell_type": "markdown",
      "source": [
        "###a. Inserting Elements >> we can insert elements at a specific index using the insert() method."
      ],
      "metadata": {
        "id": "U-p3Vi5aOtfl"
      }
    },
    {
      "cell_type": "code",
      "source": [
        "colors = ['red', 'green', 'blue']"
      ],
      "metadata": {
        "id": "Qr1KC-m5O06F"
      },
      "execution_count": 16,
      "outputs": []
    },
    {
      "cell_type": "code",
      "source": [
        "colors"
      ],
      "metadata": {
        "colab": {
          "base_uri": "https://localhost:8080/"
        },
        "id": "VQLqu82MPDso",
        "outputId": "83145942-ec0b-4d58-8c15-28afc7119884"
      },
      "execution_count": 17,
      "outputs": [
        {
          "output_type": "execute_result",
          "data": {
            "text/plain": [
              "['red', 'green', 'blue']"
            ]
          },
          "metadata": {},
          "execution_count": 17
        }
      ]
    },
    {
      "cell_type": "code",
      "source": [
        "# Insert 'yellow' at index 1\n",
        "colors.insert(1, 'yellow')  # Now colors is ['red', 'yellow', 'green', 'blue']"
      ],
      "metadata": {
        "id": "E26Kn7CeO-ik"
      },
      "execution_count": 18,
      "outputs": []
    },
    {
      "cell_type": "code",
      "source": [
        "colors"
      ],
      "metadata": {
        "colab": {
          "base_uri": "https://localhost:8080/"
        },
        "id": "98283FWtPS2U",
        "outputId": "020bad95-ca39-473b-80f6-d18efd011ce6"
      },
      "execution_count": 19,
      "outputs": [
        {
          "output_type": "execute_result",
          "data": {
            "text/plain": [
              "['red', 'yellow', 'green', 'blue']"
            ]
          },
          "metadata": {},
          "execution_count": 19
        }
      ]
    },
    {
      "cell_type": "markdown",
      "source": [
        "###b.Extend >> we can add multiple elements to the end of the list using the extend() method or by using the += operator."
      ],
      "metadata": {
        "id": "RAKR0xC-QUlI"
      }
    },
    {
      "cell_type": "code",
      "source": [
        "animals = ['cat', 'dog']"
      ],
      "metadata": {
        "id": "D--kxPH3QKQT"
      },
      "execution_count": 23,
      "outputs": []
    },
    {
      "cell_type": "code",
      "source": [
        "# Using extend()\n",
        "animals.extend(['rabbit', 'hamster'])"
      ],
      "metadata": {
        "id": "SzAvooPlRGtV"
      },
      "execution_count": 24,
      "outputs": []
    },
    {
      "cell_type": "code",
      "source": [
        "animals"
      ],
      "metadata": {
        "colab": {
          "base_uri": "https://localhost:8080/"
        },
        "id": "fqUszuE_RM7M",
        "outputId": "ba75e10f-23bd-4894-e695-58e87675b9d9"
      },
      "execution_count": 25,
      "outputs": [
        {
          "output_type": "execute_result",
          "data": {
            "text/plain": [
              "['cat', 'dog', 'rabbit', 'hamster']"
            ]
          },
          "metadata": {},
          "execution_count": 25
        }
      ]
    },
    {
      "cell_type": "code",
      "source": [
        "# Using +=\n",
        "animals += ['parrot']"
      ],
      "metadata": {
        "id": "Pmv9ofqaRHnC"
      },
      "execution_count": 26,
      "outputs": []
    },
    {
      "cell_type": "code",
      "source": [
        "animals"
      ],
      "metadata": {
        "colab": {
          "base_uri": "https://localhost:8080/"
        },
        "id": "it3ML4gLRTnL",
        "outputId": "6fc1a81d-b794-4d77-ab66-a75e65bc6969"
      },
      "execution_count": 27,
      "outputs": [
        {
          "output_type": "execute_result",
          "data": {
            "text/plain": [
              "['cat', 'dog', 'rabbit', 'hamster', 'parrot']"
            ]
          },
          "metadata": {},
          "execution_count": 27
        }
      ]
    },
    {
      "cell_type": "markdown",
      "source": [
        "###c. Replacing Elements with New Values >> we can replace a slice of the list with a new list of values, even if the new list is of different length."
      ],
      "metadata": {
        "id": "pJfGH4_pRmba"
      }
    },
    {
      "cell_type": "code",
      "source": [
        "grades = [90, 85, 70, 60]"
      ],
      "metadata": {
        "id": "JR6JZCXDR44K"
      },
      "execution_count": 31,
      "outputs": []
    },
    {
      "cell_type": "code",
      "source": [
        "# Replace two elements with one\n",
        "grades[1:3] = [75]\n"
      ],
      "metadata": {
        "id": "x98EjBvER8MB"
      },
      "execution_count": 32,
      "outputs": []
    },
    {
      "cell_type": "code",
      "source": [
        "grades"
      ],
      "metadata": {
        "colab": {
          "base_uri": "https://localhost:8080/"
        },
        "id": "oqtTVNKkSIzk",
        "outputId": "7a10b3f9-fb73-4a4c-e854-bb922de0e60f"
      },
      "execution_count": 33,
      "outputs": [
        {
          "output_type": "execute_result",
          "data": {
            "text/plain": [
              "[90, 75, 60]"
            ]
          },
          "metadata": {},
          "execution_count": 33
        }
      ]
    },
    {
      "cell_type": "code",
      "source": [
        "# Replace one element with two\n",
        "grades[0:1] = [95, 100]"
      ],
      "metadata": {
        "id": "Sa2WdEqWSV32"
      },
      "execution_count": 34,
      "outputs": []
    },
    {
      "cell_type": "code",
      "source": [
        "grades"
      ],
      "metadata": {
        "colab": {
          "base_uri": "https://localhost:8080/"
        },
        "id": "5w4i8hysShB8",
        "outputId": "719cb085-e7b3-4021-be25-e12104205a66"
      },
      "execution_count": 35,
      "outputs": [
        {
          "output_type": "execute_result",
          "data": {
            "text/plain": [
              "[95, 100, 75, 60]"
            ]
          },
          "metadata": {},
          "execution_count": 35
        }
      ]
    },
    {
      "cell_type": "markdown",
      "source": [
        "###d. Nested Lists >> If we have a list of lists (a nested list),we can modify elements within the sublists"
      ],
      "metadata": {
        "id": "c2i0PKXkTURP"
      }
    },
    {
      "cell_type": "code",
      "source": [
        "# Nested list\n",
        "matrix = [[1, 2, 3], [4, 5, 6]]"
      ],
      "metadata": {
        "id": "1HaQ0U5lTrWm"
      },
      "execution_count": 36,
      "outputs": []
    },
    {
      "cell_type": "code",
      "source": [
        "# Modify an element in the first sublist\n",
        "matrix[0][1] = 20"
      ],
      "metadata": {
        "id": "8rFUscjJTsg-"
      },
      "execution_count": 37,
      "outputs": []
    },
    {
      "cell_type": "code",
      "source": [
        "matrix"
      ],
      "metadata": {
        "colab": {
          "base_uri": "https://localhost:8080/"
        },
        "id": "gBJXUWTNT0wg",
        "outputId": "17e993e9-4635-465b-e7a6-ac5b4c3aa726"
      },
      "execution_count": 38,
      "outputs": [
        {
          "output_type": "execute_result",
          "data": {
            "text/plain": [
              "[[1, 20, 3], [4, 5, 6]]"
            ]
          },
          "metadata": {},
          "execution_count": 38
        }
      ]
    },
    {
      "cell_type": "code",
      "source": [
        "# Modify an entire sublist\n",
        "matrix[1] = [7, 8, 9]"
      ],
      "metadata": {
        "id": "6ZHlNxqGTzDt"
      },
      "execution_count": 39,
      "outputs": []
    },
    {
      "cell_type": "code",
      "source": [
        "matrix"
      ],
      "metadata": {
        "colab": {
          "base_uri": "https://localhost:8080/"
        },
        "id": "YOy9L1KGT6uJ",
        "outputId": "e5b87bdf-c88a-45b4-e477-b9fea4484320"
      },
      "execution_count": 40,
      "outputs": [
        {
          "output_type": "execute_result",
          "data": {
            "text/plain": [
              "[[1, 20, 3], [7, 8, 9]]"
            ]
          },
          "metadata": {},
          "execution_count": 40
        }
      ]
    },
    {
      "cell_type": "markdown",
      "source": [
        "###3. Deleting Elements in a List >> we can remove elements from a list using different methods. Here are the most common ways:\n",
        "\n",
        "###a. Using del >> The del statement can remove an element by index."
      ],
      "metadata": {
        "id": "LaBXfX4lUmif"
      }
    },
    {
      "cell_type": "code",
      "source": [
        "my_list = [10, 20, 30, 40, 50]\n",
        "\n",
        "# Deleting an element by index\n",
        "del my_list[2]\n"
      ],
      "metadata": {
        "id": "XdF699iHT86C"
      },
      "execution_count": 41,
      "outputs": []
    },
    {
      "cell_type": "code",
      "source": [
        "my_list"
      ],
      "metadata": {
        "colab": {
          "base_uri": "https://localhost:8080/"
        },
        "id": "O1wrJ2XjU_Hy",
        "outputId": "694a8686-1a40-44d0-d23e-9ec01f1e1495"
      },
      "execution_count": 42,
      "outputs": [
        {
          "output_type": "execute_result",
          "data": {
            "text/plain": [
              "[10, 20, 40, 50]"
            ]
          },
          "metadata": {},
          "execution_count": 42
        }
      ]
    },
    {
      "cell_type": "markdown",
      "source": [
        "###b. Using remove() >> The remove() method removes the first occurrence of a specified value"
      ],
      "metadata": {
        "id": "08822qQgVMlN"
      }
    },
    {
      "cell_type": "code",
      "source": [
        "my_list = [10, 20, 30, 20, 40]\n",
        "\n",
        "# Removing a value\n",
        "my_list.remove(20)"
      ],
      "metadata": {
        "id": "6Wi2LJ3LVBh0"
      },
      "execution_count": 43,
      "outputs": []
    },
    {
      "cell_type": "code",
      "source": [
        "my_list"
      ],
      "metadata": {
        "colab": {
          "base_uri": "https://localhost:8080/"
        },
        "id": "XhTWV4IJVfLE",
        "outputId": "adb982e8-2c6f-4755-9a42-905bc6141327"
      },
      "execution_count": 44,
      "outputs": [
        {
          "output_type": "execute_result",
          "data": {
            "text/plain": [
              "[10, 30, 20, 40]"
            ]
          },
          "metadata": {},
          "execution_count": 44
        }
      ]
    },
    {
      "cell_type": "markdown",
      "source": [
        "###c. Using pop() >> The pop() method removes and returns an element at a specified index. If no index is specified, it removes and returns the last element."
      ],
      "metadata": {
        "id": "opmtm7nEVxZy"
      }
    },
    {
      "cell_type": "code",
      "source": [
        "my_list = [10, 20, 30, 40, 50]\n",
        "\n",
        "# Popping the last element\n",
        "last_item = my_list.pop()    # last_item is 50; now my_list is [10, 20, 30, 40]\n",
        "\n",
        "# Popping an element by index\n",
        "second_item = my_list.pop(1) # second_item is 20; now my_list is [10, 30, 40]\n"
      ],
      "metadata": {
        "id": "9ih4cA_RWFqa"
      },
      "execution_count": null,
      "outputs": []
    },
    {
      "cell_type": "code",
      "source": [
        "my_list = [10, 20, 30, 40, 50]"
      ],
      "metadata": {
        "id": "b6MQtBORWFnj"
      },
      "execution_count": 45,
      "outputs": []
    },
    {
      "cell_type": "code",
      "source": [
        "# Popping the last element\n",
        "last_item = my_list.pop()"
      ],
      "metadata": {
        "id": "Wgrk16l9WFj6"
      },
      "execution_count": 46,
      "outputs": []
    },
    {
      "cell_type": "code",
      "source": [
        "last_item"
      ],
      "metadata": {
        "colab": {
          "base_uri": "https://localhost:8080/"
        },
        "id": "qa0-oDyOWZMK",
        "outputId": "8337fe2e-3311-4a68-8064-a07089c356dd"
      },
      "execution_count": 47,
      "outputs": [
        {
          "output_type": "execute_result",
          "data": {
            "text/plain": [
              "50"
            ]
          },
          "metadata": {},
          "execution_count": 47
        }
      ]
    },
    {
      "cell_type": "code",
      "source": [
        "my_list"
      ],
      "metadata": {
        "colab": {
          "base_uri": "https://localhost:8080/"
        },
        "id": "fSgUOcuKWiB6",
        "outputId": "ba313f65-41db-49ff-b383-4745efdc0d92"
      },
      "execution_count": 48,
      "outputs": [
        {
          "output_type": "execute_result",
          "data": {
            "text/plain": [
              "[10, 20, 30, 40]"
            ]
          },
          "metadata": {},
          "execution_count": 48
        }
      ]
    },
    {
      "cell_type": "code",
      "source": [
        "# Popping an element by index\n",
        "second_item = my_list.pop(1)"
      ],
      "metadata": {
        "id": "i_DKwsiKWFg1"
      },
      "execution_count": 49,
      "outputs": []
    },
    {
      "cell_type": "code",
      "source": [
        "my_list"
      ],
      "metadata": {
        "colab": {
          "base_uri": "https://localhost:8080/"
        },
        "id": "PfbLgRvcWnHm",
        "outputId": "09db327f-20ae-4d1c-a2e5-762187ea4d8a"
      },
      "execution_count": 50,
      "outputs": [
        {
          "output_type": "execute_result",
          "data": {
            "text/plain": [
              "[10, 30, 40]"
            ]
          },
          "metadata": {},
          "execution_count": 50
        }
      ]
    },
    {
      "cell_type": "markdown",
      "source": [
        "#4.Compare and contrast tuples and lists with examples.\n",
        "\n",
        "###Tuples and lists are both built-in data structures in Python used to store collections of items. However, they have key differences in terms of mutability, syntax, and use cases. Here’s a detailed comparison:\n",
        "\n",
        "###1. Mutability\n",
        "\n",
        "###Lists: Mutable, meaning we can modify them after creation. You can add, remove, or change elements.\n",
        "###Tuples: Immutable, meaning once created, we cannot change their elements. We cannot add, remove, or modify items."
      ],
      "metadata": {
        "id": "B583KrimZrn2"
      }
    },
    {
      "cell_type": "code",
      "source": [
        "my_list = [1, 2, 3]\n",
        "my_list[1] = 4         # Change second element\n",
        "my_list.append(5)      # Add an element\n",
        "print(my_list)\n"
      ],
      "metadata": {
        "colab": {
          "base_uri": "https://localhost:8080/"
        },
        "id": "LI-c72LGaXUi",
        "outputId": "74ff22ac-0abd-421c-a1d4-5a378a0633c0"
      },
      "execution_count": 51,
      "outputs": [
        {
          "output_type": "stream",
          "name": "stdout",
          "text": [
            "[1, 4, 3, 5]\n"
          ]
        }
      ]
    },
    {
      "cell_type": "code",
      "source": [
        "my_tuple = (1, 2, 3)\n",
        "print(my_tuple)\n"
      ],
      "metadata": {
        "colab": {
          "base_uri": "https://localhost:8080/"
        },
        "id": "bMIMiU_Ma5M6",
        "outputId": "66f3fc0d-9397-45b8-d56c-28589d7defe4"
      },
      "execution_count": 52,
      "outputs": [
        {
          "output_type": "stream",
          "name": "stdout",
          "text": [
            "(1, 2, 3)\n"
          ]
        }
      ]
    },
    {
      "cell_type": "code",
      "source": [
        "my_tuple[1]= 4  # This will raise an error because tuples cannot change their elements"
      ],
      "metadata": {
        "colab": {
          "base_uri": "https://localhost:8080/",
          "height": 146
        },
        "id": "YqWTBuvua_HD",
        "outputId": "9d1d9484-42d2-4817-c11e-ddf9e7216336"
      },
      "execution_count": 54,
      "outputs": [
        {
          "output_type": "error",
          "ename": "TypeError",
          "evalue": "'tuple' object does not support item assignment",
          "traceback": [
            "\u001b[0;31m---------------------------------------------------------------------------\u001b[0m",
            "\u001b[0;31mTypeError\u001b[0m                                 Traceback (most recent call last)",
            "\u001b[0;32m<ipython-input-54-1817b29445db>\u001b[0m in \u001b[0;36m<cell line: 1>\u001b[0;34m()\u001b[0m\n\u001b[0;32m----> 1\u001b[0;31m \u001b[0mmy_tuple\u001b[0m\u001b[0;34m[\u001b[0m\u001b[0;36m1\u001b[0m\u001b[0;34m]\u001b[0m\u001b[0;34m=\u001b[0m \u001b[0;36m4\u001b[0m  \u001b[0;31m# This will raise an error because tuples cannot change their elements\u001b[0m\u001b[0;34m\u001b[0m\u001b[0;34m\u001b[0m\u001b[0m\n\u001b[0m",
            "\u001b[0;31mTypeError\u001b[0m: 'tuple' object does not support item assignment"
          ]
        }
      ]
    },
    {
      "cell_type": "markdown",
      "source": [
        "###2.Lists: Defined using square brackets [] . Tuples: Defined using parentheses ()."
      ],
      "metadata": {
        "id": "h0M5kXYbdZPB"
      }
    },
    {
      "cell_type": "code",
      "source": [
        "#Lists: Defined using square brackets []\n",
        "my_list = [1, 2, 3, 'four']\n"
      ],
      "metadata": {
        "id": "yArFsAAvbH1Y"
      },
      "execution_count": 55,
      "outputs": []
    },
    {
      "cell_type": "code",
      "source": [
        "my_list"
      ],
      "metadata": {
        "colab": {
          "base_uri": "https://localhost:8080/"
        },
        "id": "-5lG2Vq7cFYS",
        "outputId": "8612df46-97f6-470d-a7ce-5dda06783b03"
      },
      "execution_count": 56,
      "outputs": [
        {
          "output_type": "execute_result",
          "data": {
            "text/plain": [
              "[1, 2, 3, 'four']"
            ]
          },
          "metadata": {},
          "execution_count": 56
        }
      ]
    },
    {
      "cell_type": "code",
      "source": [
        "#Tuples: Defined using parentheses ().\n",
        "my_tuple = (1, 2, 3, 'four')\n"
      ],
      "metadata": {
        "id": "yXcgw1hycHaM"
      },
      "execution_count": 58,
      "outputs": []
    },
    {
      "cell_type": "code",
      "source": [
        "my_tuple"
      ],
      "metadata": {
        "colab": {
          "base_uri": "https://localhost:8080/"
        },
        "id": "noPqhwSPcMY3",
        "outputId": "1c1dcf38-624b-4745-bbc3-edd8534a62bf"
      },
      "execution_count": 59,
      "outputs": [
        {
          "output_type": "execute_result",
          "data": {
            "text/plain": [
              "(1, 2, 3, 'four')"
            ]
          },
          "metadata": {},
          "execution_count": 59
        }
      ]
    },
    {
      "cell_type": "markdown",
      "source": [
        "###3. Performance\n",
        "###Lists: Generally slower due to their mutable nature, which requires more overhead to manage dynamic changes.\n",
        "\n",
        "###Tuples: Faster than lists because they are immutable. This makes them more memory efficient.\n",
        "\n",
        "###4. Use Cases\n",
        "###Lists: Best suited for collections of items that may need to be changed, such as queues, stacks, or any situation where elements will be added or removed frequently.\n",
        "###Tuples: Ideal for fixed collections of items, such as coordinates or database records, where we want to ensure that the data remains unchanged."
      ],
      "metadata": {
        "id": "FmjxBV1ycpGl"
      }
    },
    {
      "cell_type": "code",
      "source": [
        "shopping_list = ['milk', 'eggs', 'bread']\n",
        "shopping_list.append('cheese')  # Modifying the list\n"
      ],
      "metadata": {
        "id": "vhECq79xcTmz"
      },
      "execution_count": 60,
      "outputs": []
    },
    {
      "cell_type": "code",
      "source": [
        "shopping_list"
      ],
      "metadata": {
        "colab": {
          "base_uri": "https://localhost:8080/"
        },
        "id": "yiRC_QKHdb1R",
        "outputId": "92db2da6-7df5-48d5-ca3a-51214f15cd80"
      },
      "execution_count": 61,
      "outputs": [
        {
          "output_type": "execute_result",
          "data": {
            "text/plain": [
              "['milk', 'eggs', 'bread', 'cheese']"
            ]
          },
          "metadata": {},
          "execution_count": 61
        }
      ]
    },
    {
      "cell_type": "code",
      "source": [
        "coordinates = (10.0, 20.0)  # Tuple for a point in 2D space\n"
      ],
      "metadata": {
        "id": "nb4xo-3idetO"
      },
      "execution_count": 62,
      "outputs": []
    },
    {
      "cell_type": "code",
      "source": [
        "coordinates"
      ],
      "metadata": {
        "colab": {
          "base_uri": "https://localhost:8080/"
        },
        "id": "Q7G1uMHHdlPm",
        "outputId": "704f3b1f-53a6-4566-d03f-67837043f98c"
      },
      "execution_count": 63,
      "outputs": [
        {
          "output_type": "execute_result",
          "data": {
            "text/plain": [
              "(10.0, 20.0)"
            ]
          },
          "metadata": {},
          "execution_count": 63
        }
      ]
    },
    {
      "cell_type": "markdown",
      "source": [
        "###5. Nesting\n",
        "###Both lists and tuples can contain other lists or tuples, allowing for complex data structures."
      ],
      "metadata": {
        "id": "NLIZLUmjd0vC"
      }
    },
    {
      "cell_type": "code",
      "source": [
        "# List of tuples\n",
        "list_of_tuples = [(1, 2), (3, 4), (5, 6)]\n"
      ],
      "metadata": {
        "id": "1F1uowtvd6Jy"
      },
      "execution_count": 74,
      "outputs": []
    },
    {
      "cell_type": "code",
      "source": [
        "list_of_tuples"
      ],
      "metadata": {
        "colab": {
          "base_uri": "https://localhost:8080/"
        },
        "id": "4JQ35EEGeQ2i",
        "outputId": "3c3e5530-0e42-48e8-9aae-d33179c8ea27"
      },
      "execution_count": 76,
      "outputs": [
        {
          "output_type": "execute_result",
          "data": {
            "text/plain": [
              "[(1, 2), (3, 4), (5, 6)]"
            ]
          },
          "metadata": {},
          "execution_count": 76
        }
      ]
    },
    {
      "cell_type": "code",
      "source": [
        "# Tuple of lists\n",
        "tuple_of_lists = (['a', 'b'], ['c', 'd'])"
      ],
      "metadata": {
        "id": "5DRg156seGoE"
      },
      "execution_count": 64,
      "outputs": []
    },
    {
      "cell_type": "code",
      "source": [
        "tuple_of_lists"
      ],
      "metadata": {
        "colab": {
          "base_uri": "https://localhost:8080/"
        },
        "id": "Lgd317VEeHrU",
        "outputId": "76babea7-1d1a-4c63-9c3f-6db59cb49e5f"
      },
      "execution_count": 77,
      "outputs": [
        {
          "output_type": "execute_result",
          "data": {
            "text/plain": [
              "(['a', 'b'], ['c', 'd'])"
            ]
          },
          "metadata": {},
          "execution_count": 77
        }
      ]
    },
    {
      "cell_type": "markdown",
      "source": [
        "### 6. Functions and Methods\n",
        "###Both data types support various functions, but the available methods differ:\n",
        "\n",
        "###List Methods: .append(), .remove(), .insert(), .pop(), .extend(), .sort(), etc.\n",
        "###Tuple Methods:have limited methods: .count(), .index()."
      ],
      "metadata": {
        "id": "aky7sG9WfV6W"
      }
    },
    {
      "cell_type": "code",
      "source": [
        "#list example\n",
        "my_list = [1, 2, 3]\n",
        "my_list.append(4)  # Output: [1, 2, 3, 4]\n"
      ],
      "metadata": {
        "id": "ZVTRSGlDfJdY"
      },
      "execution_count": 78,
      "outputs": []
    },
    {
      "cell_type": "code",
      "source": [
        "my_list"
      ],
      "metadata": {
        "colab": {
          "base_uri": "https://localhost:8080/"
        },
        "id": "XfTNUo-jfrYA",
        "outputId": "3a5cfe8d-8132-4e1a-c2a4-a45038fefa6a"
      },
      "execution_count": 79,
      "outputs": [
        {
          "output_type": "execute_result",
          "data": {
            "text/plain": [
              "[1, 2, 3, 4]"
            ]
          },
          "metadata": {},
          "execution_count": 79
        }
      ]
    },
    {
      "cell_type": "code",
      "source": [
        "my_list.remove(4)"
      ],
      "metadata": {
        "id": "AGLILSthfvZg"
      },
      "execution_count": 82,
      "outputs": []
    },
    {
      "cell_type": "code",
      "source": [
        "my_list"
      ],
      "metadata": {
        "colab": {
          "base_uri": "https://localhost:8080/"
        },
        "id": "T9vP8Z1-f18S",
        "outputId": "e79735dc-082a-4e6a-f06b-a58fba11fb9f"
      },
      "execution_count": 83,
      "outputs": [
        {
          "output_type": "execute_result",
          "data": {
            "text/plain": [
              "[1, 2, 3]"
            ]
          },
          "metadata": {},
          "execution_count": 83
        }
      ]
    },
    {
      "cell_type": "code",
      "source": [
        "#tuples example\n",
        "my_tuple = (1, 2, 2, 3)"
      ],
      "metadata": {
        "id": "UcmSpwLugH61"
      },
      "execution_count": 91,
      "outputs": []
    },
    {
      "cell_type": "code",
      "source": [
        "#count_of_twos = my_tuple.count(2)\n",
        "my_tuple.count(2)"
      ],
      "metadata": {
        "colab": {
          "base_uri": "https://localhost:8080/"
        },
        "id": "fh_vSJnPhRGH",
        "outputId": "b2c43f97-315c-4641-a430-3ab5b0adade9"
      },
      "execution_count": 93,
      "outputs": [
        {
          "output_type": "execute_result",
          "data": {
            "text/plain": [
              "2"
            ]
          },
          "metadata": {},
          "execution_count": 93
        }
      ]
    },
    {
      "cell_type": "code",
      "source": [
        "my_tuple.index(1)"
      ],
      "metadata": {
        "colab": {
          "base_uri": "https://localhost:8080/"
        },
        "id": "HdceJGZ7hVmD",
        "outputId": "40c25110-14e0-4aaa-da81-698bf6094364"
      },
      "execution_count": 98,
      "outputs": [
        {
          "output_type": "execute_result",
          "data": {
            "text/plain": [
              "0"
            ]
          },
          "metadata": {},
          "execution_count": 98
        }
      ]
    },
    {
      "cell_type": "markdown",
      "source": [
        "#5.Describe the key features of sets and provide examples of their use.\n",
        "\n",
        "###Sets in Python are a built-in data structure that represent an unordered collection of unique elements. They offer several key features that make them useful for various applications. Here's a detailed overview:\n",
        "\n",
        "###Key Features of Sets\n",
        "###1. Unordered Collection:Sets do not maintain any order of elements. The items are stored in a way that makes retrieval fast but does not preserve the order."
      ],
      "metadata": {
        "id": "VVVODCzbjMAw"
      }
    },
    {
      "cell_type": "code",
      "source": [
        "my_set = {3, 1, 4, 1, 5}\n",
        "print(my_set)\n"
      ],
      "metadata": {
        "colab": {
          "base_uri": "https://localhost:8080/"
        },
        "id": "C5krbIlsj_8p",
        "outputId": "62af0117-2dc1-4561-9cd5-783c36c23e6d"
      },
      "execution_count": 99,
      "outputs": [
        {
          "output_type": "stream",
          "name": "stdout",
          "text": [
            "{1, 3, 4, 5}\n"
          ]
        }
      ]
    },
    {
      "cell_type": "markdown",
      "source": [
        "###2.Unique Elements:\n",
        "###Sets automatically eliminate duplicate values. If you add a duplicate, it won’t be included in the set."
      ],
      "metadata": {
        "id": "zf_MHpHYTMXm"
      }
    },
    {
      "cell_type": "code",
      "source": [
        "my_set = {1, 2, 3, 2}\n",
        "print(my_set)\n"
      ],
      "metadata": {
        "colab": {
          "base_uri": "https://localhost:8080/"
        },
        "id": "jCR7Bn3oTk9Q",
        "outputId": "6beb362d-d6b2-43b6-994a-899fc497e3fb"
      },
      "execution_count": 1,
      "outputs": [
        {
          "output_type": "stream",
          "name": "stdout",
          "text": [
            "{1, 2, 3}\n"
          ]
        }
      ]
    },
    {
      "cell_type": "markdown",
      "source": [
        "###3. Mutable:\n",
        "\n",
        "###we can add or remove elements from a set after it has been created, making it mutable."
      ],
      "metadata": {
        "id": "I60arRS8UX6K"
      }
    },
    {
      "cell_type": "code",
      "source": [
        "my_set = {1, 2, 3}\n",
        "my_set.add(4)            # Adding an element\n",
        "my_set.remove(2)        # Removing an element\n",
        "print(my_set)\n"
      ],
      "metadata": {
        "colab": {
          "base_uri": "https://localhost:8080/"
        },
        "id": "VCWTF_D6TmAY",
        "outputId": "208a21b3-8dc9-4b70-a698-439d1b68cbb6"
      },
      "execution_count": 2,
      "outputs": [
        {
          "output_type": "stream",
          "name": "stdout",
          "text": [
            "{1, 3, 4}\n"
          ]
        }
      ]
    },
    {
      "cell_type": "markdown",
      "source": [
        "###4.Supports Mathematical Set Operations:\n",
        "\n",
        "###Sets support operations like union, intersection, difference, and symmetric difference."
      ],
      "metadata": {
        "id": "xrRgndeJVF6x"
      }
    },
    {
      "cell_type": "code",
      "source": [
        "#Union\n",
        "set_a = {1,2,3}\n",
        "set_b = {2,3,4}\n",
        "union = set_a | set_b\n",
        "print(union)"
      ],
      "metadata": {
        "colab": {
          "base_uri": "https://localhost:8080/"
        },
        "id": "TG9MB2LSVzJ3",
        "outputId": "13e65573-acd7-4818-a90d-7dd4101ff54c"
      },
      "execution_count": 6,
      "outputs": [
        {
          "output_type": "stream",
          "name": "stdout",
          "text": [
            "{1, 2, 3, 4}\n"
          ]
        }
      ]
    },
    {
      "cell_type": "code",
      "source": [
        "intersection = set_a & set_b\n",
        "print(intersection)"
      ],
      "metadata": {
        "colab": {
          "base_uri": "https://localhost:8080/"
        },
        "id": "Mo8Jwqx2WTrx",
        "outputId": "3590e108-2472-4cf2-a6ff-4e6cb3b7ac8c"
      },
      "execution_count": 8,
      "outputs": [
        {
          "output_type": "stream",
          "name": "stdout",
          "text": [
            "{2, 3}\n"
          ]
        }
      ]
    },
    {
      "cell_type": "code",
      "source": [
        "difference = set_a - set_b\n",
        "print(difference)"
      ],
      "metadata": {
        "colab": {
          "base_uri": "https://localhost:8080/"
        },
        "id": "CKATfaavYggt",
        "outputId": "5352d27f-8ea8-462e-f95d-0fe0d4a4aafa"
      },
      "execution_count": 9,
      "outputs": [
        {
          "output_type": "stream",
          "name": "stdout",
          "text": [
            "{1}\n"
          ]
        }
      ]
    },
    {
      "cell_type": "code",
      "source": [
        "symmetric_difference = set_a ^ set_b\n",
        "print(symmetric_difference)\n"
      ],
      "metadata": {
        "colab": {
          "base_uri": "https://localhost:8080/"
        },
        "id": "4b0YIhKsYvpB",
        "outputId": "dfbddd28-2df9-4a84-ee23-348b69da38f4"
      },
      "execution_count": 10,
      "outputs": [
        {
          "output_type": "stream",
          "name": "stdout",
          "text": [
            "{1, 4}\n"
          ]
        }
      ]
    },
    {
      "cell_type": "markdown",
      "source": [
        "###5.No Indexing:\n",
        "\n",
        "###Since sets are unordered, we cannot access elements using indexing or slicing. we can only check for membership."
      ],
      "metadata": {
        "id": "Rcaje1UIZUhZ"
      }
    },
    {
      "cell_type": "code",
      "source": [
        "my_set = {1, 2, 3}\n",
        "# print(my_set[0])  # This will raise a TypeError\n",
        "print(1 in my_set)\n"
      ],
      "metadata": {
        "colab": {
          "base_uri": "https://localhost:8080/"
        },
        "id": "MFQBWQ_KaQBY",
        "outputId": "c68b7ce5-c418-4f67-f8dd-d7db50338ed7"
      },
      "execution_count": 12,
      "outputs": [
        {
          "output_type": "stream",
          "name": "stdout",
          "text": [
            "True\n"
          ]
        }
      ]
    },
    {
      "cell_type": "markdown",
      "source": [
        "###6.Set Comprehensions:\n",
        "\n",
        "###Similar to list comprehensions, we can create sets using set comprehensions for concise and readable code."
      ],
      "metadata": {
        "id": "Ui1nW8Uba2gL"
      }
    },
    {
      "cell_type": "code",
      "source": [
        "squares = {x**2 for x in range(8)}\n",
        "print(squares)\n"
      ],
      "metadata": {
        "colab": {
          "base_uri": "https://localhost:8080/"
        },
        "id": "-gr9ZvqFaSBf",
        "outputId": "525c6a1a-30bd-4156-e9c7-1c0b1331b4e8"
      },
      "execution_count": 14,
      "outputs": [
        {
          "output_type": "stream",
          "name": "stdout",
          "text": [
            "{0, 1, 4, 36, 9, 16, 49, 25}\n"
          ]
        }
      ]
    },
    {
      "cell_type": "markdown",
      "source": [
        "#6.Discuss the use cases of tuples and sets in python programming.\n",
        "\n",
        "###Tuples and sets are both versatile data structures in Python, each serving specific purposes based on their unique properties. Here's a discussion of their use cases:\n",
        "\n",
        "###Use Cases of Tuples\n",
        "\n",
        "###a. Immutable Data Collections : Tuples are immutable, making them ideal for representing fixed collections of items that should not change. This property ensures data integrity."
      ],
      "metadata": {
        "id": "73h6g4_abzKQ"
      }
    },
    {
      "cell_type": "code",
      "source": [
        "coordinates = (10.0, 20.0)  # A point in 2D space\n"
      ],
      "metadata": {
        "id": "9KGVWRKlbCtx"
      },
      "execution_count": 16,
      "outputs": []
    },
    {
      "cell_type": "code",
      "source": [
        "coordinates\n"
      ],
      "metadata": {
        "colab": {
          "base_uri": "https://localhost:8080/"
        },
        "id": "n0JZJm-YlWcT",
        "outputId": "dd7d8e0e-727e-43ac-93be-1781f711a43a"
      },
      "execution_count": 17,
      "outputs": [
        {
          "output_type": "execute_result",
          "data": {
            "text/plain": [
              "(10.0, 20.0)"
            ]
          },
          "metadata": {},
          "execution_count": 17
        }
      ]
    },
    {
      "cell_type": "markdown",
      "source": [
        "###b.Returning Multiple Values : Tuples are often used to return multiple values from a function. This allows for clean and concise function interfaces."
      ],
      "metadata": {
        "id": "QgBT-ugbmH6K"
      }
    },
    {
      "cell_type": "code",
      "source": [
        "def get_min_max(numbers):\n",
        "    return (min(numbers), max(numbers))\n",
        "\n",
        "result = get_min_max([3, 1, 4, 1, 5])\n",
        "print(result)\n"
      ],
      "metadata": {
        "colab": {
          "base_uri": "https://localhost:8080/"
        },
        "id": "f7WRwyMhlZRe",
        "outputId": "67ce8d98-3d39-4c6a-ca4f-f8f6b22f6ca6"
      },
      "execution_count": 18,
      "outputs": [
        {
          "output_type": "stream",
          "name": "stdout",
          "text": [
            "(1, 5)\n"
          ]
        }
      ]
    },
    {
      "cell_type": "markdown",
      "source": [
        "###c. Data Integrity in Records:Tuples are useful for representing records (like database rows) where the data fields have fixed types and positions."
      ],
      "metadata": {
        "id": "5NMiQuMPnhQ7"
      }
    },
    {
      "cell_type": "code",
      "source": [
        "student = ('John Doe', 20, 'Computer Science')\n"
      ],
      "metadata": {
        "id": "YTVyOY28oC6L"
      },
      "execution_count": 19,
      "outputs": []
    },
    {
      "cell_type": "code",
      "source": [
        "student"
      ],
      "metadata": {
        "colab": {
          "base_uri": "https://localhost:8080/"
        },
        "id": "cB66ytk6pDsg",
        "outputId": "f3b95c04-d0b9-424a-df78-c413106803e8"
      },
      "execution_count": 20,
      "outputs": [
        {
          "output_type": "execute_result",
          "data": {
            "text/plain": [
              "('John Doe', 20, 'Computer Science')"
            ]
          },
          "metadata": {},
          "execution_count": 20
        }
      ]
    },
    {
      "cell_type": "markdown",
      "source": [
        "###d. Using as Dictionary Keys:Since tuples are hashable, they can be used as keys in dictionaries, unlike lists."
      ],
      "metadata": {
        "id": "H5iixj1epSEv"
      }
    },
    {
      "cell_type": "code",
      "source": [
        "location_data = {}\n",
        "location_data[(40.7128, -74.0060)] = \"New York\"\n"
      ],
      "metadata": {
        "id": "jrk2wMN_pGQN"
      },
      "execution_count": 21,
      "outputs": []
    },
    {
      "cell_type": "code",
      "source": [
        "location_data"
      ],
      "metadata": {
        "colab": {
          "base_uri": "https://localhost:8080/"
        },
        "id": "qJGnCvbIpmDL",
        "outputId": "578b1bb7-cbf6-4ee7-de4d-988b7d107e4e"
      },
      "execution_count": 22,
      "outputs": [
        {
          "output_type": "execute_result",
          "data": {
            "text/plain": [
              "{(40.7128, -74.006): 'New York'}"
            ]
          },
          "metadata": {},
          "execution_count": 22
        }
      ]
    },
    {
      "cell_type": "markdown",
      "source": [
        "###e. Nested Structures:Tuples can be nested within other data structures (like lists) to maintain complex data relationships."
      ],
      "metadata": {
        "id": "NtvRVwgzqW3W"
      }
    },
    {
      "cell_type": "code",
      "source": [
        "employees = [(\"Alice\", \"Manager\"), (\"Bob\", \"Developer\"), (\"Charlie\", \"Designer\")]\n"
      ],
      "metadata": {
        "id": "sqRKau7epm7g"
      },
      "execution_count": 24,
      "outputs": []
    },
    {
      "cell_type": "code",
      "source": [
        "employees"
      ],
      "metadata": {
        "colab": {
          "base_uri": "https://localhost:8080/"
        },
        "id": "fRk3DkiGqsmh",
        "outputId": "580ede55-5ec8-42c6-d565-421102cd4f44"
      },
      "execution_count": 25,
      "outputs": [
        {
          "output_type": "execute_result",
          "data": {
            "text/plain": [
              "[('Alice', 'Manager'), ('Bob', 'Developer'), ('Charlie', 'Designer')]"
            ]
          },
          "metadata": {},
          "execution_count": 25
        }
      ]
    },
    {
      "cell_type": "markdown",
      "source": [
        "###f. Function Arguments: Tuples can be used to pack and unpack function arguments, making function calls cleaner."
      ],
      "metadata": {
        "id": "DOaJmAPzruXH"
      }
    },
    {
      "cell_type": "code",
      "source": [
        "def process_data(data):\n",
        "    x, y, z = data\n",
        "    # Process x, y, z\n",
        "\n",
        "process_data((1, 2, 3))\n"
      ],
      "metadata": {
        "id": "4__8KwNGrEIQ"
      },
      "execution_count": 26,
      "outputs": []
    },
    {
      "cell_type": "markdown",
      "source": [
        "###Use Cases of Sets\n",
        "###a. Removing Duplicates:Sets are excellent for eliminating duplicate values from a collection. This is particularly useful in data preprocessing."
      ],
      "metadata": {
        "id": "WhN30hNKu46Z"
      }
    },
    {
      "cell_type": "code",
      "source": [
        "raw_data = [1, 2, 2, 3, 4, 4, 5]\n",
        "unique_data = set(raw_data)\n"
      ],
      "metadata": {
        "id": "lCDz7ZpusPN3"
      },
      "execution_count": 29,
      "outputs": []
    },
    {
      "cell_type": "code",
      "source": [
        "raw_data"
      ],
      "metadata": {
        "colab": {
          "base_uri": "https://localhost:8080/"
        },
        "id": "y_X6By7hvOoc",
        "outputId": "a70109cc-ab6a-4926-860d-2de901ef9c59"
      },
      "execution_count": 30,
      "outputs": [
        {
          "output_type": "execute_result",
          "data": {
            "text/plain": [
              "[1, 2, 2, 3, 4, 4, 5]"
            ]
          },
          "metadata": {},
          "execution_count": 30
        }
      ]
    },
    {
      "cell_type": "markdown",
      "source": [
        "###b. Fast Membership Testing : Sets provide O(1) average time complexity for membership tests, making them ideal for situations where you need to frequently check for the existence of items."
      ],
      "metadata": {
        "id": "OwrklxiovXSc"
      }
    },
    {
      "cell_type": "code",
      "source": [
        "my_set = {1, 2, 3, 4, 5}\n",
        "print(3 in my_set)\n",
        "\n",
        "\n"
      ],
      "metadata": {
        "colab": {
          "base_uri": "https://localhost:8080/"
        },
        "id": "p-vZjDdHvkrj",
        "outputId": "77c395b1-7e1a-4281-f2c0-ca8991c64b61"
      },
      "execution_count": 31,
      "outputs": [
        {
          "output_type": "stream",
          "name": "stdout",
          "text": [
            "True\n"
          ]
        }
      ]
    },
    {
      "cell_type": "markdown",
      "source": [
        "###c. Mathematical Set Operations: Sets support union, intersection, difference, and symmetric difference operations, making them useful in mathematical and analytical applications."
      ],
      "metadata": {
        "id": "Q9HUZQ4k1rJ0"
      }
    },
    {
      "cell_type": "code",
      "source": [
        "set_a = {1, 2, 3}\n",
        "set_b = {3, 4, 5}\n",
        "\n",
        "print(set_a | set_b)  # Union: {1, 2, 3, 4, 5}\n",
        "print(set_a & set_b)  # Intersection: {3}\n"
      ],
      "metadata": {
        "colab": {
          "base_uri": "https://localhost:8080/"
        },
        "id": "ZwQRePlc3TYC",
        "outputId": "949032c1-35c3-4662-abd8-1103459d7500"
      },
      "execution_count": 32,
      "outputs": [
        {
          "output_type": "stream",
          "name": "stdout",
          "text": [
            "{1, 2, 3, 4, 5}\n",
            "{3}\n"
          ]
        }
      ]
    },
    {
      "cell_type": "markdown",
      "source": [
        "###d. Data Analysis: Sets can be used in data analysis tasks to find unique elements in datasets, such as customer IDs or product SKUs."
      ],
      "metadata": {
        "id": "kYfr44ZZ3a4v"
      }
    },
    {
      "cell_type": "code",
      "source": [
        "customer_ids = [1, 2, 3, 2, 4, 5]\n",
        "unique_customers = set(customer_ids)\n"
      ],
      "metadata": {
        "id": "tWHsZsNX3fxG"
      },
      "execution_count": 33,
      "outputs": []
    },
    {
      "cell_type": "code",
      "source": [
        "unique_customers"
      ],
      "metadata": {
        "colab": {
          "base_uri": "https://localhost:8080/"
        },
        "id": "MuBdZ66n3rlN",
        "outputId": "d33800cc-07b3-47de-b9ea-7726281a6e47"
      },
      "execution_count": 34,
      "outputs": [
        {
          "output_type": "execute_result",
          "data": {
            "text/plain": [
              "{1, 2, 3, 4, 5}"
            ]
          },
          "metadata": {},
          "execution_count": 34
        }
      ]
    },
    {
      "cell_type": "markdown",
      "source": [
        "###e. Storing Non-Hashable Objects: Sets can store hashable (immutable) objects, such as tuples, but cannot store lists or other sets as elements."
      ],
      "metadata": {
        "id": "IIa-j_Ew32Kr"
      }
    },
    {
      "cell_type": "code",
      "source": [
        "point_set = {(1, 2), (3, 4)}  # Valid\n"
      ],
      "metadata": {
        "id": "emnC1QpY3uVH"
      },
      "execution_count": 35,
      "outputs": []
    },
    {
      "cell_type": "code",
      "source": [
        "point_set"
      ],
      "metadata": {
        "colab": {
          "base_uri": "https://localhost:8080/"
        },
        "id": "Nmc6LYTd3_w0",
        "outputId": "6f27d0e5-2b0e-448d-dae4-7fddf56f73da"
      },
      "execution_count": 36,
      "outputs": [
        {
          "output_type": "execute_result",
          "data": {
            "text/plain": [
              "{(1, 2), (3, 4)}"
            ]
          },
          "metadata": {},
          "execution_count": 36
        }
      ]
    },
    {
      "cell_type": "markdown",
      "source": [
        "###f. Data Deduplication in APIs: When collecting data from APIs or external sources, sets can help remove duplicates before processing or storage."
      ],
      "metadata": {
        "id": "nOaQGgK24KPs"
      }
    },
    {
      "cell_type": "code",
      "source": [
        "api_results = [1, 1, 2, 3, 4]\n",
        "unique_results = set(api_results)\n"
      ],
      "metadata": {
        "id": "Mo_YISfj4TA5"
      },
      "execution_count": 37,
      "outputs": []
    },
    {
      "cell_type": "code",
      "source": [
        "unique_results"
      ],
      "metadata": {
        "colab": {
          "base_uri": "https://localhost:8080/"
        },
        "id": "QjiWBFoj4XTE",
        "outputId": "3363f4db-b00f-47f9-9b4d-4ab669612c99"
      },
      "execution_count": 38,
      "outputs": [
        {
          "output_type": "execute_result",
          "data": {
            "text/plain": [
              "{1, 2, 3, 4}"
            ]
          },
          "metadata": {},
          "execution_count": 38
        }
      ]
    },
    {
      "cell_type": "markdown",
      "source": [
        "#7.Describe how to add, modify, and delete items in a dictionary with examples.\n",
        "\n",
        "##ans7. Dictionaries in Python are versatile data structures that store key-value pairs. We can easily add, modify, and delete items in a dictionary. Here's a detailed explanation with examples for each operation.\n",
        "\n",
        "###1. Adding Items : we can add items to a dictionary by assigning a value to a new key. If the key already exists, this will update its value.\n",
        "\n"
      ],
      "metadata": {
        "id": "da64sikk30-o"
      }
    },
    {
      "cell_type": "code",
      "source": [
        "# Initial dictionary\n",
        "student = {'name': 'Alice', 'age': 21}\n",
        "\n",
        "# Adding a new key-value pair\n",
        "student['major'] = 'Computer Science'\n",
        "\n",
        "print(student)\n"
      ],
      "metadata": {
        "colab": {
          "base_uri": "https://localhost:8080/"
        },
        "id": "5LDqvjd47nAE",
        "outputId": "d8488c38-ca68-4906-e82b-e68b21009b21"
      },
      "execution_count": 39,
      "outputs": [
        {
          "output_type": "stream",
          "name": "stdout",
          "text": [
            "{'name': 'Alice', 'age': 21, 'major': 'Computer Science'}\n"
          ]
        }
      ]
    },
    {
      "cell_type": "code",
      "source": [
        "# Updating the existing 'age' key\n",
        "student['age'] = 22\n",
        "\n",
        "print(student)\n"
      ],
      "metadata": {
        "colab": {
          "base_uri": "https://localhost:8080/"
        },
        "id": "Qb23wuPZ80HZ",
        "outputId": "70fbd7ce-96dd-4821-ce83-165420daf017"
      },
      "execution_count": 40,
      "outputs": [
        {
          "output_type": "stream",
          "name": "stdout",
          "text": [
            "{'name': 'Alice', 'age': 22, 'major': 'Computer Science'}\n"
          ]
        }
      ]
    },
    {
      "cell_type": "markdown",
      "source": [
        "##2. Modifying Items: To modify an existing item in a dictionary, you simply reassign a value to the desired key.\n",
        "\n"
      ],
      "metadata": {
        "id": "Ssz7ipml9TCT"
      }
    },
    {
      "cell_type": "code",
      "source": [
        "# Initial dictionary\n",
        "product = {'name': 'Laptop', 'price': 1000, 'stock': 50}\n",
        "\n",
        "# Modifying the price\n",
        "product['price'] = 950\n",
        "\n",
        "print(product)\n"
      ],
      "metadata": {
        "colab": {
          "base_uri": "https://localhost:8080/"
        },
        "id": "TV2qt-PQI--z",
        "outputId": "59a9c9c6-e61e-4f91-b794-62a9353f8dba"
      },
      "execution_count": 41,
      "outputs": [
        {
          "output_type": "stream",
          "name": "stdout",
          "text": [
            "{'name': 'Laptop', 'price': 950, 'stock': 50}\n"
          ]
        }
      ]
    },
    {
      "cell_type": "markdown",
      "source": [
        "###3. Deleting Items: We can delete items from a dictionary using the del statement or the pop() method. The pop() method also allows you to retrieve the value of the removed key."
      ],
      "metadata": {
        "id": "y3GCYTS6MBNK"
      }
    },
    {
      "cell_type": "code",
      "source": [
        "# Initial dictionary\n",
        "employee = {'name': 'Bob', 'department': 'HR', 'salary': 50000}\n",
        "\n",
        "# Deleting the 'salary' key\n",
        "del employee['salary']\n",
        "\n",
        "print(employee)\n"
      ],
      "metadata": {
        "colab": {
          "base_uri": "https://localhost:8080/"
        },
        "id": "0vcqtndZMRFh",
        "outputId": "e0b474d6-5d60-4bf1-ceb3-ee0e82a206a2"
      },
      "execution_count": 43,
      "outputs": [
        {
          "output_type": "stream",
          "name": "stdout",
          "text": [
            "{'name': 'Bob', 'department': 'HR'}\n"
          ]
        }
      ]
    },
    {
      "cell_type": "code",
      "source": [
        "# Initial dictionary\n",
        "settings = {'theme': 'light', 'notifications': True, 'language': 'en'}\n",
        "\n",
        "# Popping the 'notifications' key\n",
        "notifications_status = settings.pop('notifications')\n",
        "\n",
        "print(notifications_status)\n",
        "print(settings)\n"
      ],
      "metadata": {
        "colab": {
          "base_uri": "https://localhost:8080/"
        },
        "id": "r4TiZqPlMdqh",
        "outputId": "d1920e10-4ae0-4420-e94b-9c47716404d4"
      },
      "execution_count": 45,
      "outputs": [
        {
          "output_type": "stream",
          "name": "stdout",
          "text": [
            "True\n",
            "{'theme': 'light', 'language': 'en'}\n"
          ]
        }
      ]
    },
    {
      "cell_type": "markdown",
      "source": [
        "###4. Using clear() to Remove All Items : If we want to remove all items from a dictionary, we can use the clear() method."
      ],
      "metadata": {
        "id": "ySVvFtTqMQey"
      }
    },
    {
      "cell_type": "code",
      "source": [
        "# Initial dictionary\n",
        "inventory = {'apples': 10, 'bananas': 5, 'oranges': 8}\n",
        "\n",
        "# Clearing the entire dictionary\n",
        "inventory.clear()\n",
        "\n",
        "print(inventory)\n"
      ],
      "metadata": {
        "colab": {
          "base_uri": "https://localhost:8080/"
        },
        "id": "znw-lG8ANAdU",
        "outputId": "c5fd1789-6e76-4e28-a7ad-5598db5af0fc"
      },
      "execution_count": 46,
      "outputs": [
        {
          "output_type": "stream",
          "name": "stdout",
          "text": [
            "{}\n"
          ]
        }
      ]
    },
    {
      "cell_type": "markdown",
      "source": [
        "#8.Discuss the importance of dictionary keys being immutable and provide examples.\n",
        "###Ans8. In Python, dictionary keys must be immutable, which means that once a key is created, it cannot be changed. This immutability is crucial for several reasons, including data integrity, performance, and the fundamental design of hash tables.\n",
        "###Importance of Immutable Keys:\n",
        "\n",
        "###a. Data Integrity: If dictionary keys were mutable, changes to a key could lead to inconsistencies and errors in data retrieval. If a key were modified after being added to a dictionary, the dictionary would not be able to locate the value associated with that key."
      ],
      "metadata": {
        "id": "Dj3RBPTwQADL"
      }
    },
    {
      "cell_type": "code",
      "source": [
        "# Attempting to use a mutable type (list) as a key\n",
        "my_dict = {}\n",
        "key = [1, 2, 3]  # This is mutable\n",
        "\n",
        "# This will raise a TypeError\n",
        "my_dict[key] = 'value'\n"
      ],
      "metadata": {
        "colab": {
          "base_uri": "https://localhost:8080/",
          "height": 182
        },
        "id": "d0JI7iWQNCDV",
        "outputId": "a165ec23-c6ae-4f65-a66f-15dcc9c00d35"
      },
      "execution_count": 1,
      "outputs": [
        {
          "output_type": "error",
          "ename": "TypeError",
          "evalue": "unhashable type: 'list'",
          "traceback": [
            "\u001b[0;31m---------------------------------------------------------------------------\u001b[0m",
            "\u001b[0;31mTypeError\u001b[0m                                 Traceback (most recent call last)",
            "\u001b[0;32m<ipython-input-1-c164522367be>\u001b[0m in \u001b[0;36m<cell line: 6>\u001b[0;34m()\u001b[0m\n\u001b[1;32m      4\u001b[0m \u001b[0;34m\u001b[0m\u001b[0m\n\u001b[1;32m      5\u001b[0m \u001b[0;31m# This will raise a TypeError\u001b[0m\u001b[0;34m\u001b[0m\u001b[0;34m\u001b[0m\u001b[0m\n\u001b[0;32m----> 6\u001b[0;31m \u001b[0mmy_dict\u001b[0m\u001b[0;34m[\u001b[0m\u001b[0mkey\u001b[0m\u001b[0;34m]\u001b[0m \u001b[0;34m=\u001b[0m \u001b[0;34m'value'\u001b[0m\u001b[0;34m\u001b[0m\u001b[0;34m\u001b[0m\u001b[0m\n\u001b[0m",
            "\u001b[0;31mTypeError\u001b[0m: unhashable type: 'list'"
          ]
        }
      ]
    },
    {
      "cell_type": "markdown",
      "source": [
        "###b. Hashability: Dictionary keys must be hashable, meaning they have a hash value that remains constant during their lifetime. Immutable objects (like strings, numbers, and tuples) have a stable hash value, which allows the dictionary to use these keys efficiently in hash tables. Mutable objects do not have a stable hash value because their content can change, making them unsuitable for use as keys."
      ],
      "metadata": {
        "id": "e_K2sujmTOBj"
      }
    },
    {
      "cell_type": "code",
      "source": [
        "# Using a string (immutable) as a key\n",
        "my_dict = {'name': 'Alice'}\n",
        "print(my_dict['name'])\n",
        "\n",
        "# Using a tuple (immutable) as a key\n",
        "my_dict[(1, 2)] = 'Point A'\n",
        "print(my_dict[(1, 2)])\n"
      ],
      "metadata": {
        "colab": {
          "base_uri": "https://localhost:8080/"
        },
        "id": "AKZSQkWeUExH",
        "outputId": "3160f158-f23c-47ff-d6da-c760bbe00ab9"
      },
      "execution_count": 48,
      "outputs": [
        {
          "output_type": "stream",
          "name": "stdout",
          "text": [
            "Alice\n",
            "Point A\n"
          ]
        }
      ]
    },
    {
      "cell_type": "markdown",
      "source": [
        "###c. Efficiency: The design of dictionaries relies on the ability to quickly locate values based on keys. If keys were mutable, the underlying hash table would require frequent rehashing and resizing, leading to performance inefficiencies. Immutable keys help maintain the efficiency of lookups and insertions."
      ],
      "metadata": {
        "id": "ifwfwKdBUfVF"
      }
    },
    {
      "cell_type": "code",
      "source": [
        "# Efficient lookups with immutable keys\n",
        "my_dict = {}\n",
        "for i in range(1000):\n",
        "    my_dict[(i, i+1)] = i * (i + 1)\n",
        "\n",
        "print(my_dict[(999, 1000)])  # Fast retrieval\n"
      ],
      "metadata": {
        "colab": {
          "base_uri": "https://localhost:8080/"
        },
        "id": "vPo-LMB4Uk7b",
        "outputId": "3bdc5574-df1e-403f-e586-e63e17df4401"
      },
      "execution_count": 49,
      "outputs": [
        {
          "output_type": "stream",
          "name": "stdout",
          "text": [
            "999000\n"
          ]
        }
      ]
    },
    {
      "cell_type": "markdown",
      "source": [
        "###d. Predictable Behavior: With immutable keys, the behavior of dictionaries becomes more predictable. Once a key-value pair is added, we can be assured that the key will always point to the same value unless explicitly changed or deleted."
      ],
      "metadata": {
        "id": "aSmBzx0VieIV"
      }
    },
    {
      "cell_type": "code",
      "source": [
        "my_dict = {'a': 1, 'b': 2, 'c': 3}\n",
        "for key in my_dict:\n",
        "    print(key)\n"
      ],
      "metadata": {
        "colab": {
          "base_uri": "https://localhost:8080/"
        },
        "id": "-7QUfMFniovO",
        "outputId": "21baf643-41c6-4a23-80d9-65dc04973cbd"
      },
      "execution_count": 3,
      "outputs": [
        {
          "output_type": "stream",
          "name": "stdout",
          "text": [
            "a\n",
            "b\n",
            "c\n"
          ]
        }
      ]
    },
    {
      "cell_type": "code",
      "source": [
        "my_dict = {(1, 2): 'point A'}\n",
        "print(my_dict[(1, 2)])\n"
      ],
      "metadata": {
        "colab": {
          "base_uri": "https://localhost:8080/"
        },
        "id": "l6v04STHjFfk",
        "outputId": "b152cb01-34d0-4743-cc68-d1738e478be5"
      },
      "execution_count": 4,
      "outputs": [
        {
          "output_type": "stream",
          "name": "stdout",
          "text": [
            "point A\n"
          ]
        }
      ]
    },
    {
      "cell_type": "code",
      "source": [
        "my_dict = {'apple': 1, 'banana': 2}\n",
        "print(my_dict['apple'])\n"
      ],
      "metadata": {
        "colab": {
          "base_uri": "https://localhost:8080/"
        },
        "id": "7sBvQod-jTAy",
        "outputId": "746d5621-bf18-4525-d698-ef1ff80a4b21"
      },
      "execution_count": 5,
      "outputs": [
        {
          "output_type": "stream",
          "name": "stdout",
          "text": [
            "1\n"
          ]
        }
      ]
    },
    {
      "cell_type": "code",
      "source": [
        "my_dict = {'x': 10, 'y': 20}\n",
        "print(my_dict['y'])\n"
      ],
      "metadata": {
        "colab": {
          "base_uri": "https://localhost:8080/"
        },
        "id": "di8p21MKjZtg",
        "outputId": "8d08a662-e334-4f7b-8461-42356693b426"
      },
      "execution_count": 6,
      "outputs": [
        {
          "output_type": "stream",
          "name": "stdout",
          "text": [
            "20\n"
          ]
        }
      ]
    },
    {
      "cell_type": "code",
      "source": [
        "my_dict = {'a': 1}\n",
        "my_dict['b'] = 2  # Adding a new key-value pair\n",
        "my_dict['a'] = 10  # Updating an existing key\n",
        "print(my_dict)\n"
      ],
      "metadata": {
        "colab": {
          "base_uri": "https://localhost:8080/"
        },
        "id": "EsJeHF6bjhkX",
        "outputId": "28aee609-2886-4434-a2b8-3f5fdecdb116"
      },
      "execution_count": 7,
      "outputs": [
        {
          "output_type": "stream",
          "name": "stdout",
          "text": [
            "{'a': 10, 'b': 2}\n"
          ]
        }
      ]
    },
    {
      "cell_type": "markdown",
      "source": [
        "\n",
        "###e. Ease of Debugging: When keys are immutable, it is easier to track down bugs. If a value associated with a key cannot be retrieved, you can check the presence of the key without worrying about its state changing unexpectedly."
      ],
      "metadata": {
        "id": "16mV3Y1SWGwV"
      }
    },
    {
      "cell_type": "code",
      "source": [
        "my_dict = {'a': 1, 'b': 2}\n",
        "try:\n",
        "    print(my_dict['c'])  # Attempt to access a non-existent key\n",
        "except KeyError as e:\n",
        "    print(e)\n"
      ],
      "metadata": {
        "colab": {
          "base_uri": "https://localhost:8080/"
        },
        "id": "IV8dcYOOUoYI",
        "outputId": "2020c428-9f10-4fd8-c865-da609ffe09e4"
      },
      "execution_count": 2,
      "outputs": [
        {
          "output_type": "stream",
          "name": "stdout",
          "text": [
            "'c'\n"
          ]
        }
      ]
    },
    {
      "cell_type": "code",
      "source": [],
      "metadata": {
        "id": "i-0Wgo62hvtv"
      },
      "execution_count": null,
      "outputs": []
    }
  ]
}