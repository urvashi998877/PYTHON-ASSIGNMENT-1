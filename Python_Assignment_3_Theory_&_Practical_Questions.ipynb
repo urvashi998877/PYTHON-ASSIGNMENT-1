{
  "nbformat": 4,
  "nbformat_minor": 0,
  "metadata": {
    "colab": {
      "provenance": []
    },
    "kernelspec": {
      "name": "python3",
      "display_name": "Python 3"
    },
    "language_info": {
      "name": "python"
    }
  },
  "cells": [
    {
      "cell_type": "markdown",
      "source": [
        "#Theory Questions:"
      ],
      "metadata": {
        "id": "kEBEpkz8wbcD"
      }
    },
    {
      "cell_type": "markdown",
      "source": [
        "#1. What is the difference between a function and a method in Python?\n",
        "###In Python, both functions and methods are blocks of reusable code that perform specific tasks, but there are key differences between the two:\n",
        "\n",
        "###Function: (1) A function is a standalone piece of code that can be defined using the def keyword.(2) it can take input parameters, perform operations, and return results.(3) They are not bound to any object.(4)It can be called independently and do not require an instance of a class to be used.\n",
        "\n",
        "###Method: (1) A method is similar to a function but is associated with an object (an instance of a class).(2) Methods are defined within a class and can operate on the data contained in that object.(3) They are called on instances of the class.(4) it is called on objects or instances of a class. They require an instance (or the class itself for class methods) to be invoked."
      ],
      "metadata": {
        "id": "3lqbO697whXP"
      }
    },
    {
      "cell_type": "markdown",
      "source": [],
      "metadata": {
        "id": "_K5MgLGOWln3"
      }
    },
    {
      "cell_type": "code",
      "execution_count": null,
      "metadata": {
        "id": "wXcIe8HKwOjx"
      },
      "outputs": [],
      "source": [
        "def add(a, b):\n",
        "    return a + b\n",
        "\n",
        "result = add(3, 5)\n"
      ]
    },
    {
      "cell_type": "code",
      "source": [
        "add(3,5)"
      ],
      "metadata": {
        "colab": {
          "base_uri": "https://localhost:8080/"
        },
        "id": "6hSm5wB0eqgd",
        "outputId": "da052fd7-f255-48b8-ebb1-ac4ccb11d658"
      },
      "execution_count": null,
      "outputs": [
        {
          "output_type": "execute_result",
          "data": {
            "text/plain": [
              "8"
            ]
          },
          "metadata": {},
          "execution_count": 22
        }
      ]
    },
    {
      "cell_type": "code",
      "source": [
        "def greet(name):\n",
        "    print('Hello World!', name )"
      ],
      "metadata": {
        "id": "7wLpDVoGZ_VG"
      },
      "execution_count": null,
      "outputs": []
    },
    {
      "cell_type": "code",
      "source": [
        "greet()"
      ],
      "metadata": {
        "colab": {
          "base_uri": "https://localhost:8080/"
        },
        "id": "k47yMEBGnF5B",
        "outputId": "e19da62b-73c0-4ddc-b199-fd9df417e4fd"
      },
      "execution_count": null,
      "outputs": [
        {
          "output_type": "stream",
          "name": "stdout",
          "text": [
            "Hello World!\n"
          ]
        }
      ]
    },
    {
      "cell_type": "code",
      "source": [
        "greet(\"Urvashi\")"
      ],
      "metadata": {
        "colab": {
          "base_uri": "https://localhost:8080/"
        },
        "id": "W41MRYSQe0TV",
        "outputId": "a4a7eca8-4018-4b8f-9355-fb3f6f08fc2c"
      },
      "execution_count": null,
      "outputs": [
        {
          "output_type": "stream",
          "name": "stdout",
          "text": [
            "Hello, Urvashi!\n"
          ]
        }
      ]
    },
    {
      "cell_type": "markdown",
      "source": [
        "#2. Explain the concept of function arguments and parameters in Python\n",
        "\n",
        "###In Python, function arguments and parameters are fundamental concepts used when defining and calling functions. Here's a detailed explanation of both:\n",
        "\n",
        "###Parameters: it is the variables defined in the function signature that accept values when the function is called. They act as placeholders for the data that the function will operate on.\n",
        "\n",
        "###Arguments: it is the actual values that we pass to the function when we call it. They are the data supplied to the parameters."
      ],
      "metadata": {
        "id": "sICrqNZ2cIep"
      }
    },
    {
      "cell_type": "code",
      "source": [
        "def greet(name):  # 'name' is a parameter\n",
        "    print(f\"Hello, {name}!\")\n"
      ],
      "metadata": {
        "id": "kx_N9nLSnJMU"
      },
      "execution_count": null,
      "outputs": []
    },
    {
      "cell_type": "code",
      "source": [
        "greet(\"Alice\")  # \"Alice\" is an argument\n"
      ],
      "metadata": {
        "colab": {
          "base_uri": "https://localhost:8080/"
        },
        "id": "pcCLq69pdAib",
        "outputId": "96c25070-b544-4aef-dfa5-9ef1e37ac759"
      },
      "execution_count": null,
      "outputs": [
        {
          "output_type": "stream",
          "name": "stdout",
          "text": [
            "Hello, Alice!\n"
          ]
        }
      ]
    },
    {
      "cell_type": "markdown",
      "source": [
        "###Types of Parameters and Arguments\n",
        "###Positional Parameters: These are parameters that need to be provided in the same order as they are defined."
      ],
      "metadata": {
        "id": "gXl11_6BdSk-"
      }
    },
    {
      "cell_type": "code",
      "source": [
        "\n",
        "def add(a, b):  # 'a' and 'b' are positional parameters\n",
        "    return a + b\n",
        "\n",
        "result = add(3, 5)  # 3 and 5 are positional arguments\n"
      ],
      "metadata": {
        "id": "-srKT_JPdnkW"
      },
      "execution_count": null,
      "outputs": []
    },
    {
      "cell_type": "code",
      "source": [
        "add(3,5)"
      ],
      "metadata": {
        "colab": {
          "base_uri": "https://localhost:8080/"
        },
        "id": "Rx0l3b8oduSU",
        "outputId": "f3f86fd0-8d1b-4d0a-ef09-ab380943719d"
      },
      "execution_count": null,
      "outputs": [
        {
          "output_type": "execute_result",
          "data": {
            "text/plain": [
              "8"
            ]
          },
          "metadata": {},
          "execution_count": 18
        }
      ]
    },
    {
      "cell_type": "markdown",
      "source": [
        "###Keyword Arguments: We can specify the parameter name while passing the argument, which allows you to pass them in any order."
      ],
      "metadata": {
        "id": "KL0r4Ibnr6Aj"
      }
    },
    {
      "cell_type": "code",
      "source": [
        "def describe_pet(name, animal_type):\n",
        "    print(f\"I have a {animal_type} named {name}.\")\n",
        "\n",
        "describe_pet(animal_type=\"dog\", name=\"Buddy\")\n",
        "\n"
      ],
      "metadata": {
        "colab": {
          "base_uri": "https://localhost:8080/"
        },
        "id": "UxsLvVHtsEpy",
        "outputId": "38c13c20-79af-43a7-ee6b-d83335e56406"
      },
      "execution_count": null,
      "outputs": [
        {
          "output_type": "stream",
          "name": "stdout",
          "text": [
            "I have a dog named Buddy.\n"
          ]
        }
      ]
    },
    {
      "cell_type": "code",
      "source": [
        "def print_names(*names):  # 'names' is a tuple of arguments\n",
        "    for name in names:\n",
        "        print(name)\n",
        "\n",
        "print_names(\"Alice\", \"Bob\", \"Charlie\")\n",
        "\n",
        "def print_info(**info):  # 'info' is a dictionary of keyword arguments\n",
        "    for key, value in info.items():\n",
        "        print(f\"{key}: {value}\")\n",
        "\n",
        "print_info(name=\"Alice\", age=30)\n"
      ],
      "metadata": {
        "colab": {
          "base_uri": "https://localhost:8080/"
        },
        "id": "DIdsSYmVfjRM",
        "outputId": "f901ba5c-ebbc-4c02-eda3-aa7508c39b55"
      },
      "execution_count": null,
      "outputs": [
        {
          "output_type": "stream",
          "name": "stdout",
          "text": [
            "Alice\n",
            "Bob\n",
            "Charlie\n",
            "name: Alice\n",
            "age: 30\n"
          ]
        }
      ]
    },
    {
      "cell_type": "markdown",
      "source": [
        "###Default Arguments: We can assign default values to parameters. If no argument is provided for that parameter, the default value is used."
      ],
      "metadata": {
        "id": "g_Yz8aBPsc5H"
      }
    },
    {
      "cell_type": "code",
      "source": [
        "def greet(name=\"Guest\"):\n",
        "    print(f\"Hello, {name}!\")\n",
        "\n",
        "greet()  # Output: Hello, Guest!\n",
        "greet(\"Alice\")  # Output: Hello, Alice!\n"
      ],
      "metadata": {
        "colab": {
          "base_uri": "https://localhost:8080/"
        },
        "id": "4jqdn9a_smeT",
        "outputId": "3265537a-f73c-47f7-8bfd-d204e81bbee5"
      },
      "execution_count": null,
      "outputs": [
        {
          "output_type": "stream",
          "name": "stdout",
          "text": [
            "Hello, Guest!\n",
            "Hello, Alice!\n"
          ]
        }
      ]
    },
    {
      "cell_type": "markdown",
      "source": [
        "###Variable-length Arguments: We can define functions that accept an arbitrary number of arguments using *args for non-keyword arguments and **kwargs for keyword arguments."
      ],
      "metadata": {
        "id": "FPaYF6dDsuEf"
      }
    },
    {
      "cell_type": "code",
      "source": [
        "def sum_all(*args):\n",
        "    return sum(args)\n",
        "\n",
        "print(sum_all(1, 2, 3, 4))\n"
      ],
      "metadata": {
        "colab": {
          "base_uri": "https://localhost:8080/"
        },
        "id": "ZoC6xpNKs3lx",
        "outputId": "9f228e63-ce80-4bc0-cf35-6ef831dfad6e"
      },
      "execution_count": null,
      "outputs": [
        {
          "output_type": "stream",
          "name": "stdout",
          "text": [
            "10\n"
          ]
        }
      ]
    },
    {
      "cell_type": "code",
      "source": [
        "def print_info(**kwargs):\n",
        "    for key, value in kwargs.items():\n",
        "        print(f\"{key}: {value}\")\n",
        "\n",
        "print_info(name=\"Alice\", age=30)\n",
        "\n"
      ],
      "metadata": {
        "colab": {
          "base_uri": "https://localhost:8080/"
        },
        "id": "9sW-uy5YtCJn",
        "outputId": "0e3ebc36-e645-4443-af1f-698cd8d2fe8d"
      },
      "execution_count": null,
      "outputs": [
        {
          "output_type": "stream",
          "name": "stdout",
          "text": [
            "name: Alice\n",
            "age: 30\n"
          ]
        }
      ]
    },
    {
      "cell_type": "markdown",
      "source": [],
      "metadata": {
        "id": "-KCjaLNLIoxR"
      }
    },
    {
      "cell_type": "markdown",
      "source": [
        "#3. What are the different ways to define and call a function in Python?\n",
        "\n",
        "###In Python, there are several ways to define and call functions. Here are the most common methods:\n",
        "\n",
        "###1. Standard Function Definition: we can define a basic function using the def keyword.\n",
        "\n"
      ],
      "metadata": {
        "id": "xvlrsHnttR2k"
      }
    },
    {
      "cell_type": "code",
      "source": [
        "#Define function\n",
        "def greet(name):\n",
        "    print(f\"Hello, {name}!\")\n"
      ],
      "metadata": {
        "id": "Wt_dnI6dt8xA"
      },
      "execution_count": null,
      "outputs": []
    },
    {
      "cell_type": "code",
      "source": [
        "#call function\n",
        "greet(\"Akshay\")"
      ],
      "metadata": {
        "colab": {
          "base_uri": "https://localhost:8080/"
        },
        "id": "DeuXOPE3uBDi",
        "outputId": "25b446cd-3c15-4be0-9b27-57b3c712bd72"
      },
      "execution_count": null,
      "outputs": [
        {
          "output_type": "stream",
          "name": "stdout",
          "text": [
            "Hello, Akshay!\n"
          ]
        }
      ]
    },
    {
      "cell_type": "markdown",
      "source": [
        "###2. Function with Return Value: Functions can return values using the return statement."
      ],
      "metadata": {
        "id": "FcbP_zVRujxL"
      }
    },
    {
      "cell_type": "code",
      "source": [
        "def add(a, b):\n",
        "    return a + b\n"
      ],
      "metadata": {
        "id": "t0gDE9wDuuvj"
      },
      "execution_count": null,
      "outputs": []
    },
    {
      "cell_type": "code",
      "source": [
        "result = add(2, 3)\n",
        "print(result)\n"
      ],
      "metadata": {
        "colab": {
          "base_uri": "https://localhost:8080/"
        },
        "id": "PKDQKCNCuzCa",
        "outputId": "2bc68211-fdf0-49a0-c908-57bab44abefc"
      },
      "execution_count": null,
      "outputs": [
        {
          "output_type": "stream",
          "name": "stdout",
          "text": [
            "5\n"
          ]
        }
      ]
    },
    {
      "cell_type": "markdown",
      "source": [
        "###3. Function with Default Parameters: We can provide default values for parameters."
      ],
      "metadata": {
        "id": "llUSASNsu7QL"
      }
    },
    {
      "cell_type": "code",
      "source": [
        "def greet(name=\"Guest\"):\n",
        "    print(f\"Hello, {name}!\")\n"
      ],
      "metadata": {
        "id": "6QAfZhF8vE7c"
      },
      "execution_count": null,
      "outputs": []
    },
    {
      "cell_type": "code",
      "source": [
        "greet()\n",
        "greet(\"Bob\")\n"
      ],
      "metadata": {
        "colab": {
          "base_uri": "https://localhost:8080/"
        },
        "id": "mOdoLrFvvONR",
        "outputId": "15d373d1-4ae3-4d1b-c06c-44fa99fcf9bf"
      },
      "execution_count": null,
      "outputs": [
        {
          "output_type": "stream",
          "name": "stdout",
          "text": [
            "Hello, Guest!\n",
            "Hello, Bob!\n"
          ]
        }
      ]
    },
    {
      "cell_type": "markdown",
      "source": [
        "###4. Function with Variable-Length Arguments: Functions can accept a variable number of arguments using *args and **kwargs."
      ],
      "metadata": {
        "id": "LcTFzSS5vk7w"
      }
    },
    {
      "cell_type": "code",
      "source": [
        "def sum_all(*args):\n",
        "    return sum(args)\n"
      ],
      "metadata": {
        "id": "CkbCQh_dwBe7"
      },
      "execution_count": null,
      "outputs": []
    },
    {
      "cell_type": "code",
      "source": [
        "def sum_all(*args):\n",
        "    return sum(args)\n"
      ],
      "metadata": {
        "id": "Gp3MiqTyv3Lt"
      },
      "execution_count": null,
      "outputs": []
    },
    {
      "cell_type": "code",
      "source": [
        "multiply = lambda x, y: x * y\n"
      ],
      "metadata": {
        "id": "ODrbVdjCwwTh"
      },
      "execution_count": null,
      "outputs": []
    },
    {
      "cell_type": "markdown",
      "source": [
        "#4. What is the purpose of the `return` statement in a Python function?\n",
        "\n",
        "###The return statement in a Python function serves several important purposes:\n",
        "\n",
        "###1. Returning a Value: The primary purpose of the return statement is to send a value back to the caller of the function. When a function is called, it can process some input and then use return to output a result."
      ],
      "metadata": {
        "id": "m4_BoQ7oJTLq"
      }
    },
    {
      "cell_type": "code",
      "source": [
        "def add(a, b):\n",
        "    return a + b\n",
        "\n",
        "result = add(3, 5)\n",
        "print(result)\n"
      ],
      "metadata": {
        "colab": {
          "base_uri": "https://localhost:8080/"
        },
        "id": "zIIv19zIKbOr",
        "outputId": "0a6bd42c-f459-45c0-a6d7-bd26b6b7f37b"
      },
      "execution_count": null,
      "outputs": [
        {
          "output_type": "stream",
          "name": "stdout",
          "text": [
            "8\n"
          ]
        }
      ]
    },
    {
      "cell_type": "markdown",
      "source": [
        "###2. Exiting a Function: The return statement also causes the function to exit immediately. If a function reaches a return statement, it stops executing and control is returned to the caller."
      ],
      "metadata": {
        "id": "HKpn9tPLKZ3x"
      }
    },
    {
      "cell_type": "code",
      "source": [
        "def check_number(num):\n",
        "    if num < 0:\n",
        "        return \"Negative\"\n",
        "    return \"Non-negative\"\n",
        "\n",
        "print(check_number(-5))\n"
      ],
      "metadata": {
        "colab": {
          "base_uri": "https://localhost:8080/"
        },
        "id": "M_dmbTwiKxOS",
        "outputId": "f204d625-050b-48f2-83b9-c04427018365"
      },
      "execution_count": null,
      "outputs": [
        {
          "output_type": "stream",
          "name": "stdout",
          "text": [
            "Negative\n"
          ]
        }
      ]
    },
    {
      "cell_type": "markdown",
      "source": [
        "###3. Returning Multiple Values: A function can return multiple values as a tuple, which can be unpacked by the caller."
      ],
      "metadata": {
        "id": "j0T20NvLK5rA"
      }
    },
    {
      "cell_type": "code",
      "source": [
        "def get_coordinates():\n",
        "    return (10, 20)\n",
        "\n",
        "x, y = get_coordinates()\n",
        "print(x, y)  # Output: 10 20\n"
      ],
      "metadata": {
        "colab": {
          "base_uri": "https://localhost:8080/"
        },
        "id": "cur7Cc25LI3t",
        "outputId": "ae164115-50b4-4f13-f054-95d97ddda04f"
      },
      "execution_count": null,
      "outputs": [
        {
          "output_type": "stream",
          "name": "stdout",
          "text": [
            "10 20\n"
          ]
        }
      ]
    },
    {
      "cell_type": "markdown",
      "source": [
        "###4. Default Return Value: If a function does not explicitly use a return statement, it will return None by default. This can be useful for indicating that the function doesn't produce a meaningful result."
      ],
      "metadata": {
        "id": "e78lm8qpLYUP"
      }
    },
    {
      "cell_type": "code",
      "source": [
        "def print_message():\n",
        "    print(\"This function has no return value.\")\n",
        "\n",
        "result = print_message()\n",
        "print(result)\n"
      ],
      "metadata": {
        "colab": {
          "base_uri": "https://localhost:8080/"
        },
        "id": "MH5R75-TLeMq",
        "outputId": "1ee94c22-07af-4a90-a0e5-1e11dadfa8d5"
      },
      "execution_count": null,
      "outputs": [
        {
          "output_type": "stream",
          "name": "stdout",
          "text": [
            "This function has no return value.\n",
            "None\n"
          ]
        }
      ]
    },
    {
      "cell_type": "markdown",
      "source": [
        "\n",
        "#5. What are iterators in Python and how do they differ from iterables?\n",
        "\n",
        "###In Python, iterators and iterables are closely related concepts that deal with iteration over a sequence of elements. Here's a breakdown of each term and their differences, along with examples.\n",
        "\n",
        "###Iterable: An iterable is any Python object that can return an iterator. This includes data types like lists, tuples, strings, dictionaries, and sets. An iterable must implement the __iter__() method, which returns an iterator."
      ],
      "metadata": {
        "id": "Ra7gSPtJLvZ6"
      }
    },
    {
      "cell_type": "code",
      "source": [
        "#In this example, my_list is an iterable.\n",
        "my_list = [1, 2, 3, 4]\n",
        "for item in my_list:\n",
        "    print(item)\n"
      ],
      "metadata": {
        "colab": {
          "base_uri": "https://localhost:8080/"
        },
        "id": "tcFfMcP7MfZb",
        "outputId": "e52ee6bb-8376-4325-9a7a-1f116161fd1e"
      },
      "execution_count": null,
      "outputs": [
        {
          "output_type": "stream",
          "name": "stdout",
          "text": [
            "1\n",
            "2\n",
            "3\n",
            "4\n"
          ]
        }
      ]
    },
    {
      "cell_type": "markdown",
      "source": [
        "###Iterator: An iterator is an object that represents a stream of data and allows you to iterate through that data one element at a time. An iterator implements two methods: __iter__() and __next__(). The __iter__() method returns the iterator object itself, and the __next__() method returns the next value from the stream of data."
      ],
      "metadata": {
        "id": "e2T71UHTM2_6"
      }
    },
    {
      "cell_type": "code",
      "source": [
        "my_list = [1, 2, 3, 4]\n",
        "my_iterator = iter(my_list)  # Create an iterator from the list\n",
        "\n",
        "print(next(my_iterator))\n",
        "print(next(my_iterator))\n"
      ],
      "metadata": {
        "colab": {
          "base_uri": "https://localhost:8080/"
        },
        "id": "oKjjY11rM-6j",
        "outputId": "9e50e9f6-f2fa-457b-cf35-de9b9eb0d1f3"
      },
      "execution_count": null,
      "outputs": [
        {
          "output_type": "stream",
          "name": "stdout",
          "text": [
            "1\n",
            "2\n"
          ]
        }
      ]
    },
    {
      "cell_type": "code",
      "source": [
        "# Iterable example\n",
        "my_list = [1, 2, 3]\n",
        "print(\"Iterable:\")\n",
        "for item in my_list:  # Looping over the iterable\n",
        "    print(item)\n",
        "\n",
        "# Iterator example\n",
        "my_iterator = iter(my_list)  # Create an iterator\n",
        "print(\"\\nIterator:\")\n",
        "print(next(my_iterator))\n",
        "print(next(my_iterator))\n",
        "print(next(my_iterator))\n",
        "\n",
        "# Attempting to get the next value after exhausting the iterator\n",
        "try:\n",
        "    print(next(my_iterator))  # This will raise StopIteration\n",
        "except StopIteration:\n",
        "    print(\"Reached the end of the iterator.\")\n"
      ],
      "metadata": {
        "colab": {
          "base_uri": "https://localhost:8080/"
        },
        "id": "x80RpyY8NOim",
        "outputId": "4387ad4f-dc78-4184-b500-733329f900db"
      },
      "execution_count": null,
      "outputs": [
        {
          "output_type": "stream",
          "name": "stdout",
          "text": [
            "Iterable:\n",
            "1\n",
            "2\n",
            "3\n",
            "\n",
            "Iterator:\n",
            "1\n",
            "2\n",
            "3\n",
            "Reached the end of the iterator.\n"
          ]
        }
      ]
    },
    {
      "cell_type": "markdown",
      "source": [
        "#6. Explain the concept of generators in Python and how they are defined\n",
        "\n",
        "###In Python, generators are a special type of iterator that allow you to create iterators in a more concise and efficient way. They are defined using functions and the yield keyword, which enables the function to return a value and pause its execution, maintaining its state for the next iteration.\n",
        "\n",
        "###Key Features of Generators:\n",
        "\n",
        "###1. Lazy Evaluation: Generators produce values one at a time and only when requested. This means they don't compute all their values at once, making them memory-efficient for large datasets.\n",
        "\n",
        "###2. State Preservation: When a generator function is called, it does not execute its body immediately. Instead, it returns a generator object. Each time you call next() on this generator, it resumes execution from where it left off, allowing it to preserve its local state.\n",
        "\n",
        "###3. Simplified Syntax: Generators provide a simpler way to create iterators without needing to implement the __iter__() and __next__() methods manually.\n",
        "\n",
        "###Defining a Generator:  We define a generator just like a regular function, but instead of using return, you use yield to produce values."
      ],
      "metadata": {
        "id": "EfklKtW-N07r"
      }
    },
    {
      "cell_type": "code",
      "source": [
        "def count_up_to(max):\n",
        "    count = 1\n",
        "    while count <= max:\n",
        "        yield count  # Produces the current value and pauses\n",
        "        count += 1   # Increments the count\n",
        "\n",
        "# Creating a generator\n",
        "counter = count_up_to(5)\n",
        "\n",
        "# Using the generator\n",
        "for number in counter:\n",
        "    print(number)\n"
      ],
      "metadata": {
        "colab": {
          "base_uri": "https://localhost:8080/"
        },
        "id": "gOGkrYBBNjKN",
        "outputId": "12a55b3e-e94e-49ce-9856-dd77c324d394"
      },
      "execution_count": null,
      "outputs": [
        {
          "output_type": "stream",
          "name": "stdout",
          "text": [
            "1\n",
            "2\n",
            "3\n",
            "4\n",
            "5\n"
          ]
        }
      ]
    },
    {
      "cell_type": "markdown",
      "source": [
        "###Using next() with Generators: We can also manually control the iteration using the next() function."
      ],
      "metadata": {
        "id": "wl2aFTRiQMpz"
      }
    },
    {
      "cell_type": "code",
      "source": [
        "counter = count_up_to(3)\n",
        "\n",
        "print(next(counter))\n",
        "print(next(counter))\n",
        "print(next(counter))\n",
        "\n",
        "# The next call will raise StopIteration\n",
        "try:\n",
        "    print(next(counter))  # This will raise StopIteration\n",
        "except StopIteration:\n",
        "    print(\"Reached the end of the generator.\")\n"
      ],
      "metadata": {
        "colab": {
          "base_uri": "https://localhost:8080/"
        },
        "id": "g_ghZwpwQgNa",
        "outputId": "65beda4d-0803-49f7-c85e-c986b5bf9713"
      },
      "execution_count": null,
      "outputs": [
        {
          "output_type": "stream",
          "name": "stdout",
          "text": [
            "1\n",
            "2\n",
            "3\n",
            "Reached the end of the generator.\n"
          ]
        }
      ]
    },
    {
      "cell_type": "markdown",
      "source": [
        "#7. What are the advantages of using generators over regular functions?\n",
        "\n",
        "###Generators offer several advantages over regular functions, particularly when it comes to handling large datasets or streams of data. Here are the key benefits, along with examples:\n",
        "\n",
        "###1. Memory Efficiency: Generators generate values on-the-fly and do not store the entire dataset in memory. This is especially useful when dealing with large data sets."
      ],
      "metadata": {
        "id": "jmH7L3JLQ65v"
      }
    },
    {
      "cell_type": "code",
      "source": [
        "def large_range(n):\n",
        "    for i in range(n):\n",
        "        yield i\n",
        "\n",
        "# Using a generator\n",
        "gen = large_range(10**6)\n",
        "\n",
        "# This only consumes a small amount of memory\n",
        "for number in gen:\n",
        "    if number > 10:\n",
        "        break  # Stop after a few iterations\n"
      ],
      "metadata": {
        "id": "jUDCKX5jR3Fa"
      },
      "execution_count": null,
      "outputs": []
    },
    {
      "cell_type": "markdown",
      "source": [
        "###2. Lazy Evaluation: Generators produce values only when requested. This can lead to significant performance improvements, as they avoid unnecessary computations."
      ],
      "metadata": {
        "id": "jn3dffmFSH1R"
      }
    },
    {
      "cell_type": "code",
      "source": [
        "def countdown(n):\n",
        "    print(\"Starting countdown...\")\n",
        "    while n > 0:\n",
        "        yield n\n",
        "        n -= 1\n",
        "\n",
        "# Using the generator\n",
        "for num in countdown(5):\n",
        "    print(num)\n",
        "    if num == 3:\n",
        "        break  # The rest of the countdown is not executed\n"
      ],
      "metadata": {
        "colab": {
          "base_uri": "https://localhost:8080/"
        },
        "id": "MjV1MCgkSUkM",
        "outputId": "7a5ea4ba-07b3-4755-ed05-aec8418b76e0"
      },
      "execution_count": null,
      "outputs": [
        {
          "output_type": "stream",
          "name": "stdout",
          "text": [
            "Starting countdown...\n",
            "5\n",
            "4\n",
            "3\n"
          ]
        }
      ]
    },
    {
      "cell_type": "markdown",
      "source": [
        "###In this case, if the function had been a regular function returning a list, it would have computed the entire countdown upfront.\n",
        "\n",
        "###3. Simpler Code for Iteration: Generators can simplify the code required to create iterators. You don’t need to define a class with __iter__() and __next__() methods."
      ],
      "metadata": {
        "id": "WSSa3UXGSnG9"
      }
    },
    {
      "cell_type": "code",
      "source": [
        "def fibonacci(n):\n",
        "    a, b = 0, 1\n",
        "    for _ in range(n):\n",
        "        yield a\n",
        "        a, b = b, a + b\n",
        "\n",
        "# Using the generator\n",
        "for number in fibonacci(10):\n",
        "    print(number)\n"
      ],
      "metadata": {
        "colab": {
          "base_uri": "https://localhost:8080/"
        },
        "id": "M5O8iO8qTLek",
        "outputId": "ab98f28a-a254-448d-b705-365fd783c2b2"
      },
      "execution_count": null,
      "outputs": [
        {
          "output_type": "stream",
          "name": "stdout",
          "text": [
            "0\n",
            "1\n",
            "1\n",
            "2\n",
            "3\n",
            "5\n",
            "8\n",
            "13\n",
            "21\n",
            "34\n"
          ]
        }
      ]
    },
    {
      "cell_type": "markdown",
      "source": [
        "###4. Maintaining State: Generators can maintain their state between calls. This allows for more complex behaviors without needing to manage state manually."
      ],
      "metadata": {
        "id": "vd6hlAViTRlp"
      }
    },
    {
      "cell_type": "code",
      "source": [
        "def counter():\n",
        "    count = 0\n",
        "    while True:\n",
        "        yield count  # Yield the current count and pause\n",
        "        count += 1   # Increment the count\n",
        "\n",
        "# Create a generator\n",
        "count_gen = counter()\n",
        "\n",
        "# Using the generator\n",
        "for _ in range(5):\n",
        "    print(next(count_gen))\n"
      ],
      "metadata": {
        "colab": {
          "base_uri": "https://localhost:8080/"
        },
        "id": "XfHrNiJeTvrI",
        "outputId": "cb0ebdad-03d8-4d7c-8ecd-017ef31eabbb"
      },
      "execution_count": null,
      "outputs": [
        {
          "output_type": "stream",
          "name": "stdout",
          "text": [
            "0\n",
            "1\n",
            "2\n",
            "3\n",
            "4\n"
          ]
        }
      ]
    },
    {
      "cell_type": "markdown",
      "source": [
        "###5. Infinite Sequences: Generators can represent infinite sequences without running out of memory. This is not possible with regular functions that return lists."
      ],
      "metadata": {
        "id": "xbWEcGlzT7t4"
      }
    },
    {
      "cell_type": "code",
      "source": [
        "def infinite_numbers():\n",
        "    n = 0\n",
        "    while True:\n",
        "        yield n\n",
        "        n += 1\n",
        "\n",
        "# Using the generator\n",
        "gen = infinite_numbers()\n",
        "for _ in range(10):\n",
        "    print(next(gen))\n"
      ],
      "metadata": {
        "colab": {
          "base_uri": "https://localhost:8080/"
        },
        "id": "PbtMGKQ2UBLE",
        "outputId": "5646b706-68fb-4640-90bf-0bc50bcbc6d6"
      },
      "execution_count": null,
      "outputs": [
        {
          "output_type": "stream",
          "name": "stdout",
          "text": [
            "0\n",
            "1\n",
            "2\n",
            "3\n",
            "4\n",
            "5\n",
            "6\n",
            "7\n",
            "8\n",
            "9\n"
          ]
        }
      ]
    },
    {
      "cell_type": "markdown",
      "source": [
        "#8. What is a lambda function in Python and when is it typically used?\n",
        "\n",
        "\n",
        "###A lambda function in Python is a small, anonymous function defined using the lambda keyword. Unlike regular functions defined with def, lambda functions can take any number of arguments but only have a single expression. The expression is evaluated and returned when the lambda function is called.\n",
        "\n",
        "### Use Lambda Functions:\n",
        "\n",
        "###Lambda functions are typically used in the following scenarios:\n",
        "\n",
        "###1. Short-term Use: When you need a simple function for a short period, often as an argument to higher-order functions.\n",
        "###2. Higher-Order Functions: In functions like map(), filter(), and sorted(), where you apply a simple transformation or filter.\n",
        "###3. Inline Definitions: When you want to define a function in a single line without the overhead of a full function definition."
      ],
      "metadata": {
        "id": "GBb9G20OURHu"
      }
    },
    {
      "cell_type": "code",
      "source": [
        "add = lambda x, y: x + y\n",
        "result = add(3, 5)\n",
        "print(result)\n"
      ],
      "metadata": {
        "colab": {
          "base_uri": "https://localhost:8080/"
        },
        "id": "CLZXxLivbqBK",
        "outputId": "d298c57c-71ba-491e-cfc7-08e970cd2e13"
      },
      "execution_count": null,
      "outputs": [
        {
          "output_type": "stream",
          "name": "stdout",
          "text": [
            "8\n"
          ]
        }
      ]
    },
    {
      "cell_type": "code",
      "source": [
        "9. Explain the purpose and usage of the `map()` function in Python."
      ],
      "metadata": {
        "id": "wG7QRjyWcIAW"
      },
      "execution_count": null,
      "outputs": []
    },
    {
      "cell_type": "markdown",
      "source": [
        "#9. Explain the purpose and usage of the `map()` function in Python.\n",
        "\n",
        "###The map() function in Python is a built-in higher-order function that allows you to apply a specified function to all items in an iterable (like a list, tuple, or string). The main purpose of map() is to transform the elements of an iterable by applying a function to each of them, returning a map object (which is an iterator) that can be easily converted to other data types like lists or tuples.\n",
        "\n",
        "###Usage\n",
        "###Single Iterable: When you have a single iterable and want to apply a function to each of its elements.\n",
        "###Multiple Iterables: When you have multiple iterables and want to apply a function that takes multiple arguments."
      ],
      "metadata": {
        "id": "VRI72BItdW17"
      }
    },
    {
      "cell_type": "code",
      "source": [
        "def cube(x):\n",
        "    return x ** 3\n",
        "\n",
        "numbers = [1, 2, 3, 4]\n",
        "cubed = list(map(cube, numbers))\n",
        "print(cubed)  # Output: [1, 8, 27, 64]\n"
      ],
      "metadata": {
        "colab": {
          "base_uri": "https://localhost:8080/"
        },
        "id": "aGGB5aHnkn6e",
        "outputId": "712ef0fa-b271-4503-e5a3-5dedb16dbee8"
      },
      "execution_count": null,
      "outputs": [
        {
          "output_type": "stream",
          "name": "stdout",
          "text": [
            "[1, 8, 27, 64]\n"
          ]
        }
      ]
    },
    {
      "cell_type": "markdown",
      "source": [
        "#10. What is the difference between `map()`, `reduce()`, and `filter()` functions in Python?\n",
        "\n",
        "The map(), reduce(), and filter() functions in Python are all higher-order functions used for processing iterables, but they serve different purposes and operate in distinct ways. Here’s a breakdown of each function and their differences:\n",
        "\n",
        "##1. map()\n",
        "###Purpose: To apply a function to all items in an iterable and return a new iterable (typically a list).\n",
        "###Returns: An iterator (or a list if converted) containing the results of applying the function.\n",
        "###Usage: Ideal for transforming data."
      ],
      "metadata": {
        "id": "ToNBfFeJk4-r"
      }
    },
    {
      "cell_type": "code",
      "source": [
        "numbers = [1, 2, 3, 4]\n",
        "squared = list(map(lambda x: x ** 2, numbers))\n",
        "print(squared)  # Output: [1, 4, 9, 16]\n"
      ],
      "metadata": {
        "colab": {
          "base_uri": "https://localhost:8080/"
        },
        "id": "1cvcdAiQlIm6",
        "outputId": "8eb1db9d-9d40-49a3-89a1-c0e642f1015e"
      },
      "execution_count": null,
      "outputs": [
        {
          "output_type": "stream",
          "name": "stdout",
          "text": [
            "[1, 4, 9, 16]\n"
          ]
        }
      ]
    },
    {
      "cell_type": "markdown",
      "source": [
        "##2. filter()\n",
        "###Purpose: To filter items in an iterable based on a condition specified by a function.\n",
        "###Returns: An iterator (or a list if converted) containing only the items for which the function returns True.\n",
        "###Usage: Ideal for selecting items that meet specific criteria."
      ],
      "metadata": {
        "id": "YoFgU-3ZlTbj"
      }
    },
    {
      "cell_type": "code",
      "source": [
        "numbers = [1, 2, 3, 4, 5]\n",
        "even_numbers = list(filter(lambda x: x % 2 == 0, numbers))\n",
        "print(even_numbers)  # Output: [2, 4]\n"
      ],
      "metadata": {
        "colab": {
          "base_uri": "https://localhost:8080/"
        },
        "id": "W_fr15iZlq2n",
        "outputId": "847a0922-e1c7-44b0-85e4-1470c8ad42eb"
      },
      "execution_count": null,
      "outputs": [
        {
          "output_type": "stream",
          "name": "stdout",
          "text": [
            "[2, 4]\n"
          ]
        }
      ]
    },
    {
      "cell_type": "markdown",
      "source": [
        "##3. reduce()\n",
        "###Purpose: To cumulatively apply a binary function (a function that takes two arguments) to the items in an iterable, reducing the iterable to a single cumulative value.\n",
        "##Returns: A single value that results from applying the function cumulatively to the items.\n",
        "##Usage: Ideal for aggregating data, such as summing a list of numbers."
      ],
      "metadata": {
        "id": "zEhmQX5rl7SN"
      }
    },
    {
      "cell_type": "code",
      "source": [
        "from functools import reduce\n",
        "\n",
        "numbers = [1, 2, 3, 4]\n",
        "sum_result = reduce(lambda x, y: x + y, numbers)\n",
        "print(sum_result)  # Output: 10\n"
      ],
      "metadata": {
        "colab": {
          "base_uri": "https://localhost:8080/"
        },
        "id": "I_jT7sg2mPq9",
        "outputId": "7961b82b-44e9-4275-8219-25cd50d0f852"
      },
      "execution_count": null,
      "outputs": [
        {
          "output_type": "stream",
          "name": "stdout",
          "text": [
            "10\n"
          ]
        }
      ]
    },
    {
      "cell_type": "markdown",
      "source": [
        "#11. Using pen & Paper write the internal mechanism for sum operation using  reduce function on this given\n",
        "###list:[47,11,42,13];"
      ],
      "metadata": {
        "id": "blTPtQfhJK9Y"
      }
    },
    {
      "cell_type": "markdown",
      "source": [
        "![Ans11.jpg](data:image/jpeg;base64,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)"
      ],
      "metadata": {
        "id": "6WUuPllbZDGO"
      }
    },
    {
      "cell_type": "markdown",
      "source": [],
      "metadata": {
        "id": "qVWLPLxuZCgn"
      }
    },
    {
      "cell_type": "markdown",
      "source": [
        "#Practical Questions:"
      ],
      "metadata": {
        "id": "L8GTcWt4pbmH"
      }
    },
    {
      "cell_type": "markdown",
      "source": [
        "#1. Write a Python function that takes a list of numbers as input and returns the sum of all even numbers in the list.\n",
        "\n"
      ],
      "metadata": {
        "id": "VP8oRu0Iohz_"
      }
    },
    {
      "cell_type": "code",
      "source": [
        "def sum_of_even_numbers(numbers):\n",
        "    # Use a list comprehension to filter even numbers and sum them\n",
        "    even_sum = sum(num for num in numbers if num % 2 == 0)\n",
        "    return even_sum\n",
        "\n",
        "# Example usage\n",
        "numbers = [1, 2, 3, 4, 5, 6]\n",
        "result = sum_of_even_numbers(numbers)\n",
        "print(result)  #(2 + 4 + 6)= 12\n"
      ],
      "metadata": {
        "colab": {
          "base_uri": "https://localhost:8080/"
        },
        "id": "0_W5GJLgpGsS",
        "outputId": "2b9c355f-8bd4-45a9-fc5e-d46ba60b2d50"
      },
      "execution_count": null,
      "outputs": [
        {
          "output_type": "stream",
          "name": "stdout",
          "text": [
            "12\n"
          ]
        }
      ]
    },
    {
      "cell_type": "markdown",
      "source": [
        "#2. Create a Python function that accepts a string and returns the reverse of that string.\n",
        "\n",
        "###Python function that takes a string as input and returns the reversed version of that string:\n",
        "\n",
        "###1. The function reverse_string accepts one parameter, input_string.\n",
        "###2. It uses slicing ([::-1]) to reverse the string.\n",
        "###3. Finally, it returns the reversed string.\n",
        "###We can call this function with any string, and it will return the reversed result!"
      ],
      "metadata": {
        "id": "ZWGLDv1kjgJF"
      }
    },
    {
      "cell_type": "code",
      "source": [
        "def reverse_string(input_string):\n",
        "    return input_string[::-1]\n",
        "\n",
        "# Example usage\n",
        "result = reverse_string(\"Hello, World!\")\n",
        "print(result)\n"
      ],
      "metadata": {
        "colab": {
          "base_uri": "https://localhost:8080/"
        },
        "id": "e67GW1zmjifj",
        "outputId": "368238bc-b18c-462f-fca6-eeb2eddd3b1f"
      },
      "execution_count": null,
      "outputs": [
        {
          "output_type": "stream",
          "name": "stdout",
          "text": [
            "!dlroW ,olleH\n"
          ]
        }
      ]
    },
    {
      "cell_type": "markdown",
      "source": [
        "#3. Implement a Python function that takes a list of integers and returns a new list containing the squares of each number\n",
        "\n",
        "###Here’s a Python function that takes a list of integers and returns a new list containing the squares of each number\n"
      ],
      "metadata": {
        "id": "P_CnXADwk5TM"
      }
    },
    {
      "cell_type": "code",
      "source": [
        "def square_numbers(input_list):\n",
        "    return [x ** 2 for x in input_list]\n",
        "\n",
        "# Example usage\n",
        "numbers = [1, 2, 3, 4, 5]\n",
        "squared_numbers = square_numbers(numbers)\n",
        "print(squared_numbers)  # Output: [1, 4, 9, 16, 25]\n"
      ],
      "metadata": {
        "colab": {
          "base_uri": "https://localhost:8080/"
        },
        "id": "K0Q7e6smk8F1",
        "outputId": "66547d4b-f839-4a29-a69b-99b71b45e447"
      },
      "execution_count": null,
      "outputs": [
        {
          "output_type": "stream",
          "name": "stdout",
          "text": [
            "[1, 4, 9, 16, 25]\n"
          ]
        }
      ]
    },
    {
      "cell_type": "markdown",
      "source": [
        "##Explanation\n",
        "###The function square_numbers accepts one parameter, input_list, which is a list of integers.\n",
        "###It uses a list comprehension to iterate through each number x in the input list and calculates its square (x ** 2).\n",
        "###Finally, it returns a new list containing the squared values.\n"
      ],
      "metadata": {
        "id": "JzWf_qQb1a6I"
      }
    },
    {
      "cell_type": "markdown",
      "source": [
        "#4. Write a Python function that checks if a given number is prime or not from 1 to 200.\n",
        "\n",
        "###Here's a Python function that checks if a given number is prime and can be used to check numbers from 1 to 200:"
      ],
      "metadata": {
        "id": "D_wrtFbO2b0n"
      }
    },
    {
      "cell_type": "code",
      "source": [
        "def is_prime(num):\n",
        "    if num <= 1:\n",
        "        return False\n",
        "    for i in range(2, int(num ** 0.5) + 1):\n",
        "        if num % i == 0:\n",
        "            return False\n",
        "    return True\n",
        "\n",
        "# Example usage\n",
        "for number in range(1, 201):\n",
        "    if is_prime(number):\n",
        "        print(f\"{number} is a prime number.\")\n"
      ],
      "metadata": {
        "colab": {
          "base_uri": "https://localhost:8080/"
        },
        "id": "UFs86eUXlOLl",
        "outputId": "82f2a67a-8748-4375-a058-e454b8e29210"
      },
      "execution_count": null,
      "outputs": [
        {
          "output_type": "stream",
          "name": "stdout",
          "text": [
            "2 is a prime number.\n",
            "3 is a prime number.\n",
            "5 is a prime number.\n",
            "7 is a prime number.\n",
            "11 is a prime number.\n",
            "13 is a prime number.\n",
            "17 is a prime number.\n",
            "19 is a prime number.\n",
            "23 is a prime number.\n",
            "29 is a prime number.\n",
            "31 is a prime number.\n",
            "37 is a prime number.\n",
            "41 is a prime number.\n",
            "43 is a prime number.\n",
            "47 is a prime number.\n",
            "53 is a prime number.\n",
            "59 is a prime number.\n",
            "61 is a prime number.\n",
            "67 is a prime number.\n",
            "71 is a prime number.\n",
            "73 is a prime number.\n",
            "79 is a prime number.\n",
            "83 is a prime number.\n",
            "89 is a prime number.\n",
            "97 is a prime number.\n",
            "101 is a prime number.\n",
            "103 is a prime number.\n",
            "107 is a prime number.\n",
            "109 is a prime number.\n",
            "113 is a prime number.\n",
            "127 is a prime number.\n",
            "131 is a prime number.\n",
            "137 is a prime number.\n",
            "139 is a prime number.\n",
            "149 is a prime number.\n",
            "151 is a prime number.\n",
            "157 is a prime number.\n",
            "163 is a prime number.\n",
            "167 is a prime number.\n",
            "173 is a prime number.\n",
            "179 is a prime number.\n",
            "181 is a prime number.\n",
            "191 is a prime number.\n",
            "193 is a prime number.\n",
            "197 is a prime number.\n",
            "199 is a prime number.\n"
          ]
        }
      ]
    },
    {
      "cell_type": "markdown",
      "source": [
        "#5. Create an iterator class in Python that generates the Fibonacci sequence up to a specified number of terms."
      ],
      "metadata": {
        "id": "Mm84bt2f4a2i"
      }
    },
    {
      "cell_type": "code",
      "source": [
        "class FibonacciIterator:\n",
        "    def __init__(self, terms):\n",
        "        self.terms = terms\n",
        "        self.current = 0\n",
        "        self.previous = 1\n",
        "        self.count = 0\n",
        "\n",
        "    def __iter__(self):\n",
        "        return self\n",
        "\n",
        "    def __next__(self):\n",
        "        if self.count < self.terms:\n",
        "            if self.count == 0:\n",
        "                self.count += 1\n",
        "                return 0\n",
        "            elif self.count == 1:\n",
        "                self.count += 1\n",
        "                return 1\n",
        "            else:\n",
        "                next_fib = self.current + self.previous\n",
        "                self.previous = self.current\n",
        "                self.current = next_fib\n",
        "                self.count += 1\n",
        "                return next_fib\n",
        "        else:\n",
        "            raise StopIteration\n",
        "\n",
        "# Example usage\n",
        "fib = FibonacciIterator(10)  # Generate the first 10 Fibonacci numbers\n",
        "for number in fib:\n",
        "    print(number)\n"
      ],
      "metadata": {
        "colab": {
          "base_uri": "https://localhost:8080/"
        },
        "id": "xrJI0-d94aSp",
        "outputId": "a6b58b8a-766d-45b5-c010-aeac1c5f62f9"
      },
      "execution_count": null,
      "outputs": [
        {
          "output_type": "stream",
          "name": "stdout",
          "text": [
            "0\n",
            "1\n",
            "1\n",
            "1\n",
            "2\n",
            "3\n",
            "5\n",
            "8\n",
            "13\n",
            "21\n"
          ]
        }
      ]
    },
    {
      "cell_type": "markdown",
      "source": [
        "##Explanation\n",
        "###FibonacciIterator Class:\n",
        "###1. __init__(self, terms): Initializes the iterator with the specified number of terms and sets the initial state for the Fibonacci sequence.\n",
        "###2. __iter__(self): Returns the iterator object itself. This is required to make the class an iterator.\n",
        "###3. __next__(self): Calculates the next Fibonacci number:\n",
        "###4. Returns 0 for the first term and 1 for the second term.\n",
        "###5. For subsequent terms, it calculates the next Fibonacci number by summing the last two numbers.\n",
        "###6. Raises StopIteration when the specified number of terms has been reached.\n",
        "###Example Usage :The example creates an instance of FibonacciIterator to generate the first 10 Fibonacci numbers and prints them. You can change the argument to generate more or fewer terms as needed."
      ],
      "metadata": {
        "id": "2DtJB4gb5mYW"
      }
    },
    {
      "cell_type": "markdown",
      "source": [
        "#6. Write a generator function in Python that yields the powers of 2 up to a given exponent.\n",
        "\n",
        "###Here’s a Python generator function that yields the powers of 2 up to a given exponent:\n",
        "\n"
      ],
      "metadata": {
        "id": "NRYeayQH6Pp4"
      }
    },
    {
      "cell_type": "code",
      "source": [
        "def powers_of_two(exponent):\n",
        "    \"\"\"Generator that yields powers of 2 up to the specified exponent.\"\"\"\n",
        "    for i in range(exponent + 1):\n",
        "        yield 2 ** i\n",
        "\n",
        "# Example usage\n",
        "for power in powers_of_two(10):  #When we run the example, it will print the powers of 2 from 2**0 to 2**\n",
        "  print(power)\n"
      ],
      "metadata": {
        "colab": {
          "base_uri": "https://localhost:8080/"
        },
        "id": "UNKVMbFp3pGt",
        "outputId": "c21286c0-7742-466a-a206-8955ee64c461"
      },
      "execution_count": null,
      "outputs": [
        {
          "output_type": "stream",
          "name": "stdout",
          "text": [
            "1\n",
            "2\n",
            "4\n",
            "8\n",
            "16\n",
            "32\n",
            "64\n",
            "128\n",
            "256\n",
            "512\n",
            "1024\n"
          ]
        }
      ]
    },
    {
      "cell_type": "markdown",
      "source": [
        "##Explanation\n",
        "###powers_of_two(exponent):\n",
        "###This function is a generator that takes one parameter, exponent, which defines the highest power of 2 to generate.\n",
        "###It uses a for loop to iterate from 0 to exponent (inclusive).\n",
        "###For each iteration, it calculates 2**i and yields the result using the yield keyword."
      ],
      "metadata": {
        "id": "BtWf92sM69HE"
      }
    },
    {
      "cell_type": "markdown",
      "source": [
        "#7. Implement a generator function that reads a file line by line and yields each line as a string.\n",
        "\n",
        "###Here's a generator function that reads a file line by line and yields each line as a string:"
      ],
      "metadata": {
        "id": "NCYcBQop_GQe"
      }
    },
    {
      "cell_type": "code",
      "source": [
        "def read_file_lines(file_path):\n",
        "    \"\"\"Generator that reads a file line by line.\"\"\"\n",
        "    with open(file_path, 'r') as file:\n",
        "        for line in file:\n",
        "            yield line.strip()  # Yield each line, stripping newline characters\n",
        "\n",
        "# Example usage\n",
        "file_path = 'example.txt'  # Replace with your file path\n",
        "for line in read_file_lines(file_path):\n",
        "    print(line)"
      ],
      "metadata": {
        "colab": {
          "base_uri": "https://localhost:8080/",
          "height": 327
        },
        "id": "I8Ch36bDFq-J",
        "outputId": "6955a8da-d8d7-495f-8ede-f79eb96fd532"
      },
      "execution_count": null,
      "outputs": [
        {
          "output_type": "error",
          "ename": "FileNotFoundError",
          "evalue": "[Errno 2] No such file or directory: 'example.txt'",
          "traceback": [
            "\u001b[0;31m---------------------------------------------------------------------------\u001b[0m",
            "\u001b[0;31mFileNotFoundError\u001b[0m                         Traceback (most recent call last)",
            "\u001b[0;32m<ipython-input-25-72fa27cf24b2>\u001b[0m in \u001b[0;36m<cell line: 9>\u001b[0;34m()\u001b[0m\n\u001b[1;32m      7\u001b[0m \u001b[0;31m# Example usage\u001b[0m\u001b[0;34m\u001b[0m\u001b[0;34m\u001b[0m\u001b[0m\n\u001b[1;32m      8\u001b[0m \u001b[0mfile_path\u001b[0m \u001b[0;34m=\u001b[0m \u001b[0;34m'example.txt'\u001b[0m  \u001b[0;31m# Replace with your file path\u001b[0m\u001b[0;34m\u001b[0m\u001b[0;34m\u001b[0m\u001b[0m\n\u001b[0;32m----> 9\u001b[0;31m \u001b[0;32mfor\u001b[0m \u001b[0mline\u001b[0m \u001b[0;32min\u001b[0m \u001b[0mread_file_lines\u001b[0m\u001b[0;34m(\u001b[0m\u001b[0mfile_path\u001b[0m\u001b[0;34m)\u001b[0m\u001b[0;34m:\u001b[0m\u001b[0;34m\u001b[0m\u001b[0;34m\u001b[0m\u001b[0m\n\u001b[0m\u001b[1;32m     10\u001b[0m     \u001b[0mprint\u001b[0m\u001b[0;34m(\u001b[0m\u001b[0mline\u001b[0m\u001b[0;34m)\u001b[0m\u001b[0;34m\u001b[0m\u001b[0;34m\u001b[0m\u001b[0m\n",
            "\u001b[0;32m<ipython-input-25-72fa27cf24b2>\u001b[0m in \u001b[0;36mread_file_lines\u001b[0;34m(file_path)\u001b[0m\n\u001b[1;32m      1\u001b[0m \u001b[0;32mdef\u001b[0m \u001b[0mread_file_lines\u001b[0m\u001b[0;34m(\u001b[0m\u001b[0mfile_path\u001b[0m\u001b[0;34m)\u001b[0m\u001b[0;34m:\u001b[0m\u001b[0;34m\u001b[0m\u001b[0;34m\u001b[0m\u001b[0m\n\u001b[1;32m      2\u001b[0m     \u001b[0;34m\"\"\"Generator that reads a file line by line.\"\"\"\u001b[0m\u001b[0;34m\u001b[0m\u001b[0;34m\u001b[0m\u001b[0m\n\u001b[0;32m----> 3\u001b[0;31m     \u001b[0;32mwith\u001b[0m \u001b[0mopen\u001b[0m\u001b[0;34m(\u001b[0m\u001b[0mfile_path\u001b[0m\u001b[0;34m,\u001b[0m \u001b[0;34m'r'\u001b[0m\u001b[0;34m)\u001b[0m \u001b[0;32mas\u001b[0m \u001b[0mfile\u001b[0m\u001b[0;34m:\u001b[0m\u001b[0;34m\u001b[0m\u001b[0;34m\u001b[0m\u001b[0m\n\u001b[0m\u001b[1;32m      4\u001b[0m         \u001b[0;32mfor\u001b[0m \u001b[0mline\u001b[0m \u001b[0;32min\u001b[0m \u001b[0mfile\u001b[0m\u001b[0;34m:\u001b[0m\u001b[0;34m\u001b[0m\u001b[0;34m\u001b[0m\u001b[0m\n\u001b[1;32m      5\u001b[0m             \u001b[0;32myield\u001b[0m \u001b[0mline\u001b[0m\u001b[0;34m.\u001b[0m\u001b[0mstrip\u001b[0m\u001b[0;34m(\u001b[0m\u001b[0;34m)\u001b[0m  \u001b[0;31m# Yield each line, stripping newline characters\u001b[0m\u001b[0;34m\u001b[0m\u001b[0;34m\u001b[0m\u001b[0m\n",
            "\u001b[0;31mFileNotFoundError\u001b[0m: [Errno 2] No such file or directory: 'example.txt'"
          ]
        }
      ]
    },
    {
      "cell_type": "markdown",
      "source": [
        "###Explanation\n",
        "###Generator Function: The read_file_line_by_line function is defined as a generator using the yield keyword. This allows it to produce a sequence of results lazily, one at a time.\n",
        "###File Handling: The function opens the specified file in read mode ('r'). The with statement ensures the file is properly closed after its block is executed.\n",
        "###Reading Lines: The function iterates over the file object, which reads the file line by line. Each line is stripped of leading and trailing whitespace using strip(), and then it is yielded.\n",
        "###Usage: You can use this generator in a loop to process each line of the file as needed."
      ],
      "metadata": {
        "id": "bbkp8ux8GItk"
      }
    },
    {
      "cell_type": "markdown",
      "source": [
        "#8. Use a lambda function in Python to sort a list of tuples based on the second element of each tuple.\n",
        "\n",
        "###We can use a lambda function to sort a list of tuples based on the second element of each tuple. Here’s how to do it:"
      ],
      "metadata": {
        "id": "x2-d6JVyAKfF"
      }
    },
    {
      "cell_type": "code",
      "source": [
        "# Sample list of tuples\n",
        "data = [(1, 'banana'), (2, 'apple'), (3, 'cherry'), (4, 'date')]\n",
        "\n",
        "# Sorting the list based on the second element of each tuple\n",
        "sorted_data = sorted(data, key=lambda x: x[1])\n",
        "\n",
        "# Example usage\n",
        "print(sorted_data)\n"
      ],
      "metadata": {
        "colab": {
          "base_uri": "https://localhost:8080/"
        },
        "id": "A449rU57_YN1",
        "outputId": "fa3d6ddf-0222-4a04-be32-172e92df288b"
      },
      "execution_count": null,
      "outputs": [
        {
          "output_type": "stream",
          "name": "stdout",
          "text": [
            "[(2, 'apple'), (1, 'banana'), (3, 'cherry'), (4, 'date')]\n"
          ]
        }
      ]
    },
    {
      "cell_type": "markdown",
      "source": [
        "#9. Write a Python program that uses `map()` to convert a list of temperatures from Celsius to Fahrenheit.\n",
        "#Here's a Python program that uses the map() function to convert a list of temperatures from Celsius to Fahrenheit:"
      ],
      "metadata": {
        "id": "Q8d-kzwfA3AH"
      }
    },
    {
      "cell_type": "code",
      "source": [
        "# List of temperatures in Celsius\n",
        "celsius_temps = [0, 20, 37, 100]\n",
        "\n",
        "# Function to convert Celsius to Fahrenheit\n",
        "def celsius_to_fahrenheit(celsius):\n",
        "    return (celsius * 9/5) + 32\n",
        "\n",
        "# Using map to convert the list of temperatures\n",
        "fahrenheit_temps = list(map(celsius_to_fahrenheit, celsius_temps))\n",
        "\n",
        "# Example usage\n",
        "print(fahrenheit_temps)\n"
      ],
      "metadata": {
        "colab": {
          "base_uri": "https://localhost:8080/"
        },
        "id": "ytA6eGdoAbA9",
        "outputId": "1c6e90d6-91ec-46da-df8a-c02e820ee4de"
      },
      "execution_count": null,
      "outputs": [
        {
          "output_type": "stream",
          "name": "stdout",
          "text": [
            "[32.0, 68.0, 98.6, 212.0]\n"
          ]
        }
      ]
    },
    {
      "cell_type": "markdown",
      "source": [
        "#10. Create a Python program that uses `filter()` to remove all the vowels from a given string.\n",
        "\n",
        "###Here’s a Python program that uses the filter() function to remove all the vowels from a given string:"
      ],
      "metadata": {
        "id": "qlgLtkeqBaRo"
      }
    },
    {
      "cell_type": "code",
      "source": [
        "# Function to check if a character is a vowel\n",
        "def is_not_vowel(char):\n",
        "    vowels = 'aeiouAEIOU'  # Include both lowercase and uppercase vowels\n",
        "    return char not in vowels\n",
        "\n",
        "# Given string\n",
        "input_string = \"Hello, World!\"\n",
        "\n",
        "# Using filter to remove vowels\n",
        "filtered_string = ''.join(filter(is_not_vowel, input_string))\n",
        "\n",
        "# Example usage\n",
        "print(filtered_string)\n"
      ],
      "metadata": {
        "colab": {
          "base_uri": "https://localhost:8080/"
        },
        "id": "xzLVBXNrFCw6",
        "outputId": "669f58a6-c158-445b-dfe8-51c44dfa5053"
      },
      "execution_count": null,
      "outputs": [
        {
          "output_type": "stream",
          "name": "stdout",
          "text": [
            "Hll, Wrld!\n"
          ]
        }
      ]
    },
    {
      "cell_type": "markdown",
      "source": [
        "#11) Imagine an accounting routine used in a book shop. It works on a list with sublists, which look like this:"
      ],
      "metadata": {
        "id": "WaYRFKAIFv1Z"
      }
    },
    {
      "cell_type": "code",
      "source": [
        "# List of orders in the bookshop\n",
        "orders = [\n",
        "    [34587, \"Learning Python, Mark Lutz\", 4, 40.95],\n",
        "    [98762, \"Programming Python, Mark Lutz\", 5, 56.80],\n",
        "    [77226, \"Head First Python, Paul Barry\", 3, 32.95],\n",
        "    [88112, \"Einführung in Python3, Bernd Klein\", 3, 24.99]\n",
        "]\n",
        "\n",
        "# Function to calculate total price with adjustment if under 100 €\n",
        "def calculate_order_totals(orders):\n",
        "    # Define a lambda function to calculate the adjusted total price\n",
        "    calculate_total = lambda order: (order[0], (order[2] * order[3]) + 10 if order[2] * order[3] < 100 else order[2] * order[3])\n",
        "\n",
        "    # Use map to apply the lambda function to each order\n",
        "    result = list(map(calculate_total, orders))\n",
        "    return result\n",
        "\n",
        "# Get the list of 2-tuples with order number and adjusted total price\n",
        "order_totals = calculate_order_totals(orders)\n",
        "\n",
        "# Print the results\n",
        "for order in order_totals:\n",
        "    print(order)"
      ],
      "metadata": {
        "colab": {
          "base_uri": "https://localhost:8080/"
        },
        "id": "EIhKAZreFjLx",
        "outputId": "4dcacec6-b8d5-4a8b-b8c0-1b18c8b02c03"
      },
      "execution_count": null,
      "outputs": [
        {
          "output_type": "stream",
          "name": "stdout",
          "text": [
            "(34587, 163.8)\n",
            "(98762, 284.0)\n",
            "(77226, 108.85000000000001)\n",
            "(88112, 84.97)\n"
          ]
        }
      ]
    }
  ]
}