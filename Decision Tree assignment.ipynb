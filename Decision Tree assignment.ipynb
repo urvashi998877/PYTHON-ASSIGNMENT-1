{
 "cells": [
  {
   "cell_type": "markdown",
   "metadata": {
    "id": "bY5vy3fPg2go"
   },
   "source": [
    "# Theoretical"
   ]
  },
  {
   "cell_type": "markdown",
   "metadata": {
    "id": "WmftSTsmuq2k"
   },
   "source": [
    "Q1. What is a Decision Tree, and how does it work?\n",
    "\n",
    "ANS-> A Decision Tree is a popular machine learning algorithm used for both classification and regression tasks. It's a tree-like model that breaks down complex decisions into smaller, more manageable subsets.\n",
    "\n",
    "Here's how it works:\n",
    "\n",
    "Basic Components:\n",
    "\n",
    "1. Root Node: The topmost node representing the input data.\n",
    "2. Decision Nodes: Internal nodes that split the data into subsets based on specific conditions.\n",
    "3. Leaf Nodes: Terminal nodes representing the predicted class labels or target values.\n",
    "\n",
    "How Decision Trees Work:\n",
    "\n",
    "1. Data Splitting: The algorithm starts by splitting the input data into subsets based on the best attribute (feature) that minimizes impurity (e.g., entropy, Gini index).\n",
    "2. Decision Node Creation: A decision node is created for each subset, representing the attribute and its corresponding values.\n",
    "3. Recursion: Steps 1-2 are repeated recursively for each subset until a stopping criterion is met (e.g., all instances belong to the same class, or a maximum depth is reached).\n",
    "4. Leaf Node Creation: When a stopping criterion is met, a leaf node is created, representing the predicted class label or target value.\n",
    "5. Prediction: To make predictions, the algorithm traverses the tree from the root node to a leaf node, following the decisions made at each node.\n",
    "\n",
    "Advantages:\n",
    "\n",
    "1. Easy to Interpret: Decision Trees are simple to understand and visualize.\n",
    "2. Handling Missing Values: Decision Trees can handle missing values by treating them as a separate category.\n",
    "3. Non-Parametric: Decision Trees don't require any specific distribution of the data.\n",
    "\n",
    "Disadvantages:\n",
    "\n",
    "1. Overfitting: Decision Trees can suffer from overfitting, especially when the trees are deep.\n",
    "2. Not Suitable for Complex Relationships: Decision Trees are not effective in capturing complex relationships between features."
   ]
  },
  {
   "cell_type": "markdown",
   "metadata": {
    "id": "g_aL8R8Jg2kq"
   },
   "source": [
    "Q2. What are impurity measures in Decision Trees?\n",
    "\n",
    "ANS-> Impurity measures are crucial components of Decision Trees, helping the algorithm decide how to split the data at each node. In this response, we'll delve into the world of impurity measures and explore their significance in Decision Trees.\n",
    "\n",
    "What are Impurity Measures?\n",
    "\n",
    "Impurity measures are quantitative metrics used to evaluate the purity or homogeneity of a node in a Decision Tree. They help the algorithm determine the best attribute to split the data at each node, with the goal of minimizing impurity and maximizing node purity.\n",
    "\n",
    "Types of Impurity Measures:\n",
    "\n",
    "There are several impurity measures used in Decision Trees, including:\n",
    "\n",
    "1. Gini Impurity: Measures the probability of misclassifying a randomly chosen instance from the node. It's calculated as:\n",
    "\n",
    "Gini = 1 - ∑(p^2)\n",
    "\n",
    "where p is the proportion of instances belonging to each class.\n",
    "\n",
    "2. Entropy: Measures the amount of uncertainty or randomness in the node. It's calculated as:\n",
    "\n",
    "Entropy = -∑(p * log2(p))\n",
    "\n",
    "where p is the proportion of instances belonging to each class.\n",
    "\n",
    "3. Variance: Used for regression problems, it measures the spread of the target variable within the node.\n",
    "\n",
    "4. Misclassification Error: Measures the proportion of misclassified instances in the node.\n",
    "\n",
    "How Impurity Measures Affect Decision Trees:\n",
    "\n",
    "Impurity measures play a vital role in shaping the structure of a Decision Tree:\n",
    "\n",
    "1. Node Splitting: The algorithm chooses the attribute that minimizes impurity, ensuring the child nodes are more homogeneous than the parent node.\n",
    "2. Tree Depth: Impurity measures influence the tree's depth, as the algorithm continues to split nodes until a stopping criterion is met (e.g., all instances belong to the same class).\n",
    "3. Overfitting: Impurity measures can contribute to overfitting if the tree becomes too deep or complex, fitting the noise in the training data rather than the underlying patterns.\n"
   ]
  },
  {
   "cell_type": "markdown",
   "metadata": {
    "id": "IoO18u3tg23A"
   },
   "source": [
    "Q3. What is the mathematical formula for Gini Impurity?\n",
    "\n",
    "ANS-> The mathematical formula for Gini Impurity is:\n",
    "\n",
    "Gini = 1 - ∑(p^2)\n",
    "\n",
    "where:\n",
    "\n",
    "- Gini is the Gini Impurity measure\n",
    "- p is the proportion of instances belonging to each class\n",
    "- ∑ denotes the sum over all classes\n",
    "\n",
    "In other words, the Gini Impurity is calculated as 1 minus the sum of the squared proportions of each class.\n",
    "\n",
    "For example, if we have a node with 3 classes (A, B, and C) and the proportions are:\n",
    "\n",
    "p(A) = 0.4\n",
    "p(B) = 0.3\n",
    "p(C) = 0.3\n",
    "\n",
    "Then the Gini Impurity would be:\n",
    "\n",
    "Gini = 1 - (0.4^2 + 0.3^2 + 0.3^2)\n",
    "= 1 - (0.16 + 0.09 + 0.09)\n",
    "= 1 - 0.34\n",
    "= 0.66\n"
   ]
  },
  {
   "cell_type": "markdown",
   "metadata": {
    "id": "qXGDqvlYg27M"
   },
   "source": [
    "Q4. What is the mathematical formula for Entropy?\n",
    "\n",
    "ANS-> he mathematical formula for Entropy is:\n",
    "\n",
    "Entropy = -∑(p * log2(p))\n",
    "\n",
    "where:\n",
    "\n",
    "- Entropy is the Entropy measure\n",
    "- p is the proportion of instances belonging to each class\n",
    "- ∑ denotes the sum over all classes\n",
    "- log2 is the logarithm to the base 2\n",
    "\n",
    "In other words, the Entropy is calculated as the negative sum of the product of each class proportion and its logarithm to the base 2.\n",
    "\n",
    "For example, if we have a node with 3 classes (A, B, and C) and the proportions are:\n",
    "\n",
    "p(A) = 0.4\n",
    "p(B) = 0.3\n",
    "p(C) = 0.3\n",
    "\n",
    "Then the Entropy would be:\n",
    "\n",
    "Entropy = - (0.4 * log2(0.4) + 0.3 * log2(0.3) + 0.3 * log2(0.3))\n",
    "= - (-0.528 + -0.521 + -0.521)\n",
    "= 1.57\n"
   ]
  },
  {
   "cell_type": "markdown",
   "metadata": {
    "id": "632pEyOUg2_g"
   },
   "source": [
    "Q5. What is Information Gain, and how is it used in Decision Trees?\n",
    "\n",
    "ANS-> Information Gain is a crucial concept in Decision Trees, helping the algorithm determine the best attribute to split the data at each node.\n",
    "\n",
    "What is Information Gain?\n",
    "\n",
    "Information Gain measures the reduction in impurity or uncertainty in a node after splitting it based on a particular attribute. It calculates the difference in entropy (or Gini impurity) between the parent node and the child nodes.\n",
    "\n",
    "Mathematical Formula:\n",
    "\n",
    "Information Gain (IG) is calculated as:\n",
    "\n",
    "IG = Entropy(Parent) - ∑(Weighted Entropy(Child))\n",
    "\n",
    "where:\n",
    "\n",
    "- Entropy(Parent) is the entropy of the parent node\n",
    "- Weighted Entropy(Child) is the weighted entropy of each child node\n",
    "- ∑ denotes the sum over all child nodes\n",
    "\n",
    "How is Information Gain used in Decision Trees?\n",
    "\n",
    "In Decision Trees, Information Gain is used to determine the best attribute to split the data at each node:\n",
    "\n",
    "1. Attribute Selection: The algorithm calculates the Information Gain for each attribute and selects the attribute with the highest IG.\n",
    "2. Node Splitting: The selected attribute is used to split the node into child nodes.\n",
    "3. Recursion: The algorithm recursively applies the same process to each child node until a stopping criterion is met.\n",
    "\n",
    "By using Information Gain, Decision Trees can:\n",
    "\n",
    "- Reduce impurity and uncertainty in the data\n",
    "- Improve the accuracy of predictions\n",
    "- Handle complex relationships between attributes"
   ]
  },
  {
   "cell_type": "markdown",
   "metadata": {
    "id": "NKNDwDZEg3Dz"
   },
   "source": [
    "Q6. What is the difference between Gini Impurity and Entropy?\n",
    "\n",
    "ANS-> Gini Impurity and Entropy are two popular measures used to evaluate the impurity or uncertainty of a node in a Decision Tree. While both measures are used to determine the best attribute to split the data, there are key differences between them:\n",
    "\n",
    "Gini Impurity:\n",
    "\n",
    "1. Measures probability of misclassification: Gini Impurity calculates the probability of misclassifying a randomly chosen instance from the node.\n",
    "2. Squaring probabilities: Gini Impurity squares the probabilities of each class, giving more weight to dominant classes.\n",
    "3. Range: 0 to 1: Gini Impurity ranges from 0 (perfectly pure node) to 1 (completely impure node).\n",
    "4. Favors larger classes: Gini Impurity tends to favor larger classes, as squaring probabilities emphasizes the dominant class.\n",
    "\n",
    "Entropy:\n",
    "\n",
    "1. Measures uncertainty or randomness: Entropy calculates the amount of uncertainty or randomness in the node.\n",
    "2. Logarithmic scale: Entropy uses a logarithmic scale to measure uncertainty, giving more weight to smaller classes.\n",
    "3. Range: 0 to log2(k): Entropy ranges from 0 (perfectly pure node) to log2(k) (completely impure node), where k is the number of classes.\n",
    "4. Favors smaller classes: Entropy tends to favor smaller classes, as the logarithmic scale emphasizes the importance of smaller classes.\n",
    "\n",
    "Key differences:\n",
    "\n",
    "1. Gini Impurity is more sensitive to dominant classes, while Entropy is more sensitive to smaller classes.\n",
    "2. Gini Impurity is faster to compute, as it only requires calculating the squared probabilities, whereas Entropy requires calculating logarithms.\n",
    "3. Entropy is more robust to outliers, as it uses a logarithmic scale, which reduces the impact of extreme values."
   ]
  },
  {
   "cell_type": "markdown",
   "metadata": {
    "id": "YDVpIIifg3IL"
   },
   "source": [
    "Q7. What is the mathematical explanation behind Decision Trees?\n",
    "\n",
    "ANS-> Decision Trees are a fundamental concept in Machine Learning, and their mathematical explanation is rooted in Probability Theory, Information Theory, and Optimization Techniques.\n",
    "\n",
    "Probability Theory:\n",
    "\n",
    "Decision Trees rely heavily on probability theory, particularly in the calculation of probabilities and conditional probabilities.\n",
    "\n",
    "1. Class Probabilities: Given a dataset, the probability of each class is calculated as the proportion of instances belonging to that class.\n",
    "2. Conditional Probabilities: The probability of an instance belonging to a particular class given a specific attribute value is calculated using conditional probability.\n",
    "\n",
    "Information Theory:\n",
    "\n",
    "Decision Trees use information theory to measure the uncertainty or impurity of a node.\n",
    "\n",
    "1. Entropy: Entropy measures the amount of uncertainty or randomness in a node. It's calculated using the probabilities of each class.\n",
    "2. Information Gain: Information Gain measures the reduction in entropy after splitting a node based on a specific attribute.\n",
    "\n",
    "Optimization Techniques:\n",
    "\n",
    "Decision Trees use optimization techniques to find the optimal split at each node.\n",
    "\n",
    "1. Greedy Algorithm: The greedy algorithm is used to find the locally optimal split at each node, based on the attribute that maximizes the information gain.\n",
    "2. Recursive Partitioning: Recursive partitioning is used to recursively split the data into smaller subsets, based on the optimal split found at each node.\n",
    "\n",
    "Mathematical Formulation:\n",
    "\n",
    "Given a dataset D = {(x1, y1), (x2, y2), ..., (xn, yn)}, where xi is the feature vector and yi is the target variable, the decision tree algorithm can be formulated as:\n",
    "\n",
    "1. Initialization: Initialize the root node with the entire dataset D.\n",
    "2. Recursion: Recursively split the data into smaller subsets, based on the optimal split found at each node.\n",
    "3. Optimal Split: Find the optimal split at each node, based on the attribute that maximizes the information gain.\n",
    "4. Termination: Terminate the recursion when a stopping criterion is met, such as when all instances belong to the same class."
   ]
  },
  {
   "cell_type": "markdown",
   "metadata": {
    "id": "zFENq3jFg3MQ"
   },
   "source": [
    "Q8. What is Pre-Pruning in Decision Trees?\n",
    "\n",
    "ANS-> Pre-Pruning is a technique used in Decision Trees to prevent overfitting by stopping the tree growth early, before it becomes too complex.\n",
    "\n",
    "What is Pre-Pruning?\n",
    "\n",
    "Pre-Pruning is a method that stops the recursive partitioning process in a Decision Tree before it reaches the maximum depth or before all instances are classified. This is done by specifying a set of conditions or criteria that, when met, will stop the tree growth.\n",
    "\n",
    "Types of Pre-Pruning:\n",
    "\n",
    "There are several types of Pre-Pruning techniques:\n",
    "\n",
    "1. Depth-based Pre-Pruning: Stops the tree growth when a maximum depth is reached.\n",
    "2. Size-based Pre-Pruning: Stops the tree growth when a minimum number of instances is reached.\n",
    "3. Impurity-based Pre-Pruning: Stops the tree growth when the impurity of a node falls below a certain threshold.\n",
    "\n",
    "Advantages of Pre-Pruning:\n",
    "\n",
    "Pre-Pruning has several advantages:\n",
    "\n",
    "1. Reduces Overfitting: By stopping the tree growth early, Pre-Pruning reduces the risk of overfitting.\n",
    "2. Improves Generalization: Pre-Pruning helps improve the generalization of the model by reducing the complexity of the tree.\n",
    "3. Reduces Computational Cost: Pre-Pruning reduces the computational cost of training a Decision Tree.\n",
    "\n",
    "Disadvantages of Pre-Pruning:\n",
    "\n",
    "Pre-Pruning also has some disadvantages:\n",
    "\n",
    "1. May Underfit: If the Pre-Pruning criteria are too aggressive, the tree may underfit the data.\n",
    "2. Requires Hyperparameter Tuning: Pre-Pruning requires tuning the hyperparameters that control the Pre-Pruning criteria."
   ]
  },
  {
   "cell_type": "markdown",
   "metadata": {
    "id": "ljszl0nUg3QB"
   },
   "source": [
    "Q9. What is Post-Pruning in Decision Trees?\n",
    "\n",
    "ANS-> Post-Pruning is a technique used in Decision Trees to reduce the complexity of the tree after it has been fully grown.\n",
    "\n",
    "What is Post-Pruning?\n",
    "\n",
    "Post-Pruning is a method that reduces the size of a Decision Tree by removing branches or nodes that do not contribute significantly to the accuracy of the model. This is done after the tree has been fully grown, hence the name Post-Pruning.\n",
    "\n",
    "Types of Post-Pruning:\n",
    "\n",
    "There are several types of Post-Pruning techniques:\n",
    "\n",
    "1. Reduced Error Pruning (REP): Removes the subtree that results in the smallest increase in error rate.\n",
    "2. Cost-Complexity Pruning (CCP): Removes the subtree that results in the smallest increase in error rate, while also considering the complexity of the tree.\n",
    "3. Minimum Error Pruning (MEP): Removes the subtree that results in the smallest error rate.\n"
   ]
  },
  {
   "cell_type": "markdown",
   "metadata": {
    "id": "wb-sqdzEg3Ts"
   },
   "source": [
    "Q10. What is the difference between Pre-Pruning and Post-Pruning?\n",
    "\n",
    "ANS-> Pre-Pruning and Post-Pruning are two techniques used to prevent overfitting in Decision Trees. While both techniques aim to reduce the complexity of the tree, they differ in when and how they are applied:\n",
    "\n",
    "Pre-Pruning:\n",
    "\n",
    "1. Applied during tree growth: Pre-Pruning is applied during the tree growth process, before the tree is fully grown.\n",
    "2. Stops tree growth early: Pre-Pruning stops the tree growth process when a certain condition is met, such as a maximum depth or a minimum number of instances.\n",
    "3. Less computationally expensive: Pre-Pruning is less computationally expensive than Post-Pruning, since it doesn't require evaluating the entire tree.\n",
    "\n",
    "Post-Pruning:\n",
    "\n",
    "1. Applied after tree growth: Post-Pruning is applied after the tree is fully grown.\n",
    "2. Removes branches or nodes: Post-Pruning removes branches or nodes that do not contribute significantly to the accuracy of the model.\n",
    "3. More computationally expensive: Post-Pruning is more computationally expensive than Pre-Pruning, since it requires evaluating the entire tree.\n",
    "\n",
    "Key differences:\n",
    "\n",
    "1. Timing: Pre-Pruning is applied during tree growth, while Post-Pruning is applied after tree growth.\n",
    "2. Method: Pre-Pruning stops tree growth early, while Post-Pruning removes branches or nodes.\n",
    "3. Computational cost: Pre-Pruning is less computationally expensive than Post-Pruning."
   ]
  },
  {
   "cell_type": "markdown",
   "metadata": {
    "id": "oo4R7N2Rg3Xa"
   },
   "source": [
    "Q11. What is a Decision Tree Regressor?\n",
    "\n",
    "ANS-> A Decision Tree Regressor is a type of machine learning algorithm that uses a decision tree to predict continuous outcomes. It's a popular algorithm for regression tasks, such as predicting house prices, stock prices, or energy consumption.\n",
    "\n",
    "How Decision Tree Regressors Work:\n",
    "\n",
    "1. Tree Structure: A Decision Tree Regressor consists of a tree-like structure, where each internal node represents a feature or attribute, and each leaf node represents a predicted value.\n",
    "2. Splitting: The algorithm splits the data into subsets based on the values of the features. The splitting process is repeated recursively until a stopping criterion is met.\n",
    "3. Prediction: Once the tree is built, the algorithm makes predictions by traversing the tree from the root node to a leaf node.\n",
    "\n",
    "Key Characteristics:\n",
    "\n",
    "1. Handling Non-Linear Relationships: Decision Tree Regressors can handle non-linear relationships between features and target variables.\n",
    "2. Interpretable: Decision Tree Regressors are highly interpretable, as the tree structure provides insights into the relationships between features and target variables.\n",
    "3. Handling Missing Values: Decision Tree Regressors can handle missing values by treating them as a separate category.\n",
    "\n",
    "Advantages:\n",
    "\n",
    "1. Easy to Implement: Decision Tree Regressors are relatively easy to implement, especially when compared to more complex algorithms like neural networks.\n",
    "2. Fast Training: Decision Tree Regressors can be trained quickly, even on large datasets.\n",
    "3. Robust to Outliers: Decision Tree Regressors are robust to outliers, as the tree structure can handle anomalous values.\n",
    "\n",
    "Disadvantages:\n",
    "\n",
    "1. Overfitting: Decision Tree Regressors can suffer from overfitting, especially when the trees are deep.\n",
    "2. Not Suitable for High-Dimensional Data: Decision Tree Regressors can struggle with high-dimensional data, as the tree structure can become overly complex."
   ]
  },
  {
   "cell_type": "markdown",
   "metadata": {
    "id": "VrCo19Nzg3bR"
   },
   "source": [
    "Q12. What are the advantages and disadvantages of Decision Trees?\n",
    "\n",
    "ANS-> Decision Trees are a popular machine learning algorithm that have both advantages and disadvantages. Here are some of the main benefits and drawbacks:\n",
    "\n",
    "Advantages:\n",
    "\n",
    "1. Easy to Interpret: Decision Trees are highly interpretable, making it easy to understand the relationships between features and target variables.\n",
    "2. Fast Training: Decision Trees can be trained quickly, even on large datasets.\n",
    "3. Handling Non-Linear Relationships: Decision Trees can handle non-linear relationships between features and target variables.\n",
    "4. Robust to Outliers: Decision Trees are robust to outliers, as the tree structure can handle anomalous values.\n",
    "5. Handling Missing Values: Decision Trees can handle missing values by treating them as a separate category.\n",
    "6. No Feature Scaling Required: Decision Trees do not require feature scaling, as the tree structure is invariant to feature scales.\n",
    "\n",
    "Disadvantages:\n",
    "\n",
    "1. Overfitting: Decision Trees can suffer from overfitting, especially when the trees are deep.\n",
    "2. Not Suitable for High-Dimensional Data: Decision Trees can struggle with high-dimensional data, as the tree structure can become overly complex.\n",
    "3. Not Suitable for Large Datasets: Decision Trees can become computationally expensive for very large datasets.\n",
    "4. Sensitive to Hyperparameters: Decision Trees are sensitive to hyperparameters, such as the maximum depth and the minimum number of samples per split.\n",
    "5. Not Suitable for Complex Relationships: Decision Trees can struggle with complex relationships between features and target variables.\n",
    "6. Pruning Required: Decision Trees often require pruning to prevent overfitting.\n"
   ]
  },
  {
   "cell_type": "markdown",
   "metadata": {
    "id": "ItoVQURJg3eZ"
   },
   "source": [
    "Q13. How does a Decision Tree handle missing values?\n",
    "\n",
    "ANS-> Decision Trees can handle missing values in several ways:\n",
    "\n",
    "1. Ignore the missing values: The Decision Tree can simply ignore the missing values and only consider the features with non-missing values.\n",
    "\n",
    "2. Treat missing values as a separate category: The Decision Tree can treat missing values as a separate category, just like any other feature value. This means that the tree will split the data based on whether the feature value is missing or not.\n",
    "\n",
    "3. Impute missing values: The Decision Tree can impute missing values using a specific strategy, such as:\n",
    "\n",
    "- Mean/Median Imputation: Replace missing values with the mean or median of the feature.\n",
    "- Regression Imputation: Use a regression model to predict the missing values.\n",
    "- K-Nearest Neighbors (KNN) Imputation: Use KNN to find the most similar instances and impute the missing values.\n",
    "\n",
    "4. Use a surrogate feature: The Decision Tree can use a surrogate feature to replace the missing value. The surrogate feature is a feature that is highly correlated with the original feature.\n",
    "\n",
    "5. Use a probability-based approach: The Decision Tree can use a probability-based approach to handle missing values. This involves calculating the probability of each possible value for the missing feature and using these probabilities to make predictions.\n",
    "\n",
    "The specific approach used by a Decision Tree to handle missing values depends on the implementation and the specific problem being addressed.\n",
    "\n",
    "In scikit-learn, the Decision Tree implementation uses a combination of approaches 2 and 3 above. Specifically:\n",
    "\n",
    "- Missing values are treated as a separate category during training.\n",
    "- During prediction, missing values are imputed using the mean or median of the feature, depending on the feature type."
   ]
  },
  {
   "cell_type": "markdown",
   "metadata": {
    "id": "m70MRVybTlp5"
   },
   "source": [
    "Q14. How does a Decision Tree handle categorical features?\n",
    "\n",
    "ANS-> Decision Trees can handle categorical features in several ways:\n",
    "\n",
    "1. One-Hot Encoding (OHE): One-hot encoding is a common technique used to convert categorical features into numerical features. Each category is represented as a binary vector, where all elements are 0 except for the one corresponding to the category.\n",
    "\n",
    "2. Label Encoding: Label encoding is another technique used to convert categorical features into numerical features. Each category is assigned a unique integer value.\n",
    "\n",
    "3. Tree-based encoding: Some Decision Tree implementations use a tree-based encoding scheme, where each categorical feature is represented as a tree-like structure.\n",
    "\n",
    "4. Categorical feature splitting: Some Decision Tree implementations can split categorical features directly, without the need for encoding. This is done by treating each category as a separate branch in the tree.\n",
    "\n",
    "In scikit-learn, the Decision Tree implementation uses a combination of one-hot encoding and categorical feature splitting.\n",
    "\n",
    "How Decision Trees split categorical features:\n",
    "\n",
    "When splitting categorical features, Decision Trees use a different approach than when splitting numerical features. Instead of using a threshold value, Decision Trees use a subset of categories to split the data.\n",
    "\n",
    "For example, suppose we have a categorical feature \"color\" with categories \"red\", \"green\", and \"blue\". A Decision Tree might split this feature by creating two branches:\n",
    "\n",
    "- Branch 1: \"red\" and \"green\"\n",
    "- Branch 2: \"blue\""
   ]
  },
  {
   "cell_type": "markdown",
   "metadata": {
    "id": "vhtZxgqkTl1Q"
   },
   "source": [
    "Q15. What are some real-world applications of Decision Trees?\n",
    "\n",
    "ANS-> Decision Trees have numerous real-world applications across various industries:\n",
    "\n",
    "1. Finance and Banking:\n",
    "\n",
    "- Credit Risk Assessment: Decision Trees can predict the likelihood of loan defaults based on credit history, income, and other factors.\n",
    "- Portfolio Optimization: Decision Trees can help optimize investment portfolios by identifying the most profitable assets.\n",
    "\n",
    "2. Healthcare:\n",
    "\n",
    "- Disease Diagnosis: Decision Trees can aid in diagnosing diseases by analyzing symptoms, medical history, and test results.\n",
    "- Patient Outcome Prediction: Decision Trees can predict patient outcomes, such as the likelihood of readmission or complications.\n",
    "\n",
    "3. Marketing and Customer Relationship Management (CRM):\n",
    "\n",
    "- Customer Segmentation: Decision Trees can segment customers based on demographics, behavior, and preferences.\n",
    "- Churn Prediction: Decision Trees can predict customer churn by analyzing usage patterns, complaints, and other factors.\n",
    "\n",
    "4. Image and Speech Recognition:\n",
    "\n",
    "- Image Classification: Decision Trees can classify images into categories, such as objects, scenes, or actions.\n",
    "- Speech Recognition: Decision Trees can recognize spoken words or phrases by analyzing audio signals.\n",
    "\n",
    "5. Natural Language Processing (NLP):\n",
    "\n",
    "- Sentiment Analysis: Decision Trees can analyze text to determine sentiment, such as positive, negative, or neutral.\n",
    "- Text Classification: Decision Trees can classify text into categories, such as spam vs. non-spam emails.\n",
    "\n",
    "6. Energy and Utilities:\n",
    "\n",
    "- Energy Consumption Forecasting: Decision Trees can predict energy consumption based on historical data, weather, and other factors.\n",
    "- Power Grid Optimization: Decision Trees can optimize power grid operations by predicting energy demand and identifying potential bottlenecks.\n",
    "\n",
    "7. Transportation:\n",
    "\n",
    "- Traffic Prediction: Decision Trees can predict traffic flow and congestion based on historical data, weather, and other factors.\n",
    "- Route Optimization: Decision Trees can optimize routes for logistics and transportation companies by analyzing traffic patterns and road conditions."
   ]
  },
  {
   "cell_type": "markdown",
   "metadata": {
    "id": "WKI66EfFUACS"
   },
   "source": [
    "# Practical"
   ]
  },
  {
   "cell_type": "markdown",
   "metadata": {
    "id": "xZmImF-iUAPP"
   },
   "source": [
    "Q16. Write a Python program to train a Decision Tree Classifier on the Iris dataset and print the model accuracy."
   ]
  },
  {
   "cell_type": "code",
   "execution_count": null,
   "metadata": {
    "colab": {
     "base_uri": "https://localhost:8080/"
    },
    "id": "WefKg3frULce",
    "outputId": "8346ad9b-165e-4a23-8add-aeb963ba0b99"
   },
   "outputs": [
    {
     "name": "stdout",
     "output_type": "stream",
     "text": [
      "Model Accuracy: 1.0\n"
     ]
    }
   ],
   "source": [
    "# Import necessary libraries\n",
    "from sklearn.datasets import load_iris\n",
    "from sklearn.model_selection import train_test_split\n",
    "from sklearn.tree import DecisionTreeClassifier\n",
    "from sklearn.metrics import accuracy_score\n",
    "\n",
    "# Load the Iris dataset\n",
    "iris = load_iris()\n",
    "X = iris.data\n",
    "y = iris.target\n",
    "\n",
    "# Split the dataset into training and testing sets\n",
    "X_train, X_test, y_train, y_test = train_test_split(X, y, test_size=0.2, random_state=42)\n",
    "\n",
    "# Create a Decision Tree Classifier\n",
    "clf = DecisionTreeClassifier(random_state=42)\n",
    "\n",
    "# Train the model on the training data\n",
    "clf.fit(X_train, y_train)\n",
    "\n",
    "# Make predictions on the testing data\n",
    "y_pred = clf.predict(X_test)\n",
    "\n",
    "# Calculate and print the model accuracy\n",
    "accuracy = accuracy_score(y_test, y_pred)\n",
    "print(\"Model Accuracy:\", accuracy)"
   ]
  },
  {
   "cell_type": "markdown",
   "metadata": {
    "id": "fxeYrjOppbEA"
   },
   "source": [
    "Q17. Write a Python program to train a Decision Tree Classifier using Gini Impurity as the criterion and print the\n",
    "feature importances."
   ]
  },
  {
   "cell_type": "code",
   "execution_count": null,
   "metadata": {
    "colab": {
     "base_uri": "https://localhost:8080/"
    },
    "id": "BNwT6Yq5pbQA",
    "outputId": "64b628eb-36e1-4ea0-a421-e9be1fd0a0b7"
   },
   "outputs": [
    {
     "name": "stdout",
     "output_type": "stream",
     "text": [
      "Model Accuracy: 1.0\n",
      "Feature Importances:\n",
      "sepal length (cm): 0.00\n",
      "sepal width (cm): 0.02\n",
      "petal length (cm): 0.91\n",
      "petal width (cm): 0.08\n"
     ]
    }
   ],
   "source": [
    "# Import necessary libraries\n",
    "from sklearn.datasets import load_iris\n",
    "from sklearn.model_selection import train_test_split\n",
    "from sklearn.tree import DecisionTreeClassifier\n",
    "from sklearn.metrics import accuracy_score\n",
    "\n",
    "# Load the Iris dataset\n",
    "iris = load_iris()\n",
    "X = iris.data\n",
    "y = iris.target\n",
    "\n",
    "# Split the dataset into training and testing sets\n",
    "X_train, X_test, y_train, y_test = train_test_split(X, y, test_size=0.2, random_state=42)\n",
    "\n",
    "# Create a Decision Tree Classifier using Gini Impurity as the criterion\n",
    "clf = DecisionTreeClassifier(criterion='gini', random_state=42)\n",
    "\n",
    "# Train the model on the training data\n",
    "clf.fit(X_train, y_train)\n",
    "\n",
    "# Make predictions on the testing data\n",
    "y_pred = clf.predict(X_test)\n",
    "\n",
    "# Calculate and print the model accuracy\n",
    "accuracy = accuracy_score(y_test, y_pred)\n",
    "print(\"Model Accuracy:\", accuracy)\n",
    "\n",
    "# Print the feature importances\n",
    "print(\"Feature Importances:\")\n",
    "for feature, importance in zip(iris.feature_names, clf.feature_importances_):\n",
    "    print(f\"{feature}: {importance:.2f}\")"
   ]
  },
  {
   "cell_type": "markdown",
   "metadata": {
    "id": "0dC-cURPpbdp"
   },
   "source": [
    "Q18. Write a Python program to train a Decision Tree Classifier using Entropy as the splitting criterion and print the\n",
    "model accuracy."
   ]
  },
  {
   "cell_type": "code",
   "execution_count": null,
   "metadata": {
    "colab": {
     "base_uri": "https://localhost:8080/"
    },
    "id": "Ss-QpBLWpbnc",
    "outputId": "2786a7f8-6ee9-4de6-e94c-134dc26a8817"
   },
   "outputs": [
    {
     "name": "stdout",
     "output_type": "stream",
     "text": [
      "Model Accuracy: 1.0\n",
      "Classification Report:\n",
      "              precision    recall  f1-score   support\n",
      "\n",
      "           0       1.00      1.00      1.00        10\n",
      "           1       1.00      1.00      1.00         9\n",
      "           2       1.00      1.00      1.00        11\n",
      "\n",
      "    accuracy                           1.00        30\n",
      "   macro avg       1.00      1.00      1.00        30\n",
      "weighted avg       1.00      1.00      1.00        30\n",
      "\n",
      "Confusion Matrix:\n",
      "[[10  0  0]\n",
      " [ 0  9  0]\n",
      " [ 0  0 11]]\n"
     ]
    }
   ],
   "source": [
    "# Import necessary libraries\n",
    "from sklearn.datasets import load_iris\n",
    "from sklearn.model_selection import train_test_split\n",
    "from sklearn.tree import DecisionTreeClassifier\n",
    "from sklearn.metrics import accuracy_score, classification_report, confusion_matrix\n",
    "\n",
    "# Load the Iris dataset\n",
    "iris = load_iris()\n",
    "X = iris.data\n",
    "y = iris.target\n",
    "\n",
    "# Split the dataset into training and testing sets\n",
    "X_train, X_test, y_train, y_test = train_test_split(X, y, test_size=0.2, random_state=42)\n",
    "\n",
    "# Create a Decision Tree Classifier using Entropy as the splitting criterion\n",
    "clf = DecisionTreeClassifier(criterion='entropy', random_state=42)\n",
    "\n",
    "# Train the model on the training data\n",
    "clf.fit(X_train, y_train)\n",
    "\n",
    "# Make predictions on the testing data\n",
    "y_pred = clf.predict(X_test)\n",
    "\n",
    "# Calculate and print the model accuracy\n",
    "accuracy = accuracy_score(y_test, y_pred)\n",
    "print(\"Model Accuracy:\", accuracy)\n",
    "\n",
    "# Print the classification report\n",
    "print(\"Classification Report:\")\n",
    "print(classification_report(y_test, y_pred))\n",
    "\n",
    "# Print the confusion matrix\n",
    "print(\"Confusion Matrix:\")\n",
    "print(confusion_matrix(y_test, y_pred))"
   ]
  },
  {
   "cell_type": "markdown",
   "metadata": {
    "id": "khRc3qjtpbyX"
   },
   "source": [
    "Q19. Write a Python program to train a Decision Tree Regressor on a housing dataset and evaluate using Mean\n",
    "Squared Error (MSE)."
   ]
  },
  {
   "cell_type": "code",
   "execution_count": null,
   "metadata": {
    "colab": {
     "base_uri": "https://localhost:8080/"
    },
    "id": "Hp1juZWupb8Z",
    "outputId": "5ff0f3fb-6cff-4706-f64d-427683e3a617"
   },
   "outputs": [
    {
     "name": "stdout",
     "output_type": "stream",
     "text": [
      "Mean Squared Error (MSE): 0.495235205629094\n",
      "Root Mean Squared Error (RMSE): 0.7037294974840077\n"
     ]
    }
   ],
   "source": [
    "# Import necessary libraries\n",
    "from sklearn.datasets import fetch_california_housing\n",
    "from sklearn.model_selection import train_test_split\n",
    "from sklearn.tree import DecisionTreeRegressor\n",
    "from sklearn.metrics import mean_squared_error\n",
    "import numpy as np\n",
    "\n",
    "# Load the California housing dataset\n",
    "housing = fetch_california_housing()\n",
    "X = housing.data\n",
    "y = housing.target\n",
    "\n",
    "# Split the dataset into training and testing sets\n",
    "X_train, X_test, y_train, y_test = train_test_split(X, y, test_size=0.2, random_state=42)\n",
    "\n",
    "# Create a Decision Tree Regressor\n",
    "dtr = DecisionTreeRegressor(random_state=42)\n",
    "\n",
    "# Train the model on the training data\n",
    "dtr.fit(X_train, y_train)\n",
    "\n",
    "# Make predictions on the testing data\n",
    "y_pred = dtr.predict(X_test)\n",
    "\n",
    "# Evaluate the model using Mean Squared Error (MSE)\n",
    "mse = mean_squared_error(y_test, y_pred)\n",
    "print(\"Mean Squared Error (MSE):\", mse)\n",
    "\n",
    "# Evaluate the model using Root Mean Squared Error (RMSE)\n",
    "rmse = np.sqrt(mse)\n",
    "print(\"Root Mean Squared Error (RMSE):\", rmse)"
   ]
  },
  {
   "cell_type": "markdown",
   "metadata": {
    "id": "hROALDJ0pcGw"
   },
   "source": [
    "Q20. Write a Python program to train a Decision Tree Classifier and visualize the tree using graphviz."
   ]
  },
  {
   "cell_type": "code",
   "execution_count": null,
   "metadata": {
    "colab": {
     "base_uri": "https://localhost:8080/"
    },
    "id": "t0AgkJQ2pcQA",
    "outputId": "fef1132c-91ec-4a56-dcb3-6612699d88bb"
   },
   "outputs": [
    {
     "name": "stdout",
     "output_type": "stream",
     "text": [
      "Feature Importances:\n",
      "sepal length (cm): 0.00\n",
      "sepal width (cm): 0.02\n",
      "petal length (cm): 0.91\n",
      "petal width (cm): 0.08\n"
     ]
    }
   ],
   "source": [
    "# Import necessary libraries\n",
    "from sklearn.datasets import load_iris\n",
    "from sklearn.model_selection import train_test_split\n",
    "from sklearn.tree import DecisionTreeClassifier, export_graphviz\n",
    "import graphviz\n",
    "import numpy as np\n",
    "\n",
    "# Load the Iris dataset\n",
    "iris = load_iris()\n",
    "X = iris.data\n",
    "y = iris.target\n",
    "\n",
    "# Split the dataset into training and testing sets\n",
    "X_train, X_test, y_train, y_test = train_test_split(X, y, test_size=0.2, random_state=42)\n",
    "\n",
    "# Create a Decision Tree Classifier\n",
    "clf = DecisionTreeClassifier(random_state=42)\n",
    "\n",
    "# Train the model on the training data\n",
    "clf.fit(X_train, y_train)\n",
    "\n",
    "# Export the decision tree to a dot file\n",
    "dot_data = export_graphviz(clf, out_file=None,\n",
    "                             feature_names=iris.feature_names,\n",
    "                             class_names=iris.target_names,\n",
    "                             filled=True)\n",
    "\n",
    "# Render the decision tree using graphviz\n",
    "graph = graphviz.Source(dot_data)\n",
    "graph.render(\"iris_decision_tree\")\n",
    "\n",
    "# Print the feature importances\n",
    "print(\"Feature Importances:\")\n",
    "for feature, importance in zip(iris.feature_names, clf.feature_importances_):\n",
    "    print(f\"{feature}: {importance:.2f}\")"
   ]
  },
  {
   "cell_type": "markdown",
   "metadata": {
    "id": "hbWa7RrGpcao"
   },
   "source": [
    "Q21. Write a Python program to train a Decision Tree Classifier with a maximum depth of 3 and compare its\n",
    "accuracy with a fully grown tree."
   ]
  },
  {
   "cell_type": "code",
   "execution_count": null,
   "metadata": {
    "colab": {
     "base_uri": "https://localhost:8080/"
    },
    "id": "aBnsCc3Npcjz",
    "outputId": "a897b4be-b711-45cd-b1c0-d1aa157012f3"
   },
   "outputs": [
    {
     "name": "stdout",
     "output_type": "stream",
     "text": [
      "Accuracy of Decision Tree with max depth 3: 1.0\n",
      "Accuracy of Fully Grown Decision Tree: 1.0\n"
     ]
    }
   ],
   "source": [
    "# Import necessary libraries\n",
    "from sklearn.datasets import load_iris\n",
    "from sklearn.model_selection import train_test_split\n",
    "from sklearn.tree import DecisionTreeClassifier\n",
    "from sklearn.metrics import accuracy_score\n",
    "\n",
    "# Load the Iris dataset\n",
    "iris = load_iris()\n",
    "X = iris.data\n",
    "y = iris.target\n",
    "\n",
    "# Split the dataset into training and testing sets\n",
    "X_train, X_test, y_train, y_test = train_test_split(X, y, test_size=0.2, random_state=42)\n",
    "\n",
    "# Create a Decision Tree Classifier with a maximum depth of 3\n",
    "clf_depth_3 = DecisionTreeClassifier(max_depth=3, random_state=42)\n",
    "\n",
    "# Create a fully grown Decision Tree Classifier\n",
    "clf_fully_grown = DecisionTreeClassifier(random_state=42)\n",
    "\n",
    "# Train the models on the training data\n",
    "clf_depth_3.fit(X_train, y_train)\n",
    "clf_fully_grown.fit(X_train, y_train)\n",
    "\n",
    "# Make predictions on the testing data\n",
    "y_pred_depth_3 = clf_depth_3.predict(X_test)\n",
    "y_pred_fully_grown = clf_fully_grown.predict(X_test)\n",
    "\n",
    "# Calculate and print the accuracy of the models\n",
    "accuracy_depth_3 = accuracy_score(y_test, y_pred_depth_3)\n",
    "accuracy_fully_grown = accuracy_score(y_test, y_pred_fully_grown)\n",
    "\n",
    "print(\"Accuracy of Decision Tree with max depth 3:\", accuracy_depth_3)\n",
    "print(\"Accuracy of Fully Grown Decision Tree:\", accuracy_fully_grown)\n"
   ]
  },
  {
   "cell_type": "markdown",
   "metadata": {
    "id": "MN4dVDd7pczf"
   },
   "source": [
    "Q22. Write a Python program to train a Decision Tree Classifier using min_samples_split=5 and compare its\n",
    "accuracy with a default tree."
   ]
  },
  {
   "cell_type": "code",
   "execution_count": null,
   "metadata": {
    "colab": {
     "base_uri": "https://localhost:8080/"
    },
    "id": "KXtfHBBmpc8o",
    "outputId": "bc719f78-6fa2-4364-d0b0-910bfbd68524"
   },
   "outputs": [
    {
     "name": "stdout",
     "output_type": "stream",
     "text": [
      "Accuracy of Default Decision Tree: 1.0\n",
      "Accuracy of Decision Tree with min_samples_split=5: 1.0\n"
     ]
    }
   ],
   "source": [
    "# Import necessary libraries\n",
    "from sklearn.datasets import load_iris\n",
    "from sklearn.model_selection import train_test_split\n",
    "from sklearn.tree import DecisionTreeClassifier\n",
    "from sklearn.metrics import accuracy_score\n",
    "\n",
    "# Load the Iris dataset\n",
    "iris = load_iris()\n",
    "X = iris.data\n",
    "y = iris.target\n",
    "\n",
    "# Split the dataset into training and testing sets\n",
    "X_train, X_test, y_train, y_test = train_test_split(X, y, test_size=0.2, random_state=42)\n",
    "\n",
    "# Create a default Decision Tree Classifier\n",
    "clf_default = DecisionTreeClassifier(random_state=42)\n",
    "\n",
    "# Create a Decision Tree Classifier with min_samples_split=5\n",
    "clf_min_samples_split = DecisionTreeClassifier(min_samples_split=5, random_state=42)\n",
    "\n",
    "# Train the models on the training data\n",
    "clf_default.fit(X_train, y_train)\n",
    "clf_min_samples_split.fit(X_train, y_train)\n",
    "\n",
    "# Make predictions on the testing data\n",
    "y_pred_default = clf_default.predict(X_test)\n",
    "y_pred_min_samples_split = clf_min_samples_split.predict(X_test)\n",
    "\n",
    "# Calculate and print the accuracy of the models\n",
    "accuracy_default = accuracy_score(y_test, y_pred_default)\n",
    "accuracy_min_samples_split = accuracy_score(y_test, y_pred_min_samples_split)\n",
    "\n",
    "print(\"Accuracy of Default Decision Tree:\", accuracy_default)\n",
    "print(\"Accuracy of Decision Tree with min_samples_split=5:\", accuracy_min_samples_split)"
   ]
  },
  {
   "cell_type": "markdown",
   "metadata": {
    "id": "QFjv4LlYrm0K"
   },
   "source": [
    "Q23. Write a Python program to apply feature scaling before training a Decision Tree Classifier and compare its\n",
    "accuracy with unscaled data."
   ]
  },
  {
   "cell_type": "code",
   "execution_count": null,
   "metadata": {
    "colab": {
     "base_uri": "https://localhost:8080/"
    },
    "id": "Uc4yhbEaroQs",
    "outputId": "99e7c35f-bc52-4b06-9d20-ff8eb5960eb3"
   },
   "outputs": [
    {
     "name": "stdout",
     "output_type": "stream",
     "text": [
      "Accuracy without feature scaling: 1.0\n",
      "Accuracy with feature scaling: 1.0\n"
     ]
    }
   ],
   "source": [
    "# Import necessary libraries\n",
    "from sklearn.datasets import load_iris\n",
    "from sklearn.model_selection import train_test_split\n",
    "from sklearn.tree import DecisionTreeClassifier\n",
    "from sklearn.preprocessing import StandardScaler\n",
    "from sklearn.metrics import accuracy_score\n",
    "\n",
    "# Load the Iris dataset\n",
    "iris = load_iris()\n",
    "X = iris.data\n",
    "y = iris.target\n",
    "\n",
    "# Split the dataset into training and testing sets\n",
    "X_train, X_test, y_train, y_test = train_test_split(X, y, test_size=0.2, random_state=42)\n",
    "\n",
    "# Create a Decision Tree Classifier without feature scaling\n",
    "clf_unscaled = DecisionTreeClassifier(random_state=42)\n",
    "clf_unscaled.fit(X_train, y_train)\n",
    "y_pred_unscaled = clf_unscaled.predict(X_test)\n",
    "accuracy_unscaled = accuracy_score(y_test, y_pred_unscaled)\n",
    "print(\"Accuracy without feature scaling:\", accuracy_unscaled)\n",
    "\n",
    "# Apply feature scaling using StandardScaler\n",
    "scaler = StandardScaler()\n",
    "X_train_scaled = scaler.fit_transform(X_train)\n",
    "X_test_scaled = scaler.transform(X_test)\n",
    "\n",
    "# Create a Decision Tree Classifier with feature scaling\n",
    "clf_scaled = DecisionTreeClassifier(random_state=42)\n",
    "clf_scaled.fit(X_train_scaled, y_train)\n",
    "y_pred_scaled = clf_scaled.predict(X_test_scaled)\n",
    "accuracy_scaled = accuracy_score(y_test, y_pred_scaled)\n",
    "print(\"Accuracy with feature scaling:\", accuracy_scaled)"
   ]
  },
  {
   "cell_type": "markdown",
   "metadata": {
    "id": "XoIEWWjsrm2I"
   },
   "source": [
    "Q24. Write a Python program to train a Decision Tree Classifier using One-vs-Rest (OvR) strategy for multiclass\n",
    "classification."
   ]
  },
  {
   "cell_type": "code",
   "execution_count": null,
   "metadata": {
    "colab": {
     "base_uri": "https://localhost:8080/"
    },
    "id": "RlC-NEvzro07",
    "outputId": "0fdc05bc-798b-456f-ac9f-3e90de9d7bf2"
   },
   "outputs": [
    {
     "name": "stdout",
     "output_type": "stream",
     "text": [
      "Accuracy: 1.0\n",
      "Classification Report:\n",
      "              precision    recall  f1-score   support\n",
      "\n",
      "           0       1.00      1.00      1.00        10\n",
      "           1       1.00      1.00      1.00         9\n",
      "           2       1.00      1.00      1.00        11\n",
      "\n",
      "    accuracy                           1.00        30\n",
      "   macro avg       1.00      1.00      1.00        30\n",
      "weighted avg       1.00      1.00      1.00        30\n",
      "\n",
      "Confusion Matrix:\n",
      "[[10  0  0]\n",
      " [ 0  9  0]\n",
      " [ 0  0 11]]\n"
     ]
    }
   ],
   "source": [
    "# Import necessary libraries\n",
    "from sklearn.datasets import load_iris\n",
    "from sklearn.model_selection import train_test_split\n",
    "from sklearn.tree import DecisionTreeClassifier\n",
    "from sklearn.multiclass import OneVsRestClassifier\n",
    "from sklearn.metrics import accuracy_score, classification_report, confusion_matrix\n",
    "\n",
    "# Load the Iris dataset\n",
    "iris = load_iris()\n",
    "X = iris.data\n",
    "y = iris.target\n",
    "\n",
    "# Split the dataset into training and testing sets\n",
    "X_train, X_test, y_train, y_test = train_test_split(X, y, test_size=0.2, random_state=42)\n",
    "\n",
    "# Create a One-vs-Rest (OvR) classifier using Decision Tree Classifier\n",
    "ovr_clf = OneVsRestClassifier(DecisionTreeClassifier(random_state=42))\n",
    "\n",
    "# Train the OvR classifier on the training data\n",
    "ovr_clf.fit(X_train, y_train)\n",
    "\n",
    "# Make predictions on the testing data\n",
    "y_pred = ovr_clf.predict(X_test)\n",
    "\n",
    "# Evaluate the OvR classifier\n",
    "accuracy = accuracy_score(y_test, y_pred)\n",
    "print(\"Accuracy:\", accuracy)\n",
    "print(\"Classification Report:\")\n",
    "print(classification_report(y_test, y_pred))\n",
    "print(\"Confusion Matrix:\")\n",
    "print(confusion_matrix(y_test, y_pred))"
   ]
  },
  {
   "cell_type": "markdown",
   "metadata": {
    "id": "bLzoGBCRrpaL"
   },
   "source": [
    "Q25. Write a Python program to train a Decision Tree Classifier and display the feature importance scores."
   ]
  },
  {
   "cell_type": "code",
   "execution_count": null,
   "metadata": {
    "colab": {
     "base_uri": "https://localhost:8080/",
     "height": 582
    },
    "id": "b9pAc0bWrphz",
    "outputId": "64a99c8d-f57f-4513-8ce7-5a6705bc4a73"
   },
   "outputs": [
    {
     "name": "stdout",
     "output_type": "stream",
     "text": [
      "Accuracy: 1.0\n",
      "Feature Importances:\n",
      "sepal length (cm): 0.00\n",
      "sepal width (cm): 0.02\n",
      "petal length (cm): 0.91\n",
      "petal width (cm): 0.08\n"
     ]
    },
    {
     "data": {
      "image/png": "[encoded data removed]",
      "text/plain": [
       "<Figure size 640x480 with 1 Axes>"
      ]
     },
     "metadata": {},
     "output_type": "display_data"
    }
   ],
   "source": [
    "# Import necessary libraries\n",
    "from sklearn.datasets import load_iris\n",
    "from sklearn.model_selection import train_test_split\n",
    "from sklearn.tree import DecisionTreeClassifier\n",
    "from sklearn.metrics import accuracy_score\n",
    "import numpy as np\n",
    "import matplotlib.pyplot as plt\n",
    "\n",
    "# Load the Iris dataset\n",
    "iris = load_iris()\n",
    "X = iris.data\n",
    "y = iris.target\n",
    "feature_names = iris.feature_names\n",
    "\n",
    "# Split the dataset into training and testing sets\n",
    "X_train, X_test, y_train, y_test = train_test_split(X, y, test_size=0.2, random_state=42)\n",
    "\n",
    "# Create a Decision Tree Classifier\n",
    "clf = DecisionTreeClassifier(random_state=42)\n",
    "\n",
    "# Train the model on the training data\n",
    "clf.fit(X_train, y_train)\n",
    "\n",
    "# Make predictions on the testing data\n",
    "y_pred = clf.predict(X_test)\n",
    "\n",
    "# Evaluate the model\n",
    "accuracy = accuracy_score(y_test, y_pred)\n",
    "print(\"Accuracy:\", accuracy)\n",
    "\n",
    "# Get the feature importance scores\n",
    "feature_importances = clf.feature_importances_\n",
    "print(\"Feature Importances:\")\n",
    "for feature, importance in zip(feature_names, feature_importances):\n",
    "    print(f\"{feature}: {importance:.2f}\")\n",
    "\n",
    "# Plot the feature importance scores\n",
    "plt.barh(feature_names, feature_importances)\n",
    "plt.xlabel(\"Feature Importance\")\n",
    "plt.ylabel(\"Feature\")\n",
    "plt.title(\"Feature Importance Scores\")\n",
    "plt.show()\n"
   ]
  },
  {
   "cell_type": "markdown",
   "metadata": {
    "id": "jgklPSkQrpp0"
   },
   "source": [
    "Q26. Write a Python program to train a Decision Tree Regressor with max_depth=5 and compare its performance\n",
    "with an unrestricted tree."
   ]
  },
  {
   "cell_type": "code",
   "execution_count": null,
   "metadata": {
    "colab": {
     "base_uri": "https://localhost:8080/"
    },
    "id": "yzQTyy6_rpxS",
    "outputId": "cd6fe89a-08da-4b98-c958-1724f0713431"
   },
   "outputs": [
    {
     "name": "stdout",
     "output_type": "stream",
     "text": [
      "Decision Tree Regressor with max_depth=5:\n",
      "MSE: 0.52\n",
      "MAE: 0.52\n",
      "R2 Score: 0.60\n",
      "\n",
      "Unrestricted Decision Tree Regressor:\n",
      "MSE: 0.50\n",
      "MAE: 0.45\n",
      "R2 Score: 0.62\n"
     ]
    }
   ],
   "source": [
    "# Import necessary libraries\n",
    "#from sklearn.datasets import load_boston # This line is causing the error\n",
    "from sklearn.datasets import fetch_california_housing # Use this instead\n",
    "from sklearn.model_selection import train_test_split\n",
    "from sklearn.tree import DecisionTreeRegressor\n",
    "from sklearn.metrics import mean_squared_error, mean_absolute_error, r2_score\n",
    "import numpy as np\n",
    "\n",
    "# Load the California housing dataset instead of the Boston housing dataset\n",
    "#boston = load_boston() # This line is causing the error\n",
    "housing = fetch_california_housing() # Use this instead\n",
    "X = housing.data\n",
    "y = housing.target\n",
    "\n",
    "# Split the dataset into training and testing sets\n",
    "X_train, X_test, y_train, y_test = train_test_split(X, y, test_size=0.2, random_state=42)\n",
    "\n",
    "# Create a Decision Tree Regressor with max_depth=5\n",
    "dtr_depth_5 = DecisionTreeRegressor(max_depth=5, random_state=42)\n",
    "\n",
    "# Create an unrestricted Decision Tree Regressor\n",
    "dtr_unrestricted = DecisionTreeRegressor(random_state=42)\n",
    "\n",
    "# Train the models on the training data\n",
    "dtr_depth_5.fit(X_train, y_train)\n",
    "dtr_unrestricted.fit(X_train, y_train)\n",
    "\n",
    "# Make predictions on the testing data\n",
    "y_pred_depth_5 = dtr_depth_5.predict(X_test)\n",
    "y_pred_unrestricted = dtr_unrestricted.predict(X_test)\n",
    "\n",
    "# Evaluate the models\n",
    "mse_depth_5 = mean_squared_error(y_test, y_pred_depth_5)\n",
    "mse_unrestricted = mean_squared_error(y_test, y_pred_unrestricted)\n",
    "mae_depth_5 = mean_absolute_error(y_test, y_pred_depth_5)\n",
    "mae_unrestricted = mean_absolute_error(y_test, y_pred_unrestricted)\n",
    "r2_depth_5 = r2_score(y_test, y_pred_depth_5)\n",
    "r2_unrestricted = r2_score(y_test, y_pred_unrestricted)\n",
    "\n",
    "print(\"Decision Tree Regressor with max_depth=5:\")\n",
    "print(f\"MSE: {mse_depth_5:.2f}\")\n",
    "print(f\"MAE: {mae_depth_5:.2f}\")\n",
    "print(f\"R2 Score: {r2_depth_5:.2f}\")\n",
    "\n",
    "print(\"\\nUnrestricted Decision Tree Regressor:\")\n",
    "print(f\"MSE: {mse_unrestricted:.2f}\")\n",
    "print(f\"MAE: {mae_unrestricted:.2f}\")\n",
    "print(f\"R2 Score: {r2_unrestricted:.2f}\")"
   ]
  },
  {
   "cell_type": "markdown",
   "metadata": {
    "id": "sBjYns84rp40"
   },
   "source": [
    "Q27. Write a Python program to train a Decision Tree Classifier, apply Cost Complexity Pruning (CCP), and\n",
    "visualize its effect on accuracy."
   ]
  },
  {
   "cell_type": "code",
   "execution_count": null,
   "metadata": {
    "colab": {
     "base_uri": "https://localhost:8080/",
     "height": 472
    },
    "id": "qRPXEhzzrqC7",
    "outputId": "18aab2c5-1f05-4363-9a2d-26f9df62c5bd"
   },
   "outputs": [
    {
     "data": {
      "image/png": "[encoded data removed]",
      "text/plain": [
       "<Figure size 640x480 with 1 Axes>"
      ]
     },
     "metadata": {},
     "output_type": "display_data"
    }
   ],
   "source": [
    "# prompt: Write a Python program to train a Decision Tree Classifier, apply Cost Complexity Pruning (CCP), and visualize its effect on accuracy.\n",
    "\n",
    "import matplotlib.pyplot as plt\n",
    "from sklearn.datasets import load_iris\n",
    "from sklearn.model_selection import train_test_split\n",
    "from sklearn.tree import DecisionTreeClassifier\n",
    "\n",
    "# Load the Iris dataset\n",
    "iris = load_iris()\n",
    "X = iris.data\n",
    "y = iris.target\n",
    "\n",
    "# Split data into training and testing sets\n",
    "X_train, X_test, y_train, y_test = train_test_split(X, y, test_size=0.3, random_state=0)\n",
    "\n",
    "# Train a DecisionTreeClassifier with different ccp_alpha values\n",
    "ccp_alphas = [0.0, 0.001, 0.01, 0.1]\n",
    "clfs = []\n",
    "for ccp_alpha in ccp_alphas:\n",
    "    clf = DecisionTreeClassifier(random_state=0, ccp_alpha=ccp_alpha)\n",
    "    clf.fit(X_train, y_train)\n",
    "    clfs.append(clf)\n",
    "\n",
    "# Evaluate the models on the testing set\n",
    "train_scores = [clf.score(X_train, y_train) for clf in clfs]\n",
    "test_scores = [clf.score(X_test, y_test) for clf in clfs]\n",
    "\n",
    "# Visualize the results\n",
    "fig, ax = plt.subplots()\n",
    "ax.set_xlabel(\"alpha\")\n",
    "ax.set_ylabel(\"accuracy\")\n",
    "ax.set_title(\"Accuracy vs alpha for training and testing sets\")\n",
    "ax.plot(ccp_alphas, train_scores, marker='o', label=\"train\", drawstyle=\"steps-post\")\n",
    "ax.plot(ccp_alphas, test_scores, marker='o', label=\"test\", drawstyle=\"steps-post\")\n",
    "ax.legend()\n",
    "plt.show()\n"
   ]
  },
  {
   "cell_type": "markdown",
   "metadata": {
    "id": "OfcZYbSrrqLU"
   },
   "source": [
    "Q28. Write a Python program to train a Decision Tree Classifier and evaluate its performance using Precision,\n",
    "Recall, and F1-Score."
   ]
  },
  {
   "cell_type": "code",
   "execution_count": null,
   "metadata": {
    "colab": {
     "base_uri": "https://localhost:8080/"
    },
    "id": "L6pom9tVrqTE",
    "outputId": "320d799b-277a-4496-9db9-c1c2ad0a0c9f"
   },
   "outputs": [
    {
     "name": "stdout",
     "output_type": "stream",
     "text": [
      "Precision: 1.00\n",
      "Recall: 1.00\n",
      "F1-Score: 1.00\n"
     ]
    }
   ],
   "source": [
    "from sklearn.datasets import load_iris\n",
    "from sklearn.model_selection import train_test_split\n",
    "from sklearn.tree import DecisionTreeClassifier\n",
    "from sklearn.metrics import accuracy_score, classification_report, confusion_matrix, precision_score, recall_score, f1_score\n",
    "\n",
    "# Load the Iris dataset\n",
    "iris = load_iris()\n",
    "X = iris.data\n",
    "y = iris.target\n",
    "\n",
    "# Split the dataset into training and testing sets - ensure consistent 'test_size' and 'random_state'\n",
    "X_train, X_test, y_train, y_test = train_test_split(X, y, test_size=0.3, random_state=42)\n",
    "\n",
    "# Create and train the Decision Tree Classifier\n",
    "clf = DecisionTreeClassifier(random_state=42)\n",
    "clf.fit(X_train, y_train)\n",
    "\n",
    "# Make predictions on the testing data - use the same X_test as used for splitting\n",
    "y_pred = clf.predict(X_test)\n",
    "\n",
    "# Now, calculate precision, recall, and F1-score\n",
    "precision = precision_score(y_test, y_pred, average='weighted')\n",
    "recall = recall_score(y_test, y_pred, average='weighted')\n",
    "f1 = f1_score(y_test, y_pred, average='weighted')\n",
    "\n",
    "print(f\"Precision: {precision:.2f}\")\n",
    "print(f\"Recall: {recall:.2f}\")\n",
    "print(f\"F1-Score: {f1:.2f}\")"
   ]
  },
  {
   "cell_type": "markdown",
   "metadata": {
    "id": "NP2aO8sbrqb7"
   },
   "source": [
    "Q29. Write a Python program to train a Decision Tree Classifier and visualize the confusion matrix using seaborn."
   ]
  },
  {
   "cell_type": "code",
   "execution_count": null,
   "metadata": {
    "colab": {
     "base_uri": "https://localhost:8080/",
     "height": 564
    },
    "id": "IX37-7CKrqjd",
    "outputId": "f2c6de37-76f7-4bc9-a5cd-9017150a3d3e"
   },
   "outputs": [
    {
     "data": {
      "image/png": "[encoded data removed]",
      "text/plain": [
       "<Figure size 800x600 with 2 Axes>"
      ]
     },
     "metadata": {},
     "output_type": "display_data"
    }
   ],
   "source": [
    "# prompt: Write a Python program to train a Decision Tree Classifier and visualize the confusion matrix using seaborn\n",
    "\n",
    "import matplotlib.pyplot as plt\n",
    "import seaborn as sns\n",
    "\n",
    "cm = confusion_matrix(y_test, y_pred)\n",
    "plt.figure(figsize=(8, 6))\n",
    "sns.heatmap(cm, annot=True, fmt=\"d\", cmap=\"Blues\",\n",
    "            xticklabels=iris.target_names, yticklabels=iris.target_names)\n",
    "plt.xlabel(\"Predicted\")\n",
    "plt.ylabel(\"Actual\")\n",
    "plt.title(\"Confusion Matrix\")\n",
    "plt.show()\n"
   ]
  },
  {
   "cell_type": "markdown",
   "metadata": {
    "id": "20CSqYCArqrM"
   },
   "source": [
    "Q30. Write a Python program to train a Decision Tree Classifier and use GridSearchCV to find the optimal values\n",
    "for max_depth and min_samples_split."
   ]
  },
  {
   "cell_type": "code",
   "execution_count": null,
   "metadata": {
    "colab": {
     "base_uri": "https://localhost:8080/"
    },
    "id": "LhvoA6Torqzb",
    "outputId": "b436a53d-62ed-4e60-b934-2cbc68a6c5f9"
   },
   "outputs": [
    {
     "name": "stdout",
     "output_type": "stream",
     "text": [
      "Best parameters: {'max_depth': None, 'min_samples_split': 10}\n",
      "Best score: 0.9428571428571428\n",
      "Accuracy on testing data: 1.0\n"
     ]
    }
   ],
   "source": [
    "# prompt: Write a Python program to train a Decision Tree Classifier and use GridSearchCV to find the optimal values\n",
    "# for max_depth and min_samples_split\n",
    "\n",
    "from sklearn.model_selection import GridSearchCV\n",
    "\n",
    "# Define the parameter grid\n",
    "param_grid = {\n",
    "    'max_depth': [None, 10, 20, 30],\n",
    "    'min_samples_split': [2, 5, 10]\n",
    "}\n",
    "\n",
    "# Create a Decision Tree Classifier\n",
    "clf = DecisionTreeClassifier(random_state=42)\n",
    "\n",
    "# Create GridSearchCV object\n",
    "grid_search = GridSearchCV(clf, param_grid, cv=5, scoring='accuracy')\n",
    "\n",
    "# Fit the GridSearchCV object to the data\n",
    "grid_search.fit(X_train, y_train)\n",
    "\n",
    "# Print the best parameters and best score\n",
    "print(\"Best parameters:\", grid_search.best_params_)\n",
    "print(\"Best score:\", grid_search.best_score_)\n",
    "\n",
    "# Evaluate the best model on the testing data\n",
    "best_clf = grid_search.best_estimator_\n",
    "y_pred = best_clf.predict(X_test)\n",
    "accuracy = accuracy_score(y_test, y_pred)\n",
    "print(\"Accuracy on testing data:\", accuracy)\n"
   ]
  }
 ],
 "metadata": {
  "colab": {
   "provenance": []
  },
  "kernelspec": {
   "display_name": "Python 3 (ipykernel)",
   "language": "python",
   "name": "python3"
  },
  "language_info": {
   "codemirror_mode": {
    "name": "ipython",
    "version": 3
   },
   "file_extension": ".py",
   "mimetype": "text/x-python",
   "name": "python",
   "nbconvert_exporter": "python",
   "pygments_lexer": "ipython3",
   "version": "3.12.7"
  }
 },
 "nbformat": 4,
 "nbformat_minor": 4
}
