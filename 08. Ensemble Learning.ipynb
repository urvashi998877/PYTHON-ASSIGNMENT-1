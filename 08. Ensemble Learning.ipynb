{
  "nbformat": 4,
  "nbformat_minor": 0,
  "metadata": {
    "colab": {
      "provenance": []
    },
    "kernelspec": {
      "name": "python3",
      "display_name": "Python 3"
    },
    "language_info": {
      "name": "python"
    }
  },
  "cells": [
    {
      "cell_type": "markdown",
      "source": [
        "#**Theoretical**"
      ],
      "metadata": {
        "id": "gNQPfscebSPZ"
      }
    },
    {
      "cell_type": "markdown",
      "source": [
        "###**Q1. Can we use Bagging for regression problems?**\n",
        "\n",
        "Answer:\n",
        "\n",
        "Bagging is an ensemble learning technique that combines multiple instances of a model to improve its performance and robustness. In the context of regression, Bagging can be used to:\n",
        "\n",
        "1. Reduce variance: By averaging the predictions of multiple models, Bagging can reduce the variance of the predictions, leading to more stable and reliable results.\n",
        "2. Improve robustness: Bagging can help to reduce the impact of outliers and noisy data by averaging out their effects.\n",
        "3. Increase accuracy: By combining the predictions of multiple models, Bagging can lead to more accurate predictions than any individual model.\n",
        "\n",
        "**Implementing Bagging for Regression**\n",
        "\n",
        "To implement Bagging for regression, you can follow these steps:\n",
        "\n",
        "1. Split the data: Split the training data into B bootstrap samples.\n",
        "2. Train a model: Train a regression model on each bootstrap sample.\n",
        "3. Make predictions: Make predictions on the test data using each of the B models.\n",
        "4. Average the predictions: Average the predictions of the B models to obtain the final prediction.\n",
        "\n",
        "**Some Popular Regression Algorithms Used with Bagging**\n",
        "\n",
        "Some popular regression algorithms that can be used with Bagging include:\n",
        "\n",
        "1. Decision Trees: Decision Trees are a popular choice for Bagging regression.\n",
        "2. Random Forests: Random Forests are an extension of Decision Trees that can be used with Bagging.\n",
        "3. Support Vector Machines (SVMs): SVMs can be used with Bagging for regression problems.\n",
        "4. Neural Networks: Neural Networks can be used with Bagging for regression problems."
      ],
      "metadata": {
        "id": "cMAQnuQ4bW_r"
      }
    },
    {
      "cell_type": "markdown",
      "source": [
        "###**Q2. What is the difference between multiple model training and single model training?**\n",
        "\n",
        "Answer:\n",
        "\n",
        "Multiple model training and single model training are two different approaches to training machine learning models.\n",
        "\n",
        "**Single Model Training**\n",
        "\n",
        "In single model training, a single model is trained on the entire dataset. The model learns to recognize patterns and relationships in the data and makes predictions based on that learning.\n",
        "\n",
        "**Multiple Model Training**\n",
        "\n",
        "In multiple model training, multiple models are trained on different subsets of the data or using different algorithms. Each model learns to recognize patterns and relationships in its respective subset of the data. The predictions from each model are then combined to make a final prediction.\n",
        "\n",
        "**Key differences**\n",
        "\n",
        "\n",
        "\n",
        "1. Model complexity: Single model training typically results in a single, complex model. Multiple model training, on the other hand, results in multiple, simpler models.\n",
        "2. Training data: In single model training, the entire dataset is used to train a single model. In multiple model training, different subsets of the data are used to train different models.\n",
        "3. Overfitting: Single model training can result in overfitting, especially when the model is complex and the dataset is small. Multiple model training can help reduce overfitting by averaging out the predictions from different models.\n",
        "4. Diversity: Multiple model training can result in more diverse models, as each model is trained on a different subset of the data or using a different algorithm.\n",
        "5. Computational cost: Multiple model training can be computationally expensive, as multiple models need to be trained. Single model training, on the other hand, requires training only a single model.\n",
        "\n",
        "**Advantages of multiple model training**\n",
        "\n",
        "1. Improved accuracy: Multiple model training can result in improved accuracy, as the predictions from different models can be combined to make a more accurate prediction.\n",
        "2. Reduced overfitting: Multiple model training can help reduce overfitting, as the predictions from different models can be averaged out.\n",
        "3. Increased diversity: Multiple model training can result in more diverse models, as each model is trained on a different subset of the data or using a different algorithm.\n",
        "\n",
        "**Disadvantages of multiple model training**\n",
        "\n",
        "1. Increased computational cost: Multiple model training can be computationally expensive, as multiple models need to be trained.\n",
        "2. Model selection: Multiple model training requires selecting the best model or combining the predictions from different models, which can be challenging."
      ],
      "metadata": {
        "id": "iTWYq_uBfKJ1"
      }
    },
    {
      "cell_type": "markdown",
      "source": [
        "###**Q3. Explain the concept of feature randomness in Random Forest.***\n",
        "\n",
        "Answer:\n",
        "\n",
        "Feature randomness is a key concept in Random Forest, a popular ensemble learning algorithm. It refers to the random selection of features (or variables) at each node of the decision tree during the training process.\n",
        "\n",
        "**Why feature randomness?**\n",
        "\n",
        "In a traditional decision tree, the best feature to split at each node is selected based on a measure of impurity, such as Gini impurity or entropy. However, this can lead to overfitting, especially when dealing with high-dimensional data or noisy features.\n",
        "\n",
        "By introducing feature randomness, Random Forest reduces the correlation between trees and improves the overall robustness of the model. Here's how:\n",
        "\n",
        "**How feature randomness works?**\n",
        "\n",
        "At each node of the decision tree, a random subset of features is selected from the entire feature set. This subset is then used to determine the best feature to split at that node.\n",
        "\n",
        "The number of features to consider at each node is typically set to the square root of the total number of features. This is a common default value, but it can be adjusted based on the specific problem and dataset.\n",
        "\n",
        "**Benefits of feature randomness:**\n",
        "\n",
        "\n",
        "\n",
        "1. Reduced correlation: By randomly selecting features at each node, the correlation between trees is reduced, leading to a more diverse and robust ensemble.\n",
        "2. Improved robustness: Feature randomness helps to reduce the impact of noisy or irrelevant features on the model.\n",
        "3. Increased accuracy: By considering multiple features at each node, Random Forest can capture complex relationships between features and improve overall accuracy.\n",
        "4. Better handling of high-dimensional data: Feature randomness helps to reduce the curse of dimensionality, making Random Forest more suitable for high-dimensional data.\n"
      ],
      "metadata": {
        "id": "D3mPLJXsIOCY"
      }
    },
    {
      "cell_type": "markdown",
      "source": [
        "###**Q4. What is OOB (Out-of-Bag) Score?**\n",
        "\n",
        "Answer:\n",
        "\n",
        "OOB (Out-of-Bag) Score is a measure of the performance of a Random Forest model on unseen data. It's a way to estimate the model's generalization error without using a separate test set.\n",
        "\n",
        "**Out-of-Bag (OOB) data?**\n",
        "\n",
        "In Random Forest, each tree is trained on a bootstrap sample of the training data. This means that some data points are left out of the bootstrap sample, and these points are referred to as Out-of-Bag (OOB) data.\n",
        "\n",
        "**How is OOB Score calculated?**\n",
        "\n",
        "For each tree in the Random Forest, the OOB data is used to estimate the model's error. The OOB Score is calculated as the average error of all trees in the forest on their respective OOB data.\n",
        "\n",
        "The OOB Score is typically calculated using a loss function such as mean squared error (MSE) for regression problems or classification error for classification problems.\n",
        "\n",
        "**Advantages of OOB Score**\n",
        "\n",
        "1. No need for a separate test set: OOB Score provides an estimate of the model's generalization error without requiring a separate test set.\n",
        "2. Efficient use of data: OOB Score uses the data that's already available, reducing the need for additional data.\n",
        "3. Fast computation: OOB Score can be computed quickly, even for large datasets.\n",
        "\n",
        "**Limitations of OOB Score**\n",
        "\n",
        "1. Biased estimate: OOB Score can be a biased estimate of the model's generalization error, especially if the model is complex or the dataset is small.\n",
        "2. Not suitable for all problems: OOB Score is not suitable for problems with a large number of classes or problems with a large number of features."
      ],
      "metadata": {
        "id": "A-qZsYwSImin"
      }
    },
    {
      "cell_type": "markdown",
      "source": [
        "###**Q5.  How can you measure the importance of features in a Random Forest mode?**\n",
        "\n",
        "Answer:\n",
        "\n",
        "Measuring the importance of features in a Random Forest model can be done using various methods. Here are some common approaches:\n",
        "\n",
        "1. Permutation Feature Importance\n",
        "This method works by randomly permuting the values of a feature and measuring the decrease in model performance. The feature importance is calculated as the difference in model performance before and after permuting the feature.\n",
        "\n",
        "2. Gini Importance\n",
        "Gini importance is a measure of the feature importance based on the Gini impurity criterion used in decision trees. The Gini importance of a feature is calculated as the sum of the Gini impurities of the feature across all trees in the forest.\n",
        "\n",
        "3. Mean Decrease in Impurity (MDI)\n",
        "MDI is similar to Gini importance, but it calculates the feature importance based on the mean decrease in impurity across all trees in the forest.\n",
        "\n",
        "4. Mean Decrease in Accuracy (MDA)\n",
        "MDA is similar to permutation feature importance, but it calculates the feature importance based on the mean decrease in accuracy across all trees in the forest.\n",
        "\n",
        "5. SHAP Values\n",
        "SHAP (SHapley Additive exPlanations) values are a method for explaining the output of a machine learning model. SHAP values can be used to calculate the feature importance by assigning a value to each feature for a specific prediction.\n",
        "\n",
        "6. Partial Dependence Plots\n",
        "Partial dependence plots are a method for visualizing the relationship between a feature and the predicted outcome. By plotting the partial dependence of the predicted outcome on a feature, we can gain insights into the feature's importance.\n",
        "\n",
        "7. Feature Importances from Scikit-Learn\n",
        "Scikit-learn provides a feature_importances_ attribute in the RandomForestClassifier and RandomForestRegressor classes, which returns the feature importances calculated using the Gini importance criterion.\n"
      ],
      "metadata": {
        "id": "N4vrBZTGM0xh"
      }
    },
    {
      "cell_type": "code",
      "source": [
        "from sklearn.ensemble import RandomForestClassifier\n",
        "from sklearn.datasets import load_iris\n",
        "from sklearn.model_selection import train_test_split\n",
        "\n",
        "# Load the iris dataset\n",
        "iris = load_iris()\n",
        "X = iris.data\n",
        "y = iris.target\n",
        "\n",
        "# Split the data into training and testing sets\n",
        "X_train, X_test, y_train, y_test = train_test_split(X, y, test_size=0.2, random_state=42)\n",
        "\n",
        "# Train a random forest classifier\n",
        "rf = RandomForestClassifier(n_estimators=100, random_state=42)\n",
        "rf.fit(X_train, y_train)\n",
        "\n",
        "# Get the feature importances\n",
        "feature_importances = rf.feature_importances_\n",
        "\n",
        "# Print the feature importances\n",
        "print(feature_importances)\n"
      ],
      "metadata": {
        "colab": {
          "base_uri": "https://localhost:8080/"
        },
        "id": "0_bI5tvNN7eR",
        "outputId": "a4653309-3c88-4f14-b85e-a238c77cbe40"
      },
      "execution_count": null,
      "outputs": [
        {
          "output_type": "stream",
          "name": "stdout",
          "text": [
            "[0.10809762 0.03038681 0.43999397 0.42152159]\n"
          ]
        }
      ]
    },
    {
      "cell_type": "markdown",
      "source": [
        "###**Q6. Explain the working principle of a Bagging Classifier?**\n",
        "\n",
        "Answer:\n",
        "\n",
        "\n",
        "A Bagging Classifier is an ensemble learning algorithm that combines multiple instances of a base classifier to improve its performance and robustness. Here's a step-by-step explanation of how a Bagging Classifier works:\n",
        "\n",
        "**Step 1:** Bootstrap Sampling\n",
        "The training data is sampled with replacement to create a new dataset, known as a bootstrap sample. This process is repeated multiple times, creating multiple bootstrap samples.\n",
        "\n",
        "**Step 2:** Training Base Classifiers\n",
        "A base classifier is trained on each bootstrap sample. The base classifier can be any type of classifier, such as a decision tree, logistic regression, or support vector machine.\n",
        "\n",
        "**Step 3:** Predicting Class Labels\n",
        "Each base classifier predicts the class label for a new, unseen instance.\n",
        "\n",
        "**Step 4:** Combining Predictions\n",
        "The predictions from each base classifier are combined using a voting scheme. The class label with the most votes is selected as the final prediction.\n",
        "\n",
        "**Step 5:** Reducing Variance\n",
        "By combining the predictions from multiple base classifiers, the Bagging Classifier reduces the variance of the predictions, resulting in a more stable and robust model.\n",
        "\n",
        "**Advantages of Bagging Classifiers**\n",
        "1. Improved Accuracy: Bagging Classifiers can improve the accuracy of the base classifier by reducing the variance of the predictions.\n",
        "2. Robustness to Noise: Bagging Classifiers can handle noisy data by averaging out the effects of the noise.\n",
        "3. Reducing Overfitting: Bagging Classifiers can reduce overfitting by combining the predictions from multiple base classifiers.\n",
        "\n",
        "**Disadvantages of Bagging Classifiers**\n",
        "1. Increased Computational Cost: Training multiple base classifiers can increase the computational cost of the algorithm.\n",
        "2. Difficulty in Selecting Base Classifiers: Selecting the appropriate base classifier and hyperparameters can be challenging.\n",
        "\n"
      ],
      "metadata": {
        "id": "IfsJJD9GOMpz"
      }
    },
    {
      "source": [
        "from sklearn.ensemble import BaggingClassifier\n",
        "from sklearn.tree import DecisionTreeClassifier\n",
        "from sklearn.datasets import load_iris\n",
        "from sklearn.model_selection import train_test_split\n",
        "\n",
        "# Load the iris dataset\n",
        "iris = load_iris()\n",
        "X = iris.data\n",
        "y = iris.target\n",
        "\n",
        "# Split the data into training and testing sets\n",
        "X_train, X_test, y_train, y_test = train_test_split(X, y, test_size=0.2, random_state=42)\n",
        "\n",
        "# Create a Decision Tree Classifier\n",
        "base_classifier = DecisionTreeClassifier(random_state=42)\n",
        "\n",
        "# Create a Bagging Classifier\n",
        "# Changed 'base_estimator' to 'estimator'\n",
        "bagging_classifier = BaggingClassifier(estimator=base_classifier, n_estimators=100, random_state=42)\n",
        "\n",
        "# Train the Bagging Classifier\n",
        "bagging_classifier.fit(X_train, y_train)\n",
        "\n",
        "# Evaluate the Bagging Classifier\n",
        "accuracy = bagging_classifier.score(X_test, y_test)\n",
        "print(\"Accuracy:\", accuracy)"
      ],
      "cell_type": "code",
      "metadata": {
        "colab": {
          "base_uri": "https://localhost:8080/"
        },
        "id": "N7P14ywZPMRF",
        "outputId": "c317c0cc-97ec-4779-fe53-8508041fa6ef"
      },
      "execution_count": null,
      "outputs": [
        {
          "output_type": "stream",
          "name": "stdout",
          "text": [
            "Accuracy: 1.0\n"
          ]
        }
      ]
    },
    {
      "cell_type": "markdown",
      "source": [
        "###**Q7. How do you evaluate a Bagging Classifier’s performance?**\n",
        "\n",
        "Answer:\n",
        "\n",
        "Evaluating a Bagging Classifier's performance involves assessing its accuracy, robustness, and reliability. Here are some metrics and techniques to evaluate a Bagging Classifier:\n",
        "\n",
        "**Metrics for Evaluation**\n",
        "1. Accuracy: Measures the proportion of correctly classified instances.\n",
        "2. Precision: Measures the proportion of true positives among all predicted positive instances.\n",
        "3. Recall: Measures the proportion of true positives among all actual positive instances.\n",
        "4. F1-score: Measures the harmonic mean of precision and recall.\n",
        "5. Mean Squared Error (MSE): Measures the average squared difference between predicted and actual values.\n",
        "6. Mean Absolute Error (MAE): Measures the average absolute difference between predicted and actual values.\n",
        "\n",
        "**Techniques for Evaluation**\n",
        "1. Cross-Validation: Splits the data into training and testing sets, and evaluates the model's performance on the testing set.\n",
        "2. Holdout Method: Splits the data into training and testing sets, and evaluates the model's performance on the testing set.\n",
        "3. Bootstrap Resampling: Creates multiple bootstrap samples from the original data, and evaluates the model's performance on each sample.\n",
        "4. Confusion Matrix: Provides a summary of the model's performance, including true positives, false positives, true negatives, and false negatives.\n",
        "\n",
        "**Evaluating Bagging Classifier's Performance**\n",
        "1. Evaluate on a Test Set: Evaluate the Bagging Classifier's performance on a separate test set to estimate its generalization error.\n",
        "2. Use Cross-Validation: Use cross-validation to evaluate the Bagging Classifier's performance on multiple subsets of the data.\n",
        "3. Monitor Overfitting: Monitor the Bagging Classifier's performance on the training set and test set to detect overfitting.\n",
        "4. Compare with Baseline: Compare the Bagging Classifier's performance with a baseline model, such as a single decision tree.\n"
      ],
      "metadata": {
        "id": "yKwybpm2PTFU"
      }
    },
    {
      "source": [
        "from sklearn.ensemble import BaggingClassifier\n",
        "from sklearn.tree import DecisionTreeClassifier\n",
        "from sklearn.datasets import load_iris\n",
        "from sklearn.model_selection import train_test_split\n",
        "from sklearn.metrics import accuracy_score, classification_report, confusion_matrix\n",
        "\n",
        "# Load the iris dataset\n",
        "iris = load_iris()\n",
        "X = iris.data\n",
        "y = iris.target\n",
        "\n",
        "# Split the data into training and testing sets\n",
        "X_train, X_test, y_train, y_test = train_test_split(X, y, test_size=0.2, random_state=42)\n",
        "\n",
        "# Create a Decision Tree Classifier\n",
        "base_classifier = DecisionTreeClassifier(random_state=42)\n",
        "\n",
        "# Create a Bagging Classifier\n",
        "# Changed 'base_estimator' to 'estimator'\n",
        "bagging_classifier = BaggingClassifier(estimator=base_classifier, n_estimators=100, random_state=42)\n",
        "\n",
        "# Train the Bagging Classifier\n",
        "bagging_classifier.fit(X_train, y_train)\n",
        "\n",
        "# Evaluate the Bagging Classifier\n",
        "y_pred = bagging_classifier.predict(X_test)\n",
        "print(\"Accuracy:\", accuracy_score(y_test, y_pred))\n",
        "print(\"Classification Report:\")\n",
        "print(classification_report(y_test, y_pred))\n",
        "print(\"Confusion Matrix:\")\n",
        "print(confusion_matrix(y_test, y_pred))"
      ],
      "cell_type": "code",
      "metadata": {
        "colab": {
          "base_uri": "https://localhost:8080/"
        },
        "id": "6pZJRHnUQP0m",
        "outputId": "73c4ac12-d17f-4fc8-e920-34a8887c54fe"
      },
      "execution_count": null,
      "outputs": [
        {
          "output_type": "stream",
          "name": "stdout",
          "text": [
            "Accuracy: 1.0\n",
            "Classification Report:\n",
            "              precision    recall  f1-score   support\n",
            "\n",
            "           0       1.00      1.00      1.00        10\n",
            "           1       1.00      1.00      1.00         9\n",
            "           2       1.00      1.00      1.00        11\n",
            "\n",
            "    accuracy                           1.00        30\n",
            "   macro avg       1.00      1.00      1.00        30\n",
            "weighted avg       1.00      1.00      1.00        30\n",
            "\n",
            "Confusion Matrix:\n",
            "[[10  0  0]\n",
            " [ 0  9  0]\n",
            " [ 0  0 11]]\n"
          ]
        }
      ]
    },
    {
      "cell_type": "markdown",
      "source": [
        "###**Q8. How does a Bagging Regressor work?**\n",
        "\n",
        "Answer:\n",
        "\n",
        "A Bagging Regressor is an ensemble learning algorithm that combines multiple instances of a base regressor to improve its performance and robustness. Here's a step-by-step explanation of how a Bagging Regressor works:\n",
        "\n",
        "**Step 1:** Bootstrap Sampling\n",
        "The training data is sampled with replacement to create a new dataset, known as a bootstrap sample. This process is repeated multiple times, creating multiple bootstrap samples.\n",
        "\n",
        "**Step 2:** Training Base Regressors\n",
        "A base regressor is trained on each bootstrap sample. The base regressor can be any type of regressor, such as a decision tree, linear regression, or support vector machine.\n",
        "\n",
        "**Step 3:** Predicting Target Values\n",
        "Each base regressor predicts the target value for a new, unseen instance.\n",
        "\n",
        "**Step 4:** Combining Predictions\n",
        "The predictions from each base regressor are combined using a voting scheme, such as averaging or median. The final prediction is the average or median of the predictions from all base regressors.\n",
        "\n",
        "**Step 5:** Reducing Variance\n",
        "By combining the predictions from multiple base regressors, the Bagging Regressor reduces the variance of the predictions, resulting in a more stable and robust model.\n",
        "\n",
        "**Advantages of Bagging Regressors**\n",
        "1. Improved Accuracy: Bagging Regressors can improve the accuracy of the base regressor by reducing the variance of the predictions.\n",
        "2. Robustness to Noise: Bagging Regressors can handle noisy data by averaging out the effects of the noise.\n",
        "3. Reducing Overfitting: Bagging Regressors can reduce overfitting by combining the predictions from multiple base regressors.\n",
        "\n",
        "**Disadvantages of Bagging Regressors**\n",
        "1. Increased Computational Cost: Training multiple base regressors can increase the computational cost of the algorithm.\n",
        "2. Difficulty in Selecting Base Regressors: Selecting the appropriate base regressor and hyperparameters can be challenging.\n"
      ],
      "metadata": {
        "id": "Tnv7CB0ng9Wu"
      }
    },
    {
      "source": [
        "from sklearn.ensemble import BaggingRegressor\n",
        "from sklearn.tree import DecisionTreeRegressor\n",
        "from sklearn.datasets import load_diabetes\n",
        "from sklearn.model_selection import train_test_split\n",
        "\n",
        "# Load the diabetes dataset\n",
        "diabetes = load_diabetes()\n",
        "X = diabetes.data\n",
        "y = diabetes.target\n",
        "\n",
        "# Split the data into training and testing sets\n",
        "X_train, X_test, y_train, y_test = train_test_split(X, y, test_size=0.2, random_state=42)\n",
        "\n",
        "# Create a Decision Tree Regressor\n",
        "base_regressor = DecisionTreeRegressor(random_state=42)\n",
        "\n",
        "# Create a Bagging Regressor\n",
        "# Changed 'base_estimator' to 'estimator'\n",
        "bagging_regressor = BaggingRegressor(estimator=base_regressor, n_estimators=100, random_state=42)\n",
        "\n",
        "# Train the Bagging Regressor\n",
        "bagging_regressor.fit(X_train, y_train)\n",
        "\n",
        "# Evaluate the Bagging Regressor\n",
        "y_pred = bagging_regressor.predict(X_test)\n",
        "print(\"Mean Squared Error:\", ((y_test - y_pred) ** 2).mean())"
      ],
      "cell_type": "code",
      "metadata": {
        "colab": {
          "base_uri": "https://localhost:8080/"
        },
        "id": "-xuSnUV3jU9E",
        "outputId": "e76ee242-3aa0-4ff8-80d7-92e7af048afa"
      },
      "execution_count": null,
      "outputs": [
        {
          "output_type": "stream",
          "name": "stdout",
          "text": [
            "Mean Squared Error: 2970.863235955056\n"
          ]
        }
      ]
    },
    {
      "cell_type": "markdown",
      "source": [
        "###**Q9. What is the main advantage of ensemble techniques?**\n",
        "\n",
        "Answer:\n",
        "\n",
        "The main advantage of ensemble techniques is that they can improve the accuracy and robustness of predictions by combining the strengths of multiple models.\n",
        "\n",
        "**Key Benefits of Ensemble Techniques**\n",
        "1. Improved Accuracy: Ensemble techniques can reduce the error rate of predictions by averaging out the errors of individual models.\n",
        "2. Increased Robustness: Ensemble techniques can improve the robustness of predictions by reducing the impact of outliers and noisy data.\n",
        "3. Better Handling of Complex Data: Ensemble techniques can handle complex data with multiple features and interactions by combining the strengths of multiple models.\n",
        "4. Reducing Overfitting: Ensemble techniques can reduce overfitting by averaging out the predictions of multiple models, which can help to reduce the impact of noise and outliers.\n",
        "5. Improved Interpretability: Ensemble techniques can provide insights into the relationships between features and target variables by analyzing the contributions of individual models.\n",
        "\n",
        "**Real-World Applications of Ensemble Techniques**\n",
        "1. Image Classification: Ensemble techniques are widely used in image classification tasks, such as object detection and facial recognition.\n",
        "2. Natural Language Processing: Ensemble techniques are used in natural language processing tasks, such as text classification and sentiment analysis.\n",
        "3. Recommendation Systems: Ensemble techniques are used in recommendation systems to combine the strengths of multiple models and provide personalized recommendations.\n",
        "4. Financial Forecasting: Ensemble techniques are used in financial forecasting to combine the strengths of multiple models and provide accurate predictions of stock prices and market trends.\n",
        "\n",
        "**Popular Ensemble Techniques**\n",
        "1. Bagging: Bagging involves training multiple instances of a model on different subsets of the data and combining their predictions.\n",
        "2. Boosting: Boosting involves training multiple models sequentially, with each model attempting to correct the errors of the previous model.\n",
        "3. Stacking: Stacking involves training multiple models and combining their predictions using a meta-model.\n",
        "4. Random Forest: Random Forest involves training multiple decision trees on different subsets of the data and combining their predictions."
      ],
      "metadata": {
        "id": "jh524s4qhwat"
      }
    },
    {
      "cell_type": "markdown",
      "source": [
        "###**Q10. What is the main challenge of ensemble methods?**\n",
        "\n",
        "Answer:\n",
        "\n",
        "The main challenge of ensemble methods is selecting and combining the right models to achieve better performance than any individual model.\n",
        "\n",
        "**Key Challenges of Ensemble Methods**\n",
        "1. Model Selection: Selecting the right models to combine is crucial. Different models may have different strengths and weaknesses, and selecting models that complement each other is essential.\n",
        "2. Model Diversity: Ensuring that the models are diverse and do not make the same mistakes is critical. If the models are too similar, the ensemble may not provide any benefits.\n",
        "3. Weighting and Combining: Determining the optimal weights for each model and combining them effectively is challenging. Different weighting schemes and combination methods can significantly impact the performance of the ensemble.\n",
        "4. Overfitting: Ensemble methods can be prone to overfitting, especially when the individual models are complex. Regularization techniques and careful model selection can help mitigate this issue.\n",
        "5. Interpretability: Ensemble methods can be difficult to interpret, especially when the individual models are complex. Understanding how the ensemble makes predictions and which models are contributing the most to the predictions can be challenging.\n",
        "6. Computational Cost: Training and combining multiple models can be computationally expensive, especially when dealing with large datasets.\n",
        "\n",
        "**Strategies to Overcome these Challenges**\n",
        "1. Use diverse models: Combine models with different architectures, hyperparameters, and training data to ensure diversity.\n",
        "2. Use regularization techniques: Regularization techniques, such as L1 and L2 regularization, can help prevent overfitting.\n",
        "3. Use ensemble pruning: Ensemble pruning involves removing models that do not contribute significantly to the ensemble's performance.\n",
        "4. Use weighted ensemble methods: Weighted ensemble methods, such as weighted voting, can help combine models effectively.\n",
        "5. Use visualization techniques: Visualization techniques, such as feature importance plots, can help interpret the ensemble's predictions.\n",
        "\n",
        "**Popular Ensemble Methods**\n",
        "1. Bagging: Bagging involves training multiple instances of a model on different subsets of the data and combining their predictions.\n",
        "2. Boosting: Boosting involves training multiple models sequentially, with each model attempting to correct the errors of the previous model.\n",
        "3. Stacking: Stacking involves training multiple models and combining their predictions using a meta-model.\n",
        "4. Random Forest: Random Forest involves training multiple decision trees on different subsets of the data and combining their predictions."
      ],
      "metadata": {
        "id": "bjGBhx32j2RZ"
      }
    },
    {
      "cell_type": "markdown",
      "source": [
        "###**Q11.  Explain the key idea behind ensemble techniques?**\n",
        "\n",
        "Answer:\n",
        "\n",
        "The key idea behind ensemble techniques is to combine the predictions of multiple models to improve the accuracy, robustness, and generalizability of the predictions.\n",
        "\n",
        "**Key Principles of Ensemble Techniques**\n",
        "1. **Diversity:** Ensemble techniques rely on combining models that are diverse in terms of their architecture, training data, and hyperparameters.\n",
        "2. **Complementarity:** Ensemble techniques aim to combine models that complement each other, meaning that each model excels in a different aspect of the problem.\n",
        "3. **Weighting and Combining:** Ensemble techniques involve weighting and combining the predictions of individual models to produce a final prediction.\n",
        "\n",
        "**Benefits of Ensemble Techniques**\n",
        "1. **Improved Accuracy:** Ensemble techniques can improve the accuracy of predictions by combining the strengths of individual models.\n",
        "2. **Increased Robustness:** Ensemble techniques can increase the robustness of predictions by reducing the impact of outliers and noisy data.\n",
        "3. **Better Handling of Complex Data:** Ensemble techniques can handle complex data with multiple features and interactions by combining the strengths of individual models.\n",
        "4. **Reducing Overfitting:** Ensemble techniques can reduce overfitting by averaging out the predictions of individual models.\n",
        "\n",
        "**Types of Ensemble Techniques**\n",
        "1. **Bagging:** Bagging involves training multiple instances of a model on different subsets of the data and combining their predictions.\n",
        "2. **Boosting:** Boosting involves training multiple models sequentially, with each model attempting to correct the errors of the previous model.\n",
        "3. **Stacking:** Stacking involves training multiple models and combining their predictions using a meta-model.\n",
        "4. **Random Forest:** Random Forest involves training multiple decision trees on different subsets of the data and combining their predictions.\n",
        "\n",
        "**Real-World Applications of Ensemble Techniques**\n",
        "1. **Image Classification:** Ensemble techniques are widely used in image classification tasks, such as object detection and facial recognition.\n",
        "2. **Natural Language Processing:** Ensemble techniques are used in natural language processing tasks, such as text classification and sentiment analysis.\n",
        "3. **Recommendation Systems:** Ensemble techniques are used in recommendation systems to combine the strengths of multiple models and provide personalized recommendations.\n",
        "4. **Financial Forecasting:** Ensemble techniques are used in financial forecasting to combine the strengths of multiple models and provide accurate predictions of stock prices and market trends."
      ],
      "metadata": {
        "id": "_jWiTfqhka0_"
      }
    },
    {
      "cell_type": "markdown",
      "source": [
        "###**Q12. What is a Random Forest Classifier?**\n",
        "\n",
        "Answer:\n",
        "\n",
        "A Random Forest Classifier is an ensemble learning algorithm that combines multiple decision trees to classify data. It is a type of supervised learning algorithm that can be used for classification and regression tasks.\n",
        "\n",
        "**How Random Forest Classifier Works**\n",
        "1. **Bootstrap Sampling:** The algorithm starts by creating a bootstrap sample of the training data. This involves randomly selecting a subset of the data with replacement.\n",
        "2. **Decision Tree Construction:** A decision tree is constructed using the bootstrap sample. The decision tree is a tree-like model that splits the data into subsets based on the features.\n",
        "3. **Random Feature Selection:** At each node of the decision tree, a random subset of features is selected to consider for splitting. This helps to reduce the correlation between trees.\n",
        "4. **Tree Ensemble:** Multiple decision trees are constructed using the bootstrap sampling and random feature selection. The predictions from each tree are combined to produce the final prediction.\n",
        "5. **Voting:** The final prediction is made by taking a vote from all the trees in the ensemble. The class with the most votes is selected as the predicted class.\n",
        "\n",
        "**Advantages of Random Forest Classifier**\n",
        "1. **High Accuracy:** Random Forest Classifier can achieve high accuracy on a wide range of datasets.\n",
        "2. **Robustness to Noise:** Random Forest Classifier is robust to noisy data and can handle missing values.\n",
        "3. **Handling High-Dimensional Data:** Random Forest Classifier can handle high-dimensional data with a large number of features.\n",
        "4. **Interpretable:** Random Forest Classifier provides feature importance scores, which can be used to interpret the results.\n",
        "5. **Handling Imbalanced Data:** Random Forest Classifier can handle imbalanced data by using techniques such as oversampling the minority class or undersampling the majority class.\n",
        "\n",
        "**Disadvantages of Random Forest Classifier**\n",
        "1. **Computational Cost:** Random Forest Classifier can be computationally expensive to train, especially on large datasets.\n",
        "2. **Overfitting:** Random Forest Classifier can suffer from overfitting if the number of trees is too large or if the trees are too deep.\n",
        "3. **Hyperparameter Tuning:** Random Forest Classifier has several hyperparameters that need to be tuned, such as the number of trees, the maximum depth of the trees, and the number of features to consider at each split.\n",
        "\n",
        "**Real-World Applications of Random Forest Classifier**\n",
        "1. **Image Classification:** Random Forest Classifier can be used for image classification tasks such as object detection and facial recognition.\n",
        "2. **Natural Language Processing:** Random Forest Classifier can be used for natural language processing tasks such as text classification and sentiment analysis.\n",
        "3. **Recommendation Systems:** Random Forest Classifier can be used in recommendation systems to predict user preferences.\n",
        "4. **Financial Forecasting:** Random Forest Classifier can be used in financial forecasting to predict stock prices and market trends.\n",
        "\n"
      ],
      "metadata": {
        "id": "6U02Aro1lkgG"
      }
    },
    {
      "cell_type": "code",
      "source": [
        "from sklearn.ensemble import RandomForestClassifier\n",
        "from sklearn.datasets import load_iris\n",
        "from sklearn.model_selection import train_test_split\n",
        "\n",
        "# Load the iris dataset\n",
        "iris = load_iris()\n",
        "X = iris.data\n",
        "y = iris.target\n",
        "\n",
        "# Split the data into training and testing sets\n",
        "X_train, X_test, y_train, y_test = train_test_split(X, y, test_size=0.2, random_state=42)\n",
        "\n",
        "# Create a Random Forest Classifier\n",
        "rf = RandomForestClassifier(n_estimators=100, random_state=42)\n",
        "\n",
        "# Train the Random Forest Classifier\n",
        "rf.fit(X_train, y_train)\n",
        "\n",
        "from sklearn.ensemble import RandomForestClassifier\n",
        "from sklearn.datasets import load_iris\n",
        "from sklearn.model_selection import train_test_split\n",
        "\n",
        "# Load the iris dataset\n",
        "iris = load_iris()\n",
        "X = iris.data\n",
        "y = iris.target\n",
        "\n",
        "# Split the data into training and testing sets\n",
        "X_train, X_test, y_train, y_test = train_test_split(X, y, test_size=0.2, random_state=42)\n",
        "\n",
        "# Create a Random Forest Classifier\n",
        "rf = RandomForestClassifier(n_estimators=100, random_state=42)\n",
        "\n",
        "# Train the Random Forest Classifier\n",
        "rf.fit(X_train, y_train)\n",
        "\n",
        "# Evaluate the Random Forest Classifier\n",
        "accuracy = rf.score(X_test, y_test)\n",
        "print(\"Accuracy:\", accuracy)"
      ],
      "metadata": {
        "colab": {
          "base_uri": "https://localhost:8080/"
        },
        "id": "x8RR3PJvm1X6",
        "outputId": "1da86aa1-0d49-4a01-f0ef-56dd434162d6"
      },
      "execution_count": null,
      "outputs": [
        {
          "output_type": "stream",
          "name": "stdout",
          "text": [
            "Accuracy: 1.0\n"
          ]
        }
      ]
    },
    {
      "cell_type": "markdown",
      "source": [
        "###**Q13. What are the main types of ensemble techniques?**\n",
        "\n",
        "Answer:\n",
        "\n",
        "There are several types of ensemble techniques, including:\n",
        "\n",
        "1. Bagging (Bootstrap Aggregating)\n",
        "Bagging involves training multiple instances of a model on different subsets of the data and combining their predictions.\n",
        "\n",
        "2. Boosting\n",
        "Boosting involves training multiple models sequentially, with each model attempting to correct the errors of the previous model.\n",
        "\n",
        "3. Stacking\n",
        "Stacking involves training multiple models and combining their predictions using a meta-model.\n",
        "\n",
        "4. Random Forest\n",
        "Random Forest involves training multiple decision trees on different subsets of the data and combining their predictions.\n",
        "\n",
        "5. Gradient Boosting\n",
        "Gradient Boosting involves training multiple models sequentially, with each model attempting to correct the errors of the previous model using gradient descent.\n",
        "\n",
        "6. AdaBoost\n",
        "AdaBoost involves training multiple models sequentially, with each model attempting to correct the errors of the previous model by adjusting the weights of the training data.\n",
        "\n",
        "7. XGBoost\n",
        "XGBoost is an optimized version of Gradient Boosting that uses a more efficient algorithm to train the models.\n",
        "\n",
        "8. LightGBM\n",
        "LightGBM is a fast and efficient implementation of Gradient Boosting that uses a novel algorithm to train the models.\n",
        "\n",
        "9. CatBoost\n",
        "CatBoost is a gradient boosting library that provides a more efficient and scalable way to train gradient boosting models.\n",
        "\n",
        "10. Ensemble Selection\n",
        "Ensemble selection involves selecting a subset of models from a larger ensemble to improve the overall performance.\n",
        "\n",
        "**Comparison of Ensemble Techniques**\n",
        "\n",
        "\n",
        "| Ensemble Technique | Description | Advantages | Disadvantages |\n",
        "| --- | --- | --- | --- |\n",
        "| Bagging | Train multiple models on different subsets of the data | Improves accuracy, reduces overfitting | Can be computationally expensive |\n",
        "| Boosting | Train multiple models sequentially, with each model correcting the errors of the previous model | Improves accuracy, handles missing values | Can be computationally expensive, prone to overfitting |\n",
        "| Stacking | Train multiple models and combine their predictions using a meta-model | Improves accuracy, handles missing values | Can be computationally expensive, requires careful selection of models |\n",
        "| Random Forest | Train multiple decision trees on different subsets of the data | Improves accuracy, handles missing values, interpretable | Can be computationally expensive, prone to overfitting |\n",
        "| Gradient Boosting | Train multiple models sequentially, with each model correcting the errors of the previous model using gradient descent | Improves accuracy, handles missing values | Can be computationally expensive, prone to overfitting |\n",
        "| AdaBoost | Train multiple models sequentially, with each model correcting the errors of the previous model by adjusting the weights of the training data | Improves accuracy, handles missing values | Can be computationally expensive, prone to overfitting |\n",
        "| XGBoost | Optimized version of Gradient Boosting | Improves accuracy, handles missing values, computationally efficient | Can be prone to overfitting |\n",
        "| LightGBM | Fast and efficient implementation of Gradient Boosting | Improves accuracy, handles missing values, computationally efficient | Can be prone to overfitting |\n",
        "| CatBoost | Gradient boosting library that provides a more efficient and scalable way to train gradient boosting models | Improves accuracy, handles missing values, computationally efficient | Can be prone to overfitting |\n",
        "| Ensemble Selection | Select a subset of models from a larger ensemble to improve the overall performance | Improves accuracy, reduces overfitting | Can be computationally expensive, requires careful selection of models |"
      ],
      "metadata": {
        "id": "XwebtNo-_6wB"
      }
    },
    {
      "cell_type": "markdown",
      "source": [
        "###**Q14. What is ensemble learning in machine learning?**\n",
        "\n",
        "Answer:\n",
        "\n",
        "Ensemble learning is a machine learning technique that combines the predictions of multiple models to improve the accuracy, robustness, and generalizability of the predictions.\n",
        "\n",
        "**Key Concepts of Ensemble Learning**\n",
        "1. **Base Models:**\n",
        "\n",
        " The individual models that are combined to form the ensemble.\n",
        "2. **Ensemble Methods:**\n",
        "\n",
        " The techniques used to combine the predictions of the base models.\n",
        "3. **Weighting Schemes:**\n",
        "\n",
        " The methods used to assign weights to the predictions of the base models.\n",
        "\n",
        "**Types of Ensemble Learning**\n",
        "1. **Bagging:** Combining the predictions of multiple models trained on different subsets of the data.\n",
        "2. **Boosting:**\n",
        "\n",
        " Combining the predictions of multiple models trained sequentially, with each model correcting the errors of the previous model.\n",
        "3. **Stacking:**\n",
        "\n",
        " Combining the predictions of multiple models using a meta-model.\n",
        "4. **Random Forest:**\n",
        "\n",
        " Combining the predictions of multiple decision trees trained on different subsets of the data.\n",
        "\n",
        "**Benefits of Ensemble Learning**\n",
        "1. **Improved Accuracy:**\n",
        "\n",
        " Ensemble learning can improve the accuracy of predictions by combining the strengths of multiple models.\n",
        "2. **Increased Robustness:**\n",
        "\n",
        " Ensemble learning can increase the robustness of predictions by reducing the impact of outliers and noisy data.\n",
        "3. **Better Handling of Complex Data:**\n",
        "\n",
        " Ensemble learning can handle complex data with multiple features and interactions by combining the strengths of multiple models.\n",
        "\n",
        "**Applications of Ensemble Learning**\n",
        "1. **Image Classification:**\n",
        "\n",
        " Ensemble learning is widely used in image classification tasks, such as object detection and facial recognition.\n",
        "2. **Natural Language Processing:**\n",
        "\n",
        " Ensemble learning is used in natural language processing tasks, such as text classification and sentiment analysis.\n",
        "3. **Recommendation Systems:**\n",
        "\n",
        " Ensemble learning is used in recommendation systems to combine the predictions of multiple models and provide personalized recommendations.\n",
        "4. **Financial Forecasting:**\n",
        "\n",
        " Ensemble learning is used in financial forecasting to combine the predictions of multiple models and provide accurate predictions of stock prices and market trends.\n",
        "\n",
        "**Popular Ensemble Learning Algorithms**\n",
        "1. **Random Forest:**\n",
        "\n",
        " A popular ensemble learning algorithm that combines the predictions of multiple decision trees.\n",
        "2. **Gradient Boosting:**\n",
        "\n",
        " A popular ensemble learning algorithm that combines the predictions of multiple models trained sequentially.\n",
        "3. **XGBoost:**\n",
        "\n",
        " An optimized version of Gradient Boosting that provides a more efficient and scalable way to train gradient boosting models.\n",
        "4. **LightGBM:**\n",
        "\n",
        " A fast and efficient implementation of Gradient Boosting that provides a more efficient and scalable way to train gradient boosting models."
      ],
      "metadata": {
        "id": "s8EmsGwkA8-E"
      }
    },
    {
      "cell_type": "markdown",
      "source": [
        "###**Q15. When should we avoid using ensemble methods?**\n",
        "\n",
        "Answer:\n",
        "\n",
        "While ensemble methods can be powerful tools for improving model performance, there are certain situations where they may not be the best choice or may even be counterproductive. Here are some scenarios where you might want to avoid using ensemble methods:\n",
        "\n",
        "1. Small Datasets\n",
        "Ensemble methods can be computationally expensive and require large amounts of data to train effectively. If you're working with a small dataset, you may not have enough data to train multiple models, and ensemble methods may not provide any benefits.\n",
        "\n",
        "2. Simple Problems\n",
        "If you're working on a simple problem that can be easily solved with a single model, ensemble methods may be overkill. In such cases, using a single model may be more efficient and easier to interpret.\n",
        "\n",
        "3. Interpretability is Crucial\n",
        "Ensemble methods can be difficult to interpret, especially when compared to single models. If interpretability is crucial for your problem, you may want to avoid ensemble methods or use techniques that provide more insight into the decision-making process.\n",
        "\n",
        "4. Computational Resources are Limited\n",
        "Ensemble methods can be computationally expensive, especially when training multiple models. If you're working with limited computational resources, you may want to avoid ensemble methods or use more efficient algorithms.\n",
        "\n",
        "5. Model Complexity is Already High\n",
        "If you're already using a complex model, adding ensemble methods may not provide any significant benefits. In such cases, you may want to focus on simplifying the model or using other techniques to improve performance.\n",
        "\n",
        "6. Class Imbalance Problems\n",
        "Ensemble methods can sometimes exacerbate class imbalance problems, where one class has a significantly larger number of instances than the others. In such cases, you may want to use techniques specifically designed to handle class imbalance problems.\n",
        "\n",
        "7. Non-Stationary Data\n",
        "Ensemble methods can struggle with non-stationary data, where the underlying distribution changes over time. In such cases, you may want to use techniques that can adapt to changing data distributions.\n",
        "\n",
        "8. Model Selection is Difficult\n",
        "Ensemble methods require selecting multiple models to combine. If model selection is difficult or time-consuming, you may want to avoid ensemble methods or use automated model selection techniques.\n",
        "\n",
        "9. Hyperparameter Tuning is Challenging\n",
        "Ensemble methods often require tuning multiple hyperparameters, which can be challenging and time-consuming. If hyperparameter tuning is difficult, you may want to avoid ensemble methods or use automated hyperparameter tuning techniques.\n",
        "\n",
        "10. Overfitting is a Concern\n",
        "Ensemble methods can sometimes lead to overfitting, especially when combining multiple complex models. If overfitting is a concern, you may want to use techniques that provide more regularization or use ensemble methods with built-in regularization mechanisms."
      ],
      "metadata": {
        "id": "k433NRqgCeMt"
      }
    },
    {
      "cell_type": "markdown",
      "source": [
        "###**Q16. How does Bagging help in reducing overfitting?**\n",
        "\n",
        "Answer:\n",
        "\n",
        "Bagging (Bootstrap Aggregating) is an ensemble learning technique that helps reduce overfitting by:\n",
        "\n",
        "1. Reducing Variance\n",
        "Bagging reduces the variance of the model by averaging the predictions of multiple models trained on different subsets of the data. This helps to reduce the impact of noisy data and outliers.\n",
        "\n",
        "2. Increasing Robustness\n",
        "Bagging increases the robustness of the model by training multiple models on different subsets of the data. This helps to reduce the impact of overfitting to a specific subset of the data.\n",
        "\n",
        "3. Averaging Out Errors\n",
        "Bagging averages out the errors of individual models, which helps to reduce the overall error of the ensemble. This is because the errors of individual models are likely to be uncorrelated, so averaging them out helps to reduce the overall error.\n",
        "\n",
        "4. Reducing Model Complexity\n",
        "Bagging can also reduce model complexity by using simpler models and combining their predictions. This helps to reduce the risk of overfitting, as simpler models are less likely to overfit the data.\n",
        "\n",
        "How Bagging Works\n",
        "1. Bootstrap Sampling: Create multiple bootstrap samples from the training data by sampling with replacement.\n",
        "2. Model Training: Train a model on each bootstrap sample.\n",
        "3. Prediction: Make predictions on the test data using each model.\n",
        "4. Averaging: Average the predictions of all models to produce the final prediction.\n"
      ],
      "metadata": {
        "id": "swNH1busCm3I"
      }
    },
    {
      "source": [
        "from sklearn.ensemble import BaggingClassifier\n",
        "from sklearn.tree import DecisionTreeClassifier\n",
        "from sklearn.datasets import load_iris\n",
        "from sklearn.model_selection import train_test_split\n",
        "\n",
        "# Load the iris dataset\n",
        "iris = load_iris()\n",
        "X = iris.data\n",
        "y = iris.target\n",
        "\n",
        "# Split the data into training and testing sets\n",
        "X_train, X_test, y_train, y_test = train_test_split(X, y, test_size=0.2, random_state=42)\n",
        "\n",
        "# Create a bagging classifier\n",
        "# Changed 'base_estimator' to 'estimator'\n",
        "bagging = BaggingClassifier(estimator=DecisionTreeClassifier(), n_estimators=10, random_state=42)\n",
        "\n",
        "# Train the bagging classifier\n",
        "bagging.fit(X_train, y_train)\n",
        "\n",
        "# Make predictions on the test data\n",
        "y_pred = bagging.predict(X_test)\n",
        "\n",
        "# Evaluate the accuracy of the bagging classifier\n",
        "accuracy = bagging.score(X_test, y_test)\n",
        "print(\"Accuracy:\", accuracy)"
      ],
      "cell_type": "code",
      "metadata": {
        "colab": {
          "base_uri": "https://localhost:8080/"
        },
        "id": "v1_fDV2qDR-B",
        "outputId": "012e0a2c-dafd-4481-d53b-c87e7cca8a8a"
      },
      "execution_count": null,
      "outputs": [
        {
          "output_type": "stream",
          "name": "stdout",
          "text": [
            "Accuracy: 1.0\n"
          ]
        }
      ]
    },
    {
      "cell_type": "markdown",
      "source": [
        "###**Q17. Why is Random Forest better than a single Decision Tree?**\n",
        "\n",
        "Answer:\n",
        "\n",
        "Random Forest is generally better than a single Decision Tree for several reasons:\n",
        "\n",
        "1. Reduced Overfitting\n",
        "Random Forest reduces overfitting by averaging the predictions of multiple decision trees. Each tree is trained on a random subset of the data, which helps to reduce the impact of noisy data and outliers.\n",
        "\n",
        "2. Improved Accuracy\n",
        "Random Forest improves accuracy by combining the predictions of multiple decision trees. Each tree may have different strengths and weaknesses, and combining their predictions helps to produce a more accurate result.\n",
        "\n",
        "3. Increased Robustness\n",
        "Random Forest increases robustness by training multiple decision trees on different subsets of the data. This helps to reduce the impact of missing values, outliers, and noisy data.\n",
        "\n",
        "4. Handling High-Dimensional Data\n",
        "Random Forest can handle high-dimensional data by selecting a random subset of features at each node. This helps to reduce the impact of irrelevant features and improve the accuracy of the model.\n",
        "\n",
        "5. Interpretable Results\n",
        "Random Forest provides interpretable results by providing feature importance scores. These scores indicate the importance of each feature in the model, which can be useful for understanding the relationships between the features and the target variable.\n",
        "\n",
        "6. Handling Missing Values\n",
        "Random Forest can handle missing values by using surrogate splits. Surrogate splits are backup splits that are used when the primary split is missing.\n",
        "\n",
        "7. Parallelizable\n",
        "Random Forest is parallelizable, which means that it can be trained on multiple cores or machines. This makes it possible to train large Random Forest models quickly.\n",
        "\n",
        "8. Handling Class Imbalance\n",
        "Random Forest can handle class imbalance by using techniques such as oversampling the minority class or undersampling the majority class.\n",
        "\n",
        "Comparison of Random Forest and Decision Tree\n",
        "\n",
        "\n",
        "| Characteristics | Decision Tree | Random Forest |\n",
        "| --- | --- | --- |\n",
        "| Overfitting | Prone to overfitting | Reduces overfitting |\n",
        "| Accuracy | May not be accurate | Improves accuracy |\n",
        "| Robustness | May not be robust | Increases robustness |\n",
        "| Handling High-Dimensional Data | May not handle high-dimensional data well | Handles high-dimensional data well |\n",
        "| Interpretable Results | Provides interpretable results | Provides interpretable results |\n",
        "| Handling Missing Values | May not handle missing values well | Handles missing values well |\n",
        "| Parallelizable | Not parallelizable | Parallelizable |\n",
        "| Handling Class Imbalance | May not handle class imbalance well | Handles class imbalance well |"
      ],
      "metadata": {
        "id": "QRVLv0gNDVLu"
      }
    },
    {
      "cell_type": "markdown",
      "source": [
        "###**Q18.  What is the role of bootstrap sampling in Bagging?**\n",
        "\n",
        "Answer:\n",
        "\n",
        "Bootstrap sampling plays a crucial role in Bagging (Bootstrap Aggregating) by:\n",
        "\n",
        "1. Creating Multiple Training Sets\n",
        "Bootstrap sampling creates multiple training sets by randomly sampling with replacement from the original training data. This helps to reduce overfitting by providing each model with a slightly different view of the data.\n",
        "\n",
        "2. Reducing Variance\n",
        "Bootstrap sampling reduces the variance of the model by averaging the predictions of multiple models trained on different bootstrap samples. This helps to reduce the impact of noisy data and outliers.\n",
        "\n",
        "3. Improving Robustness\n",
        "Bootstrap sampling improves the robustness of the model by training multiple models on different subsets of the data. This helps to reduce the impact of missing values, outliers, and noisy data.\n",
        "\n",
        "4. Increasing Diversity\n",
        "Bootstrap sampling increases the diversity of the models by training each model on a different subset of the data. This helps to reduce the correlation between the models and improve the overall performance of the ensemble.\n",
        "\n",
        "How Bootstrap Sampling Works in Bagging\n",
        "1. Create a bootstrap sample: Randomly sample with replacement from the original training data to create a bootstrap sample.\n",
        "2. Train a model: Train a model on the bootstrap sample.\n",
        "3. Repeat steps 1-2: Repeat steps 1-2 multiple times to create multiple models.\n",
        "4. Combine the models: Combine the predictions of the multiple models to produce the final prediction.\n"
      ],
      "metadata": {
        "id": "VmSQNS9v6SAg"
      }
    },
    {
      "source": [
        "from sklearn.ensemble import BaggingClassifier\n",
        "from sklearn.tree import DecisionTreeClassifier\n",
        "from sklearn.datasets import load_iris\n",
        "from sklearn.model_selection import train_test_split\n",
        "\n",
        "# Load the iris dataset\n",
        "iris = load_iris()\n",
        "X = iris.data\n",
        "y = iris.target\n",
        "\n",
        "# Split the data into training and testing sets\n",
        "X_train, X_test, y_train, y_test = train_test_split(X, y, test_size=0.2, random_state=42)\n",
        "\n",
        "# Create a bagging classifier with bootstrap sampling\n",
        "# Changed 'base_estimator' to 'estimator'\n",
        "bagging = BaggingClassifier(estimator=DecisionTreeClassifier(), n_estimators=10, bootstrap=True, random_state=42)\n",
        "\n",
        "# Train the bagging classifier\n",
        "bagging.fit(X_train, y_train)\n",
        "\n",
        "# Make predictions on the test data\n",
        "y_pred = bagging.predict(X_test)\n",
        "\n",
        "# Evaluate the accuracy of the bagging classifier\n",
        "accuracy = bagging.score(X_test, y_test)\n",
        "print(\"Accuracy:\", accuracy)"
      ],
      "cell_type": "code",
      "metadata": {
        "colab": {
          "base_uri": "https://localhost:8080/"
        },
        "id": "sH-eOsEt7TO2",
        "outputId": "e3e7b6da-4203-49fe-d6ae-45e340471459"
      },
      "execution_count": null,
      "outputs": [
        {
          "output_type": "stream",
          "name": "stdout",
          "text": [
            "Accuracy: 1.0\n"
          ]
        }
      ]
    },
    {
      "cell_type": "markdown",
      "source": [
        "###**Q19. What are some real-world applications of ensemble techniques?**\n",
        "\n",
        "Answer:\n",
        "\n",
        "Ensemble techniques have numerous real-world applications across various industries, including:\n",
        "\n",
        "1. Image Classification\n",
        "- Self-driving cars: Ensemble methods are used to classify images from cameras and sensors to detect objects, pedestrians, and lanes.\n",
        "- Medical diagnosis: Ensemble methods are used to classify medical images, such as X-rays and MRIs, to diagnose diseases.\n",
        "\n",
        "2. Natural Language Processing\n",
        "- Sentiment analysis: Ensemble methods are used to classify text as positive, negative, or neutral to analyze customer sentiment.\n",
        "- Language translation: Ensemble methods are used to improve machine translation by combining the predictions of multiple models.\n",
        "\n",
        "3. Recommendation Systems\n",
        "- Product recommendations: Ensemble methods are used to recommend products to customers based on their past purchases and preferences.\n",
        "- Movie recommendations: Ensemble methods are used to recommend movies to users based on their past ratings and preferences.\n",
        "\n",
        "4. Financial Forecasting\n",
        "- Stock price prediction: Ensemble methods are used to predict stock prices based on historical data and market trends.\n",
        "- Credit risk assessment: Ensemble methods are used to assess the creditworthiness of customers based on their financial history and credit scores.\n",
        "\n",
        "5. Healthcare\n",
        "- Disease diagnosis: Ensemble methods are used to diagnose diseases, such as cancer, based on medical images and patient data.\n",
        "- Patient outcome prediction: Ensemble methods are used to predict patient outcomes, such as mortality rates, based on medical data and treatment options.\n",
        "\n",
        "6. Customer Churn Prediction\n",
        "- Telecom industry: Ensemble methods are used to predict customer churn based on usage patterns, billing data, and customer complaints.\n",
        "- Banking industry: Ensemble methods are used to predict customer churn based on transaction data, credit scores, and customer interactions.\n",
        "\n",
        "7. Speech Recognition\n",
        "- Virtual assistants: Ensemble methods are used to improve speech recognition in virtual assistants, such as Siri, Alexa, and Google Assistant.\n",
        "- Speech-to-text systems: Ensemble methods are used to improve speech-to-text systems, such as those used in transcription services.\n",
        "\n",
        "8. Time Series Forecasting\n",
        "- Weather forecasting: Ensemble methods are used to predict weather patterns based on historical data and atmospheric conditions.\n",
        "- Energy demand forecasting: Ensemble methods are used to predict energy demand based on historical data and weather patterns.\n",
        "\n",
        "9. Anomaly Detection\n",
        "- Cybersecurity: Ensemble methods are used to detect anomalies in network traffic to identify potential security threats.\n",
        "- Quality control: Ensemble methods are used to detect anomalies in manufacturing processes to identify potential quality control issues.\n",
        "\n",
        "10. Genomics\n",
        "- Gene expression analysis: Ensemble methods are used to analyze gene expression data to identify potential biomarkers for diseases.\n",
        "- Genetic variant prediction: Ensemble methods are used to predict the impact of genetic variants on disease susceptibility and treatment outcomes."
      ],
      "metadata": {
        "id": "EXLNYaC86-iT"
      }
    },
    {
      "cell_type": "markdown",
      "source": [
        "###**Q20.  What is the difference between Bagging and Boosting?**\n",
        "\n",
        "Answer:\n",
        "\n",
        "Bagging and Boosting are two popular ensemble learning techniques used to improve the performance of machine learning models. Here's a summary of the main differences:\n",
        "\n",
        "Bagging (Bootstrap Aggregating)\n",
        "1. Parallel training: Each model is trained independently and in parallel.\n",
        "2. Random sampling: Each model is trained on a random subset of the data (with replacement).\n",
        "3. Equal weighting: Each model's predictions are weighted equally.\n",
        "4. Reduces variance: Bagging reduces the variance of the model by averaging the predictions.\n",
        "5. Example: Random Forest.\n",
        "\n",
        "Boosting\n",
        "1. Sequential training: Each model is trained sequentially, with each subsequent model trying to correct the errors of the previous model.\n",
        "2. Weighted sampling: Each model is trained on a weighted sample of the data, where the weights are adjusted based on the previous model's errors.\n",
        "3. Weighted predictions: Each model's predictions are weighted based on their performance.\n",
        "4. Reduces bias: Boosting reduces the bias of the model by focusing on the most difficult cases.\n",
        "5. Example: AdaBoost, Gradient Boosting.\n",
        "\n",
        "Key differences\n",
        "1. Training style: Bagging trains models in parallel, while Boosting trains models sequentially.\n",
        "2. Sampling method: Bagging uses random sampling with replacement, while Boosting uses weighted sampling.\n",
        "3. Weighting scheme: Bagging uses equal weighting, while Boosting uses weighted predictions.\n",
        "4. Error reduction: Bagging reduces variance, while Boosting reduces bias.\n",
        "\n",
        "Choosing between Bagging and Boosting\n",
        "1. Use Bagging when:\n",
        "    - You have a large dataset and want to reduce variance.\n",
        "    - You want to improve the performance of a model that is prone to overfitting.\n",
        "2. Use Boosting when:\n",
        "    - You have a complex dataset with many interactions between features.\n",
        "    - You want to improve the performance of a model that is biased towards certain classes or outcomes."
      ],
      "metadata": {
        "id": "6k6FAq_38DNb"
      }
    },
    {
      "cell_type": "markdown",
      "source": [
        "#**Practical**"
      ],
      "metadata": {
        "id": "A_uLSXk88MuI"
      }
    },
    {
      "cell_type": "markdown",
      "source": [
        "###**Q21. Train a Bagging Classifier using Decision Trees on a sample dataset and print model accuracy.**\n",
        "\n",
        "Answer:"
      ],
      "metadata": {
        "id": "J0Pi_TIe8Q7v"
      }
    },
    {
      "cell_type": "code",
      "source": [
        "from sklearn.datasets import load_iris\n",
        "from sklearn.model_selection import train_test_split\n",
        "from sklearn.ensemble import BaggingClassifier\n",
        "from sklearn.tree import DecisionTreeClassifier\n",
        "from sklearn.metrics import accuracy_score\n",
        "\n",
        "# Load the Iris dataset\n",
        "iris = load_iris()\n",
        "X = iris.data\n",
        "y = iris.target\n",
        "\n",
        "# Split the data into training and testing sets\n",
        "X_train, X_test, y_train, y_test = train_test_split(X, y, test_size=0.2, random_state=42)\n",
        "\n",
        "# Create a Decision Tree classifier\n",
        "dt = DecisionTreeClassifier(random_state=42)\n",
        "\n",
        "# Create a Bagging Classifier using the Decision Tree classifier\n",
        "bagging = BaggingClassifier(estimator=dt, n_estimators=10, random_state=42)\n",
        "\n",
        "# Train the Bagging Classifier\n",
        "bagging.fit(X_train, y_train)\n",
        "\n",
        "# Make predictions on the test data\n",
        "y_pred = bagging.predict(X_test)\n",
        "\n",
        "# Print the model accuracy\n",
        "accuracy = accuracy_score(y_test, y_pred)\n",
        "print(\"Model Accuracy:\", accuracy)\n"
      ],
      "metadata": {
        "colab": {
          "base_uri": "https://localhost:8080/"
        },
        "id": "e1gSUIjd8eZw",
        "outputId": "d59d3466-6985-42d8-b632-57ec3c636c07"
      },
      "execution_count": null,
      "outputs": [
        {
          "output_type": "stream",
          "name": "stdout",
          "text": [
            "Model Accuracy: 1.0\n"
          ]
        }
      ]
    },
    {
      "cell_type": "markdown",
      "source": [
        "###**Q22. Train a Bagging Regressor using Decision Trees and evaluate using Mean Squared Error (MSE).**\n",
        "\n",
        "Answer:"
      ],
      "metadata": {
        "id": "Ub2ZA6hW8ufb"
      }
    },
    {
      "cell_type": "code",
      "source": [
        "from sklearn.datasets import make_regression\n",
        "from sklearn.model_selection import train_test_split\n",
        "from sklearn.ensemble import BaggingRegressor\n",
        "from sklearn.tree import DecisionTreeRegressor\n",
        "from sklearn.metrics import mean_squared_error\n",
        "\n",
        "# Generate a sample regression dataset\n",
        "X, y = make_regression(n_samples=1000, n_features=10, n_informative=5, random_state=42)\n",
        "\n",
        "# Split the data into training and testing sets\n",
        "X_train, X_test, y_train, y_test = train_test_split(X, y, test_size=0.2, random_state=42)\n",
        "\n",
        "# Create a Decision Tree regressor\n",
        "dt = DecisionTreeRegressor(random_state=42)\n",
        "\n",
        "# Create a Bagging Regressor using the Decision Tree regressor\n",
        "bagging = BaggingRegressor(estimator=dt, n_estimators=10, random_state=42)\n",
        "\n",
        "# Train the Bagging Regressor\n",
        "bagging.fit(X_train, y_train)\n",
        "\n",
        "# Make predictions on the test data\n",
        "y_pred = bagging.predict(X_test)\n",
        "\n",
        "# Evaluate the model using Mean Squared Error (MSE)\n",
        "mse = mean_squared_error(y_test, y_pred)\n",
        "print(\"Mean Squared Error (MSE):\", mse)"
      ],
      "metadata": {
        "colab": {
          "base_uri": "https://localhost:8080/"
        },
        "id": "3YkhvRaf9Ayg",
        "outputId": "63b35864-cd29-47e1-9e49-7382085be6b8"
      },
      "execution_count": null,
      "outputs": [
        {
          "output_type": "stream",
          "name": "stdout",
          "text": [
            "Mean Squared Error (MSE): 231.91191452889194\n"
          ]
        }
      ]
    },
    {
      "cell_type": "markdown",
      "source": [
        "###**Q23. 2 Train a Random Forest Classifier on the Breast Cancer dataset and print feature importance scores.**\n",
        "\n",
        "Answer:"
      ],
      "metadata": {
        "id": "fn35xsIj9L8F"
      }
    },
    {
      "cell_type": "code",
      "source": [
        "from sklearn.datasets import load_breast_cancer\n",
        "from sklearn.model_selection import train_test_split\n",
        "from sklearn.ensemble import RandomForestClassifier\n",
        "from sklearn.metrics import accuracy_score, classification_report\n",
        "\n",
        "# Load the Breast Cancer dataset\n",
        "cancer = load_breast_cancer()\n",
        "X = cancer.data\n",
        "y = cancer.target\n",
        "\n",
        "# Split the data into training and testing sets\n",
        "X_train, X_test, y_train, y_test = train_test_split(X, y, test_size=0.2, random_state=42)\n",
        "\n",
        "# Create a Random Forest Classifier\n",
        "rf = RandomForestClassifier(n_estimators=100, random_state=42)\n",
        "\n",
        "# Train the Random Forest Classifier\n",
        "rf.fit(X_train, y_train)\n",
        "\n",
        "# Make predictions on the test data\n",
        "y_pred = rf.predict(X_test)\n",
        "\n",
        "# Print the accuracy of the model\n",
        "accuracy = accuracy_score(y_test, y_pred)\n",
        "print(\"Accuracy:\", accuracy)\n",
        "\n",
        "# Print the classification report\n",
        "print(\"Classification Report:\")\n",
        "print(classification_report(y_test, y_pred))\n",
        "\n",
        "# Print the feature importance scores\n",
        "feature_importances = rf.feature_importances_\n",
        "print(\"Feature Importance Scores:\")\n",
        "for feature, importance in zip(cancer.feature_names, feature_importances):\n",
        "    print(f\"{feature}: {importance:.3f}\")"
      ],
      "metadata": {
        "colab": {
          "base_uri": "https://localhost:8080/"
        },
        "id": "mye57kaT9b5d",
        "outputId": "39b4c0ef-f681-4f9e-fb08-55b6aeba3a24"
      },
      "execution_count": null,
      "outputs": [
        {
          "output_type": "stream",
          "name": "stdout",
          "text": [
            "Accuracy: 0.9649122807017544\n",
            "Classification Report:\n",
            "              precision    recall  f1-score   support\n",
            "\n",
            "           0       0.98      0.93      0.95        43\n",
            "           1       0.96      0.99      0.97        71\n",
            "\n",
            "    accuracy                           0.96       114\n",
            "   macro avg       0.97      0.96      0.96       114\n",
            "weighted avg       0.97      0.96      0.96       114\n",
            "\n",
            "Feature Importance Scores:\n",
            "mean radius: 0.049\n",
            "mean texture: 0.014\n",
            "mean perimeter: 0.053\n",
            "mean area: 0.048\n",
            "mean smoothness: 0.007\n",
            "mean compactness: 0.014\n",
            "mean concavity: 0.068\n",
            "mean concave points: 0.106\n",
            "mean symmetry: 0.004\n",
            "mean fractal dimension: 0.004\n",
            "radius error: 0.020\n",
            "texture error: 0.005\n",
            "perimeter error: 0.011\n",
            "area error: 0.022\n",
            "smoothness error: 0.004\n",
            "compactness error: 0.005\n",
            "concavity error: 0.009\n",
            "concave points error: 0.004\n",
            "symmetry error: 0.004\n",
            "fractal dimension error: 0.005\n",
            "worst radius: 0.078\n",
            "worst texture: 0.022\n",
            "worst perimeter: 0.067\n",
            "worst area: 0.154\n",
            "worst smoothness: 0.011\n",
            "worst compactness: 0.020\n",
            "worst concavity: 0.032\n",
            "worst concave points: 0.145\n",
            "worst symmetry: 0.010\n",
            "worst fractal dimension: 0.005\n"
          ]
        }
      ]
    },
    {
      "cell_type": "markdown",
      "source": [
        "###**Q24.  Train a Random Forest Regressor and compare its performance with a single Decision Tree.**\n",
        "\n",
        "Answer:"
      ],
      "metadata": {
        "id": "skOWWh0k9lvX"
      }
    },
    {
      "cell_type": "code",
      "source": [
        "from sklearn.datasets import make_regression\n",
        "from sklearn.model_selection import train_test_split\n",
        "from sklearn.ensemble import RandomForestRegressor\n",
        "from sklearn.tree import DecisionTreeRegressor\n",
        "from sklearn.metrics import mean_squared_error, r2_score\n",
        "\n",
        "# Generate a sample regression dataset\n",
        "X, y = make_regression(n_samples=1000, n_features=10, n_informative=5, random_state=42)\n",
        "\n",
        "# Split the data into training and testing sets\n",
        "X_train, X_test, y_train, y_test = train_test_split(X, y, test_size=0.2, random_state=42)\n",
        "\n",
        "# Create a Decision Tree Regressor\n",
        "dt = DecisionTreeRegressor(random_state=42)\n",
        "\n",
        "# Create a Random Forest Regressor\n",
        "rf = RandomForestRegressor(n_estimators=100, random_state=42)\n",
        "\n",
        "# Train the models\n",
        "dt.fit(X_train, y_train)\n",
        "rf.fit(X_train, y_train)\n",
        "\n",
        "# Make predictions on the test data\n",
        "y_pred_dt = dt.predict(X_test)\n",
        "y_pred_rf = rf.predict(X_test)\n",
        "\n",
        "# Evaluate the models using Mean Squared Error (MSE)\n",
        "mse_dt = mean_squared_error(y_test, y_pred_dt)\n",
        "mse_rf = mean_squared_error(y_test, y_pred_rf)\n",
        "\n",
        "# Evaluate the models using R-Squared (R2)\n",
        "r2_dt = r2_score(y_test, y_pred_dt)\n",
        "r2_rf = r2_score(y_test, y_pred_rf)\n",
        "\n",
        "# Print the results\n",
        "print(\"Decision Tree Regressor:\")\n",
        "print(f\"MSE: {mse_dt:.3f}\")\n",
        "print(f\"R2: {r2_dt:.3f}\")\n",
        "\n",
        "print(\"\\nRandom Forest Regressor:\")\n",
        "print(f\"MSE: {mse_rf:.3f}\")\n",
        "print(f\"R2: {r2_rf:.3f}\")"
      ],
      "metadata": {
        "colab": {
          "base_uri": "https://localhost:8080/"
        },
        "id": "_PzDVHlI9r18",
        "outputId": "4f0162d8-000f-4033-e137-656e2a8e77ac"
      },
      "execution_count": null,
      "outputs": [
        {
          "output_type": "stream",
          "name": "stdout",
          "text": [
            "Decision Tree Regressor:\n",
            "MSE: 404.596\n",
            "R2: 0.912\n",
            "\n",
            "Random Forest Regressor:\n",
            "MSE: 176.685\n",
            "R2: 0.962\n"
          ]
        }
      ]
    },
    {
      "cell_type": "markdown",
      "source": [
        "###**Q25. Compute the Out-of-Bag (OOB) Score for a Random Forest Classifier.**\n",
        "\n",
        "Answer:\n"
      ],
      "metadata": {
        "id": "R-OD-s4x96qM"
      }
    },
    {
      "cell_type": "code",
      "source": [
        "from sklearn.datasets import load_iris\n",
        "from sklearn.ensemble import RandomForestClassifier\n",
        "from sklearn.model_selection import train_test_split\n",
        "\n",
        "# Load the Iris dataset\n",
        "iris = load_iris()\n",
        "X = iris.data\n",
        "y = iris.target\n",
        "\n",
        "# Split the data into training and testing sets\n",
        "X_train, X_test, y_train, y_test = train_test_split(X, y, test_size=0.2, random_state=42)\n",
        "\n",
        "# Create a Random Forest Classifier\n",
        "rf = RandomForestClassifier(n_estimators=100, oob_score=True, random_state=42)\n",
        "\n",
        "# Train the Random Forest Classifier\n",
        "rf.fit(X_train, y_train)\n",
        "\n",
        "# Print the OOB score\n",
        "print(\"OOB Score:\", rf.oob_score_)"
      ],
      "metadata": {
        "colab": {
          "base_uri": "https://localhost:8080/"
        },
        "id": "QT5RJ6io-D3B",
        "outputId": "816bf248-2f4a-4e45-82ce-e3635e408d19"
      },
      "execution_count": null,
      "outputs": [
        {
          "output_type": "stream",
          "name": "stdout",
          "text": [
            "OOB Score: 0.9166666666666666\n"
          ]
        }
      ]
    },
    {
      "cell_type": "markdown",
      "source": [
        "###**Q26. Train a Bagging Classifier using SVM as a base estimator and print accuracy.**\n",
        "\n",
        "Answer:"
      ],
      "metadata": {
        "id": "avos0cvA-TUP"
      }
    },
    {
      "cell_type": "code",
      "source": [
        "from sklearn.datasets import load_iris\n",
        "from sklearn.model_selection import train_test_split\n",
        "from sklearn.ensemble import BaggingClassifier\n",
        "from sklearn.svm import SVC\n",
        "from sklearn.metrics import accuracy_score\n",
        "\n",
        "# Load the Iris dataset\n",
        "iris = load_iris()\n",
        "X = iris.data\n",
        "y = iris.target\n",
        "\n",
        "# Split the data into training and testing sets\n",
        "X_train, X_test, y_train, y_test = train_test_split(X, y, test_size=0.2, random_state=42)\n",
        "\n",
        "# Create an SVM classifier as the base estimator\n",
        "svm = SVC(probability=True, random_state=42)\n",
        "\n",
        "# Create a Bagging Classifier using the SVM classifier as the base estimator\n",
        "bagging = BaggingClassifier(estimator=svm, n_estimators=10, random_state=42)\n",
        "\n",
        "# Train the Bagging Classifier\n",
        "bagging.fit(X_train, y_train)\n",
        "\n",
        "# Make predictions on the test data\n",
        "y_pred = bagging.predict(X_test)\n",
        "\n",
        "# Print the accuracy of the Bagging Classifier\n",
        "accuracy = accuracy_score(y_test, y_pred)\n",
        "print(\"Accuracy:\", accuracy)"
      ],
      "metadata": {
        "colab": {
          "base_uri": "https://localhost:8080/"
        },
        "id": "kRoVKlrP-ZVM",
        "outputId": "b69866fd-f12e-4f80-cee9-ab9feaff08bc"
      },
      "execution_count": null,
      "outputs": [
        {
          "output_type": "stream",
          "name": "stdout",
          "text": [
            "Accuracy: 1.0\n"
          ]
        }
      ]
    },
    {
      "cell_type": "markdown",
      "source": [
        "###**Q27. Train a Random Forest Classifier with different numbers of trees and compare accuracy.**\n",
        "\n",
        "Answer:\n"
      ],
      "metadata": {
        "id": "S5JWoxD-AS_9"
      }
    },
    {
      "cell_type": "code",
      "source": [
        "from sklearn.datasets import load_iris\n",
        "from sklearn.model_selection import train_test_split\n",
        "from sklearn.ensemble import RandomForestClassifier\n",
        "from sklearn.metrics import accuracy_score\n",
        "\n",
        "# Load the Iris dataset\n",
        "iris = load_iris()\n",
        "X = iris.data\n",
        "y = iris.target\n",
        "\n",
        "# Split the data into training and testing sets\n",
        "X_train, X_test, y_train, y_test = train_test_split(X, y, test_size=0.2, random_state=42)\n",
        "\n",
        "# Define different numbers of trees\n",
        "n_trees = [10, 50, 100, 200, 500]\n",
        "\n",
        "# Train a Random Forest Classifier for each number of trees\n",
        "for n in n_trees:\n",
        "    rf = RandomForestClassifier(n_estimators=n, random_state=42)\n",
        "    rf.fit(X_train, y_train)\n",
        "    y_pred = rf.predict(X_test)\n",
        "    accuracy = accuracy_score(y_test, y_pred)\n",
        "    print(f\"Number of Trees: {n}, Accuracy: {accuracy:.3f}\")"
      ],
      "metadata": {
        "colab": {
          "base_uri": "https://localhost:8080/"
        },
        "id": "WBux79kbAbQW",
        "outputId": "3a8b3425-c66b-496d-96ae-9f5c7e580670"
      },
      "execution_count": null,
      "outputs": [
        {
          "output_type": "stream",
          "name": "stdout",
          "text": [
            "Number of Trees: 10, Accuracy: 1.000\n",
            "Number of Trees: 50, Accuracy: 1.000\n",
            "Number of Trees: 100, Accuracy: 1.000\n",
            "Number of Trees: 200, Accuracy: 1.000\n",
            "Number of Trees: 500, Accuracy: 1.000\n"
          ]
        }
      ]
    },
    {
      "cell_type": "markdown",
      "source": [
        "###**Q28. Train a Bagging Classifier using Logistic Regression as a base estimator and print AUC score.**\n",
        "\n",
        "Answer:"
      ],
      "metadata": {
        "id": "k7xzbEt-Aiar"
      }
    },
    {
      "cell_type": "code",
      "source": [
        "from sklearn.datasets import load_breast_cancer\n",
        "from sklearn.model_selection import train_test_split\n",
        "from sklearn.ensemble import BaggingClassifier\n",
        "from sklearn.linear_model import LogisticRegression\n",
        "from sklearn.metrics import roc_auc_score\n",
        "\n",
        "# Load the Breast Cancer dataset\n",
        "cancer = load_breast_cancer()\n",
        "X = cancer.data\n",
        "y = cancer.target\n",
        "\n",
        "# Split the data into training and testing sets\n",
        "X_train, X_test, y_train, y_test = train_test_split(X, y, test_size=0.2, random_state=42)\n",
        "\n",
        "# Create a Logistic Regression classifier as the base estimator\n",
        "lr = LogisticRegression(max_iter=1000)\n",
        "\n",
        "# Create a Bagging Classifier using the Logistic Regression classifier as the base estimator\n",
        "bagging = BaggingClassifier(estimator=lr, n_estimators=10, random_state=42)\n",
        "\n",
        "# Train the Bagging Classifier\n",
        "bagging.fit(X_train, y_train)\n",
        "\n",
        "# Make predictions on the test data\n",
        "y_pred_proba = bagging.predict_proba(X_test)[:, 1]\n",
        "\n",
        "# Print the AUC score\n",
        "auc = roc_auc_score(y_test, y_pred_proba)\n",
        "print(\"AUC Score:\", auc)"
      ],
      "metadata": {
        "colab": {
          "base_uri": "https://localhost:8080/"
        },
        "id": "4DPOqEu0Aqym",
        "outputId": "9908555e-fe19-4591-d1b5-88632b8974e1"
      },
      "execution_count": null,
      "outputs": [
        {
          "output_type": "stream",
          "name": "stderr",
          "text": [
            "/usr/local/lib/python3.11/dist-packages/sklearn/linear_model/_logistic.py:465: ConvergenceWarning: lbfgs failed to converge (status=1):\n",
            "STOP: TOTAL NO. of ITERATIONS REACHED LIMIT.\n",
            "\n",
            "Increase the number of iterations (max_iter) or scale the data as shown in:\n",
            "    https://scikit-learn.org/stable/modules/preprocessing.html\n",
            "Please also refer to the documentation for alternative solver options:\n",
            "    https://scikit-learn.org/stable/modules/linear_model.html#logistic-regression\n",
            "  n_iter_i = _check_optimize_result(\n",
            "/usr/local/lib/python3.11/dist-packages/sklearn/linear_model/_logistic.py:465: ConvergenceWarning: lbfgs failed to converge (status=1):\n",
            "STOP: TOTAL NO. of ITERATIONS REACHED LIMIT.\n",
            "\n",
            "Increase the number of iterations (max_iter) or scale the data as shown in:\n",
            "    https://scikit-learn.org/stable/modules/preprocessing.html\n",
            "Please also refer to the documentation for alternative solver options:\n",
            "    https://scikit-learn.org/stable/modules/linear_model.html#logistic-regression\n",
            "  n_iter_i = _check_optimize_result(\n",
            "/usr/local/lib/python3.11/dist-packages/sklearn/linear_model/_logistic.py:465: ConvergenceWarning: lbfgs failed to converge (status=1):\n",
            "STOP: TOTAL NO. of ITERATIONS REACHED LIMIT.\n",
            "\n",
            "Increase the number of iterations (max_iter) or scale the data as shown in:\n",
            "    https://scikit-learn.org/stable/modules/preprocessing.html\n",
            "Please also refer to the documentation for alternative solver options:\n",
            "    https://scikit-learn.org/stable/modules/linear_model.html#logistic-regression\n",
            "  n_iter_i = _check_optimize_result(\n",
            "/usr/local/lib/python3.11/dist-packages/sklearn/linear_model/_logistic.py:465: ConvergenceWarning: lbfgs failed to converge (status=1):\n",
            "STOP: TOTAL NO. of ITERATIONS REACHED LIMIT.\n",
            "\n",
            "Increase the number of iterations (max_iter) or scale the data as shown in:\n",
            "    https://scikit-learn.org/stable/modules/preprocessing.html\n",
            "Please also refer to the documentation for alternative solver options:\n",
            "    https://scikit-learn.org/stable/modules/linear_model.html#logistic-regression\n",
            "  n_iter_i = _check_optimize_result(\n",
            "/usr/local/lib/python3.11/dist-packages/sklearn/linear_model/_logistic.py:465: ConvergenceWarning: lbfgs failed to converge (status=1):\n",
            "STOP: TOTAL NO. of ITERATIONS REACHED LIMIT.\n",
            "\n",
            "Increase the number of iterations (max_iter) or scale the data as shown in:\n",
            "    https://scikit-learn.org/stable/modules/preprocessing.html\n",
            "Please also refer to the documentation for alternative solver options:\n",
            "    https://scikit-learn.org/stable/modules/linear_model.html#logistic-regression\n",
            "  n_iter_i = _check_optimize_result(\n",
            "/usr/local/lib/python3.11/dist-packages/sklearn/linear_model/_logistic.py:465: ConvergenceWarning: lbfgs failed to converge (status=1):\n",
            "STOP: TOTAL NO. of ITERATIONS REACHED LIMIT.\n",
            "\n",
            "Increase the number of iterations (max_iter) or scale the data as shown in:\n",
            "    https://scikit-learn.org/stable/modules/preprocessing.html\n",
            "Please also refer to the documentation for alternative solver options:\n",
            "    https://scikit-learn.org/stable/modules/linear_model.html#logistic-regression\n",
            "  n_iter_i = _check_optimize_result(\n",
            "/usr/local/lib/python3.11/dist-packages/sklearn/linear_model/_logistic.py:465: ConvergenceWarning: lbfgs failed to converge (status=1):\n",
            "STOP: TOTAL NO. of ITERATIONS REACHED LIMIT.\n",
            "\n",
            "Increase the number of iterations (max_iter) or scale the data as shown in:\n",
            "    https://scikit-learn.org/stable/modules/preprocessing.html\n",
            "Please also refer to the documentation for alternative solver options:\n",
            "    https://scikit-learn.org/stable/modules/linear_model.html#logistic-regression\n",
            "  n_iter_i = _check_optimize_result(\n",
            "/usr/local/lib/python3.11/dist-packages/sklearn/linear_model/_logistic.py:465: ConvergenceWarning: lbfgs failed to converge (status=1):\n",
            "STOP: TOTAL NO. of ITERATIONS REACHED LIMIT.\n",
            "\n",
            "Increase the number of iterations (max_iter) or scale the data as shown in:\n",
            "    https://scikit-learn.org/stable/modules/preprocessing.html\n",
            "Please also refer to the documentation for alternative solver options:\n",
            "    https://scikit-learn.org/stable/modules/linear_model.html#logistic-regression\n",
            "  n_iter_i = _check_optimize_result(\n",
            "/usr/local/lib/python3.11/dist-packages/sklearn/linear_model/_logistic.py:465: ConvergenceWarning: lbfgs failed to converge (status=1):\n",
            "STOP: TOTAL NO. of ITERATIONS REACHED LIMIT.\n",
            "\n",
            "Increase the number of iterations (max_iter) or scale the data as shown in:\n",
            "    https://scikit-learn.org/stable/modules/preprocessing.html\n",
            "Please also refer to the documentation for alternative solver options:\n",
            "    https://scikit-learn.org/stable/modules/linear_model.html#logistic-regression\n",
            "  n_iter_i = _check_optimize_result(\n"
          ]
        },
        {
          "output_type": "stream",
          "name": "stdout",
          "text": [
            "AUC Score: 0.9980347199475925\n"
          ]
        },
        {
          "output_type": "stream",
          "name": "stderr",
          "text": [
            "/usr/local/lib/python3.11/dist-packages/sklearn/linear_model/_logistic.py:465: ConvergenceWarning: lbfgs failed to converge (status=1):\n",
            "STOP: TOTAL NO. of ITERATIONS REACHED LIMIT.\n",
            "\n",
            "Increase the number of iterations (max_iter) or scale the data as shown in:\n",
            "    https://scikit-learn.org/stable/modules/preprocessing.html\n",
            "Please also refer to the documentation for alternative solver options:\n",
            "    https://scikit-learn.org/stable/modules/linear_model.html#logistic-regression\n",
            "  n_iter_i = _check_optimize_result(\n"
          ]
        }
      ]
    },
    {
      "cell_type": "markdown",
      "source": [
        "###**Q29. Train a Random Forest Regressor and analyze feature importance scores.**\n",
        "\n",
        "Answer:\n"
      ],
      "metadata": {
        "id": "ZYCOgr3cA1SM"
      }
    },
    {
      "cell_type": "code",
      "source": [
        "from sklearn.datasets import make_regression\n",
        "from sklearn.ensemble import RandomForestRegressor\n",
        "from sklearn.model_selection import train_test_split\n",
        "import pandas as pd\n",
        "import numpy as np\n",
        "import matplotlib.pyplot as plt\n",
        "\n",
        "# Generate a sample regression dataset\n",
        "X, y = make_regression(n_samples=1000, n_features=10, n_informative=5, random_state=42)\n",
        "\n",
        "# Split the data into training and testing sets\n",
        "X_train, X_test, y_train, y_test = train_test_split(X, y, test_size=0.2, random_state=42)\n",
        "\n",
        "# Create a Random Forest Regressor\n",
        "rf = RandomForestRegressor(n_estimators=100, random_state=42)\n",
        "\n",
        "# Train the Random Forest Regressor\n",
        "rf.fit(X_train, y_train)\n",
        "\n",
        "# Get the feature importance scores\n",
        "feature_importances = rf.feature_importances_\n",
        "\n",
        "# Create a DataFrame to store the feature importance scores\n",
        "df = pd.DataFrame({'Feature': range(1, 11), 'Importance': feature_importances})\n",
        "\n",
        "# Sort the DataFrame by importance in descending order\n",
        "df = df.sort_values(by='Importance', ascending=False)\n",
        "\n",
        "# Print the top 5 most important features\n",
        "print(df.head(5))\n",
        "\n",
        "# Plot the feature importance scores\n",
        "plt.figure(figsize=(10, 6))\n",
        "plt.bar(df['Feature'], df['Importance'])\n",
        "plt.xlabel('Feature')\n",
        "plt.ylabel('Importance')\n",
        "plt.title('Feature Importance Scores')\n",
        "plt.show()"
      ],
      "metadata": {
        "colab": {
          "base_uri": "https://localhost:8080/",
          "height": 533
        },
        "id": "OlDpSt_qA-o8",
        "outputId": "4d5fb283-2393-40c5-cb2c-48eff08c4cc9"
      },
      "execution_count": null,
      "outputs": [
        {
          "output_type": "stream",
          "name": "stdout",
          "text": [
            "   Feature  Importance\n",
            "9       10    0.733044\n",
            "7        8    0.214771\n",
            "1        2    0.014433\n",
            "8        9    0.011518\n",
            "2        3    0.006767\n"
          ]
        },
        {
          "output_type": "display_data",
          "data": {
            "text/plain": [
              "<Figure size 1000x600 with 1 Axes>"
            ],
            "image/png": "[encoded data removed]"
          },
          "metadata": {}
        }
      ]
    },
    {
      "cell_type": "markdown",
      "source": [
        "###**Q30. Train an ensemble model using both Bagging and Random Forest and compare accuracy.**\n",
        "\n",
        "Answer:"
      ],
      "metadata": {
        "id": "1l1CgJWeHAkt"
      }
    },
    {
      "cell_type": "code",
      "source": [
        "from sklearn.datasets import load_iris\n",
        "from sklearn.model_selection import train_test_split\n",
        "from sklearn.ensemble import BaggingClassifier, RandomForestClassifier\n",
        "from sklearn.tree import DecisionTreeClassifier\n",
        "from sklearn.metrics import accuracy_score\n",
        "\n",
        "# Load the Iris dataset\n",
        "iris = load_iris()\n",
        "X = iris.data\n",
        "y = iris.target\n",
        "\n",
        "# Split the data into training and testing sets\n",
        "X_train, X_test, y_train, y_test = train_test_split(X, y, test_size=0.2, random_state=42)\n",
        "\n",
        "# Create a Decision Tree classifier as the base estimator\n",
        "dt = DecisionTreeClassifier(random_state=42)\n",
        "\n",
        "# Create a Bagging Classifier using the Decision Tree classifier as the base estimator\n",
        "bagging = BaggingClassifier(estimator=dt, n_estimators=10, random_state=42)\n",
        "\n",
        "# Create a Random Forest Classifier\n",
        "rf = RandomForestClassifier(n_estimators=10, random_state=42)\n",
        "\n",
        "# Train the models\n",
        "bagging.fit(X_train, y_train)\n",
        "rf.fit(X_train, y_train)\n",
        "\n",
        "# Make predictions on the test data\n",
        "y_pred_bagging = bagging.predict(X_test)\n",
        "y_pred_rf = rf.predict(X_test)\n",
        "\n",
        "# Calculate the accuracy of each model\n",
        "accuracy_bagging = accuracy_score(y_test, y_pred_bagging)\n",
        "accuracy_rf = accuracy_score(y_test, y_pred_rf)\n",
        "\n",
        "# Print the accuracy of each model\n",
        "print(\"Bagging Accuracy:\", accuracy_bagging)\n",
        "print(\"Random Forest Accuracy:\", accuracy_rf)"
      ],
      "metadata": {
        "colab": {
          "base_uri": "https://localhost:8080/"
        },
        "id": "hKeXNyuwHIbU",
        "outputId": "65032afe-16f4-4a71-c993-c80c674144d3"
      },
      "execution_count": null,
      "outputs": [
        {
          "output_type": "stream",
          "name": "stdout",
          "text": [
            "Bagging Accuracy: 1.0\n",
            "Random Forest Accuracy: 1.0\n"
          ]
        }
      ]
    },
    {
      "cell_type": "markdown",
      "source": [
        "###**Q31. = Train a Random Forest Classifier and tune hyperparameters using GridSearchCV.**\n",
        "\n",
        "Answer:"
      ],
      "metadata": {
        "id": "xlG2x7sIHSAO"
      }
    },
    {
      "cell_type": "code",
      "source": [
        "from sklearn.datasets import load_iris\n",
        "from sklearn.model_selection import train_test_split, GridSearchCV\n",
        "from sklearn.ensemble import RandomForestClassifier\n",
        "from sklearn.metrics import accuracy_score, classification_report\n",
        "\n",
        "# Load the Iris dataset\n",
        "iris = load_iris()\n",
        "X = iris.data\n",
        "y = iris.target\n",
        "\n",
        "# Split the data into training and testing sets\n",
        "X_train, X_test, y_train, y_test = train_test_split(X, y, test_size=0.2, random_state=42)\n",
        "\n",
        "# Define the hyperparameter grid\n",
        "param_grid = {\n",
        "    'n_estimators': [10, 50],\n",
        "    'max_depth': [None, 5]\n",
        "}\n",
        "\n",
        "# Create a Random Forest Classifier\n",
        "rf = RandomForestClassifier(random_state=42)\n",
        "\n",
        "# Create a GridSearchCV object\n",
        "grid_search = GridSearchCV(estimator=rf, param_grid=param_grid, cv=5)\n",
        "\n",
        "# Perform grid search\n",
        "grid_search.fit(X_train, y_train)\n",
        "\n",
        "# Print the best hyperparameters\n",
        "print(\"Best Hyperparameters:\", grid_search.best_params_)\n",
        "\n",
        "# Print the best score\n",
        "print(\"Best Score:\", grid_search.best_score_)\n",
        "\n",
        "# Train a Random Forest Classifier with the best hyperparameters\n",
        "best_rf = grid_search.best_estimator_\n",
        "\n",
        "# Make predictions on the test data\n",
        "y_pred = best_rf.predict(X_test)\n",
        "\n",
        "# Print the accuracy of the best model\n",
        "accuracy = accuracy_score(y_test, y_pred)\n",
        "print(\"Accuracy:\", accuracy)\n",
        "\n",
        "# Print the classification report\n",
        "print(\"Classification Report:\")\n",
        "print(classification_report(y_test, y_pred))"
      ],
      "metadata": {
        "colab": {
          "base_uri": "https://localhost:8080/"
        },
        "id": "E1A-sZoxITWf",
        "outputId": "69c85588-729f-459c-b04e-18e62eeaa367"
      },
      "execution_count": null,
      "outputs": [
        {
          "output_type": "stream",
          "name": "stdout",
          "text": [
            "Best Hyperparameters: {'max_depth': None, 'n_estimators': 10}\n",
            "Best Score: 0.95\n",
            "Accuracy: 1.0\n",
            "Classification Report:\n",
            "              precision    recall  f1-score   support\n",
            "\n",
            "           0       1.00      1.00      1.00        10\n",
            "           1       1.00      1.00      1.00         9\n",
            "           2       1.00      1.00      1.00        11\n",
            "\n",
            "    accuracy                           1.00        30\n",
            "   macro avg       1.00      1.00      1.00        30\n",
            "weighted avg       1.00      1.00      1.00        30\n",
            "\n"
          ]
        }
      ]
    },
    {
      "cell_type": "markdown",
      "source": [
        "###**Q32.  Train a Bagging Regressor with different numbers of base estimators and compare performance.**\n",
        "\n",
        "Answer:"
      ],
      "metadata": {
        "id": "Wah43l5ZIhD8"
      }
    },
    {
      "cell_type": "code",
      "source": [
        "from sklearn.datasets import make_regression\n",
        "from sklearn.model_selection import train_test_split\n",
        "from sklearn.ensemble import BaggingRegressor\n",
        "from sklearn.tree import DecisionTreeRegressor\n",
        "from sklearn.metrics import mean_squared_error\n",
        "import matplotlib.pyplot as plt\n",
        "\n",
        "# Generate a sample regression dataset\n",
        "X, y = make_regression(n_samples=1000, n_features=10, n_informative=5, random_state=42)\n",
        "\n",
        "# Split the data into training and testing sets\n",
        "X_train, X_test, y_train, y_test = train_test_split(X, y, test_size=0.2, random_state=42)\n",
        "\n",
        "# Define different numbers of base estimators\n",
        "n_estimators = [10, 50, 100, 200, 500]\n",
        "\n",
        "# Create lists to store the training and testing MSE\n",
        "train_mse = []\n",
        "test_mse = []\n",
        "\n",
        "# Train a Bagging Regressor for each number of base estimators\n",
        "for n in n_estimators:\n",
        "    br = BaggingRegressor(estimator=DecisionTreeRegressor(), n_estimators=n, random_state=42)\n",
        "    br.fit(X_train, y_train)\n",
        "    y_pred_train = br.predict(X_train)\n",
        "    y_pred_test = br.predict(X_test)\n",
        "    train_mse.append(mean_squared_error(y_train, y_pred_train))\n",
        "    test_mse.append(mean_squared_error(y_test, y_pred_test))\n",
        "\n",
        "# Print the training and testing MSE for each number of base estimators\n",
        "for i, n in enumerate(n_estimators):\n",
        "    print(f\"Number of Estimators: {n}, Training MSE: {train_mse[i]:.3f}, Testing MSE: {test_mse[i]:.3f}\")\n",
        "\n",
        "# Plot the training and testing MSE for each number of base estimators\n",
        "plt.figure(figsize=(10, 6))\n",
        "plt.plot(n_estimators, train_mse, label=\"Training MSE\")\n",
        "plt.plot(n_estimators, test_mse, label=\"Testing MSE\")\n",
        "plt.xlabel(\"Number of Estimators\")\n",
        "plt.ylabel(\"Mean Squared Error\")\n",
        "plt.title(\"Bagging Regressor Performance\")\n",
        "plt.legend()\n",
        "plt.show()"
      ],
      "metadata": {
        "colab": {
          "base_uri": "https://localhost:8080/",
          "height": 513
        },
        "id": "rNoQ5FvwIo0D",
        "outputId": "abff48ef-d623-4a25-be2e-1c1e34fa9506"
      },
      "execution_count": null,
      "outputs": [
        {
          "output_type": "stream",
          "name": "stdout",
          "text": [
            "Number of Estimators: 10, Training MSE: 53.352, Testing MSE: 231.912\n",
            "Number of Estimators: 50, Training MSE: 33.376, Testing MSE: 184.759\n",
            "Number of Estimators: 100, Training MSE: 31.028, Testing MSE: 175.721\n",
            "Number of Estimators: 200, Training MSE: 29.593, Testing MSE: 174.299\n",
            "Number of Estimators: 500, Training MSE: 28.898, Testing MSE: 173.402\n"
          ]
        },
        {
          "output_type": "display_data",
          "data": {
            "text/plain": [
              "<Figure size 1000x600 with 1 Axes>"
            ],
            "image/png": "[encoded data removed]"
          },
          "metadata": {}
        }
      ]
    },
    {
      "cell_type": "markdown",
      "source": [
        "###**Q33. Train a Random Forest Classifier and analyze misclassified samples.**\n",
        "\n",
        "Answer:"
      ],
      "metadata": {
        "id": "PIbrjxTSJAq3"
      }
    },
    {
      "cell_type": "code",
      "source": [
        "from sklearn.datasets import load_iris\n",
        "from sklearn.model_selection import train_test_split\n",
        "from sklearn.ensemble import RandomForestClassifier\n",
        "from sklearn.metrics import accuracy_score, classification_report, confusion_matrix\n",
        "import pandas as pd\n",
        "import numpy as np\n",
        "import matplotlib.pyplot as plt\n",
        "from sklearn.decomposition import PCA\n",
        "\n",
        "# Load the Iris dataset\n",
        "iris = load_iris()\n",
        "X = iris.data\n",
        "y = iris.target\n",
        "\n",
        "# Split the data into training and testing sets\n",
        "X_train, X_test, y_train, y_test = train_test_split(X, y, test_size=0.2, random_state=42)\n",
        "\n",
        "# Create a Random Forest Classifier\n",
        "rf = RandomForestClassifier(n_estimators=100, random_state=42)\n",
        "\n",
        "# Train the Random Forest Classifier\n",
        "rf.fit(X_train, y_train)\n",
        "\n",
        "# Make predictions on the test data\n",
        "y_pred = rf.predict(X_test)\n",
        "\n",
        "# Print the accuracy of the model\n",
        "accuracy = accuracy_score(y_test, y_pred)\n",
        "print(\"Accuracy:\", accuracy)\n",
        "\n",
        "# Print the classification report\n",
        "print(\"Classification Report:\")\n",
        "print(classification_report(y_test, y_pred))\n",
        "\n",
        "# Print the confusion matrix\n",
        "print(\"Confusion Matrix:\")\n",
        "print(confusion_matrix(y_test, y_pred))\n",
        "\n",
        "# Identify misclassified samples\n",
        "misclassified_samples = np.where(y_test != y_pred)[0]\n",
        "\n",
        "# Print the number of misclassified samples\n",
        "print(\"Number of Misclassified Samples:\", len(misclassified_samples))\n",
        "\n",
        "# Analyze misclassified samples using PCA\n",
        "pca = PCA(n_components=2)\n",
        "X_test_pca = pca.fit_transform(X_test)\n",
        "\n",
        "# Plot the test data using PCA\n",
        "plt.figure(figsize=(10, 6))\n",
        "plt.scatter(X_test_pca[:, 0], X_test_pca[:, 1], c=y_test)\n",
        "plt.xlabel(\"Principal Component 1\")\n",
        "plt.ylabel(\"Principal Component 2\")\n",
        "plt.title(\"Test Data using PCA\")\n",
        "\n",
        "# Highlight misclassified samples\n",
        "plt.scatter(X_test_pca[misclassified_samples, 0], X_test_pca[misclassified_samples, 1], c='red', marker='x')\n",
        "plt.show()"
      ],
      "metadata": {
        "colab": {
          "base_uri": "https://localhost:8080/",
          "height": 723
        },
        "id": "_VY5oOLMJESb",
        "outputId": "f26a03b5-536c-4e45-aa11-fdd0ba7ebd8c"
      },
      "execution_count": null,
      "outputs": [
        {
          "output_type": "stream",
          "name": "stdout",
          "text": [
            "Accuracy: 1.0\n",
            "Classification Report:\n",
            "              precision    recall  f1-score   support\n",
            "\n",
            "           0       1.00      1.00      1.00        10\n",
            "           1       1.00      1.00      1.00         9\n",
            "           2       1.00      1.00      1.00        11\n",
            "\n",
            "    accuracy                           1.00        30\n",
            "   macro avg       1.00      1.00      1.00        30\n",
            "weighted avg       1.00      1.00      1.00        30\n",
            "\n",
            "Confusion Matrix:\n",
            "[[10  0  0]\n",
            " [ 0  9  0]\n",
            " [ 0  0 11]]\n",
            "Number of Misclassified Samples: 0\n"
          ]
        },
        {
          "output_type": "display_data",
          "data": {
            "text/plain": [
              "<Figure size 1000x600 with 1 Axes>"
            ],
            "image/png": "[encoded data removed]"
          },
          "metadata": {}
        }
      ]
    },
    {
      "cell_type": "markdown",
      "source": [
        "###**Q34.  Train a Bagging Classifier and compare its performance with a single Decision Tree Classifier.**\n",
        "\n",
        "Answer:"
      ],
      "metadata": {
        "id": "kU7KPjCVJSNE"
      }
    },
    {
      "cell_type": "code",
      "source": [
        "from sklearn.datasets import load_iris\n",
        "from sklearn.model_selection import train_test_split\n",
        "from sklearn.ensemble import BaggingClassifier\n",
        "from sklearn.tree import DecisionTreeClassifier\n",
        "from sklearn.metrics import accuracy_score, classification_report, confusion_matrix\n",
        "\n",
        "# Load the Iris dataset\n",
        "iris = load_iris()\n",
        "X = iris.data\n",
        "y = iris.target\n",
        "\n",
        "# Split the data into training and testing sets\n",
        "X_train, X_test, y_train, y_test = train_test_split(X, y, test_size=0.2, random_state=42)\n",
        "\n",
        "# Create a single Decision Tree Classifier\n",
        "dt = DecisionTreeClassifier(random_state=42)\n",
        "\n",
        "# Train the Decision Tree Classifier\n",
        "dt.fit(X_train, y_train)\n",
        "\n",
        "# Make predictions on the test data using the Decision Tree Classifier\n",
        "y_pred_dt = dt.predict(X_test)\n",
        "\n",
        "# Print the accuracy of the Decision Tree Classifier\n",
        "accuracy_dt = accuracy_score(y_test, y_pred_dt)\n",
        "print(\"Decision Tree Accuracy:\", accuracy_dt)\n",
        "\n",
        "# Print the classification report for the Decision Tree Classifier\n",
        "print(\"Decision Tree Classification Report:\")\n",
        "print(classification_report(y_test, y_pred_dt))\n",
        "\n",
        "# Print the confusion matrix for the Decision Tree Classifier\n",
        "print(\"Decision Tree Confusion Matrix:\")\n",
        "print(confusion_matrix(y_test, y_pred_dt))\n",
        "\n",
        "# Create a Bagging Classifier using a Decision Tree Classifier as the base estimator\n",
        "bagging = BaggingClassifier(estimator=DecisionTreeClassifier(), n_estimators=10, random_state=42)\n",
        "\n",
        "# Train the Bagging Classifier\n",
        "bagging.fit(X_train, y_train)\n",
        "\n",
        "# Make predictions on the test data using the Bagging Classifier\n",
        "y_pred_bagging = bagging.predict(X_test)\n",
        "\n",
        "# Print the accuracy of the Bagging Classifier\n",
        "accuracy_bagging = accuracy_score(y_test, y_pred_bagging)\n",
        "print(\"Bagging Accuracy:\", accuracy_bagging)\n",
        "\n",
        "# Print the classification report for the Bagging Classifier\n",
        "print(\"Bagging Classification Report:\")\n",
        "print(classification_report(y_test, y_pred_bagging))\n",
        "\n",
        "# Print the confusion matrix for the Bagging Classifier\n",
        "print(\"Bagging Confusion Matrix:\")\n",
        "print(confusion_matrix(y_test, y_pred_bagging))\n",
        "\n",
        "# Compare the accuracy of the Decision Tree Classifier and the Bagging Classifier\n",
        "if accuracy_bagging > accuracy_dt:\n",
        "    print(\"Bagging Classifier performs better than the Decision Tree Classifier.\")\n",
        "elif accuracy_bagging < accuracy_dt:\n",
        "    print(\"Decision Tree Classifier performs better than the Bagging Classifier.\")\n",
        "else:\n",
        "    print(\"Both classifiers perform equally well.\")\n",
        "\n",
        "\n"
      ],
      "metadata": {
        "colab": {
          "base_uri": "https://localhost:8080/"
        },
        "id": "q7GjR2I7PcD3",
        "outputId": "930af724-a479-48c6-cfb3-0d38ae2b4fc0"
      },
      "execution_count": null,
      "outputs": [
        {
          "output_type": "stream",
          "name": "stdout",
          "text": [
            "Decision Tree Accuracy: 1.0\n",
            "Decision Tree Classification Report:\n",
            "              precision    recall  f1-score   support\n",
            "\n",
            "           0       1.00      1.00      1.00        10\n",
            "           1       1.00      1.00      1.00         9\n",
            "           2       1.00      1.00      1.00        11\n",
            "\n",
            "    accuracy                           1.00        30\n",
            "   macro avg       1.00      1.00      1.00        30\n",
            "weighted avg       1.00      1.00      1.00        30\n",
            "\n",
            "Decision Tree Confusion Matrix:\n",
            "[[10  0  0]\n",
            " [ 0  9  0]\n",
            " [ 0  0 11]]\n",
            "Bagging Accuracy: 1.0\n",
            "Bagging Classification Report:\n",
            "              precision    recall  f1-score   support\n",
            "\n",
            "           0       1.00      1.00      1.00        10\n",
            "           1       1.00      1.00      1.00         9\n",
            "           2       1.00      1.00      1.00        11\n",
            "\n",
            "    accuracy                           1.00        30\n",
            "   macro avg       1.00      1.00      1.00        30\n",
            "weighted avg       1.00      1.00      1.00        30\n",
            "\n",
            "Bagging Confusion Matrix:\n",
            "[[10  0  0]\n",
            " [ 0  9  0]\n",
            " [ 0  0 11]]\n",
            "Both classifiers perform equally well.\n"
          ]
        }
      ]
    },
    {
      "cell_type": "markdown",
      "source": [
        "###**Q35.  Train a Random Forest Classifier and visualize the confusion matrix.**\n",
        "\n",
        "Answer;\n"
      ],
      "metadata": {
        "id": "ZrbyS9HuRabn"
      }
    },
    {
      "cell_type": "code",
      "source": [
        "from sklearn.datasets import load_iris\n",
        "from sklearn.model_selection import train_test_split\n",
        "from sklearn.ensemble import RandomForestClassifier\n",
        "from sklearn.metrics import accuracy_score, classification_report, confusion_matrix\n",
        "import matplotlib.pyplot as plt\n",
        "import seaborn as sns\n",
        "\n",
        "# Load the Iris dataset\n",
        "iris = load_iris()\n",
        "X = iris.data\n",
        "y = iris.target\n",
        "\n",
        "# Split the data into training and testing sets\n",
        "X_train, X_test, y_train, y_test = train_test_split(X, y, test_size=0.2, random_state=42)\n",
        "\n",
        "# Create a Random Forest Classifier\n",
        "rf = RandomForestClassifier(n_estimators=100, random_state=42)\n",
        "\n",
        "# Train the Random Forest Classifier\n",
        "rf.fit(X_train, y_train)\n",
        "\n",
        "# Make predictions on the test data\n",
        "y_pred = rf.predict(X_test)\n",
        "\n",
        "# Print the accuracy of the model\n",
        "accuracy = accuracy_score(y_test, y_pred)\n",
        "print(\"Accuracy:\", accuracy)\n",
        "\n",
        "# Print the classification report\n",
        "print(\"Classification Report:\")\n",
        "print(classification_report(y_test, y_pred))\n",
        "\n",
        "# Create a confusion matrix\n",
        "cm = confusion_matrix(y_test, y_pred)\n",
        "\n",
        "# Print the confusion matrix\n",
        "print(\"Confusion Matrix:\")\n",
        "print(cm)\n",
        "\n",
        "# Visualize the confusion matrix using a heatmap\n",
        "plt.figure(figsize=(8, 6))\n",
        "sns.heatmap(cm, annot=True, cmap=\"Blues\")\n",
        "plt.xlabel(\"Predicted Labels\")\n",
        "plt.ylabel(\"True Labels\")\n",
        "plt.title(\"Confusion Matrix\")\n",
        "plt.show()"
      ],
      "metadata": {
        "colab": {
          "base_uri": "https://localhost:8080/",
          "height": 845
        },
        "id": "rPjY2mmkVFqh",
        "outputId": "12889988-0d3b-43df-c289-cbfc074c1338"
      },
      "execution_count": null,
      "outputs": [
        {
          "output_type": "stream",
          "name": "stdout",
          "text": [
            "Accuracy: 1.0\n",
            "Classification Report:\n",
            "              precision    recall  f1-score   support\n",
            "\n",
            "           0       1.00      1.00      1.00        10\n",
            "           1       1.00      1.00      1.00         9\n",
            "           2       1.00      1.00      1.00        11\n",
            "\n",
            "    accuracy                           1.00        30\n",
            "   macro avg       1.00      1.00      1.00        30\n",
            "weighted avg       1.00      1.00      1.00        30\n",
            "\n",
            "Confusion Matrix:\n",
            "[[10  0  0]\n",
            " [ 0  9  0]\n",
            " [ 0  0 11]]\n"
          ]
        },
        {
          "output_type": "display_data",
          "data": {
            "text/plain": [
              "<Figure size 800x600 with 2 Axes>"
            ],
            "image/png": "[encoded data removed]"
          },
          "metadata": {}
        }
      ]
    },
    {
      "cell_type": "markdown",
      "source": [
        "###**Q36,  Train a Stacking Classifier using Decision Trees, SVM, and Logistic Regression, and compare accuracy.**\n",
        "\n",
        "Answer;\n",
        "\n"
      ],
      "metadata": {
        "id": "BPYsl_ttVtVA"
      }
    },
    {
      "cell_type": "code",
      "source": [
        "from sklearn.datasets import load_iris\n",
        "from sklearn.model_selection import train_test_split\n",
        "from sklearn.ensemble import StackingClassifier\n",
        "from sklearn.tree import DecisionTreeClassifier\n",
        "from sklearn.svm import SVC\n",
        "from sklearn.linear_model import LogisticRegression\n",
        "from sklearn.metrics import accuracy_score, classification_report\n",
        "\n",
        "# Load the Iris dataset\n",
        "iris = load_iris()\n",
        "X = iris.data\n",
        "y = iris.target\n",
        "\n",
        "# Split the data into training and testing sets\n",
        "X_train, X_test, y_train, y_test = train_test_split(X, y, test_size=0.2, random_state=42)\n",
        "\n",
        "# Define the base estimators\n",
        "estimators = [\n",
        "    ('dt', DecisionTreeClassifier(random_state=42)),\n",
        "    ('svm', SVC(random_state=42)),\n",
        "    ('lr', LogisticRegression(max_iter=1000, random_state=42))\n",
        "]\n",
        "\n",
        "# Define the final estimator\n",
        "final_estimator = LogisticRegression(max_iter=1000, random_state=42)\n",
        "\n",
        "# Create a Stacking Classifier\n",
        "stacking = StackingClassifier(estimators=estimators, final_estimator=final_estimator, cv=5)\n",
        "\n",
        "# Train the Stacking Classifier\n",
        "stacking.fit(X_train, y_train)\n",
        "\n",
        "# Make predictions on the test data\n",
        "y_pred = stacking.predict(X_test)\n",
        "\n",
        "# Print the accuracy of the Stacking Classifier\n",
        "accuracy = accuracy_score(y_test, y_pred)\n",
        "print(\"Stacking Classifier Accuracy:\", accuracy)\n",
        "\n",
        "# Print the classification report\n",
        "print(\"Stacking Classifier Classification Report:\")\n",
        "print(classification_report(y_test, y_pred))\n",
        "\n",
        "# Train individual base estimators and compare accuracy\n",
        "for name, estimator in estimators:\n",
        "    estimator.fit(X_train, y_train)\n",
        "    y_pred = estimator.predict(X_test)\n",
        "    accuracy = accuracy_score(y_test, y_pred)\n",
        "    print(f\"{name} Accuracy:\", accuracy)"
      ],
      "metadata": {
        "colab": {
          "base_uri": "https://localhost:8080/"
        },
        "id": "-jg3wiSWV0AZ",
        "outputId": "9b02c08c-371f-4a35-af99-48551cf27081"
      },
      "execution_count": null,
      "outputs": [
        {
          "output_type": "stream",
          "name": "stdout",
          "text": [
            "Stacking Classifier Accuracy: 1.0\n",
            "Stacking Classifier Classification Report:\n",
            "              precision    recall  f1-score   support\n",
            "\n",
            "           0       1.00      1.00      1.00        10\n",
            "           1       1.00      1.00      1.00         9\n",
            "           2       1.00      1.00      1.00        11\n",
            "\n",
            "    accuracy                           1.00        30\n",
            "   macro avg       1.00      1.00      1.00        30\n",
            "weighted avg       1.00      1.00      1.00        30\n",
            "\n",
            "dt Accuracy: 1.0\n",
            "svm Accuracy: 1.0\n",
            "lr Accuracy: 1.0\n"
          ]
        }
      ]
    },
    {
      "cell_type": "markdown",
      "source": [
        "###**Q37.  Train a Random Forest Classifier and print the top 5 most important features.**\n",
        "\n",
        "Answer:"
      ],
      "metadata": {
        "id": "UGI6wSLkW2zZ"
      }
    },
    {
      "cell_type": "code",
      "source": [
        "from sklearn.datasets import load_iris\n",
        "from sklearn.model_selection import train_test_split\n",
        "from sklearn.ensemble import RandomForestClassifier\n",
        "from sklearn.metrics import accuracy_score, classification_report\n",
        "import pandas as pd\n",
        "\n",
        "# Load the Iris dataset\n",
        "iris = load_iris()\n",
        "X = iris.data\n",
        "y = iris.target\n",
        "feature_names = iris.feature_names\n",
        "\n",
        "# Split the data into training and testing sets\n",
        "X_train, X_test, y_train, y_test = train_test_split(X, y, test_size=0.2, random_state=42)\n",
        "\n",
        "# Create a Random Forest Classifier\n",
        "rf = RandomForestClassifier(n_estimators=100, random_state=42)\n",
        "\n",
        "# Train the Random Forest Classifier\n",
        "rf.fit(X_train, y_train)\n",
        "\n",
        "# Make predictions on the test data\n",
        "y_pred = rf.predict(X_test)\n",
        "\n",
        "# Print the accuracy of the model\n",
        "accuracy = accuracy_score(y_test, y_pred)\n",
        "print(\"Accuracy:\", accuracy)\n",
        "\n",
        "# Print the classification report\n",
        "print(\"Classification Report:\")\n",
        "print(classification_report(y_test, y_pred))\n",
        "\n",
        "# Get the feature importances\n",
        "feature_importances = rf.feature_importances_\n",
        "\n",
        "# Create a DataFrame to store the feature importances\n",
        "df = pd.DataFrame({'Feature': feature_names, 'Importance': feature_importances})\n",
        "\n",
        "# Sort the DataFrame by importance in descending order\n",
        "df = df.sort_values(by='Importance', ascending=False)\n",
        "\n",
        "# Print the top 5 most important features\n",
        "print(\"Top 5 Most Important Features:\")\n",
        "print(df.head(5))"
      ],
      "metadata": {
        "colab": {
          "base_uri": "https://localhost:8080/"
        },
        "id": "5mAeYMIdXAVm",
        "outputId": "7a2f3461-72e7-4d2d-968b-fe7357a7ee1b"
      },
      "execution_count": null,
      "outputs": [
        {
          "output_type": "stream",
          "name": "stdout",
          "text": [
            "Accuracy: 1.0\n",
            "Classification Report:\n",
            "              precision    recall  f1-score   support\n",
            "\n",
            "           0       1.00      1.00      1.00        10\n",
            "           1       1.00      1.00      1.00         9\n",
            "           2       1.00      1.00      1.00        11\n",
            "\n",
            "    accuracy                           1.00        30\n",
            "   macro avg       1.00      1.00      1.00        30\n",
            "weighted avg       1.00      1.00      1.00        30\n",
            "\n",
            "Top 5 Most Important Features:\n",
            "             Feature  Importance\n",
            "2  petal length (cm)    0.439994\n",
            "3   petal width (cm)    0.421522\n",
            "0  sepal length (cm)    0.108098\n",
            "1   sepal width (cm)    0.030387\n"
          ]
        }
      ]
    },
    {
      "cell_type": "markdown",
      "source": [
        "###*Q38.  Train a Bagging Classifier and evaluate performance using Precision, Recall, and F1-score.**\n",
        "\n",
        "Answer:\n"
      ],
      "metadata": {
        "id": "tZZUSaEnXZEX"
      }
    },
    {
      "cell_type": "code",
      "source": [
        "from sklearn.datasets import load_iris\n",
        "from sklearn.model_selection import train_test_split\n",
        "from sklearn.ensemble import BaggingClassifier\n",
        "from sklearn.tree import DecisionTreeClassifier\n",
        "from sklearn.metrics import accuracy_score, classification_report, confusion_matrix, precision_score, recall_score, f1_score\n",
        "\n",
        "# Load the Iris dataset\n",
        "iris = load_iris()\n",
        "X = iris.data\n",
        "y = iris.target\n",
        "\n",
        "# Split the data into training and testing sets\n",
        "X_train, X_test, y_train, y_test = train_test_split(X, y, test_size=0.2, random_state=42)\n",
        "\n",
        "# Create a Bagging Classifier\n",
        "bagging = BaggingClassifier(estimator=DecisionTreeClassifier(), n_estimators=10, random_state=42)\n",
        "\n",
        "# Train the Bagging Classifier\n",
        "bagging.fit(X_train, y_train)\n",
        "\n",
        "# Make predictions on the test data\n",
        "y_pred = bagging.predict(X_test)\n",
        "\n",
        "# Print the accuracy of the model\n",
        "accuracy = accuracy_score(y_test, y_pred)\n",
        "print(\"Accuracy:\", accuracy)\n",
        "\n",
        "# Print the classification report\n",
        "print(\"Classification Report:\")\n",
        "print(classification_report(y_test, y_pred))\n",
        "\n",
        "# Print the confusion matrix\n",
        "print(\"Confusion Matrix:\")\n",
        "print(confusion_matrix(y_test, y_pred))\n",
        "\n",
        "# Evaluate the model's performance using Precision, Recall, and F1-score\n",
        "precision = precision_score(y_test, y_pred, average='weighted')\n",
        "recall = recall_score(y_test, y_pred, average='weighted')\n",
        "f1 = f1_score(y_test, y_pred, average='weighted')\n",
        "\n",
        "print(\"Precision:\", precision)\n",
        "print(\"Recall:\", recall)\n",
        "print(\"F1-score:\", f1)"
      ],
      "metadata": {
        "colab": {
          "base_uri": "https://localhost:8080/"
        },
        "id": "88e6eReiXtbs",
        "outputId": "5a47a17c-9ad5-4bdf-af3f-50d79b62d325"
      },
      "execution_count": null,
      "outputs": [
        {
          "output_type": "stream",
          "name": "stdout",
          "text": [
            "Accuracy: 1.0\n",
            "Classification Report:\n",
            "              precision    recall  f1-score   support\n",
            "\n",
            "           0       1.00      1.00      1.00        10\n",
            "           1       1.00      1.00      1.00         9\n",
            "           2       1.00      1.00      1.00        11\n",
            "\n",
            "    accuracy                           1.00        30\n",
            "   macro avg       1.00      1.00      1.00        30\n",
            "weighted avg       1.00      1.00      1.00        30\n",
            "\n",
            "Confusion Matrix:\n",
            "[[10  0  0]\n",
            " [ 0  9  0]\n",
            " [ 0  0 11]]\n",
            "Precision: 1.0\n",
            "Recall: 1.0\n",
            "F1-score: 1.0\n"
          ]
        }
      ]
    },
    {
      "cell_type": "markdown",
      "source": [
        "###**Q39. Train a Random Forest Classifier and analyze the effect of max_depth on accuracy.**\n",
        "\n",
        "Answer:"
      ],
      "metadata": {
        "id": "He2YmCtwX35h"
      }
    },
    {
      "cell_type": "code",
      "source": [
        "from sklearn.datasets import load_iris\n",
        "from sklearn.model_selection import train_test_split\n",
        "from sklearn.ensemble import RandomForestClassifier\n",
        "from sklearn.metrics import accuracy_score\n",
        "import matplotlib.pyplot as plt\n",
        "import numpy as np\n",
        "\n",
        "# Load the Iris dataset\n",
        "iris = load_iris()\n",
        "X = iris.data\n",
        "y = iris.target\n",
        "\n",
        "# Split the data into training and testing sets\n",
        "X_train, X_test, y_train, y_test = train_test_split(X, y, test_size=0.2, random_state=42)\n",
        "\n",
        "# Define different values for max_depth\n",
        "max_depths = np.arange(1, 21)\n",
        "\n",
        "# Create lists to store the training and testing accuracy\n",
        "train_accuracy = []\n",
        "test_accuracy = []\n",
        "\n",
        "# Train a Random Forest Classifier for each value of max_depth\n",
        "for max_depth in max_depths:\n",
        "    rf = RandomForestClassifier(n_estimators=100, max_depth=max_depth, random_state=42)\n",
        "    rf.fit(X_train, y_train)\n",
        "    y_pred_train = rf.predict(X_train)\n",
        "    y_pred_test = rf.predict(X_test)\n",
        "    train_accuracy.append(accuracy_score(y_train, y_pred_train))\n",
        "    test_accuracy.append(accuracy_score(y_test, y_pred_test))\n",
        "\n",
        "# Plot the training and testing accuracy for different values of max_depth\n",
        "plt.figure(figsize=(10, 6))\n",
        "plt.plot(max_depths, train_accuracy, label='Training Accuracy')\n",
        "plt.plot(max_depths, test_accuracy, label='Testing Accuracy')\n",
        "plt.xlabel('Max Depth')\n",
        "plt.ylabel('Accuracy')\n",
        "plt.title('Effect of Max Depth on Accuracy')\n",
        "plt.legend()\n",
        "plt.show()"
      ],
      "metadata": {
        "colab": {
          "base_uri": "https://localhost:8080/",
          "height": 420
        },
        "id": "a9AIuaRIYBWJ",
        "outputId": "0d6167d8-a043-45da-dfd9-2a21a6ca418f"
      },
      "execution_count": null,
      "outputs": [
        {
          "output_type": "display_data",
          "data": {
            "text/plain": [
              "<Figure size 1000x600 with 1 Axes>"
            ],
            "image/png": "[encoded data removed]"
          },
          "metadata": {}
        }
      ]
    },
    {
      "cell_type": "markdown",
      "source": [
        "###**Q40.  Train a Bagging Regressor using different base estimators (DecisionTree and KNeighbors) and compare performance.**\n",
        "\n",
        "Answer:"
      ],
      "metadata": {
        "id": "GVa0sNsAYdXQ"
      }
    },
    {
      "cell_type": "code",
      "source": [
        "from sklearn.datasets import make_regression\n",
        "from sklearn.model_selection import train_test_split\n",
        "from sklearn.ensemble import BaggingRegressor\n",
        "from sklearn.tree import DecisionTreeRegressor\n",
        "from sklearn.neighbors import KNeighborsRegressor\n",
        "from sklearn.metrics import mean_squared_error, mean_absolute_error, r2_score\n",
        "\n",
        "# Generate a sample regression dataset\n",
        "X, y = make_regression(n_samples=1000, n_features=10, n_informative=5, random_state=42)\n",
        "\n",
        "# Split the data into training and testing sets\n",
        "X_train, X_test, y_train, y_test = train_test_split(X, y, test_size=0.2, random_state=42)\n",
        "\n",
        "# Define the base estimators\n",
        "base_estimators = [\n",
        "    ('Decision Tree', DecisionTreeRegressor(random_state=42)),\n",
        "    ('K-Neighbors', KNeighborsRegressor(n_neighbors=5))\n",
        "]\n",
        "\n",
        "# Create lists to store the performance metrics\n",
        "mse_values = []\n",
        "mae_values = []\n",
        "r2_values = []\n",
        "\n",
        "# Train a Bagging Regressor for each base estimator\n",
        "for name, estimator in base_estimators:\n",
        "    bagging = BaggingRegressor(estimator=estimator, n_estimators=10, random_state=42)\n",
        "    bagging.fit(X_train, y_train)\n",
        "    y_pred = bagging.predict(X_test)\n",
        "    mse = mean_squared_error(y_test, y_pred)\n",
        "    mae = mean_absolute_error(y_test, y_pred)\n",
        "    r2 = r2_score(y_test, y_pred)\n",
        "    mse_values.append(mse)\n",
        "    mae_values.append(mae)\n",
        "    r2_values.append(r2)\n",
        "    print(f\"{name} Regressor Performance:\")\n",
        "    print(f\"MSE: {mse:.3f}, MAE: {mae:.3f}, R2: {r2:.3f}\")\n",
        "\n",
        "# Compare the performance metrics\n",
        "print(\"\\nComparison of Performance Metrics:\")\n",
        "for i, name in enumerate([estimator[0] for estimator in base_estimators]):\n",
        "    print(f\"{name}: MSE={mse_values[i]:.3f}, MAE={mae_values[i]:.3f}, R2={r2_values[i]:.3f}\")"
      ],
      "metadata": {
        "colab": {
          "base_uri": "https://localhost:8080/"
        },
        "id": "FtkN0itZYllB",
        "outputId": "636b317a-d647-433f-ed90-224698929f1f"
      },
      "execution_count": null,
      "outputs": [
        {
          "output_type": "stream",
          "name": "stdout",
          "text": [
            "Decision Tree Regressor Performance:\n",
            "MSE: 231.912, MAE: 11.434, R2: 0.950\n",
            "K-Neighbors Regressor Performance:\n",
            "MSE: 898.709, MAE: 23.731, R2: 0.805\n",
            "\n",
            "Comparison of Performance Metrics:\n",
            "Decision Tree: MSE=231.912, MAE=11.434, R2=0.950\n",
            "K-Neighbors: MSE=898.709, MAE=23.731, R2=0.805\n"
          ]
        }
      ]
    },
    {
      "cell_type": "markdown",
      "source": [
        "###**Q41. Train a Random Forest Classifier and evaluate its performance using ROC-AUC Score.**\n",
        "\n",
        "Answer:"
      ],
      "metadata": {
        "id": "Povh-f7HY5qu"
      }
    },
    {
      "cell_type": "code",
      "source": [
        "from sklearn.datasets import load_iris\n",
        "from sklearn.model_selection import train_test_split\n",
        "from sklearn.ensemble import RandomForestClassifier\n",
        "from sklearn.metrics import accuracy_score, classification_report, confusion_matrix, roc_auc_score, roc_curve\n",
        "import matplotlib.pyplot as plt\n",
        "\n",
        "# Load the Iris dataset\n",
        "iris = load_iris()\n",
        "X = iris.data\n",
        "y = iris.target\n",
        "\n",
        "# Split the data into training and testing sets\n",
        "X_train, X_test, y_train, y_test = train_test_split(X, y, test_size=0.2, random_state=42)\n",
        "\n",
        "# Create a Random Forest Classifier\n",
        "rf = RandomForestClassifier(n_estimators=100, random_state=42)\n",
        "\n",
        "# Train the Random Forest Classifier\n",
        "rf.fit(X_train, y_train)\n",
        "\n",
        "# Make predictions on the test data\n",
        "y_pred = rf.predict(X_test)\n",
        "y_pred_proba = rf.predict_proba(X_test)\n",
        "\n",
        "# Print the accuracy of the model\n",
        "accuracy = accuracy_score(y_test, y_pred)\n",
        "print(\"Accuracy:\", accuracy)\n",
        "\n",
        "# Print the classification report\n",
        "print(\"Classification Report:\")\n",
        "print(classification_report(y_test, y_pred))\n",
        "\n",
        "# Print the confusion matrix\n",
        "print(\"Confusion Matrix:\")\n",
        "print(confusion_matrix(y_test, y_pred))\n",
        "\n",
        "# Calculate the ROC-AUC Score\n",
        "roc_auc = roc_auc_score(y_test, y_pred_proba, multi_class='ovr')\n",
        "print(\"ROC-AUC Score:\", roc_auc)\n",
        "\n",
        "# Plot the ROC Curve\n",
        "fpr, tpr, thresholds = roc_curve(y_test, y_pred_proba[:, 0], pos_label=0)\n",
        "plt.figure(figsize=(8, 6))\n",
        "plt.plot(fpr, tpr, label='ROC Curve (Class 0)')\n",
        "plt.plot([0, 1], [0, 1], 'k--', label='Random Guessing')\n",
        "plt.xlabel('False Positive Rate')\n",
        "plt.ylabel('True Positive Rate')\n",
        "plt.title('ROC Curve')\n",
        "plt.legend()\n",
        "plt.show()\n",
        "\n",
        "# Plot the ROC Curve for all classes\n",
        "for i in range(3):\n",
        "    fpr, tpr, thresholds = roc_curve(y_test, y_pred_proba[:, i], pos_label=i)\n",
        "    plt.figure(figsize=(8, 6))\n",
        "    plt.plot(fpr, tpr, label=f'ROC Curve (Class {i})')\n",
        "    plt.plot([0, 1], [0, 1], 'k--', label='Random Guessing')\n",
        "    plt.xlabel('False Positive Rate')\n",
        "    plt.ylabel('True Positive Rate')\n",
        "    plt.title(f'ROC Curve (Class {i})')\n",
        "    plt.legend()\n",
        "    plt.show()"
      ],
      "metadata": {
        "colab": {
          "base_uri": "https://localhost:8080/",
          "height": 1000
        },
        "id": "L49hLCz3ZA2U",
        "outputId": "971a7e0a-df1d-4a64-c9bd-472163e10a35"
      },
      "execution_count": null,
      "outputs": [
        {
          "output_type": "stream",
          "name": "stdout",
          "text": [
            "Accuracy: 1.0\n",
            "Classification Report:\n",
            "              precision    recall  f1-score   support\n",
            "\n",
            "           0       1.00      1.00      1.00        10\n",
            "           1       1.00      1.00      1.00         9\n",
            "           2       1.00      1.00      1.00        11\n",
            "\n",
            "    accuracy                           1.00        30\n",
            "   macro avg       1.00      1.00      1.00        30\n",
            "weighted avg       1.00      1.00      1.00        30\n",
            "\n",
            "Confusion Matrix:\n",
            "[[10  0  0]\n",
            " [ 0  9  0]\n",
            " [ 0  0 11]]\n",
            "ROC-AUC Score: 1.0\n"
          ]
        },
        {
          "output_type": "display_data",
          "data": {
            "text/plain": [
              "<Figure size 800x600 with 1 Axes>"
            ],
            "image/png": "[encoded data removed]"
          },
          "metadata": {}
        },
        {
          "output_type": "display_data",
          "data": {
            "text/plain": [
              "<Figure size 800x600 with 1 Axes>"
            ],
            "image/png": "[encoded data removed]"
          },
          "metadata": {}
        },
        {
          "output_type": "display_data",
          "data": {
            "text/plain": [
              "<Figure size 800x600 with 1 Axes>"
            ],
            "image/png": "[encoded data removed]"
          },
          "metadata": {}
        },
        {
          "output_type": "display_data",
          "data": {
            "text/plain": [
              "<Figure size 800x600 with 1 Axes>"
            ],
            "image/png": "[encoded data removed]"
          },
          "metadata": {}
        }
      ]
    },
    {
      "cell_type": "markdown",
      "source": [
        "###**Q42. Train a Bagging Classifier and evaluate its performance using cross-validation.**\n",
        "\n",
        "Answer:"
      ],
      "metadata": {
        "id": "y8cdKbXvZJea"
      }
    },
    {
      "cell_type": "code",
      "source": [
        "from sklearn.datasets import load_iris\n",
        "from sklearn.model_selection import train_test_split, cross_val_score\n",
        "from sklearn.ensemble import BaggingClassifier\n",
        "from sklearn.tree import DecisionTreeClassifier\n",
        "from sklearn.metrics import accuracy_score, classification_report, confusion_matrix\n",
        "\n",
        "# Load the Iris dataset\n",
        "iris = load_iris()\n",
        "X = iris.data\n",
        "y = iris.target\n",
        "\n",
        "# Split the data into training and testing sets\n",
        "X_train, X_test, y_train, y_test = train_test_split(X, y, test_size=0.2, random_state=42)\n",
        "\n",
        "# Create a Bagging Classifier\n",
        "bagging = BaggingClassifier(estimator=DecisionTreeClassifier(), n_estimators=10, random_state=42)\n",
        "\n",
        "# Train the Bagging Classifier\n",
        "bagging.fit(X_train, y_train)\n",
        "\n",
        "# Make predictions on the test data\n",
        "y_pred = bagging.predict(X_test)\n",
        "\n",
        "# Print the accuracy of the model\n",
        "accuracy = accuracy_score(y_test, y_pred)\n",
        "print(\"Accuracy:\", accuracy)\n",
        "\n",
        "# Print the classification report\n",
        "print(\"Classification Report:\")\n",
        "print(classification_report(y_test, y_pred))\n",
        "\n",
        "# Print the confusion matrix\n",
        "print(\"Confusion Matrix:\")\n",
        "print(confusion_matrix(y_test, y_pred))\n",
        "\n",
        "# Evaluate the model's performance using cross-validation\n",
        "scores = cross_val_score(bagging, X_train, y_train, cv=5)\n",
        "print(\"Cross-Validation Scores:\", scores)\n",
        "\n",
        "# Print the average cross-validation score\n",
        "print(\"Average Cross-Validation Score:\", scores.mean())\n"
      ],
      "metadata": {
        "colab": {
          "base_uri": "https://localhost:8080/"
        },
        "id": "Q4hSnZp1ZWhg",
        "outputId": "15f0719f-3cb9-4244-8acc-c88350b32c95"
      },
      "execution_count": null,
      "outputs": [
        {
          "output_type": "stream",
          "name": "stdout",
          "text": [
            "Accuracy: 1.0\n",
            "Classification Report:\n",
            "              precision    recall  f1-score   support\n",
            "\n",
            "           0       1.00      1.00      1.00        10\n",
            "           1       1.00      1.00      1.00         9\n",
            "           2       1.00      1.00      1.00        11\n",
            "\n",
            "    accuracy                           1.00        30\n",
            "   macro avg       1.00      1.00      1.00        30\n",
            "weighted avg       1.00      1.00      1.00        30\n",
            "\n",
            "Confusion Matrix:\n",
            "[[10  0  0]\n",
            " [ 0  9  0]\n",
            " [ 0  0 11]]\n",
            "Cross-Validation Scores: [0.95833333 1.         0.83333333 0.95833333 0.95833333]\n",
            "Average Cross-Validation Score: 0.9416666666666668\n"
          ]
        }
      ]
    },
    {
      "cell_type": "markdown",
      "source": [
        "###**Q43. Train a Random Forest Classifier and plot the Precision-Recall curve.**\n",
        "\n",
        "Answer:"
      ],
      "metadata": {
        "id": "dLD5iePqZi6i"
      }
    },
    {
      "source": [
        "from sklearn.datasets import load_iris\n",
        "from sklearn.model_selection import train_test_split\n",
        "from sklearn.ensemble import RandomForestClassifier\n",
        "from sklearn.metrics import precision_score, recall_score, precision_recall_curve, auc, average_precision_score\n",
        "import matplotlib.pyplot as plt\n",
        "\n",
        "# Load the Iris dataset\n",
        "iris = load_iris()\n",
        "X = iris.data\n",
        "y = iris.target\n",
        "\n",
        "# Split the data into training and testing sets\n",
        "X_train, X_test, y_train, y_test = train_test_split(X, y, test_size=0.2, random_state=42)\n",
        "\n",
        "# Create a Random Forest Classifier\n",
        "rf = RandomForestClassifier(n_estimators=100, random_state=42)\n",
        "\n",
        "# Train the Random Forest Classifier\n",
        "rf.fit(X_train, y_train)\n",
        "\n",
        "# Make predictions on the test data\n",
        "y_pred_proba = rf.predict_proba(X_test)\n",
        "\n",
        "# Plot the Precision-Recall curve for each class\n",
        "for i in range(3):\n",
        "    precision, recall, _ = precision_recall_curve(y_test == i, y_pred_proba[:, i])\n",
        "    plt.figure(figsize=(8, 6))\n",
        "    plt.plot(recall, precision, marker='.')\n",
        "    plt.xlabel('Recall')\n",
        "    plt.ylabel('Precision')\n",
        "    plt.title(f'Precision-Recall Curve (Class {i})')\n",
        "    plt.show()\n",
        "\n",
        "    # Calculate the Average Precision (AP) score\n",
        "    ap = average_precision_score(y_test == i, y_pred_proba[:, i])\n",
        "    print(f'Average Precision (AP) score for Class {i}: {ap:.3f}')\n",
        "\n",
        "# Plot the Precision-Recall curve for the micro-average\n",
        "# Convert the multiclass problem to binary by considering one class at a time\n",
        "from sklearn.preprocessing import label_binarize\n",
        "\n",
        "y_test_bin = label_binarize(y_test, classes=[0, 1, 2])\n",
        "# Calculate micro-average precision and recall\n",
        "# Create dictionaries to store precision and recall for micro-average\n",
        "precision = dict()\n",
        "recall = dict()\n",
        "precision[\"micro\"], recall[\"micro\"], _ = precision_recall_curve(\n",
        "    y_test_bin.ravel(), y_pred_proba.ravel()\n",
        ")\n",
        "\n",
        "plt.figure(figsize=(8, 6))\n",
        "plt.plot(recall[\"micro\"], precision[\"micro\"], marker='.')\n",
        "plt.xlabel('Recall')\n",
        "plt.ylabel('Precision')\n",
        "plt.title('Precision-Recall Curve (Micro-Average)')\n",
        "plt.show()\n",
        "\n",
        "# Calculate the Average Precision (AP) score for the micro-average\n",
        "ap = average_precision_score(y_test_bin, y_pred_proba, average=\"micro\")\n",
        "print(f'Average Precision (AP) score for Micro-Average: {ap:.3f}')"
      ],
      "cell_type": "code",
      "metadata": {
        "id": "lvautfegacrg",
        "outputId": "c9d75bed-359e-43af-a9b8-45d931210acd",
        "colab": {
          "base_uri": "https://localhost:8080/",
          "height": 1000
        }
      },
      "execution_count": null,
      "outputs": [
        {
          "output_type": "display_data",
          "data": {
            "text/plain": [
              "<Figure size 800x600 with 1 Axes>"
            ],
            "image/png": "[encoded data removed]"
          },
          "metadata": {}
        },
        {
          "output_type": "stream",
          "name": "stdout",
          "text": [
            "Average Precision (AP) score for Class 0: 1.000\n"
          ]
        },
        {
          "output_type": "display_data",
          "data": {
            "text/plain": [
              "<Figure size 800x600 with 1 Axes>"
            ],
            "image/png": "[encoded data removed]"
          },
          "metadata": {}
        },
        {
          "output_type": "stream",
          "name": "stdout",
          "text": [
            "Average Precision (AP) score for Class 1: 1.000\n"
          ]
        },
        {
          "output_type": "display_data",
          "data": {
            "text/plain": [
              "<Figure size 800x600 with 1 Axes>"
            ],
            "image/png": "[encoded data removed]"
          },
          "metadata": {}
        },
        {
          "output_type": "stream",
          "name": "stdout",
          "text": [
            "Average Precision (AP) score for Class 2: 1.000\n"
          ]
        },
        {
          "output_type": "display_data",
          "data": {
            "text/plain": [
              "<Figure size 800x600 with 1 Axes>"
            ],
            "image/png": "[encoded data removed]"
          },
          "metadata": {}
        },
        {
          "output_type": "stream",
          "name": "stdout",
          "text": [
            "Average Precision (AP) score for Micro-Average: 1.000\n"
          ]
        }
      ]
    },
    {
      "cell_type": "markdown",
      "source": [
        "###**Q44.  Train a Stacking Classifier with Random Forest and Logistic Regression and compare accuracy.**\n",
        "\n",
        "Answer:"
      ],
      "metadata": {
        "id": "Mr9n2SbAahac"
      }
    },
    {
      "cell_type": "code",
      "source": [
        "from sklearn.datasets import load_iris\n",
        "from sklearn.model_selection import train_test_split\n",
        "from sklearn.ensemble import RandomForestClassifier\n",
        "from sklearn.linear_model import LogisticRegression\n",
        "from sklearn.ensemble import StackingClassifier\n",
        "from sklearn.metrics import accuracy_score, classification_report, confusion_matrix\n",
        "\n",
        "# Load the Iris dataset\n",
        "iris = load_iris()\n",
        "X = iris.data\n",
        "y = iris.target\n",
        "\n",
        "# Split the data into training and testing sets\n",
        "X_train, X_test, y_train, y_test = train_test_split(X, y, test_size=0.2, random_state=42)\n",
        "\n",
        "# Create a Random Forest Classifier\n",
        "rf = RandomForestClassifier(n_estimators=100, random_state=42)\n",
        "\n",
        "# Create a Logistic Regression Classifier\n",
        "lr = LogisticRegression(max_iter=1000, random_state=42)\n",
        "\n",
        "# Create a Stacking Classifier with Random Forest and Logistic Regression\n",
        "estimators = [('rf', rf), ('lr', lr)]\n",
        "stacking = StackingClassifier(estimators=estimators, final_estimator=LogisticRegression(max_iter=1000, random_state=42))\n",
        "\n",
        "# Train the Random Forest Classifier\n",
        "rf.fit(X_train, y_train)\n",
        "\n",
        "# Train the Logistic Regression Classifier\n",
        "lr.fit(X_train, y_train)\n",
        "\n",
        "# Train the Stacking Classifier\n",
        "stacking.fit(X_train, y_train)\n",
        "\n",
        "# Make predictions on the test data\n",
        "y_pred_rf = rf.predict(X_test)\n",
        "y_pred_lr = lr.predict(X_test)\n",
        "y_pred_stacking = stacking.predict(X_test)\n",
        "\n",
        "# Print the accuracy of the Random Forest Classifier\n",
        "accuracy_rf = accuracy_score(y_test, y_pred_rf)\n",
        "print(\"Random Forest Accuracy:\", accuracy_rf)\n",
        "\n",
        "# Print the accuracy of the Logistic Regression Classifier\n",
        "accuracy_lr = accuracy_score(y_test, y_pred_lr)\n",
        "print(\"Logistic Regression Accuracy:\", accuracy_lr)\n",
        "\n",
        "# Print the accuracy of the Stacking Classifier\n",
        "accuracy_stacking = accuracy_score(y_test, y_pred_stacking)\n",
        "print(\"Stacking Accuracy:\", accuracy_stacking)\n",
        "\n",
        "# Compare the accuracy of the three models\n",
        "if accuracy_stacking > accuracy_rf and accuracy_stacking > accuracy_lr:\n",
        "    print(\"Stacking Classifier performs better than both Random Forest and Logistic Regression.\")\n",
        "elif accuracy_rf > accuracy_stacking and accuracy_rf > accuracy_lr:\n",
        "    print(\"Random Forest Classifier performs better than both Stacking and Logistic Regression.\")\n",
        "elif accuracy_lr > accuracy_stacking and accuracy_lr > accuracy_rf:\n",
        "    print(\"Logistic Regression Classifier performs better than both Stacking and Random Forest.\")\n",
        "else:\n",
        "    print(\"All models perform equally well.\")"
      ],
      "metadata": {
        "colab": {
          "base_uri": "https://localhost:8080/"
        },
        "id": "z1WZOP7IUBsb",
        "outputId": "d8948e31-c8c3-4aa2-b352-74e314d2ce29"
      },
      "execution_count": null,
      "outputs": [
        {
          "output_type": "stream",
          "name": "stdout",
          "text": [
            "Random Forest Accuracy: 1.0\n",
            "Logistic Regression Accuracy: 1.0\n",
            "Stacking Accuracy: 1.0\n",
            "All models perform equally well.\n"
          ]
        }
      ]
    },
    {
      "cell_type": "markdown",
      "source": [
        "###**Q45.  Train a Bagging Regressor with different levels of bootstrap samples and compare performance.**\n",
        "\n",
        "Answer:"
      ],
      "metadata": {
        "id": "mVnIrWJJUXGQ"
      }
    },
    {
      "cell_type": "code",
      "source": [
        "from sklearn.datasets import make_regression\n",
        "from sklearn.model_selection import train_test_split\n",
        "from sklearn.ensemble import BaggingRegressor\n",
        "from sklearn.tree import DecisionTreeRegressor\n",
        "from sklearn.metrics import mean_squared_error, mean_absolute_error, r2_score\n",
        "import numpy as np\n",
        "import matplotlib.pyplot as plt\n",
        "\n",
        "# Generate a sample regression dataset\n",
        "X, y = make_regression(n_samples=1000, n_features=10, n_informative=5, random_state=42)\n",
        "\n",
        "# Split the data into training and testing sets\n",
        "X_train, X_test, y_train, y_test = train_test_split(X, y, test_size=0.2, random_state=42)\n",
        "\n",
        "# Define the base estimator\n",
        "base_estimator = DecisionTreeRegressor(random_state=42)\n",
        "\n",
        "# Define the number of estimators\n",
        "n_estimators = 100\n",
        "\n",
        "# Define the different levels of bootstrap samples\n",
        "max_samples_values = np.arange(0.1, 1.1, 0.1)\n",
        "\n",
        "# Create lists to store the performance metrics\n",
        "mse_values = []\n",
        "mae_values = []\n",
        "r2_values = []\n",
        "\n",
        "# Train a Bagging Regressor for each level of bootstrap samples\n",
        "for max_samples in max_samples_values:\n",
        "    bagging = BaggingRegressor(estimator=base_estimator, n_estimators=n_estimators, max_samples=max_samples, random_state=42)\n",
        "    bagging.fit(X_train, y_train)\n",
        "    y_pred = bagging.predict(X_test)\n",
        "    mse = mean_squared_error(y_test, y_pred)\n",
        "    mae = mean_absolute_error(y_test, y_pred)\n",
        "    r2 = r2_score(y_test, y_pred)\n",
        "    mse_values.append(mse)\n",
        "    mae_values.append(mae)\n",
        "    r2_values.append(r2)\n",
        "    print(f\"Max Samples: {max_samples:.1f}, MSE: {mse:.3f}, MAE: {mae:.3f}, R2: {r2:.3f}\")\n",
        "\n",
        "# Plot the performance metrics for different levels of bootstrap samples\n",
        "plt.figure(figsize=(10, 6))\n",
        "plt.plot(max_samples_values, mse_values, marker='o', label='MSE')\n",
        "plt.plot(max_samples_values, mae_values, marker='o', label='MAE')\n",
        "plt.plot(max_samples_values, r2_values, marker='o', label='R2')\n",
        "plt.xlabel('Max Samples')\n",
        "plt.ylabel('Performance Metrics')\n",
        "plt.title('Performance Metrics for Different Levels of Bootstrap Samples')\n",
        "plt.legend()\n",
        "plt.show()"
      ],
      "metadata": {
        "colab": {
          "base_uri": "https://localhost:8080/",
          "height": 603
        },
        "id": "iKlGylRsUb8V",
        "outputId": "782719c8-bcbf-4cdf-99ca-96003aaaa1d0"
      },
      "execution_count": null,
      "outputs": [
        {
          "output_type": "stream",
          "name": "stdout",
          "text": [
            "Max Samples: 0.1, MSE: 444.914, MAE: 14.279, R2: 0.903\n",
            "Max Samples: 0.2, MSE: 294.352, MAE: 12.015, R2: 0.936\n",
            "Max Samples: 0.3, MSE: 245.285, MAE: 10.880, R2: 0.947\n",
            "Max Samples: 0.4, MSE: 218.541, MAE: 10.511, R2: 0.953\n",
            "Max Samples: 0.5, MSE: 198.092, MAE: 10.095, R2: 0.957\n",
            "Max Samples: 0.6, MSE: 186.609, MAE: 9.811, R2: 0.959\n",
            "Max Samples: 0.7, MSE: 187.734, MAE: 9.848, R2: 0.959\n",
            "Max Samples: 0.8, MSE: 185.864, MAE: 9.804, R2: 0.960\n",
            "Max Samples: 0.9, MSE: 176.349, MAE: 9.551, R2: 0.962\n",
            "Max Samples: 1.0, MSE: 175.721, MAE: 9.634, R2: 0.962\n"
          ]
        },
        {
          "output_type": "display_data",
          "data": {
            "text/plain": [
              "<Figure size 1000x600 with 1 Axes>"
            ],
            "image/png": "[encoded data removed]"
          },
          "metadata": {}
        }
      ]
    }
  ]
}