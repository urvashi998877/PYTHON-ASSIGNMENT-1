{
  "nbformat": 4,
  "nbformat_minor": 0,
  "metadata": {
    "colab": {
      "provenance": []
    },
    "kernelspec": {
      "name": "python3",
      "display_name": "Python 3"
    },
    "language_info": {
      "name": "python"
    }
  },
  "cells": [
    {
      "cell_type": "markdown",
      "source": [
        "### **FEATURE** **ENGINEERING**"
      ],
      "metadata": {
        "id": "J-nUoBgJU7SA"
      }
    },
    {
      "cell_type": "markdown",
      "source": [
        "###1. What is a parameter?\n",
        "\n",
        "Ans...A parameter is a constant that defines a family of curves, equations, or functions.\n",
        "Example: In the equation of a line, y = mx+c ,\n",
        "m(slope) and c(y-intercept) are parameters that define the line's properties.\n",
        "\n",
        "Parameters are essential because they allow systems or models to be flexible, adaptive, and specific to particular scenarios. Adjusting parameters can lead to significant changes in outcomes, making them crucial for design, analysis, and optimization in various fields."
      ],
      "metadata": {
        "id": "vlNjda58CIn7"
      }
    },
    {
      "cell_type": "markdown",
      "source": [
        "\n",
        "### 2.What is correlation?\n",
        "\n",
        "Ans...Correlation is a statistical measure that expresses the strength and direction of a relationship between two variables. It tells us how one variable changes in relation to another. Correlation is commonly used in data analysis to understand the association between features and can guide decision-making or hypothesis testing.\n",
        "- Range: The correlation coefficient\n",
        "r=1: Perfect positive correlation (as one variable increases, the other increases proportionally).\n",
        "r=−1: Perfect negative correlation (as one variable increases, the other decreases proportionally).\n",
        "r=0: No correlation (no relationship between the variables)."
      ],
      "metadata": {
        "id": "egRQ14eh6Bxl"
      }
    },
    {
      "cell_type": "markdown",
      "source": [
        "### 3. Define Machine Learning. What are the main components in Machine Learning?\n",
        "\n",
        "Ans...Machine Learning (ML) is a subset of Artificial Intelligence (AI) that focuses on building systems that can learn from and make decisions or predictions based on data. Instead of being explicitly programmed, ML algorithms use statistical techniques to identify patterns and improve performance over time.\n",
        "\n",
        "### **Main Components of Machine Learning**\n",
        "\n",
        "Machine Learning systems generally consist of the following key components:\n",
        "\n",
        "#### 1. **Data**\n",
        "   - **Description**: Data serves as the foundation of any ML model. It includes raw information collected from various sources.\n",
        "   - **Types**:\n",
        "     - **Training Data**: Used to train the model.\n",
        "     - **Validation Data**: Used to tune the model.\n",
        "     - **Test Data**: Used to evaluate the model's performance.\n",
        "   - **Example**: Images, text, sensor readings, transaction records.\n",
        "\n",
        "#### 2. **Features**\n",
        "   - **Description**: Features are specific measurable properties or attributes of the data.\n",
        "   - **Feature Engineering**:\n",
        "     - Selecting relevant features.\n",
        "     - Creating new features from raw data (e.g., extracting \"age\" from a birth date).\n",
        "   - **Example**: In a house price prediction model, features might include square footage, number of bedrooms, and location.\n",
        "\n",
        "#### 3. **Model**\n",
        "   - **Description**: A mathematical representation of a real-world process, designed to map inputs (features) to outputs (predictions).\n",
        "   - **Types**:\n",
        "     - Supervised Learning Models (e.g., Linear Regression, Neural Networks).\n",
        "     - Unsupervised Learning Models (e.g., K-Means Clustering).\n",
        "     - Reinforcement Learning Models (e.g., Q-Learning).\n",
        "   - **Example**: A decision tree that predicts whether a customer will purchase a product.\n",
        "\n",
        "#### 4. **Algorithm**\n",
        "   - **Description**: A procedure or set of rules the model follows to learn patterns from the data.\n",
        "   - **Types**:\n",
        "     - Optimization Algorithms (e.g., Gradient Descent).\n",
        "     - Training Algorithms (e.g., Backpropagation for neural networks).\n",
        "   - **Example**: A support vector machine (SVM) uses optimization techniques to find the hyperplane that best separates data points.\n",
        "\n",
        "#### 5. **Loss Function**\n",
        "   - **Description**: A measure of the difference between the predicted output and the actual output.\n",
        "   - **Purpose**: Guides the optimization process by quantifying errors.\n",
        "   - **Example**:\n",
        "     - Mean Squared Error (MSE) for regression.\n",
        "     - Cross-Entropy Loss for classification.\n",
        "\n",
        "#### 6. **Optimization Algorithm**\n",
        "   - **Description**: The method used to minimize the loss function and improve model performance.\n",
        "   - **Examples**:\n",
        "     - Gradient Descent.\n",
        "     - Adam Optimizer.\n",
        "   - **Purpose**: Adjusts model parameters (weights and biases) to improve predictions.\n",
        "\n",
        "#### 7. **Evaluation Metrics**\n",
        "   - **Description**: Metrics used to assess the performance of a trained model.\n",
        "   - **Examples**:\n",
        "     - Accuracy, Precision, Recall, F1-Score (for classification).\n",
        "     - Mean Absolute Error (MAE) or R² Score (for regression).\n",
        "\n",
        "#### 8. **Hyperparameters**\n",
        "   - **Description**: Configurations set before training that control the learning process.\n",
        "   - **Examples**:\n",
        "     - Learning rate.\n",
        "     - Number of layers in a neural network.\n",
        "     - Maximum depth of a decision tree.\n",
        "\n",
        "#### 9. **Deployment**\n",
        "   - **Description**: Integrating the trained model into a production environment for real-world use.\n",
        "   - **Examples**:\n",
        "     - A recommendation system in an e-commerce platform.\n",
        "     - A fraud detection system for banking transactions.\n",
        "\n"
      ],
      "metadata": {
        "id": "oJaYkNEG6ApP"
      }
    },
    {
      "cell_type": "markdown",
      "source": [
        "### 4.How does loss value help in determining whether the model is good or not?\n",
        "\n",
        "Ans...The loss value helps determine whether a machine learning model is good or not by quantifying how well the model’s predictions match the actual target values. It acts as a feedback mechanism during training and evaluation to guide model improvement and assess its performance.\n",
        "\n",
        "### **How Loss Value Determines Model Quality**\n",
        "\n",
        "1. **Quantifies Prediction Errors**:\n",
        "   - The loss value represents the error between the model's predicted output and the true values.\n",
        "   - A **low loss value** indicates the model is making predictions close to the actual targets, implying good performance.\n",
        "   - A **high loss value** signals significant errors, suggesting the model needs further improvement.\n",
        "\n",
        "2. **Guides Training Progress**:\n",
        "   - The optimization process (e.g., gradient descent) minimizes the loss value by adjusting the model's parameters.\n",
        "   - A consistently **decreasing loss** during training implies the model is learning effectively.\n",
        "   - A stagnating or oscillating loss suggests potential problems like poor learning rate or a suboptimal model architecture.\n",
        "\n",
        "3. **Differentiates Overfitting and Underfitting**:\n",
        "   - **Overfitting**: If the training loss is very low, but the validation loss is much higher, the model may be overfitting, i.e., performing well on the training data but poorly on new data.\n",
        "   - **Underfitting**: If both training and validation loss remain high, the model might not be complex enough to capture the patterns in the data.\n",
        "\n",
        "4. **Evaluates Generalization**:\n",
        "   - By comparing loss values across training, validation, and test datasets, the model’s ability to generalize to unseen data can be assessed.\n",
        "   - A good model exhibits similar loss values on all datasets.\n",
        "\n",
        "   \n",
        "\n",
        "\n",
        "\n",
        "### 5. What are continuous and categorical variables?\n",
        "\n",
        "Ans...**Continuous variables** and **categorical variables** are two types of data that describe different kinds of information in datasets.\n",
        "\n",
        "### **Continuous Variables**\n",
        "- **Definition**: Variables that can take any value within a range. These values are measurable and often represent quantities.\n",
        "- **Characteristics**:\n",
        "  - They can have fractional values (e.g., 3.14, 75.6).\n",
        "  - They are typically numeric.\n",
        "  - They represent data on a continuous scale.\n",
        "\n",
        "- **Examples**:\n",
        "  - Temperature (\\(25.3^\\circ C\\)).\n",
        "  - Height (175.4 cm).\n",
        "  - Weight (68.9 kg).\n",
        "  - Time taken to complete a task (4.5 hours).\n",
        "\n",
        "- **Use in ML/Statistics**:\n",
        "  - Often used in regression analysis.\n",
        "  - May require normalization or scaling to standardize ranges.\n",
        "\n",
        "### **Categorical Variables**\n",
        "- **Definition**: Variables that represent distinct categories or groups. These values often describe qualities or characteristics.\n",
        "- **Characteristics**:\n",
        "  - They take on a limited, fixed number of possible values.\n",
        "  - They can be **nominal** (no intrinsic order) or **ordinal** (ordered categories).\n",
        "  - Often represented as strings or integers.\n",
        "\n",
        "- **Examples**:\n",
        "  - Nominal:\n",
        "    - Colors (Red, Blue, Green).\n",
        "    - Gender (Male, Female).\n",
        "    - Types of animals (Dog, Cat, Bird).\n",
        "  - Ordinal:\n",
        "    - Educational levels (High School, Bachelor’s, Master’s, PhD).\n",
        "    - Customer ratings (1-star, 2-star, 3-star, etc.).\n",
        "\n",
        "  - Use in ML/Statistics:\n",
        "\n",
        "   - Typically encoded into numeric form (e.g., one-hot encoding, label encoding) for use in machine learning algorithms.\n",
        "\n",
        "\n",
        "\n"
      ],
      "metadata": {
        "id": "ID30oUGQZ4L5"
      }
    },
    {
      "cell_type": "markdown",
      "source": [
        "### 6.How do we handle categorical variables in Machine Learning? What are the common techniques?\n",
        "\n",
        "Ans... Handling Categorical Variables in Machine Learning\n",
        "\n",
        "Categorical variables represent distinct categories or groups, and since most machine learning algorithms work with numerical data, these variables need to be transformed into a numeric format. The method chosen depends on the type of categorical variable (nominal or ordinal), the algorithm, and the dataset's properties (e.g., number of unique categories).\n",
        "\n",
        "### **Common Techniques for Handling Categorical Variables**\n",
        "\n",
        "#### 1. **Label Encoding**\n",
        "   -Assigns a unique integer to each category.\n",
        "   - Convert categories to integers (e.g., \"Red\" → 0, \"Blue\" → 1, \"Green\" → 2).\n",
        "  \n",
        "#### 2. **One-Hot Encoding**\n",
        "   - Converts categories into binary columns.\n",
        "   - For each category, a separate binary column is created(1 for presence, 0 for absence).\n",
        "\n",
        "#### 3. **Frequency Encoding**\n",
        "   - Replaces each category with its frequency or proportion in the dataset.\n",
        "   - Map categories to the number of occurrences or their relative frequency.\n",
        "\n",
        "#### 4. **Target Encoding**\n",
        "   - Encodes categories based on the mean of the target variable for each category.\n",
        "   - Replace each category with the average value of the target variable (e.g., mean sales for each product category).\n",
        "\n",
        "#### 5. **Binary Encoding**\n",
        "   - Combines features of label encoding and one-hot encoding by converting integers (from label encoding) into binary code.\n",
        "     - Each category is first assigned an integer and then converted into binary representation.\n",
        "   \n",
        "#### 6. **Hash Encoding**\n",
        "   Uses a hash function to map categories to numerical values.\n",
        "     - Each category is hashed into a fixed number of bins.\n",
        "\n",
        "#### 7. **Embedding Layers (Neural Networks)**\n",
        "   - Represents categories as dense, continuous vectors using embeddings in deep learning models.\n",
        "     - Neural networks learn low-dimensional embeddings for each category during training.\n",
        "   \n",
        "\n",
        "### **Choosing the Right Technique**\n",
        "- **Nominal Variables**:\n",
        "  - Use one-hot encoding for small to moderate cardinality.\n",
        "  - Use frequency encoding or hashing for high-cardinality variables.\n",
        "  \n",
        "- **Ordinal Variables**:\n",
        "  - Use label encoding or custom ordinal mapping.\n",
        "  \n",
        "- **High-Cardinality Variables**:\n",
        "  - Use frequency encoding, target encoding, or embeddings.\n",
        "  \n",
        "- **Scalability Concerns**:\n",
        "  - Avoid one-hot encoding for very high-cardinality data.\n",
        "\n",
        "By choosing the right encoding technique, you ensure that categorical variables are transformed effectively, improving model performance while avoiding overfitting or excessive dimensionality."
      ],
      "metadata": {
        "id": "HMXvr8jczdOe"
      }
    },
    {
      "cell_type": "markdown",
      "source": [
        "###7. What do you mean by training and testing a dataset?\n",
        "\n",
        " Ans...The training dataset: is the portion of the dataset used to train the machine learning model. It is the data the model sees and learns from to understand patterns, relationships, and trends.\n",
        "\n",
        "  The testing dataset : is a separate portion of the data used to evaluate the performance of the trained model. It is unseen data for the model, meaning it was not used during training."
      ],
      "metadata": {
        "id": "0u_Xj1v3XD6j"
      }
    },
    {
      "cell_type": "markdown",
      "source": [
        "###8. What is sklearn.preprocessing?\n",
        "\n",
        "Ans...The sklearn.preprocessing module in the Scikit-learn library provides tools for preprocessing data before using it in machine learning models. Preprocessing transforms raw data into a format suitable for modeling by scaling, normalizing, encoding, or imputing missing values."
      ],
      "metadata": {
        "id": "kTyaYF3QX7_U"
      }
    },
    {
      "cell_type": "markdown",
      "source": [
        "###9. What is a Test set?\n",
        "\n",
        "Ans...The test set is a subset of the dataset used to evaluate the final performance of a trained machine learning model. It contains data that the model has never seen during training or validation, making it a true measure of the model’s ability to generalize to new, unseen data."
      ],
      "metadata": {
        "id": "D4QgTX7Xc8hB"
      }
    },
    {
      "cell_type": "markdown",
      "source": [
        "### 10.How do we split data for model fitting (training and testing) in Python?How do you approach a Machine Learning problem?\n",
        "\n",
        "Ans...The typical way to split data for training and testing in Python is by using train_test_split from the sklearn.model_selection module. This function allows us to easily divide your dataset into training and testing subsets."
      ],
      "metadata": {
        "id": "GDxIgFmbC5W-"
      }
    },
    {
      "cell_type": "code",
      "source": [
        "from sklearn.model_selection import train_test_split\n",
        "\n",
        "# Example data (features and target)\n",
        "X = [[1, 2], [3, 4], [5, 6], [7, 8], [9, 10]]  # Features\n",
        "y = [0, 1, 0, 1, 0]  # Target variable\n",
        "\n",
        "# Split the data\n",
        "X_train, X_test, y_train, y_test = train_test_split(X, y, test_size=0.2, random_state=42)\n",
        "\n",
        "# Print results\n",
        "print(\"Training Features:\", X_train)\n",
        "print(\"Testing Features:\", X_test)\n",
        "print(\"Training Target:\", y_train)\n",
        "print(\"Testing Target:\", y_test)\n"
      ],
      "metadata": {
        "colab": {
          "base_uri": "https://localhost:8080/"
        },
        "id": "kPUpv-Kq5PVh",
        "outputId": "c50fefd3-0646-4158-a1b0-c340dc17c8f0"
      },
      "execution_count": null,
      "outputs": [
        {
          "output_type": "stream",
          "name": "stdout",
          "text": [
            "Training Features: [[9, 10], [5, 6], [1, 2], [7, 8]]\n",
            "Testing Features: [[3, 4]]\n",
            "Training Target: [0, 0, 0, 1]\n",
            "Testing Target: [1]\n"
          ]
        }
      ]
    },
    {
      "cell_type": "markdown",
      "source": [
        "\n",
        "\n",
        "Approaching a machine learning problem involves a structured process. Here is a detailed guide:\n",
        "\n",
        "#### **Step 1: Understand the Problem**\n",
        "1. **Define the Objective**:\n",
        "   - What are you trying to predict or classify? (e.g., \"Predict house prices\" or \"Classify spam emails\").\n",
        "   \n",
        "2. **Understand the Data**:\n",
        "   - What does the dataset represent?\n",
        "   - What is the target variable (label)?\n",
        "   - What features (independent variables) are available?\n",
        "\n",
        "3. **Define Success Criteria**:\n",
        "   - Choose appropriate metrics (e.g., accuracy, F1-score, RMSE) to evaluate the model.\n",
        "\n",
        "---\n",
        "\n",
        "#### **Step 2: Data Collection**\n",
        "1. Gather data from available sources (e.g., databases, APIs, or web scraping).\n",
        "2. Ensure the data is sufficient and representative for the task.\n",
        "\n",
        "---\n",
        "\n",
        "#### **Step 3: Exploratory Data Analysis (EDA)**\n",
        "1. **Understand the Dataset**:\n",
        "   - Summarize using statistics (`.describe()`, `.info()`) and visualizations (e.g., histograms, scatterplots).\n",
        "   \n",
        "2. **Identify Data Issues**:\n",
        "   - Missing values.\n",
        "   - Outliers.\n",
        "   - Skewed distributions.\n",
        "\n",
        "3. **Understand Relationships**:\n",
        "   - Correlations between features and the target variable.\n",
        "   - Dependencies or multicollinearity among features.\n",
        "\n",
        "---\n",
        "\n",
        "#### **Step 4: Data Preprocessing**\n",
        "1. **Handle Missing Values**:\n",
        "   - Impute using mean, median, or a constant.\n",
        "   - Drop rows or columns if missing values are excessive.\n",
        "   \n",
        "2. **Feature Engineering**:\n",
        "   - Create new features that could improve the model.\n",
        "   - Transform variables (e.g., log, square root).\n",
        "\n",
        "3. **Encoding Categorical Variables**:\n",
        "   - Use label encoding, one-hot encoding, or target encoding.\n",
        "\n",
        "4. **Feature Scaling**:\n",
        "   - Standardize (using `StandardScaler`) or normalize (using `MinMaxScaler`) features for algorithms sensitive to scale.\n",
        "\n",
        "---\n",
        "\n",
        "#### **Step 5: Split Data**\n",
        "- Split into **training** and **testing** datasets using `train_test_split`.\n",
        "- Optionally, use a **validation set** for hyperparameter tuning.\n",
        "\n",
        "---\n",
        "\n",
        "#### **Step 6: Model Selection**\n",
        "1. **Choose a Baseline Model**:\n",
        "   - Start with simple models (e.g., linear regression, logistic regression).\n",
        "   \n",
        "2. **Try Advanced Models**:\n",
        "   - Use more complex algorithms (e.g., decision trees, random forests, gradient boosting, or neural networks) as necessary.\n",
        "\n",
        "3. **Ensemble Methods**:\n",
        "   - Combine multiple models (e.g., bagging, boosting) to improve performance.\n",
        "\n",
        "---\n",
        "\n",
        "#### **Step 7: Train the Model**\n",
        "1. Fit the model on the training data.\n",
        "2. Evaluate its performance on the validation set.\n",
        "3. Tune hyperparameters using techniques like grid search or random search.\n",
        "\n",
        "---\n",
        "\n",
        "#### **Step 8: Evaluate on Test Data**\n",
        "1. Use the unseen test dataset for final evaluation.\n",
        "2. Calculate relevant performance metrics (e.g., accuracy, precision, recall, RMSE).\n",
        "\n",
        "---\n",
        "\n",
        "#### **Step 9: Deployment**\n",
        "1. Save the model using tools like `joblib` or `pickle`.\n",
        "2. Integrate the model into production systems (e.g., web applications, APIs).\n",
        "\n",
        "\n",
        "\n",
        "#### **Approaching a Machine Learning Problem**:\n",
        "1. Understand the problem and data.\n",
        "2. Perform EDA and preprocessing.\n",
        "3. Split the data.\n",
        "4. Train, validate, and test models.\n",
        "5. Evaluate and deploy the model.\n",
        "\n",
        "This structured approach ensures clarity, efficiency, and improved model performance."
      ],
      "metadata": {
        "id": "xcVC6zmlChPx"
      }
    },
    {
      "cell_type": "markdown",
      "source": [
        "### 11. Why do we have to perform EDA before fitting a model to the data?\n",
        "\n",
        "Ans...Exploratory Data Analysis (EDA) is a critical step in the machine learning pipeline. It involves summarizing and visualizing the data to understand its structure, detect patterns, and identify potential problems before proceeding to model training."
      ],
      "metadata": {
        "id": "txd9fM2eD5C6"
      }
    },
    {
      "cell_type": "markdown",
      "source": [
        "### 12. What is correlation?\n",
        "\n",
        "Ans...Correlation is a statistical measure that expresses the extent to which two variables are linearly related. In simple terms, it quantifies the strength and direction of a relationship between two variables."
      ],
      "metadata": {
        "id": "QjnAwmfYQisV"
      }
    },
    {
      "cell_type": "code",
      "source": [
        "import pandas as pd\n",
        "import seaborn as sns\n",
        "import matplotlib.pyplot as plt\n",
        "\n",
        "# Sample data\n",
        "data = {\n",
        "    \"Hours_Studied\": [1, 2, 3, 4, 5],\n",
        "    \"Exam_Score\": [50, 60, 70, 80, 90],\n",
        "}\n",
        "df = pd.DataFrame(data)\n",
        "\n",
        "# Correlation heatmap\n",
        "sns.heatmap(df.corr(), annot=True, cmap=\"coolwarm\")\n",
        "plt.title(\"Correlation Heatmap\")\n",
        "plt.show()\n"
      ],
      "metadata": {
        "id": "PlUfN1e5EKub",
        "colab": {
          "base_uri": "https://localhost:8080/",
          "height": 452
        },
        "outputId": "822bb0ea-823a-476f-8177-6380c297d5b6"
      },
      "execution_count": 13,
      "outputs": [
        {
          "output_type": "display_data",
          "data": {
            "text/plain": [
              "<Figure size 640x480 with 2 Axes>"
            ],
            "image/png": "[encoded data removed]"
          },
          "metadata": {}
        }
      ]
    },
    {
      "cell_type": "markdown",
      "source": [
        "### 13. What does negative correlation mean?\n",
        "Ans...A negative correlation means that as one variable increases, the other variable decreases, and vice versa. In other words, the variables move in opposite directions.\n",
        "\n"
      ],
      "metadata": {
        "id": "NJw7VN3sUSTr"
      }
    },
    {
      "cell_type": "code",
      "source": [
        "import matplotlib.pyplot as plt\n",
        "import numpy as np\n",
        "\n",
        "# Sample data\n",
        "x = np.array([1, 2, 3, 4, 5])\n",
        "y = np.array([10, 8, 6, 4, 2])\n",
        "\n",
        "# Plot\n",
        "plt.scatter(x, y, color=\"blue\")\n",
        "plt.title(\"Negative Correlation\")\n",
        "plt.xlabel(\"X\")\n",
        "plt.ylabel(\"Y\")\n",
        "plt.show()\n"
      ],
      "metadata": {
        "colab": {
          "base_uri": "https://localhost:8080/",
          "height": 472
        },
        "id": "_sbT9-oPUe_C",
        "outputId": "442b76f7-3b3e-4739-e5f7-a8d07795335a"
      },
      "execution_count": 14,
      "outputs": [
        {
          "output_type": "display_data",
          "data": {
            "text/plain": [
              "<Figure size 640x480 with 1 Axes>"
            ],
            "image/png": "[encoded data removed]"
          },
          "metadata": {}
        }
      ]
    },
    {
      "cell_type": "markdown",
      "source": [
        "### 14. How can you find correlation between variables in Python?\n",
        "\n",
        "\n",
        "Ans...Python provides various methods to compute the correlation between variables. The most commonly used approaches are through the Pandas library, NumPy, and SciPy. These tools help calculate and visualize correlations for effective data analysis."
      ],
      "metadata": {
        "id": "Xw1FXwg-Uuyw"
      }
    },
    {
      "cell_type": "code",
      "source": [
        "import pandas as pd\n",
        "\n",
        "# Sample data\n",
        "data = {\n",
        "    \"Temperature\": [30, 35, 40, 45, 50],\n",
        "    \"IceCreamSales\": [200, 220, 250, 280, 300],\n",
        "    \"Rainfall\": [5, 4, 3, 2, 1]\n",
        "}\n",
        "df = pd.DataFrame(data)\n",
        "\n",
        "# Calculate correlation matrix\n",
        "correlation_matrix = df.corr()\n",
        "print(correlation_matrix)\n"
      ],
      "metadata": {
        "colab": {
          "base_uri": "https://localhost:8080/"
        },
        "id": "3Z7v29jKU0B2",
        "outputId": "c0aa8881-23d0-4043-d345-2e09407a15c4"
      },
      "execution_count": 15,
      "outputs": [
        {
          "output_type": "stream",
          "name": "stdout",
          "text": [
            "               Temperature  IceCreamSales  Rainfall\n",
            "Temperature       1.000000       0.997054 -1.000000\n",
            "IceCreamSales     0.997054       1.000000 -0.997054\n",
            "Rainfall         -1.000000      -0.997054  1.000000\n"
          ]
        }
      ]
    },
    {
      "cell_type": "markdown",
      "source": [
        "### 15. What is causation? Explain difference between correlation and causation with an example.\n",
        "\n",
        "Ans...Causation refers to a relationship between two variables where one variable directly influences or causes a change in the other. In causation, a change in one variable (the cause) will result in a predictable and consistent change in another variable (the effect).\n",
        "- difference between correlation and causation :\n",
        "\n",
        "- Correlation: Indicates association but does not imply one variable affects the other.\n",
        "\n",
        "- Causation: Proves one variable directly impacts the other. Understanding the distinction helps prevent incorrect assumptions and improves the reliability of analysis and decision-making"
      ],
      "metadata": {
        "id": "ENcs1o99Vcxz"
      }
    },
    {
      "cell_type": "code",
      "source": [
        "import pandas as pd\n",
        "import numpy as np\n",
        "\n",
        "# Data: Ice Cream Sales and Drowning Rates\n",
        "data = {\n",
        "    \"IceCreamSales\": [100, 200, 300, 400, 500],\n",
        "    \"DrowningRates\": [2, 4, 6, 8, 10]\n",
        "}\n",
        "df = pd.DataFrame(data)\n",
        "\n",
        "# Calculate Correlation\n",
        "correlation = df.corr()\n",
        "print(correlation)\n"
      ],
      "metadata": {
        "colab": {
          "base_uri": "https://localhost:8080/"
        },
        "id": "X2YzWEiDVx2S",
        "outputId": "4e3d4a47-5e6e-4576-9c63-b9e657e5e133"
      },
      "execution_count": 16,
      "outputs": [
        {
          "output_type": "stream",
          "name": "stdout",
          "text": [
            "               IceCreamSales  DrowningRates\n",
            "IceCreamSales            1.0            1.0\n",
            "DrowningRates            1.0            1.0\n"
          ]
        }
      ]
    },
    {
      "cell_type": "markdown",
      "source": [
        "### 16. What is an Optimizer? What are different types of optimizers? Explain each with an example.\n",
        "\n",
        "Ans...An optimizer is a key component in machine learning and deep learning that adjusts the weights and biases of a model to minimize the loss function during training. The goal of an optimizer is to find the optimal set of model parameters that result in the best performance for the given task.\n",
        "\n",
        "Types of Optimizers\n",
        "1. Gradient Descent (GD)\n",
        "Description: Iteratively updates parameters by moving in the direction of the negative gradient of the loss function."
      ],
      "metadata": {
        "id": "rqo9xtrElGkD"
      }
    },
    {
      "cell_type": "markdown",
      "source": [
        "### 17. What is sklearn.linear_model ?\n",
        "\n",
        "Ans... Sklearn.linear_model is a module in the Scikit-learn library that contains classes and functions for implementing linear models in Python. Linear models are fundamental in machine learning and are used for tasks such as regression and classification.\n",
        "\n"
      ],
      "metadata": {
        "id": "bAUGrk87w__U"
      }
    },
    {
      "cell_type": "markdown",
      "source": [
        "### 18. What does model.fit() do? What arguments must be given?\n",
        "\n",
        "Ans... The model.fit() method in machine learning libraries such as Scikit-learn is used to train a model. It takes the training data as input and adjusts the model’s internal parameters (like weights) to minimize the loss function or optimize the prediction performance."
      ],
      "metadata": {
        "id": "v1N0SL7f42cM"
      }
    },
    {
      "cell_type": "code",
      "source": [
        "from sklearn.linear_model import LinearRegression\n",
        "\n",
        "# Example dataset\n",
        "X_train = [[1], [2], [3], [4]]\n",
        "y_train = [2, 4, 6, 8]\n",
        "\n",
        "# Create and fit the model\n",
        "model = LinearRegression()\n",
        "model.fit(X_train, y_train)\n"
      ],
      "metadata": {
        "colab": {
          "base_uri": "https://localhost:8080/",
          "height": 80
        },
        "id": "izzmpH1i5bKO",
        "outputId": "f5492d49-251c-4fdd-f03f-17bf74b437c2"
      },
      "execution_count": 20,
      "outputs": [
        {
          "output_type": "execute_result",
          "data": {
            "text/plain": [
              "LinearRegression()"
            ],
            "text/html": [
              "<style>#sk-container-id-1 {\n",
              "  /* Definition of color scheme common for light and dark mode */\n",
              "  --sklearn-color-text: #000;\n",
              "  --sklearn-color-text-muted: #666;\n",
              "  --sklearn-color-line: gray;\n",
              "  /* Definition of color scheme for unfitted estimators */\n",
              "  --sklearn-color-unfitted-level-0: #fff5e6;\n",
              "  --sklearn-color-unfitted-level-1: #f6e4d2;\n",
              "  --sklearn-color-unfitted-level-2: #ffe0b3;\n",
              "  --sklearn-color-unfitted-level-3: chocolate;\n",
              "  /* Definition of color scheme for fitted estimators */\n",
              "  --sklearn-color-fitted-level-0: #f0f8ff;\n",
              "  --sklearn-color-fitted-level-1: #d4ebff;\n",
              "  --sklearn-color-fitted-level-2: #b3dbfd;\n",
              "  --sklearn-color-fitted-level-3: cornflowerblue;\n",
              "\n",
              "  /* Specific color for light theme */\n",
              "  --sklearn-color-text-on-default-background: var(--sg-text-color, var(--theme-code-foreground, var(--jp-content-font-color1, black)));\n",
              "  --sklearn-color-background: var(--sg-background-color, var(--theme-background, var(--jp-layout-color0, white)));\n",
              "  --sklearn-color-border-box: var(--sg-text-color, var(--theme-code-foreground, var(--jp-content-font-color1, black)));\n",
              "  --sklearn-color-icon: #696969;\n",
              "\n",
              "  @media (prefers-color-scheme: dark) {\n",
              "    /* Redefinition of color scheme for dark theme */\n",
              "    --sklearn-color-text-on-default-background: var(--sg-text-color, var(--theme-code-foreground, var(--jp-content-font-color1, white)));\n",
              "    --sklearn-color-background: var(--sg-background-color, var(--theme-background, var(--jp-layout-color0, #111)));\n",
              "    --sklearn-color-border-box: var(--sg-text-color, var(--theme-code-foreground, var(--jp-content-font-color1, white)));\n",
              "    --sklearn-color-icon: #878787;\n",
              "  }\n",
              "}\n",
              "\n",
              "#sk-container-id-1 {\n",
              "  color: var(--sklearn-color-text);\n",
              "}\n",
              "\n",
              "#sk-container-id-1 pre {\n",
              "  padding: 0;\n",
              "}\n",
              "\n",
              "#sk-container-id-1 input.sk-hidden--visually {\n",
              "  border: 0;\n",
              "  clip: rect(1px 1px 1px 1px);\n",
              "  clip: rect(1px, 1px, 1px, 1px);\n",
              "  height: 1px;\n",
              "  margin: -1px;\n",
              "  overflow: hidden;\n",
              "  padding: 0;\n",
              "  position: absolute;\n",
              "  width: 1px;\n",
              "}\n",
              "\n",
              "#sk-container-id-1 div.sk-dashed-wrapped {\n",
              "  border: 1px dashed var(--sklearn-color-line);\n",
              "  margin: 0 0.4em 0.5em 0.4em;\n",
              "  box-sizing: border-box;\n",
              "  padding-bottom: 0.4em;\n",
              "  background-color: var(--sklearn-color-background);\n",
              "}\n",
              "\n",
              "#sk-container-id-1 div.sk-container {\n",
              "  /* jupyter's `normalize.less` sets `[hidden] { display: none; }`\n",
              "     but bootstrap.min.css set `[hidden] { display: none !important; }`\n",
              "     so we also need the `!important` here to be able to override the\n",
              "     default hidden behavior on the sphinx rendered scikit-learn.org.\n",
              "     See: https://github.com/scikit-learn/scikit-learn/issues/21755 */\n",
              "  display: inline-block !important;\n",
              "  position: relative;\n",
              "}\n",
              "\n",
              "#sk-container-id-1 div.sk-text-repr-fallback {\n",
              "  display: none;\n",
              "}\n",
              "\n",
              "div.sk-parallel-item,\n",
              "div.sk-serial,\n",
              "div.sk-item {\n",
              "  /* draw centered vertical line to link estimators */\n",
              "  background-image: linear-gradient(var(--sklearn-color-text-on-default-background), var(--sklearn-color-text-on-default-background));\n",
              "  background-size: 2px 100%;\n",
              "  background-repeat: no-repeat;\n",
              "  background-position: center center;\n",
              "}\n",
              "\n",
              "/* Parallel-specific style estimator block */\n",
              "\n",
              "#sk-container-id-1 div.sk-parallel-item::after {\n",
              "  content: \"\";\n",
              "  width: 100%;\n",
              "  border-bottom: 2px solid var(--sklearn-color-text-on-default-background);\n",
              "  flex-grow: 1;\n",
              "}\n",
              "\n",
              "#sk-container-id-1 div.sk-parallel {\n",
              "  display: flex;\n",
              "  align-items: stretch;\n",
              "  justify-content: center;\n",
              "  background-color: var(--sklearn-color-background);\n",
              "  position: relative;\n",
              "}\n",
              "\n",
              "#sk-container-id-1 div.sk-parallel-item {\n",
              "  display: flex;\n",
              "  flex-direction: column;\n",
              "}\n",
              "\n",
              "#sk-container-id-1 div.sk-parallel-item:first-child::after {\n",
              "  align-self: flex-end;\n",
              "  width: 50%;\n",
              "}\n",
              "\n",
              "#sk-container-id-1 div.sk-parallel-item:last-child::after {\n",
              "  align-self: flex-start;\n",
              "  width: 50%;\n",
              "}\n",
              "\n",
              "#sk-container-id-1 div.sk-parallel-item:only-child::after {\n",
              "  width: 0;\n",
              "}\n",
              "\n",
              "/* Serial-specific style estimator block */\n",
              "\n",
              "#sk-container-id-1 div.sk-serial {\n",
              "  display: flex;\n",
              "  flex-direction: column;\n",
              "  align-items: center;\n",
              "  background-color: var(--sklearn-color-background);\n",
              "  padding-right: 1em;\n",
              "  padding-left: 1em;\n",
              "}\n",
              "\n",
              "\n",
              "/* Toggleable style: style used for estimator/Pipeline/ColumnTransformer box that is\n",
              "clickable and can be expanded/collapsed.\n",
              "- Pipeline and ColumnTransformer use this feature and define the default style\n",
              "- Estimators will overwrite some part of the style using the `sk-estimator` class\n",
              "*/\n",
              "\n",
              "/* Pipeline and ColumnTransformer style (default) */\n",
              "\n",
              "#sk-container-id-1 div.sk-toggleable {\n",
              "  /* Default theme specific background. It is overwritten whether we have a\n",
              "  specific estimator or a Pipeline/ColumnTransformer */\n",
              "  background-color: var(--sklearn-color-background);\n",
              "}\n",
              "\n",
              "/* Toggleable label */\n",
              "#sk-container-id-1 label.sk-toggleable__label {\n",
              "  cursor: pointer;\n",
              "  display: flex;\n",
              "  width: 100%;\n",
              "  margin-bottom: 0;\n",
              "  padding: 0.5em;\n",
              "  box-sizing: border-box;\n",
              "  text-align: center;\n",
              "  align-items: start;\n",
              "  justify-content: space-between;\n",
              "  gap: 0.5em;\n",
              "}\n",
              "\n",
              "#sk-container-id-1 label.sk-toggleable__label .caption {\n",
              "  font-size: 0.6rem;\n",
              "  font-weight: lighter;\n",
              "  color: var(--sklearn-color-text-muted);\n",
              "}\n",
              "\n",
              "#sk-container-id-1 label.sk-toggleable__label-arrow:before {\n",
              "  /* Arrow on the left of the label */\n",
              "  content: \"▸\";\n",
              "  float: left;\n",
              "  margin-right: 0.25em;\n",
              "  color: var(--sklearn-color-icon);\n",
              "}\n",
              "\n",
              "#sk-container-id-1 label.sk-toggleable__label-arrow:hover:before {\n",
              "  color: var(--sklearn-color-text);\n",
              "}\n",
              "\n",
              "/* Toggleable content - dropdown */\n",
              "\n",
              "#sk-container-id-1 div.sk-toggleable__content {\n",
              "  max-height: 0;\n",
              "  max-width: 0;\n",
              "  overflow: hidden;\n",
              "  text-align: left;\n",
              "  /* unfitted */\n",
              "  background-color: var(--sklearn-color-unfitted-level-0);\n",
              "}\n",
              "\n",
              "#sk-container-id-1 div.sk-toggleable__content.fitted {\n",
              "  /* fitted */\n",
              "  background-color: var(--sklearn-color-fitted-level-0);\n",
              "}\n",
              "\n",
              "#sk-container-id-1 div.sk-toggleable__content pre {\n",
              "  margin: 0.2em;\n",
              "  border-radius: 0.25em;\n",
              "  color: var(--sklearn-color-text);\n",
              "  /* unfitted */\n",
              "  background-color: var(--sklearn-color-unfitted-level-0);\n",
              "}\n",
              "\n",
              "#sk-container-id-1 div.sk-toggleable__content.fitted pre {\n",
              "  /* unfitted */\n",
              "  background-color: var(--sklearn-color-fitted-level-0);\n",
              "}\n",
              "\n",
              "#sk-container-id-1 input.sk-toggleable__control:checked~div.sk-toggleable__content {\n",
              "  /* Expand drop-down */\n",
              "  max-height: 200px;\n",
              "  max-width: 100%;\n",
              "  overflow: auto;\n",
              "}\n",
              "\n",
              "#sk-container-id-1 input.sk-toggleable__control:checked~label.sk-toggleable__label-arrow:before {\n",
              "  content: \"▾\";\n",
              "}\n",
              "\n",
              "/* Pipeline/ColumnTransformer-specific style */\n",
              "\n",
              "#sk-container-id-1 div.sk-label input.sk-toggleable__control:checked~label.sk-toggleable__label {\n",
              "  color: var(--sklearn-color-text);\n",
              "  background-color: var(--sklearn-color-unfitted-level-2);\n",
              "}\n",
              "\n",
              "#sk-container-id-1 div.sk-label.fitted input.sk-toggleable__control:checked~label.sk-toggleable__label {\n",
              "  background-color: var(--sklearn-color-fitted-level-2);\n",
              "}\n",
              "\n",
              "/* Estimator-specific style */\n",
              "\n",
              "/* Colorize estimator box */\n",
              "#sk-container-id-1 div.sk-estimator input.sk-toggleable__control:checked~label.sk-toggleable__label {\n",
              "  /* unfitted */\n",
              "  background-color: var(--sklearn-color-unfitted-level-2);\n",
              "}\n",
              "\n",
              "#sk-container-id-1 div.sk-estimator.fitted input.sk-toggleable__control:checked~label.sk-toggleable__label {\n",
              "  /* fitted */\n",
              "  background-color: var(--sklearn-color-fitted-level-2);\n",
              "}\n",
              "\n",
              "#sk-container-id-1 div.sk-label label.sk-toggleable__label,\n",
              "#sk-container-id-1 div.sk-label label {\n",
              "  /* The background is the default theme color */\n",
              "  color: var(--sklearn-color-text-on-default-background);\n",
              "}\n",
              "\n",
              "/* On hover, darken the color of the background */\n",
              "#sk-container-id-1 div.sk-label:hover label.sk-toggleable__label {\n",
              "  color: var(--sklearn-color-text);\n",
              "  background-color: var(--sklearn-color-unfitted-level-2);\n",
              "}\n",
              "\n",
              "/* Label box, darken color on hover, fitted */\n",
              "#sk-container-id-1 div.sk-label.fitted:hover label.sk-toggleable__label.fitted {\n",
              "  color: var(--sklearn-color-text);\n",
              "  background-color: var(--sklearn-color-fitted-level-2);\n",
              "}\n",
              "\n",
              "/* Estimator label */\n",
              "\n",
              "#sk-container-id-1 div.sk-label label {\n",
              "  font-family: monospace;\n",
              "  font-weight: bold;\n",
              "  display: inline-block;\n",
              "  line-height: 1.2em;\n",
              "}\n",
              "\n",
              "#sk-container-id-1 div.sk-label-container {\n",
              "  text-align: center;\n",
              "}\n",
              "\n",
              "/* Estimator-specific */\n",
              "#sk-container-id-1 div.sk-estimator {\n",
              "  font-family: monospace;\n",
              "  border: 1px dotted var(--sklearn-color-border-box);\n",
              "  border-radius: 0.25em;\n",
              "  box-sizing: border-box;\n",
              "  margin-bottom: 0.5em;\n",
              "  /* unfitted */\n",
              "  background-color: var(--sklearn-color-unfitted-level-0);\n",
              "}\n",
              "\n",
              "#sk-container-id-1 div.sk-estimator.fitted {\n",
              "  /* fitted */\n",
              "  background-color: var(--sklearn-color-fitted-level-0);\n",
              "}\n",
              "\n",
              "/* on hover */\n",
              "#sk-container-id-1 div.sk-estimator:hover {\n",
              "  /* unfitted */\n",
              "  background-color: var(--sklearn-color-unfitted-level-2);\n",
              "}\n",
              "\n",
              "#sk-container-id-1 div.sk-estimator.fitted:hover {\n",
              "  /* fitted */\n",
              "  background-color: var(--sklearn-color-fitted-level-2);\n",
              "}\n",
              "\n",
              "/* Specification for estimator info (e.g. \"i\" and \"?\") */\n",
              "\n",
              "/* Common style for \"i\" and \"?\" */\n",
              "\n",
              ".sk-estimator-doc-link,\n",
              "a:link.sk-estimator-doc-link,\n",
              "a:visited.sk-estimator-doc-link {\n",
              "  float: right;\n",
              "  font-size: smaller;\n",
              "  line-height: 1em;\n",
              "  font-family: monospace;\n",
              "  background-color: var(--sklearn-color-background);\n",
              "  border-radius: 1em;\n",
              "  height: 1em;\n",
              "  width: 1em;\n",
              "  text-decoration: none !important;\n",
              "  margin-left: 0.5em;\n",
              "  text-align: center;\n",
              "  /* unfitted */\n",
              "  border: var(--sklearn-color-unfitted-level-1) 1pt solid;\n",
              "  color: var(--sklearn-color-unfitted-level-1);\n",
              "}\n",
              "\n",
              ".sk-estimator-doc-link.fitted,\n",
              "a:link.sk-estimator-doc-link.fitted,\n",
              "a:visited.sk-estimator-doc-link.fitted {\n",
              "  /* fitted */\n",
              "  border: var(--sklearn-color-fitted-level-1) 1pt solid;\n",
              "  color: var(--sklearn-color-fitted-level-1);\n",
              "}\n",
              "\n",
              "/* On hover */\n",
              "div.sk-estimator:hover .sk-estimator-doc-link:hover,\n",
              ".sk-estimator-doc-link:hover,\n",
              "div.sk-label-container:hover .sk-estimator-doc-link:hover,\n",
              ".sk-estimator-doc-link:hover {\n",
              "  /* unfitted */\n",
              "  background-color: var(--sklearn-color-unfitted-level-3);\n",
              "  color: var(--sklearn-color-background);\n",
              "  text-decoration: none;\n",
              "}\n",
              "\n",
              "div.sk-estimator.fitted:hover .sk-estimator-doc-link.fitted:hover,\n",
              ".sk-estimator-doc-link.fitted:hover,\n",
              "div.sk-label-container:hover .sk-estimator-doc-link.fitted:hover,\n",
              ".sk-estimator-doc-link.fitted:hover {\n",
              "  /* fitted */\n",
              "  background-color: var(--sklearn-color-fitted-level-3);\n",
              "  color: var(--sklearn-color-background);\n",
              "  text-decoration: none;\n",
              "}\n",
              "\n",
              "/* Span, style for the box shown on hovering the info icon */\n",
              ".sk-estimator-doc-link span {\n",
              "  display: none;\n",
              "  z-index: 9999;\n",
              "  position: relative;\n",
              "  font-weight: normal;\n",
              "  right: .2ex;\n",
              "  padding: .5ex;\n",
              "  margin: .5ex;\n",
              "  width: min-content;\n",
              "  min-width: 20ex;\n",
              "  max-width: 50ex;\n",
              "  color: var(--sklearn-color-text);\n",
              "  box-shadow: 2pt 2pt 4pt #999;\n",
              "  /* unfitted */\n",
              "  background: var(--sklearn-color-unfitted-level-0);\n",
              "  border: .5pt solid var(--sklearn-color-unfitted-level-3);\n",
              "}\n",
              "\n",
              ".sk-estimator-doc-link.fitted span {\n",
              "  /* fitted */\n",
              "  background: var(--sklearn-color-fitted-level-0);\n",
              "  border: var(--sklearn-color-fitted-level-3);\n",
              "}\n",
              "\n",
              ".sk-estimator-doc-link:hover span {\n",
              "  display: block;\n",
              "}\n",
              "\n",
              "/* \"?\"-specific style due to the `<a>` HTML tag */\n",
              "\n",
              "#sk-container-id-1 a.estimator_doc_link {\n",
              "  float: right;\n",
              "  font-size: 1rem;\n",
              "  line-height: 1em;\n",
              "  font-family: monospace;\n",
              "  background-color: var(--sklearn-color-background);\n",
              "  border-radius: 1rem;\n",
              "  height: 1rem;\n",
              "  width: 1rem;\n",
              "  text-decoration: none;\n",
              "  /* unfitted */\n",
              "  color: var(--sklearn-color-unfitted-level-1);\n",
              "  border: var(--sklearn-color-unfitted-level-1) 1pt solid;\n",
              "}\n",
              "\n",
              "#sk-container-id-1 a.estimator_doc_link.fitted {\n",
              "  /* fitted */\n",
              "  border: var(--sklearn-color-fitted-level-1) 1pt solid;\n",
              "  color: var(--sklearn-color-fitted-level-1);\n",
              "}\n",
              "\n",
              "/* On hover */\n",
              "#sk-container-id-1 a.estimator_doc_link:hover {\n",
              "  /* unfitted */\n",
              "  background-color: var(--sklearn-color-unfitted-level-3);\n",
              "  color: var(--sklearn-color-background);\n",
              "  text-decoration: none;\n",
              "}\n",
              "\n",
              "#sk-container-id-1 a.estimator_doc_link.fitted:hover {\n",
              "  /* fitted */\n",
              "  background-color: var(--sklearn-color-fitted-level-3);\n",
              "}\n",
              "</style><div id=\"sk-container-id-1\" class=\"sk-top-container\"><div class=\"sk-text-repr-fallback\"><pre>LinearRegression()</pre><b>In a Jupyter environment, please rerun this cell to show the HTML representation or trust the notebook. <br />On GitHub, the HTML representation is unable to render, please try loading this page with nbviewer.org.</b></div><div class=\"sk-container\" hidden><div class=\"sk-item\"><div class=\"sk-estimator fitted sk-toggleable\"><input class=\"sk-toggleable__control sk-hidden--visually\" id=\"sk-estimator-id-1\" type=\"checkbox\" checked><label for=\"sk-estimator-id-1\" class=\"sk-toggleable__label fitted sk-toggleable__label-arrow\"><div><div>LinearRegression</div></div><div><a class=\"sk-estimator-doc-link fitted\" rel=\"noreferrer\" target=\"_blank\" href=\"https://scikit-learn.org/1.6/modules/generated/sklearn.linear_model.LinearRegression.html\">?<span>Documentation for LinearRegression</span></a><span class=\"sk-estimator-doc-link fitted\">i<span>Fitted</span></span></div></label><div class=\"sk-toggleable__content fitted\"><pre>LinearRegression()</pre></div> </div></div></div></div>"
            ]
          },
          "metadata": {},
          "execution_count": 20
        }
      ]
    },
    {
      "cell_type": "code",
      "source": [
        "from sklearn.ensemble import RandomForestClassifier\n",
        "\n",
        "# Example dataset\n",
        "X_train = [[1, 2], [2, 3], [3, 4], [4, 5]]\n",
        "y_train = [0, 1, 0, 1]\n",
        "\n",
        "# Create and fit the model\n",
        "model = RandomForestClassifier()\n",
        "model.fit(X_train, y_train)\n"
      ],
      "metadata": {
        "colab": {
          "base_uri": "https://localhost:8080/",
          "height": 80
        },
        "id": "JL_IiXE95ydH",
        "outputId": "7c0a32f0-e496-4ab7-ec00-8f930c1a6c80"
      },
      "execution_count": 21,
      "outputs": [
        {
          "output_type": "execute_result",
          "data": {
            "text/plain": [
              "RandomForestClassifier()"
            ],
            "text/html": [
              "<style>#sk-container-id-2 {\n",
              "  /* Definition of color scheme common for light and dark mode */\n",
              "  --sklearn-color-text: #000;\n",
              "  --sklearn-color-text-muted: #666;\n",
              "  --sklearn-color-line: gray;\n",
              "  /* Definition of color scheme for unfitted estimators */\n",
              "  --sklearn-color-unfitted-level-0: #fff5e6;\n",
              "  --sklearn-color-unfitted-level-1: #f6e4d2;\n",
              "  --sklearn-color-unfitted-level-2: #ffe0b3;\n",
              "  --sklearn-color-unfitted-level-3: chocolate;\n",
              "  /* Definition of color scheme for fitted estimators */\n",
              "  --sklearn-color-fitted-level-0: #f0f8ff;\n",
              "  --sklearn-color-fitted-level-1: #d4ebff;\n",
              "  --sklearn-color-fitted-level-2: #b3dbfd;\n",
              "  --sklearn-color-fitted-level-3: cornflowerblue;\n",
              "\n",
              "  /* Specific color for light theme */\n",
              "  --sklearn-color-text-on-default-background: var(--sg-text-color, var(--theme-code-foreground, var(--jp-content-font-color1, black)));\n",
              "  --sklearn-color-background: var(--sg-background-color, var(--theme-background, var(--jp-layout-color0, white)));\n",
              "  --sklearn-color-border-box: var(--sg-text-color, var(--theme-code-foreground, var(--jp-content-font-color1, black)));\n",
              "  --sklearn-color-icon: #696969;\n",
              "\n",
              "  @media (prefers-color-scheme: dark) {\n",
              "    /* Redefinition of color scheme for dark theme */\n",
              "    --sklearn-color-text-on-default-background: var(--sg-text-color, var(--theme-code-foreground, var(--jp-content-font-color1, white)));\n",
              "    --sklearn-color-background: var(--sg-background-color, var(--theme-background, var(--jp-layout-color0, #111)));\n",
              "    --sklearn-color-border-box: var(--sg-text-color, var(--theme-code-foreground, var(--jp-content-font-color1, white)));\n",
              "    --sklearn-color-icon: #878787;\n",
              "  }\n",
              "}\n",
              "\n",
              "#sk-container-id-2 {\n",
              "  color: var(--sklearn-color-text);\n",
              "}\n",
              "\n",
              "#sk-container-id-2 pre {\n",
              "  padding: 0;\n",
              "}\n",
              "\n",
              "#sk-container-id-2 input.sk-hidden--visually {\n",
              "  border: 0;\n",
              "  clip: rect(1px 1px 1px 1px);\n",
              "  clip: rect(1px, 1px, 1px, 1px);\n",
              "  height: 1px;\n",
              "  margin: -1px;\n",
              "  overflow: hidden;\n",
              "  padding: 0;\n",
              "  position: absolute;\n",
              "  width: 1px;\n",
              "}\n",
              "\n",
              "#sk-container-id-2 div.sk-dashed-wrapped {\n",
              "  border: 1px dashed var(--sklearn-color-line);\n",
              "  margin: 0 0.4em 0.5em 0.4em;\n",
              "  box-sizing: border-box;\n",
              "  padding-bottom: 0.4em;\n",
              "  background-color: var(--sklearn-color-background);\n",
              "}\n",
              "\n",
              "#sk-container-id-2 div.sk-container {\n",
              "  /* jupyter's `normalize.less` sets `[hidden] { display: none; }`\n",
              "     but bootstrap.min.css set `[hidden] { display: none !important; }`\n",
              "     so we also need the `!important` here to be able to override the\n",
              "     default hidden behavior on the sphinx rendered scikit-learn.org.\n",
              "     See: https://github.com/scikit-learn/scikit-learn/issues/21755 */\n",
              "  display: inline-block !important;\n",
              "  position: relative;\n",
              "}\n",
              "\n",
              "#sk-container-id-2 div.sk-text-repr-fallback {\n",
              "  display: none;\n",
              "}\n",
              "\n",
              "div.sk-parallel-item,\n",
              "div.sk-serial,\n",
              "div.sk-item {\n",
              "  /* draw centered vertical line to link estimators */\n",
              "  background-image: linear-gradient(var(--sklearn-color-text-on-default-background), var(--sklearn-color-text-on-default-background));\n",
              "  background-size: 2px 100%;\n",
              "  background-repeat: no-repeat;\n",
              "  background-position: center center;\n",
              "}\n",
              "\n",
              "/* Parallel-specific style estimator block */\n",
              "\n",
              "#sk-container-id-2 div.sk-parallel-item::after {\n",
              "  content: \"\";\n",
              "  width: 100%;\n",
              "  border-bottom: 2px solid var(--sklearn-color-text-on-default-background);\n",
              "  flex-grow: 1;\n",
              "}\n",
              "\n",
              "#sk-container-id-2 div.sk-parallel {\n",
              "  display: flex;\n",
              "  align-items: stretch;\n",
              "  justify-content: center;\n",
              "  background-color: var(--sklearn-color-background);\n",
              "  position: relative;\n",
              "}\n",
              "\n",
              "#sk-container-id-2 div.sk-parallel-item {\n",
              "  display: flex;\n",
              "  flex-direction: column;\n",
              "}\n",
              "\n",
              "#sk-container-id-2 div.sk-parallel-item:first-child::after {\n",
              "  align-self: flex-end;\n",
              "  width: 50%;\n",
              "}\n",
              "\n",
              "#sk-container-id-2 div.sk-parallel-item:last-child::after {\n",
              "  align-self: flex-start;\n",
              "  width: 50%;\n",
              "}\n",
              "\n",
              "#sk-container-id-2 div.sk-parallel-item:only-child::after {\n",
              "  width: 0;\n",
              "}\n",
              "\n",
              "/* Serial-specific style estimator block */\n",
              "\n",
              "#sk-container-id-2 div.sk-serial {\n",
              "  display: flex;\n",
              "  flex-direction: column;\n",
              "  align-items: center;\n",
              "  background-color: var(--sklearn-color-background);\n",
              "  padding-right: 1em;\n",
              "  padding-left: 1em;\n",
              "}\n",
              "\n",
              "\n",
              "/* Toggleable style: style used for estimator/Pipeline/ColumnTransformer box that is\n",
              "clickable and can be expanded/collapsed.\n",
              "- Pipeline and ColumnTransformer use this feature and define the default style\n",
              "- Estimators will overwrite some part of the style using the `sk-estimator` class\n",
              "*/\n",
              "\n",
              "/* Pipeline and ColumnTransformer style (default) */\n",
              "\n",
              "#sk-container-id-2 div.sk-toggleable {\n",
              "  /* Default theme specific background. It is overwritten whether we have a\n",
              "  specific estimator or a Pipeline/ColumnTransformer */\n",
              "  background-color: var(--sklearn-color-background);\n",
              "}\n",
              "\n",
              "/* Toggleable label */\n",
              "#sk-container-id-2 label.sk-toggleable__label {\n",
              "  cursor: pointer;\n",
              "  display: flex;\n",
              "  width: 100%;\n",
              "  margin-bottom: 0;\n",
              "  padding: 0.5em;\n",
              "  box-sizing: border-box;\n",
              "  text-align: center;\n",
              "  align-items: start;\n",
              "  justify-content: space-between;\n",
              "  gap: 0.5em;\n",
              "}\n",
              "\n",
              "#sk-container-id-2 label.sk-toggleable__label .caption {\n",
              "  font-size: 0.6rem;\n",
              "  font-weight: lighter;\n",
              "  color: var(--sklearn-color-text-muted);\n",
              "}\n",
              "\n",
              "#sk-container-id-2 label.sk-toggleable__label-arrow:before {\n",
              "  /* Arrow on the left of the label */\n",
              "  content: \"▸\";\n",
              "  float: left;\n",
              "  margin-right: 0.25em;\n",
              "  color: var(--sklearn-color-icon);\n",
              "}\n",
              "\n",
              "#sk-container-id-2 label.sk-toggleable__label-arrow:hover:before {\n",
              "  color: var(--sklearn-color-text);\n",
              "}\n",
              "\n",
              "/* Toggleable content - dropdown */\n",
              "\n",
              "#sk-container-id-2 div.sk-toggleable__content {\n",
              "  max-height: 0;\n",
              "  max-width: 0;\n",
              "  overflow: hidden;\n",
              "  text-align: left;\n",
              "  /* unfitted */\n",
              "  background-color: var(--sklearn-color-unfitted-level-0);\n",
              "}\n",
              "\n",
              "#sk-container-id-2 div.sk-toggleable__content.fitted {\n",
              "  /* fitted */\n",
              "  background-color: var(--sklearn-color-fitted-level-0);\n",
              "}\n",
              "\n",
              "#sk-container-id-2 div.sk-toggleable__content pre {\n",
              "  margin: 0.2em;\n",
              "  border-radius: 0.25em;\n",
              "  color: var(--sklearn-color-text);\n",
              "  /* unfitted */\n",
              "  background-color: var(--sklearn-color-unfitted-level-0);\n",
              "}\n",
              "\n",
              "#sk-container-id-2 div.sk-toggleable__content.fitted pre {\n",
              "  /* unfitted */\n",
              "  background-color: var(--sklearn-color-fitted-level-0);\n",
              "}\n",
              "\n",
              "#sk-container-id-2 input.sk-toggleable__control:checked~div.sk-toggleable__content {\n",
              "  /* Expand drop-down */\n",
              "  max-height: 200px;\n",
              "  max-width: 100%;\n",
              "  overflow: auto;\n",
              "}\n",
              "\n",
              "#sk-container-id-2 input.sk-toggleable__control:checked~label.sk-toggleable__label-arrow:before {\n",
              "  content: \"▾\";\n",
              "}\n",
              "\n",
              "/* Pipeline/ColumnTransformer-specific style */\n",
              "\n",
              "#sk-container-id-2 div.sk-label input.sk-toggleable__control:checked~label.sk-toggleable__label {\n",
              "  color: var(--sklearn-color-text);\n",
              "  background-color: var(--sklearn-color-unfitted-level-2);\n",
              "}\n",
              "\n",
              "#sk-container-id-2 div.sk-label.fitted input.sk-toggleable__control:checked~label.sk-toggleable__label {\n",
              "  background-color: var(--sklearn-color-fitted-level-2);\n",
              "}\n",
              "\n",
              "/* Estimator-specific style */\n",
              "\n",
              "/* Colorize estimator box */\n",
              "#sk-container-id-2 div.sk-estimator input.sk-toggleable__control:checked~label.sk-toggleable__label {\n",
              "  /* unfitted */\n",
              "  background-color: var(--sklearn-color-unfitted-level-2);\n",
              "}\n",
              "\n",
              "#sk-container-id-2 div.sk-estimator.fitted input.sk-toggleable__control:checked~label.sk-toggleable__label {\n",
              "  /* fitted */\n",
              "  background-color: var(--sklearn-color-fitted-level-2);\n",
              "}\n",
              "\n",
              "#sk-container-id-2 div.sk-label label.sk-toggleable__label,\n",
              "#sk-container-id-2 div.sk-label label {\n",
              "  /* The background is the default theme color */\n",
              "  color: var(--sklearn-color-text-on-default-background);\n",
              "}\n",
              "\n",
              "/* On hover, darken the color of the background */\n",
              "#sk-container-id-2 div.sk-label:hover label.sk-toggleable__label {\n",
              "  color: var(--sklearn-color-text);\n",
              "  background-color: var(--sklearn-color-unfitted-level-2);\n",
              "}\n",
              "\n",
              "/* Label box, darken color on hover, fitted */\n",
              "#sk-container-id-2 div.sk-label.fitted:hover label.sk-toggleable__label.fitted {\n",
              "  color: var(--sklearn-color-text);\n",
              "  background-color: var(--sklearn-color-fitted-level-2);\n",
              "}\n",
              "\n",
              "/* Estimator label */\n",
              "\n",
              "#sk-container-id-2 div.sk-label label {\n",
              "  font-family: monospace;\n",
              "  font-weight: bold;\n",
              "  display: inline-block;\n",
              "  line-height: 1.2em;\n",
              "}\n",
              "\n",
              "#sk-container-id-2 div.sk-label-container {\n",
              "  text-align: center;\n",
              "}\n",
              "\n",
              "/* Estimator-specific */\n",
              "#sk-container-id-2 div.sk-estimator {\n",
              "  font-family: monospace;\n",
              "  border: 1px dotted var(--sklearn-color-border-box);\n",
              "  border-radius: 0.25em;\n",
              "  box-sizing: border-box;\n",
              "  margin-bottom: 0.5em;\n",
              "  /* unfitted */\n",
              "  background-color: var(--sklearn-color-unfitted-level-0);\n",
              "}\n",
              "\n",
              "#sk-container-id-2 div.sk-estimator.fitted {\n",
              "  /* fitted */\n",
              "  background-color: var(--sklearn-color-fitted-level-0);\n",
              "}\n",
              "\n",
              "/* on hover */\n",
              "#sk-container-id-2 div.sk-estimator:hover {\n",
              "  /* unfitted */\n",
              "  background-color: var(--sklearn-color-unfitted-level-2);\n",
              "}\n",
              "\n",
              "#sk-container-id-2 div.sk-estimator.fitted:hover {\n",
              "  /* fitted */\n",
              "  background-color: var(--sklearn-color-fitted-level-2);\n",
              "}\n",
              "\n",
              "/* Specification for estimator info (e.g. \"i\" and \"?\") */\n",
              "\n",
              "/* Common style for \"i\" and \"?\" */\n",
              "\n",
              ".sk-estimator-doc-link,\n",
              "a:link.sk-estimator-doc-link,\n",
              "a:visited.sk-estimator-doc-link {\n",
              "  float: right;\n",
              "  font-size: smaller;\n",
              "  line-height: 1em;\n",
              "  font-family: monospace;\n",
              "  background-color: var(--sklearn-color-background);\n",
              "  border-radius: 1em;\n",
              "  height: 1em;\n",
              "  width: 1em;\n",
              "  text-decoration: none !important;\n",
              "  margin-left: 0.5em;\n",
              "  text-align: center;\n",
              "  /* unfitted */\n",
              "  border: var(--sklearn-color-unfitted-level-1) 1pt solid;\n",
              "  color: var(--sklearn-color-unfitted-level-1);\n",
              "}\n",
              "\n",
              ".sk-estimator-doc-link.fitted,\n",
              "a:link.sk-estimator-doc-link.fitted,\n",
              "a:visited.sk-estimator-doc-link.fitted {\n",
              "  /* fitted */\n",
              "  border: var(--sklearn-color-fitted-level-1) 1pt solid;\n",
              "  color: var(--sklearn-color-fitted-level-1);\n",
              "}\n",
              "\n",
              "/* On hover */\n",
              "div.sk-estimator:hover .sk-estimator-doc-link:hover,\n",
              ".sk-estimator-doc-link:hover,\n",
              "div.sk-label-container:hover .sk-estimator-doc-link:hover,\n",
              ".sk-estimator-doc-link:hover {\n",
              "  /* unfitted */\n",
              "  background-color: var(--sklearn-color-unfitted-level-3);\n",
              "  color: var(--sklearn-color-background);\n",
              "  text-decoration: none;\n",
              "}\n",
              "\n",
              "div.sk-estimator.fitted:hover .sk-estimator-doc-link.fitted:hover,\n",
              ".sk-estimator-doc-link.fitted:hover,\n",
              "div.sk-label-container:hover .sk-estimator-doc-link.fitted:hover,\n",
              ".sk-estimator-doc-link.fitted:hover {\n",
              "  /* fitted */\n",
              "  background-color: var(--sklearn-color-fitted-level-3);\n",
              "  color: var(--sklearn-color-background);\n",
              "  text-decoration: none;\n",
              "}\n",
              "\n",
              "/* Span, style for the box shown on hovering the info icon */\n",
              ".sk-estimator-doc-link span {\n",
              "  display: none;\n",
              "  z-index: 9999;\n",
              "  position: relative;\n",
              "  font-weight: normal;\n",
              "  right: .2ex;\n",
              "  padding: .5ex;\n",
              "  margin: .5ex;\n",
              "  width: min-content;\n",
              "  min-width: 20ex;\n",
              "  max-width: 50ex;\n",
              "  color: var(--sklearn-color-text);\n",
              "  box-shadow: 2pt 2pt 4pt #999;\n",
              "  /* unfitted */\n",
              "  background: var(--sklearn-color-unfitted-level-0);\n",
              "  border: .5pt solid var(--sklearn-color-unfitted-level-3);\n",
              "}\n",
              "\n",
              ".sk-estimator-doc-link.fitted span {\n",
              "  /* fitted */\n",
              "  background: var(--sklearn-color-fitted-level-0);\n",
              "  border: var(--sklearn-color-fitted-level-3);\n",
              "}\n",
              "\n",
              ".sk-estimator-doc-link:hover span {\n",
              "  display: block;\n",
              "}\n",
              "\n",
              "/* \"?\"-specific style due to the `<a>` HTML tag */\n",
              "\n",
              "#sk-container-id-2 a.estimator_doc_link {\n",
              "  float: right;\n",
              "  font-size: 1rem;\n",
              "  line-height: 1em;\n",
              "  font-family: monospace;\n",
              "  background-color: var(--sklearn-color-background);\n",
              "  border-radius: 1rem;\n",
              "  height: 1rem;\n",
              "  width: 1rem;\n",
              "  text-decoration: none;\n",
              "  /* unfitted */\n",
              "  color: var(--sklearn-color-unfitted-level-1);\n",
              "  border: var(--sklearn-color-unfitted-level-1) 1pt solid;\n",
              "}\n",
              "\n",
              "#sk-container-id-2 a.estimator_doc_link.fitted {\n",
              "  /* fitted */\n",
              "  border: var(--sklearn-color-fitted-level-1) 1pt solid;\n",
              "  color: var(--sklearn-color-fitted-level-1);\n",
              "}\n",
              "\n",
              "/* On hover */\n",
              "#sk-container-id-2 a.estimator_doc_link:hover {\n",
              "  /* unfitted */\n",
              "  background-color: var(--sklearn-color-unfitted-level-3);\n",
              "  color: var(--sklearn-color-background);\n",
              "  text-decoration: none;\n",
              "}\n",
              "\n",
              "#sk-container-id-2 a.estimator_doc_link.fitted:hover {\n",
              "  /* fitted */\n",
              "  background-color: var(--sklearn-color-fitted-level-3);\n",
              "}\n",
              "</style><div id=\"sk-container-id-2\" class=\"sk-top-container\"><div class=\"sk-text-repr-fallback\"><pre>RandomForestClassifier()</pre><b>In a Jupyter environment, please rerun this cell to show the HTML representation or trust the notebook. <br />On GitHub, the HTML representation is unable to render, please try loading this page with nbviewer.org.</b></div><div class=\"sk-container\" hidden><div class=\"sk-item\"><div class=\"sk-estimator fitted sk-toggleable\"><input class=\"sk-toggleable__control sk-hidden--visually\" id=\"sk-estimator-id-2\" type=\"checkbox\" checked><label for=\"sk-estimator-id-2\" class=\"sk-toggleable__label fitted sk-toggleable__label-arrow\"><div><div>RandomForestClassifier</div></div><div><a class=\"sk-estimator-doc-link fitted\" rel=\"noreferrer\" target=\"_blank\" href=\"https://scikit-learn.org/1.6/modules/generated/sklearn.ensemble.RandomForestClassifier.html\">?<span>Documentation for RandomForestClassifier</span></a><span class=\"sk-estimator-doc-link fitted\">i<span>Fitted</span></span></div></label><div class=\"sk-toggleable__content fitted\"><pre>RandomForestClassifier()</pre></div> </div></div></div></div>"
            ]
          },
          "metadata": {},
          "execution_count": 21
        }
      ]
    },
    {
      "cell_type": "markdown",
      "source": [
        "# 19. What does model.predict() do? What arguments must be given?\n",
        "Ans...The model.predict() method is used to generate predictions from a trained machine learning model. It takes input data (feature values) as its argument and outputs the model's predictions based on its learned parameters.\n",
        "- model.predict() generates predictions based on input data\n",
        "X.\n",
        "- Outputs predictions:\n",
        "- Regression: Continuous values.\n",
        "- Classification: Class labels.\n",
        "Ensure consistency in feature structure and preprocessing for accurate predictions."
      ],
      "metadata": {
        "id": "eA3ylXx34mOt"
      }
    },
    {
      "cell_type": "code",
      "source": [
        "from sklearn.linear_model import LinearRegression\n",
        "\n",
        "# Training data\n",
        "X_train = [[1], [2], [3], [4]]\n",
        "y_train = [2, 4, 6, 8]\n",
        "\n",
        "# Train the model\n",
        "model = LinearRegression()\n",
        "model.fit(X_train, y_train)\n",
        "\n",
        "# Predict new values\n",
        "X_test = [[5], [6]]\n",
        "predictions = model.predict(X_test)\n",
        "print(predictions)  # Output: [10. 12.]\n"
      ],
      "metadata": {
        "colab": {
          "base_uri": "https://localhost:8080/"
        },
        "id": "wj1zutupycrT",
        "outputId": "78f9e9b3-87e5-48d7-df4a-64ac3d559303"
      },
      "execution_count": 22,
      "outputs": [
        {
          "output_type": "stream",
          "name": "stdout",
          "text": [
            "[10. 12.]\n"
          ]
        }
      ]
    },
    {
      "cell_type": "code",
      "source": [
        "from sklearn.ensemble import RandomForestClassifier\n",
        "\n",
        "# Training data\n",
        "X_train = [[1, 2], [2, 3], [3, 4], [4, 5]]\n",
        "y_train = [0, 1, 0, 1]\n",
        "\n",
        "# Train the model\n",
        "model = RandomForestClassifier()\n",
        "model.fit(X_train, y_train)\n",
        "\n",
        "# Predict new values\n",
        "X_test = [[2, 3], [3, 4]]\n",
        "predictions = model.predict(X_test)\n",
        "print(predictions)  # Output: [1 0]\n"
      ],
      "metadata": {
        "colab": {
          "base_uri": "https://localhost:8080/"
        },
        "id": "12Izidr7XOrH",
        "outputId": "27a7d85b-b550-4c1e-a0cc-3735c2ae40ba"
      },
      "execution_count": 23,
      "outputs": [
        {
          "output_type": "stream",
          "name": "stdout",
          "text": [
            "[1 0]\n"
          ]
        }
      ]
    },
    {
      "cell_type": "markdown",
      "source": [
        "### 20. What are continuous and categorical variables?\n",
        "\n",
        "Ans...Countinuous:  Used directly as numerical inputs in models.\n",
        "Require scaling (e.g., StandardScaler or MinMaxScaler) to normalize their range for some algorithms.\n",
        "\n",
        " Categorcal : Need to be encoded into numerical values (e.g., One-Hot Encoding or Label Encoding) before being used in models.\n",
        "Some algorithms can handle them directly (e.g., decision trees).\n"
      ],
      "metadata": {
        "id": "npVyy-1ZYOb9"
      }
    },
    {
      "cell_type": "markdown",
      "source": [
        "\n",
        "\n",
        "### 21. What is feature scaling? How does it help in Machine Learning?  \n",
        "\n",
        "Ans...Feature scaling is a data preprocessing technique in machine learning where the values of numerical features are transformed to fall within a specific range or scale. It ensures that all features contribute equally to the model's calculations, especially for distance-based algorithms."
      ],
      "metadata": {
        "id": "1uts-03HZi3R"
      }
    },
    {
      "cell_type": "markdown",
      "source": [
        "### 22. How do we perform scaling in Python?\n",
        "Ans...Python provides several libraries and tools to perform feature scaling. The most common methods are implemented using Scikit-learn"
      ],
      "metadata": {
        "id": "3Ut5eptKjmfK"
      }
    },
    {
      "cell_type": "code",
      "source": [
        "from sklearn.preprocessing import MinMaxScaler\n",
        "\n",
        "# Example dataset\n",
        "data = [[100, 0.1], [200, 0.2], [300, 0.3]]\n",
        "\n",
        "# Create the scaler\n",
        "scaler = MinMaxScaler()\n",
        "\n",
        "# Fit and transform the data\n",
        "scaled_data = scaler.fit_transform(data)\n",
        "\n",
        "print(\"MinMax Scaled Data:\")\n",
        "print(scaled_data)\n"
      ],
      "metadata": {
        "colab": {
          "base_uri": "https://localhost:8080/"
        },
        "id": "eELKrefSXQOo",
        "outputId": "0d9eb64c-ef45-4127-9cd5-2bbf6dcb4c37"
      },
      "execution_count": 25,
      "outputs": [
        {
          "output_type": "stream",
          "name": "stdout",
          "text": [
            "MinMax Scaled Data:\n",
            "[[0.  0. ]\n",
            " [0.5 0.5]\n",
            " [1.  1. ]]\n"
          ]
        }
      ]
    },
    {
      "cell_type": "code",
      "source": [
        "from sklearn.preprocessing import StandardScaler\n",
        "\n",
        "# Example dataset\n",
        "data = [[100, 0.1], [200, 0.2], [300, 0.3]]\n",
        "\n",
        "# Create the scaler\n",
        "scaler = StandardScaler()\n",
        "\n",
        "# Fit and transform the data\n",
        "scaled_data = scaler.fit_transform(data)\n",
        "\n",
        "print(\"Standardized Data:\")\n",
        "print(scaled_data)\n"
      ],
      "metadata": {
        "colab": {
          "base_uri": "https://localhost:8080/"
        },
        "id": "2kOeiBeYnTjO",
        "outputId": "223f415a-45c3-438a-c8d2-4cbb50677be4"
      },
      "execution_count": 26,
      "outputs": [
        {
          "output_type": "stream",
          "name": "stdout",
          "text": [
            "Standardized Data:\n",
            "[[-1.22474487e+00 -1.22474487e+00]\n",
            " [ 0.00000000e+00 -3.39934989e-16]\n",
            " [ 1.22474487e+00  1.22474487e+00]]\n"
          ]
        }
      ]
    },
    {
      "cell_type": "code",
      "source": [
        "from sklearn.preprocessing import RobustScaler\n",
        "\n",
        "# Example dataset\n",
        "data = [[1, 100], [2, 200], [3, 300], [100, 5000]]\n",
        "\n",
        "# Create the scaler\n",
        "scaler = RobustScaler()\n",
        "\n",
        "# Fit and transform the data\n",
        "scaled_data = scaler.fit_transform(data)\n",
        "\n",
        "print(\"Robust Scaled Data:\")\n",
        "print(scaled_data)\n"
      ],
      "metadata": {
        "colab": {
          "base_uri": "https://localhost:8080/"
        },
        "id": "wzw3UiGqnaYw",
        "outputId": "76d6e503-d0b7-4fba-fc6e-056f329b4083"
      },
      "execution_count": 27,
      "outputs": [
        {
          "output_type": "stream",
          "name": "stdout",
          "text": [
            "Robust Scaled Data:\n",
            "[[-0.05882353 -0.11538462]\n",
            " [-0.01960784 -0.03846154]\n",
            " [ 0.01960784  0.03846154]\n",
            " [ 3.82352941  3.65384615]]\n"
          ]
        }
      ]
    },
    {
      "cell_type": "code",
      "source": [
        "from sklearn.preprocessing import Normalizer\n",
        "\n",
        "# Example dataset\n",
        "data = [[1, 2, 3], [4, 5, 6]]\n",
        "\n",
        "# Create the normalizer\n",
        "normalizer = Normalizer()\n",
        "\n",
        "# Transform the data\n",
        "normalized_data = normalizer.fit_transform(data)\n",
        "\n",
        "print(\"Normalized Data:\")\n",
        "print(normalized_data)\n"
      ],
      "metadata": {
        "colab": {
          "base_uri": "https://localhost:8080/"
        },
        "id": "GH3-xiLPnhe2",
        "outputId": "94270224-dbdf-486e-9269-e98014b1bd34"
      },
      "execution_count": 28,
      "outputs": [
        {
          "output_type": "stream",
          "name": "stdout",
          "text": [
            "Normalized Data:\n",
            "[[0.26726124 0.53452248 0.80178373]\n",
            " [0.45584231 0.56980288 0.68376346]]\n"
          ]
        }
      ]
    },
    {
      "cell_type": "code",
      "source": [
        "import pandas as pd\n",
        "\n",
        "# Example DataFrame\n",
        "data = {'Feature1': [100, 200, 300], 'Feature2': [0.1, 0.2, 0.3]}\n",
        "df = pd.DataFrame(data)\n",
        "\n",
        "# Min-Max Scaling\n",
        "df_scaled = (df - df.min()) / (df.max() - df.min())\n",
        "\n",
        "print(\"Scaled DataFrame:\")\n",
        "print(df_scaled)\n"
      ],
      "metadata": {
        "colab": {
          "base_uri": "https://localhost:8080/"
        },
        "id": "7vjgMXeGnnpv",
        "outputId": "30ba5a49-f448-4d11-c47d-98fd83420e87"
      },
      "execution_count": 29,
      "outputs": [
        {
          "output_type": "stream",
          "name": "stdout",
          "text": [
            "Scaled DataFrame:\n",
            "   Feature1  Feature2\n",
            "0       0.0       0.0\n",
            "1       0.5       0.5\n",
            "2       1.0       1.0\n"
          ]
        }
      ]
    },
    {
      "cell_type": "markdown",
      "source": [
        "### 23. What is sklearn.preprocessing?\n",
        "\n",
        "Ans...The sklearn.preprocessing module in Scikit-learn provides tools and techniques to preprocess and transform raw data into a format suitable for machine learning models. Preprocessing is a critical step that ensures the data is clean, scaled, and standardized, which improves the performance and efficiency of machine learning algorithms."
      ],
      "metadata": {
        "id": "occuPqJ7n3XY"
      }
    },
    {
      "cell_type": "markdown",
      "source": [
        "\n",
        "### 24. How do we split data for model fitting (training and testing) in Python?\n",
        "\n",
        "Ans...Splitting data into training and testing sets is a crucial step in machine learning. The training set is used to train the model, while the testing set evaluates its performance on unseen data.\n",
        "\n",
        "In Python, Scikit-learn provides an easy and effective way to split data using the train_test_split function.\n"
      ],
      "metadata": {
        "id": "BmwVw0Rxn29V"
      }
    },
    {
      "cell_type": "code",
      "source": [
        "from sklearn.model_selection import train_test_split\n",
        "import numpy as np\n",
        "\n",
        "# Example dataset\n",
        "X = np.array([[1, 2], [3, 4], [5, 6], [7, 8], [9, 10]])\n",
        "y = np.array([0, 1, 0, 1, 0])  # Target variable\n",
        "\n",
        "# Split the data\n",
        "X_train, X_test, y_train, y_test = train_test_split(X, y, test_size=0.2, random_state=42)\n",
        "\n",
        "print(\"Training features:\\n\", X_train)\n",
        "print(\"Testing features:\\n\", X_test)\n",
        "print(\"Training labels:\\n\", y_train)\n",
        "print(\"Testing labels:\\n\", y_test)\n"
      ],
      "metadata": {
        "colab": {
          "base_uri": "https://localhost:8080/"
        },
        "id": "TlDJ_jiipEdR",
        "outputId": "f92decc3-9b33-400a-8dd1-f6a2dc7bed36"
      },
      "execution_count": 31,
      "outputs": [
        {
          "output_type": "stream",
          "name": "stdout",
          "text": [
            "Training features:\n",
            " [[ 9 10]\n",
            " [ 5  6]\n",
            " [ 1  2]\n",
            " [ 7  8]]\n",
            "Testing features:\n",
            " [[3 4]]\n",
            "Training labels:\n",
            " [0 0 0 1]\n",
            "Testing labels:\n",
            " [1]\n"
          ]
        }
      ]
    },
    {
      "cell_type": "code",
      "source": [
        "import pandas as pd\n",
        "from sklearn.model_selection import train_test_split\n",
        "\n",
        "# Create a sample DataFrame\n",
        "data = {\n",
        "    'Feature1': [10, 20, 30, 40, 50],\n",
        "    'Feature2': [5, 15, 25, 35, 45],\n",
        "    'Target': [0, 1, 0, 1, 0]\n",
        "}\n",
        "df = pd.DataFrame(data)\n",
        "\n",
        "# Split the DataFrame\n",
        "X = df[['Feature1', 'Feature2']]  # Features\n",
        "y = df['Target']  # Target variable\n",
        "\n",
        "X_train, X_test, y_train, y_test = train_test_split(X, y, test_size=0.2, random_state=42)\n",
        "\n",
        "print(\"Training Data:\\n\", X_train)\n",
        "print(\"Testing Data:\\n\", X_test)\n"
      ],
      "metadata": {
        "colab": {
          "base_uri": "https://localhost:8080/"
        },
        "id": "6K3FNnocpKhe",
        "outputId": "a5241a41-126a-48c9-c7af-789f6259b3ed"
      },
      "execution_count": 32,
      "outputs": [
        {
          "output_type": "stream",
          "name": "stdout",
          "text": [
            "Training Data:\n",
            "    Feature1  Feature2\n",
            "4        50        45\n",
            "2        30        25\n",
            "0        10         5\n",
            "3        40        35\n",
            "Testing Data:\n",
            "    Feature1  Feature2\n",
            "1        20        15\n"
          ]
        }
      ]
    },
    {
      "cell_type": "code",
      "source": [
        "from sklearn.model_selection import train_test_split\n",
        "\n",
        "# Example dataset\n",
        "X = np.array([[1, 2], [3, 4], [5, 6], [7, 8], [9, 10]])\n",
        "y = np.array([0, 0, 0, 1, 1])  # Imbalanced target variable\n",
        "\n",
        "# Split the data with stratification\n",
        "X_train, X_test, y_train, y_test = train_test_split(X, y, test_size=0.4, stratify=y, random_state=42)\n",
        "\n",
        "print(\"Training labels:\", y_train)\n",
        "print(\"Testing labels:\", y_test)\n"
      ],
      "metadata": {
        "colab": {
          "base_uri": "https://localhost:8080/"
        },
        "id": "ohVESb8vpPXz",
        "outputId": "7177f4d4-9806-426a-c245-e3bd747af378"
      },
      "execution_count": 33,
      "outputs": [
        {
          "output_type": "stream",
          "name": "stdout",
          "text": [
            "Training labels: [0 0 1]\n",
            "Testing labels: [0 1]\n"
          ]
        }
      ]
    },
    {
      "cell_type": "code",
      "source": [
        "import numpy as np\n",
        "\n",
        "# Example dataset\n",
        "X = np.arange(10).reshape((5, 2))\n",
        "y = np.array([0, 1, 0, 1, 0])\n",
        "\n",
        "# Manual split\n",
        "train_size = int(0.8 * len(X))\n",
        "X_train, X_test = X[:train_size], X[train_size:]\n",
        "y_train, y_test = y[:train_size], y[train_size:]\n",
        "\n",
        "print(\"Manual Training features:\\n\", X_train)\n",
        "print(\"Manual Testing features:\\n\", X_test)\n"
      ],
      "metadata": {
        "colab": {
          "base_uri": "https://localhost:8080/"
        },
        "id": "-ixAVnOdpUkp",
        "outputId": "bb3492dd-356d-49d9-9ec5-99f03179b03c"
      },
      "execution_count": 34,
      "outputs": [
        {
          "output_type": "stream",
          "name": "stdout",
          "text": [
            "Manual Training features:\n",
            " [[0 1]\n",
            " [2 3]\n",
            " [4 5]\n",
            " [6 7]]\n",
            "Manual Testing features:\n",
            " [[8 9]]\n"
          ]
        }
      ]
    },
    {
      "cell_type": "code",
      "source": [
        "from sklearn.model_selection import KFold\n",
        "\n",
        "X = np.array([[1, 2], [3, 4], [5, 6], [7, 8]])\n",
        "y = np.array([0, 1, 0, 1])\n",
        "\n",
        "kf = KFold(n_splits=2, shuffle=True, random_state=42)\n",
        "\n",
        "for train_index, test_index in kf.split(X):\n",
        "    print(\"TRAIN:\", train_index, \"TEST:\", test_index)\n",
        "    X_train, X_test = X[train_index], X[test_index]\n",
        "    y_train, y_test = y[train_index], y[test_index]\n"
      ],
      "metadata": {
        "colab": {
          "base_uri": "https://localhost:8080/"
        },
        "id": "N4GY1CAxpZY1",
        "outputId": "aa073a55-f1a1-432d-d303-a006ee0ea987"
      },
      "execution_count": 35,
      "outputs": [
        {
          "output_type": "stream",
          "name": "stdout",
          "text": [
            "TRAIN: [0 2] TEST: [1 3]\n",
            "TRAIN: [1 3] TEST: [0 2]\n"
          ]
        }
      ]
    },
    {
      "cell_type": "markdown",
      "source": [
        "\n",
        "### 25. Explain data encoding?\n",
        "\n",
        "Ans...Data encoding is the process of converting categorical or textual data into numerical formats so that machine learning algorithms can process and analyze them. Since most machine learning models work only with numerical data, encoding is an essential preprocessing step."
      ],
      "metadata": {
        "id": "QgJx28Enp0u4"
      }
    },
    {
      "cell_type": "code",
      "source": [],
      "metadata": {
        "id": "db07FAkep60s"
      },
      "execution_count": null,
      "outputs": []
    }
  ]
}