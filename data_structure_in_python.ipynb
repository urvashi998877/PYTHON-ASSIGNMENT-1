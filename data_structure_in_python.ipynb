{
  "nbformat": 4,
  "nbformat_minor": 0,
  "metadata": {
    "colab": {
      "provenance": []
    },
    "kernelspec": {
      "name": "python3",
      "display_name": "Python 3"
    },
    "language_info": {
      "name": "python"
    }
  },
  "cells": [
    {
      "cell_type": "markdown",
      "source": [
        "DATA STRUCTURE"
      ],
      "metadata": {
        "id": "bRa22XfRAe9A"
      }
    },
    {
      "cell_type": "markdown",
      "source": [
        "1. Write a code to reverse a string"
      ],
      "metadata": {
        "id": "NVdVfenMOzaM"
      }
    },
    {
      "cell_type": "code",
      "execution_count": 1,
      "metadata": {
        "colab": {
          "base_uri": "https://localhost:8080/"
        },
        "id": "GWbXua0xOlrE",
        "outputId": "c7f5afb8-4dd6-49f1-f1c3-5acbb41f79b7"
      },
      "outputs": [
        {
          "output_type": "stream",
          "name": "stdout",
          "text": [
            "Original String: Hello, World!\n",
            "Reversed String: !dlroW ,olleH\n"
          ]
        }
      ],
      "source": [
        "def reverse_string(input_string):\n",
        "    return input_string[::-1]\n",
        "\n",
        "# Example usage:\n",
        "original_string = \"Hello, World!\"\n",
        "reversed_string = reverse_string(original_string)\n",
        "print(\"Original String:\", original_string)\n",
        "print(\"Reversed String:\", reversed_string)\n"
      ]
    },
    {
      "cell_type": "markdown",
      "source": [],
      "metadata": {
        "id": "SS89f64gAcXq"
      }
    },
    {
      "cell_type": "markdown",
      "source": [],
      "metadata": {
        "id": "YYbQzoVeAc82"
      }
    },
    {
      "cell_type": "code",
      "source": [],
      "metadata": {
        "id": "moPuCi8_POFm"
      },
      "execution_count": null,
      "outputs": []
    },
    {
      "cell_type": "markdown",
      "source": [
        "2. Write a code to count the number of vowels in a string"
      ],
      "metadata": {
        "id": "1hw4kZMgPiGN"
      }
    },
    {
      "cell_type": "code",
      "source": [
        "def count_vowels(input_string):\n",
        "    vowels = \"aeiouAEIOU\"\n",
        "    count = sum(1 for char in input_string if char in vowels)\n",
        "    return count\n",
        "\n",
        "# Example usage:\n",
        "text = \"Hello, World!\"\n",
        "vowel_count = count_vowels(text)\n",
        "print(\"Number of vowels:\", vowel_count)\n"
      ],
      "metadata": {
        "colab": {
          "base_uri": "https://localhost:8080/"
        },
        "id": "wj9UbzJWPpbP",
        "outputId": "df7cce43-eb77-41c4-d75c-33273dc9d264"
      },
      "execution_count": 2,
      "outputs": [
        {
          "output_type": "stream",
          "name": "stdout",
          "text": [
            "Number of vowels: 3\n"
          ]
        }
      ]
    },
    {
      "cell_type": "markdown",
      "source": [
        " 3. Write a code to check if a given string is a palindrome or not"
      ],
      "metadata": {
        "id": "rC4NQEf6P0Fj"
      }
    },
    {
      "cell_type": "code",
      "source": [
        "def is_palindrome(input_string):\n",
        "    normalized = ''.join(c.lower() for c in input_string if c.isalnum())  # Normalize: remove non-alphanumerics\n",
        "    return normalized == normalized[::-1]\n",
        "\n",
        "# Example usage:\n",
        "text = \"A man, a plan, a canal, Panama\"\n",
        "is_palindrome_result = is_palindrome(text)\n",
        "print(f\"Is the string '{text}' a palindrome?:\", is_palindrome_result)\n"
      ],
      "metadata": {
        "colab": {
          "base_uri": "https://localhost:8080/"
        },
        "id": "4oZ1v-3JP97q",
        "outputId": "66f56bf6-4bfc-447c-abdf-198cf07dbb38"
      },
      "execution_count": 3,
      "outputs": [
        {
          "output_type": "stream",
          "name": "stdout",
          "text": [
            "Is the string 'A man, a plan, a canal, Panama' a palindrome?: True\n"
          ]
        }
      ]
    },
    {
      "cell_type": "markdown",
      "source": [
        "4. Write a code to check if two given strings are anagrams of each other"
      ],
      "metadata": {
        "id": "sm4dUOBBQEaC"
      }
    },
    {
      "cell_type": "code",
      "source": [
        "def are_anagrams(string1, string2):\n",
        "    return sorted(string1.replace(\" \", \"\").lower()) == sorted(string2.replace(\" \", \"\").lower())\n",
        "\n",
        "# Example usage:\n",
        "str1 = \"listen\"\n",
        "str2 = \"silent\"\n",
        "are_anagrams_result = are_anagrams(str1, str2)\n",
        "print(f\"Are '{str1}' and '{str2}' anagrams?:\", are_anagrams_result)\n"
      ],
      "metadata": {
        "colab": {
          "base_uri": "https://localhost:8080/"
        },
        "id": "YGjjxdu-P-4m",
        "outputId": "26044bd8-f16f-49fc-e767-41744cd4bdfa"
      },
      "execution_count": 4,
      "outputs": [
        {
          "output_type": "stream",
          "name": "stdout",
          "text": [
            "Are 'listen' and 'silent' anagrams?: True\n"
          ]
        }
      ]
    },
    {
      "cell_type": "markdown",
      "source": [
        "5.  Write a code to find all occurrences of a given substring within another string"
      ],
      "metadata": {
        "id": "HjTuAfGaQS-E"
      }
    },
    {
      "cell_type": "code",
      "source": [
        "def find_all_occurrences(main_string, substring):\n",
        "    start = 0\n",
        "    occurrences = []\n",
        "    while True:\n",
        "        start = main_string.find(substring, start)\n",
        "        if start == -1:\n",
        "            break\n",
        "        occurrences.append(start)\n",
        "        start += 1  # Move start index to avoid overlapping occurrences\n",
        "    return occurrences\n",
        "\n",
        "# Example usage:\n",
        "main_str = \"abracadabra\"\n",
        "sub_str = \"abra\"\n",
        "occurrences = find_all_occurrences(main_str, sub_str)\n",
        "print(f\"Occurrences of '{sub_str}' in '{main_str}':\", occurrences)\n"
      ],
      "metadata": {
        "colab": {
          "base_uri": "https://localhost:8080/"
        },
        "id": "OIRgwt5_QZS8",
        "outputId": "43aa39b4-5f6e-4b8e-8b7c-35282f11f525"
      },
      "execution_count": 5,
      "outputs": [
        {
          "output_type": "stream",
          "name": "stdout",
          "text": [
            "Occurrences of 'abra' in 'abracadabra': [0, 7]\n"
          ]
        }
      ]
    },
    {
      "cell_type": "markdown",
      "source": [
        " 6. Write a code to perform basic string compression using the counts of repeated characters"
      ],
      "metadata": {
        "id": "uQ0eknyyQrEX"
      }
    },
    {
      "cell_type": "code",
      "source": [
        "def compress_string(input_string):\n",
        "    if not input_string:\n",
        "        return \"\"\n",
        "\n",
        "    compressed = []\n",
        "    count = 1\n",
        "\n",
        "    for i in range(1, len(input_string)):\n",
        "        if input_string[i] == input_string[i - 1]:\n",
        "            count += 1\n",
        "        else:\n",
        "            compressed.append(input_string[i - 1] + str(count))\n",
        "            count = 1\n",
        "\n",
        "    # Add the last character and its count\n",
        "    compressed.append(input_string[-1] + str(count))\n",
        "\n",
        "    compressed_string = ''.join(compressed)\n",
        "    return compressed_string if len(compressed_string) < len(input_string) else input_string\n",
        "\n",
        "# Example usage:\n",
        "text = \"aabcccccaaa\"\n",
        "compressed_text = compress_string(text)\n",
        "print(\"Original String:\", text)\n",
        "print(\"Compressed String:\", compressed_text)\n",
        "\n"
      ],
      "metadata": {
        "colab": {
          "base_uri": "https://localhost:8080/"
        },
        "id": "FZBMZ6LZRBjv",
        "outputId": "bee5469e-ffc5-4845-81b6-cbcbf93fe2af"
      },
      "execution_count": 8,
      "outputs": [
        {
          "output_type": "stream",
          "name": "stdout",
          "text": [
            "Original String: aabcccccaaa\n",
            "Compressed String: a2b1c5a3\n"
          ]
        }
      ]
    },
    {
      "cell_type": "markdown",
      "source": [
        "7. Write a code to determine if a string has all unique characters"
      ],
      "metadata": {
        "id": "USDhnqI1trGn"
      }
    },
    {
      "cell_type": "code",
      "source": [
        "def has_all_unique_characters(input_string):\n",
        "    seen = set()\n",
        "    for char in input_string:\n",
        "        if char in seen:\n",
        "            return False\n",
        "        seen.add(char)\n",
        "    return True\n",
        "\n",
        "# Example usage:\n",
        "text = \"abcdefg\"\n",
        "result = has_all_unique_characters(text)\n",
        "print(f\"Does the string '{text}' have all unique characters?:\", result)\n",
        "\n"
      ],
      "metadata": {
        "colab": {
          "base_uri": "https://localhost:8080/"
        },
        "id": "FUoXBhAfRCYk",
        "outputId": "a508f487-cd32-4634-c3c8-298e3741a0c8"
      },
      "execution_count": 1,
      "outputs": [
        {
          "output_type": "stream",
          "name": "stdout",
          "text": [
            "Does the string 'abcdefg' have all unique characters?: True\n"
          ]
        }
      ]
    },
    {
      "cell_type": "markdown",
      "source": [
        "8. Write a code to convert a given string to uppercase or lowercase"
      ],
      "metadata": {
        "id": "9Eruz0wDuxkE"
      }
    },
    {
      "cell_type": "code",
      "source": [
        "def convert_case(input_string, to_upper=True):\n",
        "    return input_string.upper() if to_upper else input_string.lower()\n",
        "\n",
        "# Example usage:\n",
        "text = \"Hello World\"\n",
        "print(\"Uppercase:\", convert_case(text, to_upper=True))\n",
        "print(\"Lowercase:\", convert_case(text, to_upper=False))\n"
      ],
      "metadata": {
        "colab": {
          "base_uri": "https://localhost:8080/"
        },
        "id": "lgDuZh0luCLl",
        "outputId": "4f954ef1-7154-4c17-e279-1d0fe85e191b"
      },
      "execution_count": 2,
      "outputs": [
        {
          "output_type": "stream",
          "name": "stdout",
          "text": [
            "Uppercase: HELLO WORLD\n",
            "Lowercase: hello world\n"
          ]
        }
      ]
    },
    {
      "cell_type": "markdown",
      "source": [
        "9. Write a code to count the number of words in a string"
      ],
      "metadata": {
        "id": "0bTMm5ozwEuX"
      }
    },
    {
      "cell_type": "code",
      "source": [
        "def count_words(input_string):\n",
        "    return len(input_string.split())\n",
        "\n",
        "# Example usage:\n",
        "text = \"Hello world! This is a test.\"\n",
        "print(\"Number of words:\", count_words(text))\n"
      ],
      "metadata": {
        "colab": {
          "base_uri": "https://localhost:8080/"
        },
        "id": "td_UfXqAu-eE",
        "outputId": "c389b1ff-8c89-46f4-a4a1-551a752b9ac0"
      },
      "execution_count": 3,
      "outputs": [
        {
          "output_type": "stream",
          "name": "stdout",
          "text": [
            "Number of words: 6\n"
          ]
        }
      ]
    },
    {
      "cell_type": "markdown",
      "source": [
        "10.  Write a code to concatenate two strings without using the + operator"
      ],
      "metadata": {
        "id": "vlYQEne4wZRu"
      }
    },
    {
      "cell_type": "code",
      "source": [
        "def concatenate_strings(string1, string2):\n",
        "    return f\"{string1}{string2}\"\n",
        "\n",
        "# Example usage:\n",
        "str1 = \"Hello\"\n",
        "str2 = \"World\"\n",
        "print(\"Concatenated String:\", concatenate_strings(str1, str2))\n"
      ],
      "metadata": {
        "colab": {
          "base_uri": "https://localhost:8080/"
        },
        "id": "rVOC1LqTwSTO",
        "outputId": "9bba11de-c24d-4627-9fde-74deaa15d228"
      },
      "execution_count": 4,
      "outputs": [
        {
          "output_type": "stream",
          "name": "stdout",
          "text": [
            "Concatenated String: HelloWorld\n"
          ]
        }
      ]
    },
    {
      "cell_type": "markdown",
      "source": [
        "11. Write a code to remove all occurrences of a specific element from a list"
      ],
      "metadata": {
        "id": "7PY36Vn2xVBn"
      }
    },
    {
      "cell_type": "code",
      "source": [
        "def remove_all_occurrences(lst, element):\n",
        "    return [item for item in lst if item != element]\n",
        "\n",
        "# Example usage:\n",
        "numbers = [1, 2, 3, 4, 2, 5, 2]\n",
        "print(\"List after removal:\", remove_all_occurrences(numbers, 2))\n"
      ],
      "metadata": {
        "colab": {
          "base_uri": "https://localhost:8080/"
        },
        "id": "XqIGGNTHxfci",
        "outputId": "e40e7e99-a185-4ffb-f773-67983869df85"
      },
      "execution_count": 5,
      "outputs": [
        {
          "output_type": "stream",
          "name": "stdout",
          "text": [
            "List after removal: [1, 3, 4, 5]\n"
          ]
        }
      ]
    },
    {
      "cell_type": "markdown",
      "source": [
        "12. Implement a code to find the second largest number in a given list of integers."
      ],
      "metadata": {
        "id": "8llsm0s8xlvQ"
      }
    },
    {
      "cell_type": "code",
      "source": [
        "def find_second_largest(numbers):\n",
        "    unique_numbers = list(set(numbers))\n",
        "    unique_numbers.sort()\n",
        "    return unique_numbers[-2] if len(unique_numbers) >= 2 else None\n",
        "\n",
        "# Example usage:\n",
        "nums = [10, 20, 4, 45, 99, 45]\n",
        "print(\"Second largest number:\", find_second_largest(nums))\n"
      ],
      "metadata": {
        "colab": {
          "base_uri": "https://localhost:8080/"
        },
        "id": "BUOPXbBwx3Y0",
        "outputId": "8f9037e5-407e-4d31-b9fc-1ac14002bac3"
      },
      "execution_count": 6,
      "outputs": [
        {
          "output_type": "stream",
          "name": "stdout",
          "text": [
            "Second largest number: 45\n"
          ]
        }
      ]
    },
    {
      "cell_type": "markdown",
      "source": [
        "13. Create a code to count the occurrences of each element in a list and return a dictionary with elements as\n",
        "keys and their counts as values."
      ],
      "metadata": {
        "id": "XDptfuh5yEij"
      }
    },
    {
      "cell_type": "code",
      "source": [
        "def count_occurrences(lst):\n",
        "    return {item: lst.count(item) for item in set(lst)}\n",
        "\n",
        "# Example usage:\n",
        "numbers = [1, 2, 2, 3, 3, 3, 4]\n",
        "print(\"Occurrences:\", count_occurrences(numbers))\n"
      ],
      "metadata": {
        "colab": {
          "base_uri": "https://localhost:8080/"
        },
        "id": "va2LRK_4x9jx",
        "outputId": "40f3e166-5a4b-4871-b28d-7d96227e638a"
      },
      "execution_count": 7,
      "outputs": [
        {
          "output_type": "stream",
          "name": "stdout",
          "text": [
            "Occurrences: {1: 1, 2: 2, 3: 3, 4: 1}\n"
          ]
        }
      ]
    },
    {
      "cell_type": "markdown",
      "source": [
        "  14. Write a code to reverse a list in-place without using any built-in reverse functions."
      ],
      "metadata": {
        "id": "gxIhQ8l7yXK1"
      }
    },
    {
      "cell_type": "code",
      "source": [
        "def reverse_list(lst):\n",
        "    for i in range(len(lst) // 2):\n",
        "        lst[i], lst[-i - 1] = lst[-i - 1], lst[i]\n",
        "\n",
        "# Example usage:\n",
        "numbers = [1, 2, 3, 4, 5]\n",
        "reverse_list(numbers)\n",
        "print(\"Reversed List:\", numbers)\n"
      ],
      "metadata": {
        "colab": {
          "base_uri": "https://localhost:8080/"
        },
        "id": "Lt7xE2oWySW4",
        "outputId": "bcba80cd-d12a-41df-b21c-09e5c249b57f"
      },
      "execution_count": 8,
      "outputs": [
        {
          "output_type": "stream",
          "name": "stdout",
          "text": [
            "Reversed List: [5, 4, 3, 2, 1]\n"
          ]
        }
      ]
    },
    {
      "cell_type": "markdown",
      "source": [
        "15. Implement a code to find and remove duplicates from a list while preserving the original order of\n",
        "elements."
      ],
      "metadata": {
        "id": "SK3RUFgeyn73"
      }
    },
    {
      "cell_type": "code",
      "source": [
        "def remove_duplicates(lst):\n",
        "    seen = set()\n",
        "    return [x for x in lst if not (x in seen or seen.add(x))]\n",
        "\n",
        "# Example usage:\n",
        "numbers = [1, 2, 2, 3, 4, 3, 5]\n",
        "print(\"List without duplicates:\", remove_duplicates(numbers))\n"
      ],
      "metadata": {
        "colab": {
          "base_uri": "https://localhost:8080/"
        },
        "id": "NqD4FDYHy2hK",
        "outputId": "c1612191-8550-40d7-d1b1-12df0b9a1b52"
      },
      "execution_count": 9,
      "outputs": [
        {
          "output_type": "stream",
          "name": "stdout",
          "text": [
            "List without duplicates: [1, 2, 3, 4, 5]\n"
          ]
        }
      ]
    },
    {
      "cell_type": "markdown",
      "source": [
        "16. Create a code to check if a given list is sorted (either in ascending or descending order) or not."
      ],
      "metadata": {
        "id": "raxJm6AJy-oS"
      }
    },
    {
      "cell_type": "code",
      "source": [
        "def is_sorted(lst):\n",
        "    return lst == sorted(lst) or lst == sorted(lst, reverse=True)\n",
        "\n",
        "# Example usage:\n",
        "numbers = [1, 2, 3, 4]\n",
        "print(\"Is the list sorted?:\", is_sorted(numbers))\n"
      ],
      "metadata": {
        "colab": {
          "base_uri": "https://localhost:8080/"
        },
        "id": "N1BXFeczy3TZ",
        "outputId": "761c8f1a-4912-4fe3-a8c2-4c0388d2e060"
      },
      "execution_count": 10,
      "outputs": [
        {
          "output_type": "stream",
          "name": "stdout",
          "text": [
            "Is the list sorted?: True\n"
          ]
        }
      ]
    },
    {
      "cell_type": "markdown",
      "source": [
        "17. Write a code to merge two sorted lists into a single sorted list"
      ],
      "metadata": {
        "id": "ZtLq6Fbaz1c5"
      }
    },
    {
      "cell_type": "code",
      "source": [
        "def merge_sorted_lists(list1, list2):\n",
        "    return sorted(list1 + list2)\n",
        "\n",
        "# Example usage:\n",
        "list1 = [1, 3, 5]\n",
        "list2 = [2, 4, 6]\n",
        "print(\"Merged Sorted List:\", merge_sorted_lists(list1, list2))\n"
      ],
      "metadata": {
        "colab": {
          "base_uri": "https://localhost:8080/"
        },
        "id": "17jAR5KSzWJl",
        "outputId": "aedb7a57-229c-4378-bc1c-07ff2866e235"
      },
      "execution_count": 11,
      "outputs": [
        {
          "output_type": "stream",
          "name": "stdout",
          "text": [
            "Merged Sorted List: [1, 2, 3, 4, 5, 6]\n"
          ]
        }
      ]
    },
    {
      "cell_type": "markdown",
      "source": [],
      "metadata": {
        "id": "65ykcTOa0BHl"
      }
    },
    {
      "cell_type": "markdown",
      "source": [
        "18. Implement a code to find the intersection of two given lists."
      ],
      "metadata": {
        "id": "tJs0x6kd0AgJ"
      }
    },
    {
      "cell_type": "code",
      "source": [
        "def find_intersection(list1, list2):\n",
        "    return list(set(list1) & set(list2))\n",
        "\n",
        "# Example usage:\n",
        "list1 = [1, 2, 3, 4]\n",
        "list2 = [3, 4, 5, 6]\n",
        "print(\"Intersection:\", find_intersection(list1, list2))\n"
      ],
      "metadata": {
        "colab": {
          "base_uri": "https://localhost:8080/"
        },
        "id": "m7N-k-8G0Qbc",
        "outputId": "296e6144-a783-4fc9-aa58-c9cf25cf8fa3"
      },
      "execution_count": 12,
      "outputs": [
        {
          "output_type": "stream",
          "name": "stdout",
          "text": [
            "Intersection: [3, 4]\n"
          ]
        }
      ]
    },
    {
      "cell_type": "markdown",
      "source": [
        "19. Create a code to find the union of two lists without duplicates"
      ],
      "metadata": {
        "id": "lgSdFN-d0Xzo"
      }
    },
    {
      "cell_type": "code",
      "source": [
        "def find_union(list1, list2):\n",
        "    return list(set(list1) | set(list2))\n",
        "\n",
        "# Example usage:\n",
        "list1 = [1, 2, 3]\n",
        "list2 = [3, 4, 5]\n",
        "print(\"Union:\", find_union(list1, list2))\n"
      ],
      "metadata": {
        "colab": {
          "base_uri": "https://localhost:8080/"
        },
        "id": "pRNgdbop0RPf",
        "outputId": "fd61c984-7b81-4de1-b124-6f35289a0a01"
      },
      "execution_count": 13,
      "outputs": [
        {
          "output_type": "stream",
          "name": "stdout",
          "text": [
            "Union: [1, 2, 3, 4, 5]\n"
          ]
        }
      ]
    },
    {
      "cell_type": "markdown",
      "source": [
        "20. Write a code to shuffle a given list randomly without using any built-in shuffle functions."
      ],
      "metadata": {
        "id": "oUPOgwxM0ib0"
      }
    },
    {
      "cell_type": "code",
      "source": [
        "import random\n",
        "\n",
        "def shuffle_list(lst):\n",
        "    shuffled = lst[:]\n",
        "    for i in range(len(shuffled)):\n",
        "        j = random.randint(0, i)\n",
        "        shuffled[i], shuffled[j] = shuffled[j], shuffled[i]\n",
        "    return shuffled\n",
        "\n",
        "# Example usage:\n",
        "numbers = [1, 2, 3, 4, 5]\n",
        "print(\"Shuffled List:\", shuffle_list(numbers))\n"
      ],
      "metadata": {
        "colab": {
          "base_uri": "https://localhost:8080/"
        },
        "id": "I5CvBjuH0eXW",
        "outputId": "51c63d25-2f89-4d00-af26-4070bf8370fa"
      },
      "execution_count": 14,
      "outputs": [
        {
          "output_type": "stream",
          "name": "stdout",
          "text": [
            "Shuffled List: [4, 1, 5, 3, 2]\n"
          ]
        }
      ]
    },
    {
      "cell_type": "markdown",
      "source": [
        "21. Write a code that takes two tuples as input and returns a new tuple containing elements that are\n",
        "common to both input tuples."
      ],
      "metadata": {
        "id": "BnvHZU0K0ukb"
      }
    },
    {
      "cell_type": "code",
      "source": [
        "def find_common_elements(tuple1, tuple2):\n",
        "    return tuple(set(tuple1) & set(tuple2))\n",
        "\n",
        "# Example usage:\n",
        "tuple1 = (1, 2, 3, 4)\n",
        "tuple2 = (3, 4, 5, 6)\n",
        "common_elements = find_common_elements(tuple1, tuple2)\n",
        "print(\"Common Elements:\", common_elements)\n"
      ],
      "metadata": {
        "colab": {
          "base_uri": "https://localhost:8080/"
        },
        "id": "N7psJKNH0rFZ",
        "outputId": "95675a02-2ee0-42f3-a5ba-a22985377f93"
      },
      "execution_count": 15,
      "outputs": [
        {
          "output_type": "stream",
          "name": "stdout",
          "text": [
            "Common Elements: (3, 4)\n"
          ]
        }
      ]
    },
    {
      "cell_type": "markdown",
      "source": [
        "22. Create a code that prompts the user to enter two sets of integers separated by commas. Then, print the\n",
        "intersection of these two sets."
      ],
      "metadata": {
        "id": "b4JRShFA1Afo"
      }
    },
    {
      "cell_type": "code",
      "source": [
        "def get_set_intersection():\n",
        "    set1 = set(map(int, input(\"Enter the first set of integers (comma-separated): \").split(',')))\n",
        "    set2 = set(map(int, input(\"Enter the second set of integers (comma-separated): \").split(',')))\n",
        "    intersection = set1 & set2\n",
        "    print(\"Intersection of the two sets:\", intersection)\n",
        "\n",
        "# Example usage:\n",
        "get_set_intersection()\n"
      ],
      "metadata": {
        "colab": {
          "base_uri": "https://localhost:8080/"
        },
        "id": "p8v9_GBH082p",
        "outputId": "7e4acbc6-a766-4b67-a856-06557bf1bf25"
      },
      "execution_count": 17,
      "outputs": [
        {
          "output_type": "stream",
          "name": "stdout",
          "text": [
            "Enter the first set of integers (comma-separated): 2,4,5,6\n",
            "Enter the second set of integers (comma-separated): 1,3,5,7\n",
            "Intersection of the two sets: {5}\n"
          ]
        }
      ]
    },
    {
      "cell_type": "markdown",
      "source": [
        "23.  Write a code to concatenate two tuples. The function should take two tuples as input and return a new\n",
        "tuple containing elements from both input tuples."
      ],
      "metadata": {
        "id": "Z0_mtEjk361e"
      }
    },
    {
      "cell_type": "code",
      "source": [
        "def concatenate_tuples(tuple1, tuple2):\n",
        "    return tuple1 + tuple2\n",
        "\n",
        "# Example usage:\n",
        "tuple1 = (1, 2, 3)\n",
        "tuple2 = (4, 5, 6)\n",
        "result = concatenate_tuples(tuple1, tuple2)\n",
        "print(\"Concatenated Tuple:\", result)\n"
      ],
      "metadata": {
        "colab": {
          "base_uri": "https://localhost:8080/"
        },
        "id": "EiHBtyCZ1KBi",
        "outputId": "fcaf72e5-6eea-4113-e8b1-099fb41606af"
      },
      "execution_count": 18,
      "outputs": [
        {
          "output_type": "stream",
          "name": "stdout",
          "text": [
            "Concatenated Tuple: (1, 2, 3, 4, 5, 6)\n"
          ]
        }
      ]
    },
    {
      "cell_type": "markdown",
      "source": [
        "24. Develop a code that prompts the user to input two sets of strings. Then, print the elements that are\n",
        "present in the first set but not in the second set."
      ],
      "metadata": {
        "id": "psStJEDn5qEr"
      }
    },
    {
      "cell_type": "code",
      "source": [
        "def difference_between_sets():\n",
        "    set1 = set(input(\"Enter the first set of strings (comma-separated): \").split(','))\n",
        "    set2 = set(input(\"Enter the second set of strings (comma-separated): \").split(','))\n",
        "    difference = set1 - set2\n",
        "    print(\"Elements in the first set but not in the second set:\", difference)\n",
        "\n",
        "# Example usage:\n",
        "difference_between_sets()\n",
        "\n"
      ],
      "metadata": {
        "colab": {
          "base_uri": "https://localhost:8080/"
        },
        "id": "4YCsHJo65uwy",
        "outputId": "a45568c2-1f1b-4ad5-cf62-f87aa0070f2d"
      },
      "execution_count": 19,
      "outputs": [
        {
          "output_type": "stream",
          "name": "stdout",
          "text": [
            "Enter the first set of strings (comma-separated): 2,3,4,5,6\n",
            "Enter the second set of strings (comma-separated): 1,2,4,5,7,8\n",
            "Elements in the first set but not in the second set: {'3', '6'}\n"
          ]
        }
      ]
    },
    {
      "cell_type": "markdown",
      "source": [
        "25. Create a code that takes a tuple and two integers as input. The function should return a new tuple\n",
        "containing elements from the original tuple within the specified range of indices"
      ],
      "metadata": {
        "id": "yO_R71W57QPq"
      }
    },
    {
      "cell_type": "code",
      "source": [
        "def extract_tuple_range(input_tuple, start_index, end_index):\n",
        "    return input_tuple[start_index:end_index+1]\n",
        "\n",
        "# Example usage:\n",
        "t = (1, 2, 3, 4, 5)\n",
        "result = extract_tuple_range(t, 1, 3)\n",
        "print(\"Extracted Tuple:\", result)\n"
      ],
      "metadata": {
        "colab": {
          "base_uri": "https://localhost:8080/"
        },
        "id": "nYauii1G645a",
        "outputId": "1ac73f11-0dbd-4369-ae08-9aae23ef2c4a"
      },
      "execution_count": 20,
      "outputs": [
        {
          "output_type": "stream",
          "name": "stdout",
          "text": [
            "Extracted Tuple: (2, 3, 4)\n"
          ]
        }
      ]
    },
    {
      "cell_type": "markdown",
      "source": [
        "26. Write a code that prompts the user to input two sets of characters. Then, print the union of these two sets."
      ],
      "metadata": {
        "id": "rv-sMJNj732K"
      }
    },
    {
      "cell_type": "code",
      "source": [
        "def union_of_characters():\n",
        "    set1 = set(input(\"Enter the first set of characters (comma-separated): \").split(','))\n",
        "    set2 = set(input(\"Enter the second set of characters (comma-separated): \").split(','))\n",
        "    union = set1 | set2\n",
        "    print(\"Union of the two sets:\", union)\n",
        "\n",
        "# Example usage:\n",
        "union_of_characters()\n"
      ],
      "metadata": {
        "colab": {
          "base_uri": "https://localhost:8080/"
        },
        "id": "A2teBcAn7-8Q",
        "outputId": "da426ca3-5549-404b-c01b-67e5f7a4fc9b"
      },
      "execution_count": 21,
      "outputs": [
        {
          "output_type": "stream",
          "name": "stdout",
          "text": [
            "Enter the first set of characters (comma-separated): 3,4,5,6\n",
            "Enter the second set of characters (comma-separated): 2,4,6,8\n",
            "Union of the two sets: {'8', '6', '2', '5', '4', '3'}\n"
          ]
        }
      ]
    },
    {
      "cell_type": "markdown",
      "source": [
        "27. Develop a code that takes a tuple of integers as input. The function should return the maximum and\n",
        "minimum values from the tuple using tuple unpacking."
      ],
      "metadata": {
        "id": "iktWP1ca8S0Z"
      }
    },
    {
      "cell_type": "code",
      "source": [
        "def max_min_in_tuple(input_tuple):\n",
        "    return max(input_tuple), min(input_tuple)\n",
        "\n",
        "# Example usage:\n",
        "t = (3, 1, 4, 1, 5, 9)\n",
        "maximum, minimum = max_min_in_tuple(t)\n",
        "print(\"Maximum:\", maximum, \"Minimum:\", minimum)\n"
      ],
      "metadata": {
        "colab": {
          "base_uri": "https://localhost:8080/"
        },
        "id": "5H6EZFwZ8ALj",
        "outputId": "6841f0c3-e0b5-4a0b-cf9f-fb7ba9e98762"
      },
      "execution_count": 22,
      "outputs": [
        {
          "output_type": "stream",
          "name": "stdout",
          "text": [
            "Maximum: 9 Minimum: 1\n"
          ]
        }
      ]
    },
    {
      "cell_type": "markdown",
      "source": [
        "28. Create a code that defines two sets of integers. Then, print the union, intersection, and difference of these\n",
        "two sets."
      ],
      "metadata": {
        "id": "kUxgrdY38mhO"
      }
    },
    {
      "cell_type": "code",
      "source": [
        "def set_operations():\n",
        "    set1 = {1, 2, 3, 4}\n",
        "    set2 = {3, 4, 5, 6}\n",
        "    print(\"Union:\", set1 | set2)\n",
        "    print(\"Intersection:\", set1 & set2)\n",
        "    print(\"Difference (set1 - set2):\", set1 - set2)\n",
        "\n",
        "# Example usage:\n",
        "set_operations()\n"
      ],
      "metadata": {
        "colab": {
          "base_uri": "https://localhost:8080/"
        },
        "id": "uheqmspX8fnV",
        "outputId": "569a0a6c-e3a8-4722-9aa9-068c7ba46c49"
      },
      "execution_count": 23,
      "outputs": [
        {
          "output_type": "stream",
          "name": "stdout",
          "text": [
            "Union: {1, 2, 3, 4, 5, 6}\n",
            "Intersection: {3, 4}\n",
            "Difference (set1 - set2): {1, 2}\n"
          ]
        }
      ]
    },
    {
      "cell_type": "markdown",
      "source": [
        "29. Write a code that takes a tuple and an element as input. The function should return the count of\n",
        "occurrences of the given element in the tuple"
      ],
      "metadata": {
        "id": "5bAP814Z9CGT"
      }
    },
    {
      "cell_type": "code",
      "source": [
        "def count_element_in_tuple(input_tuple, element):\n",
        "    return input_tuple.count(element)\n",
        "\n",
        "# Example usage:\n",
        "t = (1, 2, 3, 4, 2, 2, 5)\n",
        "element_count = count_element_in_tuple(t, 2)\n",
        "print(\"Count of element:\", element_count)\n"
      ],
      "metadata": {
        "colab": {
          "base_uri": "https://localhost:8080/"
        },
        "id": "qC94psfc83fC",
        "outputId": "228195fe-d034-4d0c-eba1-1bc49b492c4d"
      },
      "execution_count": 24,
      "outputs": [
        {
          "output_type": "stream",
          "name": "stdout",
          "text": [
            "Count of element: 3\n"
          ]
        }
      ]
    },
    {
      "cell_type": "markdown",
      "source": [
        "30. Develop a code that prompts the user to input two sets of strings. Then, print the symmetric difference of\n",
        "these two sets"
      ],
      "metadata": {
        "id": "h0S53hon9c6H"
      }
    },
    {
      "cell_type": "code",
      "source": [
        "def symmetric_difference_between_sets():\n",
        "    set1 = set(input(\"Enter the first set of strings (comma-separated): \").split(','))\n",
        "    set2 = set(input(\"Enter the second set of strings (comma-separated): \").split(','))\n",
        "    sym_diff = set1 ^ set2\n",
        "    print(\"Symmetric Difference:\", sym_diff)\n",
        "\n",
        "# Example usage:\n",
        "symmetric_difference_between_sets()\n"
      ],
      "metadata": {
        "colab": {
          "base_uri": "https://localhost:8080/"
        },
        "id": "50kj5W2e9NSC",
        "outputId": "0d617cc1-30e4-424c-de18-2e7a48842f03"
      },
      "execution_count": 25,
      "outputs": [
        {
          "output_type": "stream",
          "name": "stdout",
          "text": [
            "Enter the first set of strings (comma-separated): 2,3,5,6,8,9\n",
            "Enter the second set of strings (comma-separated): 1,2,5,6,9,8\n",
            "Symmetric Difference: {'1', '3'}\n"
          ]
        }
      ]
    },
    {
      "cell_type": "markdown",
      "source": [
        "31. Write a code that takes a list of words as input and returns a dictionary where the keys are unique words\n",
        "and the values are the frequencies of those words in the input list."
      ],
      "metadata": {
        "id": "Y43s95al-pk2"
      }
    },
    {
      "cell_type": "code",
      "source": [
        "def word_frequencies(word_list):\n",
        "    return {word: word_list.count(word) for word in set(word_list)}\n",
        "\n",
        "# Example usage:\n",
        "words = [\"apple\", \"banana\", \"apple\", \"cherry\", \"banana\", \"apple\"]\n",
        "frequencies = word_frequencies(words)\n",
        "print(\"Word Frequencies:\", frequencies)\n"
      ],
      "metadata": {
        "colab": {
          "base_uri": "https://localhost:8080/"
        },
        "id": "vyfvJu_f9prA",
        "outputId": "f7e59623-09f7-49e9-faf3-8ba47d177974"
      },
      "execution_count": 26,
      "outputs": [
        {
          "output_type": "stream",
          "name": "stdout",
          "text": [
            "Word Frequencies: {'banana': 2, 'apple': 3, 'cherry': 1}\n"
          ]
        }
      ]
    },
    {
      "cell_type": "markdown",
      "source": [
        "32. Write a code that takes two dictionaries as input and merges them into a single dictionary. If there are\n",
        "common keys, the values should be added together."
      ],
      "metadata": {
        "id": "GydkVwS9-1gm"
      }
    },
    {
      "cell_type": "code",
      "source": [
        "def merge_dictionaries(dict1, dict2):\n",
        "    merged = dict1.copy()\n",
        "    for key, value in dict2.items():\n",
        "        if key in merged:\n",
        "            merged[key] += value\n",
        "        else:\n",
        "            merged[key] = value\n",
        "    return merged\n",
        "\n",
        "# Example usage:\n",
        "dict1 = {'a': 1, 'b': 2}\n",
        "dict2 = {'b': 3, 'c': 4}\n",
        "merged_dict = merge_dictionaries(dict1, dict2)\n",
        "print(\"Merged Dictionary:\", merged_dict)\n"
      ],
      "metadata": {
        "colab": {
          "base_uri": "https://localhost:8080/"
        },
        "id": "c7CZYSvn-xEh",
        "outputId": "abe84f61-fa45-4e02-f4d5-fadaae5d4c88"
      },
      "execution_count": 27,
      "outputs": [
        {
          "output_type": "stream",
          "name": "stdout",
          "text": [
            "Merged Dictionary: {'a': 1, 'b': 5, 'c': 4}\n"
          ]
        }
      ]
    },
    {
      "cell_type": "markdown",
      "source": [
        "33. Write a code to access a value in a nested dictionary. The function should take the dictionary and a list of\n",
        "keys as input, and return the corresponding value. If any of the keys do not exist in the dictionary, the\n",
        "function should return None."
      ],
      "metadata": {
        "id": "iA0VLFnL_Iwf"
      }
    },
    {
      "cell_type": "code",
      "source": [
        "def access_nested_dict(nested_dict, keys):\n",
        "    current = nested_dict\n",
        "    for key in keys:\n",
        "        if key in current:\n",
        "            current = current[key]\n",
        "        else:\n",
        "            return None\n",
        "    return current\n",
        "\n",
        "# Example usage:\n",
        "nested = {'a': {'b': {'c': 42}}}\n",
        "keys = ['a', 'b', 'c']\n",
        "value = access_nested_dict(nested, keys)\n",
        "print(\"Value at specified keys:\", value)\n"
      ],
      "metadata": {
        "colab": {
          "base_uri": "https://localhost:8080/"
        },
        "id": "brz5D8ku_NBe",
        "outputId": "ff770b45-84e2-4638-96b0-5f3ec596e5d7"
      },
      "execution_count": 29,
      "outputs": [
        {
          "output_type": "stream",
          "name": "stdout",
          "text": [
            "Value at specified keys: 42\n"
          ]
        }
      ]
    },
    {
      "cell_type": "code",
      "source": [
        "33. Write a code to access a value in a nested dictionary. The function should take the dictionary and a list of\n",
        "keys as input, and return the corresponding value. If any of the keys do not exist in the dictionary, the\n",
        "function should return None."
      ],
      "metadata": {
        "colab": {
          "base_uri": "https://localhost:8080/",
          "height": 109
        },
        "id": "qrptPs5Y_ABj",
        "outputId": "9f31fa98-884a-4708-bbfe-07ce6c01a13d"
      },
      "execution_count": 28,
      "outputs": [
        {
          "output_type": "error",
          "ename": "SyntaxError",
          "evalue": "invalid syntax (<ipython-input-28-968e2a5c3f25>, line 1)",
          "traceback": [
            "\u001b[0;36m  File \u001b[0;32m\"<ipython-input-28-968e2a5c3f25>\"\u001b[0;36m, line \u001b[0;32m1\u001b[0m\n\u001b[0;31m    33. Write a code to access a value in a nested dictionary. The function should take the dictionary and a list of\u001b[0m\n\u001b[0m        ^\u001b[0m\n\u001b[0;31mSyntaxError\u001b[0m\u001b[0;31m:\u001b[0m invalid syntax\n"
          ]
        }
      ]
    },
    {
      "cell_type": "markdown",
      "source": [],
      "metadata": {
        "id": "Pc6FnxUe_WoB"
      }
    },
    {
      "cell_type": "markdown",
      "source": [
        "34. Write a code that takes a dictionary as input and returns a sorted version of it based on the values. You\n",
        "can choose whether to sort in ascending or descending order."
      ],
      "metadata": {
        "id": "IWF6FcyD_biX"
      }
    },
    {
      "cell_type": "code",
      "source": [
        "def sort_dictionary_by_values(input_dict, ascending=True):\n",
        "    return dict(sorted(input_dict.items(), key=lambda item: item[1], reverse=not ascending))\n",
        "\n",
        "# Example usage:\n",
        "d = {'a': 3, 'b': 1, 'c': 2}\n",
        "sorted_dict = sort_dictionary_by_values(d, ascending=True)\n",
        "print(\"Sorted Dictionary:\", sorted_dict)\n"
      ],
      "metadata": {
        "colab": {
          "base_uri": "https://localhost:8080/"
        },
        "id": "I7Hz7EJM_HfR",
        "outputId": "a4cfbf1f-d6ac-4b16-beae-aceea7bdb6de"
      },
      "execution_count": 30,
      "outputs": [
        {
          "output_type": "stream",
          "name": "stdout",
          "text": [
            "Sorted Dictionary: {'b': 1, 'c': 2, 'a': 3}\n"
          ]
        }
      ]
    },
    {
      "cell_type": "markdown",
      "source": [
        "35. Write a code that inverts a dictionary, swapping keys and values. Ensure that the inverted dictionary\n",
        "correctly handles cases where multiple keys have the same value by storing the keys as a list in the\n",
        "inverted dictionary."
      ],
      "metadata": {
        "id": "LVAirAfP_mO4"
      }
    },
    {
      "cell_type": "code",
      "source": [
        "def invert_dictionary(input_dict):\n",
        "    inverted = {}\n",
        "    for key, value in input_dict.items():\n",
        "        if value not in inverted:\n",
        "            inverted[value] = [key]\n",
        "        else:\n",
        "            inverted[value].append(key)\n",
        "    return inverted\n",
        "\n",
        "# Example usage:\n",
        "d = {'a': 1, 'b': 2, 'c': 1}\n",
        "inverted_dict = invert_dictionary(d)\n",
        "print(\"Inverted Dictionary:\", inverted_dict)\n"
      ],
      "metadata": {
        "colab": {
          "base_uri": "https://localhost:8080/"
        },
        "id": "HWxTgJyL_qPw",
        "outputId": "15dcc9f3-3dfa-4b73-a674-44894a4f9ef7"
      },
      "execution_count": 31,
      "outputs": [
        {
          "output_type": "stream",
          "name": "stdout",
          "text": [
            "Inverted Dictionary: {1: ['a', 'c'], 2: ['b']}\n"
          ]
        }
      ]
    },
    {
      "cell_type": "code",
      "source": [],
      "metadata": {
        "id": "5do-HsFL_tVV"
      },
      "execution_count": null,
      "outputs": []
    }
  ]
}